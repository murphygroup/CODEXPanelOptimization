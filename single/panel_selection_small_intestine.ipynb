{
 "cells": [
  {
   "cell_type": "code",
   "execution_count": 1,
   "id": "38a8d15b",
   "metadata": {},
   "outputs": [],
   "source": [
    "import matplotlib.pyplot as plt\n",
    "import networkx as nx\n",
    "import numpy as np\n",
    "import pandas as pd\n",
    "from train_selection_MAE import Edge, Node, Graph\n",
    "import seaborn as sns\n",
    "import os\n",
    "import imageio"
   ]
  },
  {
   "cell_type": "markdown",
   "id": "0d2e1572",
   "metadata": {},
   "source": [
    "### initialization"
   ]
  },
  {
   "cell_type": "code",
   "execution_count": 2,
   "id": "ed0e3d1d",
   "metadata": {},
   "outputs": [],
   "source": [
    "if not os.path.exists(\"small_intestine_output\"):\n",
    "    os.makedirs(\"small_intestine_output\")\n",
    "# uncomment to run but there are existing files for demo\n",
    "# !python ../train_net/corr.py --csv_path '../csv/train_path_SI.csv' --num_biomarkers 46 --save_path 'small_intestine_output/mae_mtx_si_single' --transform_signal normalize  # get initial edge weights\n",
    "scores = np.load(\"small_intestine_output/mae_mtx_si_single.npy\")"
   ]
  },
  {
   "cell_type": "code",
   "execution_count": 3,
   "id": "da74130e",
   "metadata": {},
   "outputs": [],
   "source": [
    "num_biomarkers = 46\n",
    "\n",
    "nodes = []\n",
    "for i in range(num_biomarkers):\n",
    "    nodes.append(Node(i, num_biomarkers))\n",
    "\n",
    "edges = []\n",
    "for i in range(num_biomarkers):\n",
    "    for j in range(i+1,num_biomarkers):\n",
    "        edge = Edge(scores[i,j])\n",
    "        edge.nodes = (i,j)\n",
    "        edges.append(edge)\n",
    "        nodes[i].edges.append(edge)\n",
    "        nodes[j].edges.append(edge)\n",
    "\n",
    "g = Graph(nodes,edges, num_biomarkers)"
   ]
  },
  {
   "cell_type": "code",
   "execution_count": 4,
   "id": "3b9832d4",
   "metadata": {},
   "outputs": [
    {
     "name": "stdout",
     "output_type": "stream",
     "text": [
      "add marker 35 into input\n",
      "input: [35]\n",
      "output:  [0, 1, 2, 3, 4, 5, 6, 7, 8, 9, 10, 11, 12, 13, 14, 15, 16, 17, 18, 19, 20, 21, 22, 23, 24, 25, 26, 27, 28, 29, 30, 31, 32, 33, 34, 36, 37, 38, 39, 40, 41, 42, 43, 44, 45]\n"
     ]
    }
   ],
   "source": [
    "# chose the 1st input\n",
    "node_degrees = []\n",
    "for n in g.nodes:\n",
    "    degree = sum(e.value for e in n.edges)\n",
    "    minDegree = min(e.value for e in n.edges)\n",
    "    n.init_degree = minDegree\n",
    "    node_degrees.append(degree)\n",
    "x = np.argmin(node_degrees)\n",
    "\n",
    "g.input_.append(x)\n",
    "idx = int(g.input_[-1])\n",
    "\n",
    "print(\"add marker\",idx, \"into input\")\n",
    "print(\"input:\", g.input_)\n",
    "\n",
    "for i in g.output:\n",
    "    if i == idx:\n",
    "        g.output.remove(i)\n",
    "print(\"output: \", g.output)\n",
    "\n",
    "out = g.output.copy()"
   ]
  },
  {
   "cell_type": "markdown",
   "id": "5b21ae78",
   "metadata": {},
   "source": [
    "### Round1"
   ]
  },
  {
   "cell_type": "code",
   "execution_count": 5,
   "id": "0a76355f",
   "metadata": {},
   "outputs": [],
   "source": [
    "# train the network with currect input and output markers \n",
    "# !python ../train_net/train_model.py --transform_signal normalize --n_iter 4000  --interval_save 200 --iter_checkpoint 200 --path_run_dir 'test_models_SI_single_01'  --path_dataset_csv \"../csv/train_path_SI.csv\"  --path_dataset_val_csv \"../csv/val_path_SI.csv\"  --input_index 35  --target_index 0 1 2 3 4 5 6 7 8 9 10 11 12 13 14 15 16 17 18 19 20 21 22 23 24 25 26 27 28 29 30 31 32 33 34 36 37 38 39 40 41 42 43 44 45   --in_dim 1 --out_dim 45 \n",
    "# !python ../train_net/validation.py --transform_signal normalize --n_iter 4000 --path_run_dir 'test_models_SI_single_01'  --path_output_dir 'small_intestine_output/val_vae_01.npy' --path_dataset_val_csv \"../csv/val_path_SI.csv\"   --input_index  35  --target_index 0 1 2 3 4 5 6 7 8 9 10 11 12 13 14 15 16 17 18 19 20 21 22 23 24 25 26 27 28 29 30 31 32 33 34 36 37 38 39 40 41 42 43 44 45  --in_dim 1 --out_dim 45 "
   ]
  },
  {
   "cell_type": "code",
   "execution_count": 6,
   "id": "2f1f60b9",
   "metadata": {},
   "outputs": [
    {
     "name": "stdout",
     "output_type": "stream",
     "text": [
      "add 29 into input\n",
      "input: [35, 29]\n",
      "output:  [0, 1, 2, 3, 4, 5, 6, 7, 8, 9, 10, 11, 12, 13, 14, 15, 16, 17, 18, 19, 20, 21, 22, 23, 24, 25, 26, 27, 28, 30, 31, 32, 33, 34, 36, 37, 38, 39, 40, 41, 42, 43, 44, 45]\n",
      "--out_drop_index: 29\n"
     ]
    }
   ],
   "source": [
    "val_loss_path = r'small_intestine_output/val_vae_01.npy'\n",
    "idx = g.updateAndFindNext(idx, val_loss_path)\n",
    "out_drop = out.index(idx) # index of added input in the previous target list\n",
    "print(\"--out_drop_index:\", out_drop)\n",
    "out = g.output.copy()"
   ]
  },
  {
   "cell_type": "markdown",
   "id": "983f7c30",
   "metadata": {},
   "source": [
    "### Round2"
   ]
  },
  {
   "cell_type": "code",
   "execution_count": 7,
   "id": "2b14ea6d",
   "metadata": {},
   "outputs": [],
   "source": [
    "# !python ../train_net/train_model.py --transform_signal normalize --n_iter 4000  --interval_save 200 --iter_checkpoint 200 --path_run_dir 'test_models_SI_single_02' --path_pretrain_dir 'test_models_SI_single_01'  --path_dataset_csv \"../csv/train_path_SI.csv\"  --path_dataset_val_csv \"../csv/val_path_SI.csv\" --out_drop_index 29  --input_index 35 29 --target_index 0 1 2 3 4 5 6 7 8 9 10 11 12 13 14 15 16 17 18 19 20 21 22 23 24 25 26 27 28 30 31 32 33 34 36 37 38 39 40 41 42 43 44 45   --in_dim 2 --out_dim 44 \n",
    "# !python ../train_net/validation.py --transform_signal normalize --n_iter 4000 --path_run_dir 'test_models_SI_single_02'  --path_output_dir 'small_intestine_output/val_vae_02.npy' --path_dataset_val_csv \"../csv/val_path_SI.csv\"   --input_index 35 29  --target_index 0 1 2 3 4 5 6 7 8 9 10 11 12 13 14 15 16 17 18 19 20 21 22 23 24 25 26 27 28 29 30 31 32 33 34 36 37 38 39 40 41 42 43 45  --in_dim 2 --out_dim 44"
   ]
  },
  {
   "cell_type": "code",
   "execution_count": 8,
   "id": "2fa6eede",
   "metadata": {},
   "outputs": [
    {
     "name": "stdout",
     "output_type": "stream",
     "text": [
      "add 39 into input\n",
      "input: [35, 29, 39]\n",
      "output:  [0, 1, 2, 3, 4, 5, 6, 7, 8, 9, 10, 11, 12, 13, 14, 15, 16, 17, 18, 19, 20, 21, 22, 23, 24, 25, 26, 27, 28, 30, 31, 32, 33, 34, 36, 37, 38, 40, 41, 42, 43, 44, 45]\n",
      "--out_drop_index: 37\n"
     ]
    }
   ],
   "source": [
    "val_loss_path = r'small_intestine_output/val_vae_02.npy' \n",
    "idx = g.updateAndFindNext(idx, val_loss_path)\n",
    "out_drop = out.index(idx) \n",
    "print(\"--out_drop_index:\", out_drop)\n",
    "out = g.output.copy()"
   ]
  },
  {
   "cell_type": "markdown",
   "id": "b47e6abb",
   "metadata": {},
   "source": [
    "### Round3"
   ]
  },
  {
   "cell_type": "code",
   "execution_count": 9,
   "id": "dbbf05ed",
   "metadata": {},
   "outputs": [],
   "source": [
    "# !python ../train_net/train_model.py --transform_signal normalize --n_iter 4000  --interval_save 200 --iter_checkpoint 200 --path_run_dir 'test_models_SI_single_03' --path_pretrain_dir 'test_models_SI_single_02'  --path_dataset_csv \"../csv/train_path_SI.csv\"  --path_dataset_val_csv \"../csv/val_path_SI.csv\" --out_drop_index 37  --input_index 35 29 39 --target_index 0 1 2 3 4 5 6 7 8 9 10 11 12 13 14 15 16 17 18 19 20 21 22 23 24 25 26 27 28 30 31 32 33 34 36 37 38 40 41 42 43 44 45   --in_dim 3 --out_dim 43 \n",
    "# !python ../train_net/validation.py --transform_signal normalize --n_iter 4000 --path_run_dir 'test_models_SI_single_03'  --path_output_dir 'small_intestine_output/val_vae_03.npy' --path_dataset_val_csv \"../csv/val_path_SI.csv\"   --input_index 35 29 39  --target_index 0 1 2 3 4 5 6 7 8 9 10 11 12 13 14 15 16 17 18 19 20 21 22 23 24 25 26 27 28 29 30 31 32 33 34 36 37 38 40 41 42 43 45  --in_dim 3 --out_dim 43"
   ]
  },
  {
   "cell_type": "code",
   "execution_count": 10,
   "id": "9f0c3c16",
   "metadata": {},
   "outputs": [
    {
     "name": "stdout",
     "output_type": "stream",
     "text": [
      "add 38 into input\n",
      "input: [35, 29, 39, 38]\n",
      "output:  [0, 1, 2, 3, 4, 5, 6, 7, 8, 9, 10, 11, 12, 13, 14, 15, 16, 17, 18, 19, 20, 21, 22, 23, 24, 25, 26, 27, 28, 30, 31, 32, 33, 34, 36, 37, 40, 41, 42, 43, 44, 45]\n",
      "--out_drop_index: 36\n"
     ]
    }
   ],
   "source": [
    "val_loss_path = r'small_intestine_output/val_vae_03.npy' \n",
    "idx = g.updateAndFindNext(idx, val_loss_path)\n",
    "out_drop = out.index(idx) \n",
    "print(\"--out_drop_index:\", out_drop)\n",
    "out = g.output.copy()"
   ]
  },
  {
   "cell_type": "markdown",
   "id": "67aaaa1a",
   "metadata": {},
   "source": [
    "### Round4"
   ]
  },
  {
   "cell_type": "code",
   "execution_count": 11,
   "id": "a9f3f9ea",
   "metadata": {},
   "outputs": [],
   "source": [
    "# !python ../train_net/train_model.py --transform_signal normalize --n_iter 4000  --interval_save 200 --iter_checkpoint 200 --path_run_dir 'test_models_SI_single_04' --path_pretrain_dir 'test_models_SI_single_03'  --path_dataset_csv \"../csv/train_path_SI.csv\"  --path_dataset_val_csv \"../csv/val_path_SI.csv\" --out_drop_index 36  --input_index 35 29 39 38 --target_index 0 1 2 3 4 5 6 7 8 9 10 11 12 13 14 15 16 17 18 19 20 21 22 23 24 25 26 27 28 30 31 32 33 34 36 37 40 41 42 43 44 45   --in_dim 4 --out_dim 42\n",
    "# !python ../train_net/validation.py --transform_signal normalize --n_iter 4000 --path_run_dir 'test_models_SI_single_04'  --path_output_dir 'small_intestine_output/val_vae_04.npy' --path_dataset_val_csv \"../csv/val_path_SI.csv\"   --input_index 35 29 39 38  --target_index 0 1 2 3 4 5 6 7 8 9 10 11 12 13 14 15 16 17 18 19 20 21 22 23 24 25 26 27 28 29 30 31 32 33 34 36 37 40 41 42 43 45  --in_dim 4 --out_dim 42"
   ]
  },
  {
   "cell_type": "code",
   "execution_count": 12,
   "id": "03ea2308",
   "metadata": {},
   "outputs": [
    {
     "name": "stdout",
     "output_type": "stream",
     "text": [
      "add 7 into input\n",
      "input: [35, 29, 39, 38, 7]\n",
      "output:  [0, 1, 2, 3, 4, 5, 6, 8, 9, 10, 11, 12, 13, 14, 15, 16, 17, 18, 19, 20, 21, 22, 23, 24, 25, 26, 27, 28, 30, 31, 32, 33, 34, 36, 37, 40, 41, 42, 43, 44, 45]\n",
      "--out_drop_index: 7\n"
     ]
    }
   ],
   "source": [
    "val_loss_path = r'small_intestine_output/val_vae_04.npy' \n",
    "idx = g.updateAndFindNext(idx, val_loss_path)\n",
    "out_drop = out.index(idx) \n",
    "print(\"--out_drop_index:\", out_drop)\n",
    "out = g.output.copy()"
   ]
  },
  {
   "cell_type": "markdown",
   "id": "9b3b664a",
   "metadata": {},
   "source": [
    "### Round5"
   ]
  },
  {
   "cell_type": "code",
   "execution_count": 13,
   "id": "bcfbab40",
   "metadata": {},
   "outputs": [],
   "source": [
    "# !python ../train_net/train_model.py --transform_signal normalize --n_iter 4000  --interval_save 200 --iter_checkpoint 200 --path_run_dir 'test_models_SI_single_05' --path_pretrain_dir 'test_models_SI_single_04'  --path_dataset_csv \"../csv/train_path_SI.csv\"  --path_dataset_val_csv \"../csv/val_path_SI.csv\" --out_drop_index 7 --input_index 35 29 39 38 7 --target_index 0 1 2 3 4 5 6 8 9 10 11 12 13 14 15 16 17 18 19 20 21 22 23 24 25 26 27 28 30 31 32 33 34 36 37 40 41 42 43 44 45   --in_dim 5 --out_dim 41\n",
    "# !python ../train_net/validation.py --transform_signal normalize --n_iter 4000 --path_run_dir 'test_models_SI_single_05'  --path_output_dir 'small_intestine_output/val_vae_05.npy' --path_dataset_val_csv \"../csv/val_path_SI.csv\"   --input_index 35 29 39 38 7  --target_index 0 1 2 3 4 5 6 8 9 10 11 12 13 14 15 16 17 18 19 20 21 22 23 24 25 26 27 28 29 30 31 32 33 34 36 37 40 41 42 43 45  --in_dim 5 --out_dim 41"
   ]
  },
  {
   "cell_type": "code",
   "execution_count": 14,
   "id": "3976b305",
   "metadata": {},
   "outputs": [
    {
     "name": "stdout",
     "output_type": "stream",
     "text": [
      "add 28 into input\n",
      "input: [35, 29, 39, 38, 7, 28]\n",
      "output:  [0, 1, 2, 3, 4, 5, 6, 8, 9, 10, 11, 12, 13, 14, 15, 16, 17, 18, 19, 20, 21, 22, 23, 24, 25, 26, 27, 30, 31, 32, 33, 34, 36, 37, 40, 41, 42, 43, 44, 45]\n",
      "--out_drop_index: 27\n"
     ]
    }
   ],
   "source": [
    "val_loss_path = r'small_intestine_output/val_vae_05.npy' \n",
    "idx = g.updateAndFindNext(idx, val_loss_path)\n",
    "out_drop = out.index(idx) \n",
    "print(\"--out_drop_index:\", out_drop)\n",
    "out = g.output.copy()"
   ]
  },
  {
   "cell_type": "markdown",
   "id": "9365441d",
   "metadata": {},
   "source": [
    "### Round6"
   ]
  },
  {
   "cell_type": "code",
   "execution_count": 15,
   "id": "20294b7a",
   "metadata": {},
   "outputs": [],
   "source": [
    "# !python ../train_net/train_model.py --transform_signal normalize --n_iter 4000  --interval_save 200 --iter_checkpoint 200 --path_run_dir 'test_models_SI_single_06' --path_pretrain_dir 'test_models_SI_single_05'  --path_dataset_csv \"../csv/train_path_SI.csv\"  --path_dataset_val_csv \"../csv/val_path_SI.csv\" --out_drop_index 27 --input_index 35 29 39 38 7 28 --target_index 0 1 2 3 4 5 6 8 9 10 11 12 13 14 15 16 17 18 19 20 21 22 23 24 25 26 27 30 31 32 33 34 36 37 40 41 42 43 44 45   --in_dim 6 --out_dim 40\n",
    "# !python ../train_net/validation.py --transform_signal normalize --n_iter 4000 --path_run_dir 'test_models_SI_single_06'  --path_output_dir 'small_intestine_output/val_vae_06.npy' --path_dataset_val_csv \"../csv/val_path_SI.csv\"   --input_index 35 29 39 38 7 28  --target_index 0 1 2 3 4 5 6 8 9 10 11 12 13 14 15 16 17 18 19 20 21 22 23 24 25 26 27 29 30 31 32 33 34 36 37 40 41 42 43 45  --in_dim 6 --out_dim 40"
   ]
  },
  {
   "cell_type": "code",
   "execution_count": 16,
   "id": "70f39510",
   "metadata": {},
   "outputs": [
    {
     "name": "stdout",
     "output_type": "stream",
     "text": [
      "add 18 into input\n",
      "input: [35, 29, 39, 38, 7, 28, 18]\n",
      "output:  [0, 1, 2, 3, 4, 5, 6, 8, 9, 10, 11, 12, 13, 14, 15, 16, 17, 19, 20, 21, 22, 23, 24, 25, 26, 27, 30, 31, 32, 33, 34, 36, 37, 40, 41, 42, 43, 44, 45]\n",
      "--out_drop_index: 17\n"
     ]
    }
   ],
   "source": [
    "val_loss_path = r'small_intestine_output/val_vae_06.npy' \n",
    "idx = g.updateAndFindNext(idx, val_loss_path)\n",
    "out_drop = out.index(idx) \n",
    "print(\"--out_drop_index:\", out_drop)\n",
    "out = g.output.copy()"
   ]
  },
  {
   "cell_type": "markdown",
   "id": "3f4d8d04",
   "metadata": {},
   "source": [
    "### Round7"
   ]
  },
  {
   "cell_type": "code",
   "execution_count": 17,
   "id": "b8d98521",
   "metadata": {},
   "outputs": [],
   "source": [
    "# !python ../train_net/train_model.py --transform_signal normalize --n_iter 4000  --interval_save 200 --iter_checkpoint 200 --path_run_dir 'test_models_SI_single_07' --path_pretrain_dir 'test_models_SI_single_06'  --path_dataset_csv \"../csv/train_path_SI.csv\"  --path_dataset_val_csv \"../csv/val_path_SI.csv\" --out_drop_index 17 --input_index 35 29 39 38 7 28 18 --target_index 0 1 2 3 4 5 6 8 9 10 11 12 13 14 15 16 17 19 20 21 22 23 24 25 26 27 30 31 32 33 34 36 37 40 41 42 43 44 45   --in_dim 7 --out_dim 39\n",
    "# !python ../train_net/validation.py --transform_signal normalize --n_iter 4000 --path_run_dir 'test_models_SI_single_07'  --path_output_dir 'small_intestine_output/val_vae_07.npy' --path_dataset_val_csv \"../csv/val_path_SI.csv\"   --input_index 35 29 39 38 7 28 18  --target_index 0 1 2 3 4 5 6 8 9 10 11 12 13 14 15 16 17 19 20 21 22 23 24 25 26 27 29 30 31 32 33 34 36 37 40 41 42 43 45  --in_dim 7 --out_dim 39"
   ]
  },
  {
   "cell_type": "code",
   "execution_count": 18,
   "id": "2711e249",
   "metadata": {},
   "outputs": [
    {
     "name": "stdout",
     "output_type": "stream",
     "text": [
      "add 12 into input\n",
      "input: [35, 29, 39, 38, 7, 28, 18, 12]\n",
      "output:  [0, 1, 2, 3, 4, 5, 6, 8, 9, 10, 11, 13, 14, 15, 16, 17, 19, 20, 21, 22, 23, 24, 25, 26, 27, 30, 31, 32, 33, 34, 36, 37, 40, 41, 42, 43, 44, 45]\n",
      "--out_drop_index: 11\n"
     ]
    }
   ],
   "source": [
    "val_loss_path = r'small_intestine_output/val_vae_07.npy' \n",
    "idx = g.updateAndFindNext(idx, val_loss_path)\n",
    "out_drop = out.index(idx) \n",
    "print(\"--out_drop_index:\", out_drop)\n",
    "out = g.output.copy()"
   ]
  },
  {
   "cell_type": "markdown",
   "id": "3cb5d28f",
   "metadata": {},
   "source": [
    "### Round8"
   ]
  },
  {
   "cell_type": "code",
   "execution_count": 19,
   "id": "14c6fd9d",
   "metadata": {},
   "outputs": [],
   "source": [
    "# !python ../train_net/train_model.py --transform_signal normalize --n_iter 4000  --interval_save 200 --iter_checkpoint 200 --path_run_dir 'test_models_SI_single_08' --path_pretrain_dir 'test_models_SI_single_07'  --path_dataset_csv \"../csv/train_path_SI.csv\"  --path_dataset_val_csv \"../csv/val_path_SI.csv\" --out_drop_index 11 --input_index 35 29 39 38 7 28 18 12 --target_index 0 1 2 3 4 5 6 8 9 10 11 13 14 15 16 17 19 20 21 22 23 24 25 26 27 30 31 32 33 34 36 37 40 41 42 43 44 45   --in_dim 8 --out_dim 38\n",
    "# !python ../train_net/validation.py --transform_signal normalize --n_iter 4000 --path_run_dir 'test_models_SI_single_08'  --path_output_dir 'small_intestine_output/val_vae_08.npy' --path_dataset_val_csv \"../csv/val_path_SI.csv\"   --input_index 35 29 39 38 7 28 18 12 --target_index 0 1 2 3 4 5 6 8 9 10 11 13 14 15 16 17 19 20 21 22 23 24 25 26 27 29 30 31 32 33 34 36 37 40 41 42 43 45  --in_dim 8 --out_dim 38"
   ]
  },
  {
   "cell_type": "code",
   "execution_count": 20,
   "id": "20b6bc9a",
   "metadata": {},
   "outputs": [
    {
     "name": "stdout",
     "output_type": "stream",
     "text": [
      "add 34 into input\n",
      "input: [35, 29, 39, 38, 7, 28, 18, 12, 34]\n",
      "output:  [0, 1, 2, 3, 4, 5, 6, 8, 9, 10, 11, 13, 14, 15, 16, 17, 19, 20, 21, 22, 23, 24, 25, 26, 27, 30, 31, 32, 33, 36, 37, 40, 41, 42, 43, 44, 45]\n",
      "--out_drop_index: 29\n"
     ]
    }
   ],
   "source": [
    "val_loss_path = r'small_intestine_output/val_vae_08.npy' \n",
    "idx = g.updateAndFindNext(idx, val_loss_path)\n",
    "out_drop = out.index(idx) \n",
    "print(\"--out_drop_index:\", out_drop)\n",
    "out = g.output.copy()"
   ]
  },
  {
   "cell_type": "markdown",
   "id": "3ebc1913",
   "metadata": {},
   "source": [
    "### Round9"
   ]
  },
  {
   "cell_type": "code",
   "execution_count": 21,
   "id": "be6549ab",
   "metadata": {},
   "outputs": [],
   "source": [
    "# !python ../train_net/train_model.py --transform_signal normalize --n_iter 4000  --interval_save 200 --iter_checkpoint 200 --path_run_dir 'test_models_SI_single_09' --path_pretrain_dir 'test_models_SI_single_08'  --path_dataset_csv \"../csv/train_path_SI.csv\"  --path_dataset_val_csv \"../csv/val_path_SI.csv\" --out_drop_index 29 --input_index 35 29 39 38 7 28 18 12 34 --target_index 0 1 2 3 4 5 6 8 9 10 11 13 14 15 16 17 19 20 21 22 23 24 25 26 27 30 31 32 33 36 37 40 41 42 43 44 45   --in_dim 9 --out_dim 37\n",
    "# !python ../train_net/validation.py --transform_signal normalize --n_iter 4000 --path_run_dir 'test_models_SI_single_09'  --path_output_dir 'small_intestine_output/val_vae_09.npy' --path_dataset_val_csv \"../csv/val_path_SI.csv\"   --input_index 35 29 39 38 7 28 18 12 34 --target_index 0 1 2 3 4 5 6 8 9 10 11 13 14 15 16 17 19 20 21 22 23 24 25 26 27 29 30 31 32 33 36 37 40 41 42 43 45  --in_dim 9 --out_dim 37"
   ]
  },
  {
   "cell_type": "code",
   "execution_count": 22,
   "id": "5f846dc7",
   "metadata": {},
   "outputs": [
    {
     "name": "stdout",
     "output_type": "stream",
     "text": [
      "add 11 into input\n",
      "input: [35, 29, 39, 38, 7, 28, 18, 12, 34, 11]\n",
      "output:  [0, 1, 2, 3, 4, 5, 6, 8, 9, 10, 13, 14, 15, 16, 17, 19, 20, 21, 22, 23, 24, 25, 26, 27, 30, 31, 32, 33, 36, 37, 40, 41, 42, 43, 44, 45]\n",
      "--out_drop_index: 10\n"
     ]
    }
   ],
   "source": [
    "val_loss_path = r'small_intestine_output/val_vae_09.npy' # from scratch \n",
    "idx = g.updateAndFindNext(idx, val_loss_path)\n",
    "out_drop = out.index(idx) \n",
    "print(\"--out_drop_index:\", out_drop)\n",
    "out = g.output.copy()"
   ]
  },
  {
   "cell_type": "markdown",
   "id": "ebe25ac0",
   "metadata": {},
   "source": [
    "### Round10"
   ]
  },
  {
   "cell_type": "code",
   "execution_count": 23,
   "id": "c02b1567",
   "metadata": {},
   "outputs": [],
   "source": [
    "# !python ../train_net/train_model.py --transform_signal normalize --n_iter 4000  --interval_save 200 --iter_checkpoint 200 --path_run_dir 'test_models_SI_single_10' --path_pretrain_dir 'test_models_SI_single_09'  --path_dataset_csv \"../csv/train_path_SI.csv\"  --path_dataset_val_csv \"../csv/val_path_SI.csv\" --out_drop_index 10 --input_index 35 29 39 38 7 28 18 12 34 11 --target_index 0 1 2 3 4 5 6 8 9 10 13 14 15 16 17 19 20 21 22 23 24 25 26 27 30 31 32 33 36 37 40 41 42 43 44 45   --in_dim 10 --out_dim 36\n",
    "# !python ../train_net/validation.py --transform_signal normalize --n_iter 4000 --path_run_dir 'test_models_SI_single_10'  --path_output_dir 'small_intestine_output/val_vae_10.npy' --path_dataset_val_csv \"../csv/val_path_SI.csv\"   --input_index 35 29 39 38 7 28 18 12 34 11 --target_index 0 1 2 3 4 5 6 8 9 10 13 14 15 16 17 19 20 21 22 23 24 25 26 27 29 30 31 32 33 36 37 40 41 42 43 45  --in_dim 10 --out_dim 36"
   ]
  },
  {
   "cell_type": "code",
   "execution_count": 24,
   "id": "6259c3ec",
   "metadata": {},
   "outputs": [
    {
     "name": "stdout",
     "output_type": "stream",
     "text": [
      "add 24 into input\n",
      "input: [35, 29, 39, 38, 7, 28, 18, 12, 34, 11, 24]\n",
      "output:  [0, 1, 2, 3, 4, 5, 6, 8, 9, 10, 13, 14, 15, 16, 17, 19, 20, 21, 22, 23, 25, 26, 27, 30, 31, 32, 33, 36, 37, 40, 41, 42, 43, 44, 45]\n",
      "--out_drop_index: 20\n"
     ]
    }
   ],
   "source": [
    "val_loss_path = r'small_intestine_output/val_vae_10.npy' \n",
    "idx = g.updateAndFindNext(idx, val_loss_path)\n",
    "out_drop = out.index(idx) \n",
    "print(\"--out_drop_index:\", out_drop)\n",
    "out = g.output.copy()"
   ]
  },
  {
   "cell_type": "markdown",
   "id": "52f5b0e0",
   "metadata": {},
   "source": [
    "### Round11"
   ]
  },
  {
   "cell_type": "code",
   "execution_count": 25,
   "id": "ac5afa8d",
   "metadata": {},
   "outputs": [],
   "source": [
    "# !python ../train_net/train_model.py --transform_signal normalize --n_iter 4000  --interval_save 200 --iter_checkpoint 200 --path_run_dir 'test_models_SI_single_11' --path_pretrain_dir 'test_models_SI_single_10'  --path_dataset_csv \"../csv/train_path_SI.csv\"  --path_dataset_val_csv \"../csv/val_path_SI.csv\" --out_drop_index 20 --input_index 35 29 39 38 7 28 18 12 34 11 24 --target_index 0 1 2 3 4 5 6 8 9 10 13 14 15 16 17 19 20 21 22 23 25 26 27 30 31 32 33 36 37 40 41 42 43 44 45   --in_dim 11 --out_dim 35\n",
    "# !python ../train_net/validation.py --transform_signal normalize --n_iter 4000 --path_run_dir 'test_models_SI_single_11'  --path_output_dir 'small_intestine_output/val_vae_11.npy' --path_dataset_val_csv \"../csv/val_path_SI.csv\"   --input_index 35 29 39 38 7 28 18 12 34 11 24 --target_index 0 1 2 3 4 5 6 8 9 10 13 14 15 16 17 19 20 21 22 23 25 26 27 29 30 31 32 33 36 37 40 41 42 43 45  --in_dim 11 --out_dim 35"
   ]
  },
  {
   "cell_type": "code",
   "execution_count": 26,
   "id": "343de08e",
   "metadata": {},
   "outputs": [
    {
     "name": "stdout",
     "output_type": "stream",
     "text": [
      "add 32 into input\n",
      "input: [35, 29, 39, 38, 7, 28, 18, 12, 34, 11, 24, 32]\n",
      "output:  [0, 1, 2, 3, 4, 5, 6, 8, 9, 10, 13, 14, 15, 16, 17, 19, 20, 21, 22, 23, 25, 26, 27, 30, 31, 33, 36, 37, 40, 41, 42, 43, 44, 45]\n",
      "--out_drop_index: 25\n"
     ]
    }
   ],
   "source": [
    "val_loss_path = r'small_intestine_output/val_vae_11.npy'  \n",
    "idx = g.updateAndFindNext(idx, val_loss_path)\n",
    "out_drop = out.index(idx) \n",
    "print(\"--out_drop_index:\", out_drop)\n",
    "out = g.output.copy()"
   ]
  },
  {
   "cell_type": "markdown",
   "id": "2905faed",
   "metadata": {},
   "source": [
    "### Round12"
   ]
  },
  {
   "cell_type": "code",
   "execution_count": 27,
   "id": "52ca8c0b",
   "metadata": {},
   "outputs": [],
   "source": [
    "# !python ../train_net/train_model.py --transform_signal normalize --n_iter 4000  --interval_save 200 --iter_checkpoint 200 --path_run_dir 'test_models_SI_single_12' --path_pretrain_dir 'test_models_SI_single_11'  --path_dataset_csv \"../csv/train_path_SI.csv\"  --path_dataset_val_csv \"../csv/val_path_SI.csv\" --out_drop_index 25 --input_index 35 29 39 38 7 28 18 12 34 11 24 32 --target_index 0 1 2 3 4 5 6 8 9 10 13 14 15 16 17 19 20 21 22 23 25 26 27 30 31 33 36 37 40 41 42 43 44 45   --in_dim 12 --out_dim 34\n",
    "# !python ../train_net/validation.py --transform_signal normalize --n_iter 4000 --path_run_dir 'test_models_SI_single_12'  --path_output_dir 'small_intestine_output/val_vae_12.npy' --path_dataset_val_csv \"../csv/val_path_SI.csv\"   --input_index 35 29 39 38 7 28 18 12 34 11 24 32 --target_index 0 1 2 3 4 5 6 8 9 10 13 14 15 16 17 19 20 21 22 23 25 26 27 29 30 31 33 36 37 40 41 42 43 45  --in_dim 12 --out_dim 34"
   ]
  },
  {
   "cell_type": "code",
   "execution_count": 28,
   "id": "a547f6c6",
   "metadata": {},
   "outputs": [
    {
     "name": "stdout",
     "output_type": "stream",
     "text": [
      "add 26 into input\n",
      "input: [35, 29, 39, 38, 7, 28, 18, 12, 34, 11, 24, 32, 26]\n",
      "output:  [0, 1, 2, 3, 4, 5, 6, 8, 9, 10, 13, 14, 15, 16, 17, 19, 20, 21, 22, 23, 25, 27, 30, 31, 33, 36, 37, 40, 41, 42, 43, 44, 45]\n",
      "--out_drop_index: 21\n"
     ]
    }
   ],
   "source": [
    "val_loss_path = r'small_intestine_output/val_vae_12.npy' \n",
    "idx = g.updateAndFindNext(idx, val_loss_path)\n",
    "out_drop = out.index(idx) \n",
    "print(\"--out_drop_index:\", out_drop)\n",
    "out = g.output.copy()"
   ]
  },
  {
   "cell_type": "markdown",
   "id": "8301c6d4",
   "metadata": {},
   "source": [
    "### Round13"
   ]
  },
  {
   "cell_type": "code",
   "execution_count": 29,
   "id": "d0f5d1a1",
   "metadata": {},
   "outputs": [],
   "source": [
    "# !python ../train_net/train_model.py --transform_signal normalize --n_iter 4000  --interval_save 200 --iter_checkpoint 200 --path_run_dir 'test_models_SI_single_13' --path_pretrain_dir 'test_models_SI_single_12'  --path_dataset_csv \"../csv/train_path_SI.csv\"  --path_dataset_val_csv \"../csv/val_path_SI.csv\" --out_drop_index 21 --input_index 35 29 39 38 7 28 18 12 34 11 24 32 26 --target_index 0 1 2 3 4 5 6 8 9 10 13 14 15 16 17 19 20 21 22 23 25 27 30 31 33 36 37 40 41 42 43 44 45   --in_dim 13 --out_dim 33\n",
    "# !python ../train_net/validation.py --transform_signal normalize --n_iter 4000 --path_run_dir 'test_models_SI_single_13'  --path_output_dir 'small_intestine_output/val_vae_13.npy' --path_dataset_val_csv \"../csv/val_path_SI.csv\"   --input_index 35 29 39 38 7 28 18 12 34 11 24 32 26 --target_index 0 1 2 3 4 5 6 8 9 10 13 14 15 16 17 19 20 21 22 23 25 27 29 30 31 33 36 37 40 41 42 43 45  --in_dim 13 --out_dim 33"
   ]
  },
  {
   "cell_type": "code",
   "execution_count": 30,
   "id": "67ba3cd1",
   "metadata": {},
   "outputs": [
    {
     "name": "stdout",
     "output_type": "stream",
     "text": [
      "add 0 into input\n",
      "input: [35, 29, 39, 38, 7, 28, 18, 12, 34, 11, 24, 32, 26, 0]\n",
      "output:  [1, 2, 3, 4, 5, 6, 8, 9, 10, 13, 14, 15, 16, 17, 19, 20, 21, 22, 23, 25, 27, 30, 31, 33, 36, 37, 40, 41, 42, 43, 44, 45]\n",
      "--out_drop_index: 0\n"
     ]
    }
   ],
   "source": [
    "val_loss_path = r'small_intestine_output/val_vae_13.npy' \n",
    "idx = g.updateAndFindNext(idx, val_loss_path)\n",
    "out_drop = out.index(idx) \n",
    "print(\"--out_drop_index:\", out_drop)\n",
    "out = g.output.copy()"
   ]
  },
  {
   "cell_type": "markdown",
   "id": "5b71249a",
   "metadata": {},
   "source": [
    "### Round14"
   ]
  },
  {
   "cell_type": "code",
   "execution_count": 31,
   "id": "ebb5bd6f",
   "metadata": {},
   "outputs": [],
   "source": [
    "# !python ../train_net/train_model.py --transform_signal normalize --n_iter 4000  --interval_save 200 --iter_checkpoint 200 --path_run_dir 'test_models_SI_single_14' --path_pretrain_dir 'test_models_SI_single_13'  --path_dataset_csv \"../csv/train_path_SI.csv\"  --path_dataset_val_csv \"../csv/val_path_SI.csv\" --out_drop_index 0 --input_index 35 29 39 38 7 28 18 12 34 11 24 32 26 0 --target_index 1 2 3 4 5 6 8 9 10 13 14 15 16 17 19 20 21 22 23 25 27 30 31 33 36 37 40 41 42 43 44 45   --in_dim 14 --out_dim 32\n",
    "# !python ../train_net/validation.py --transform_signal normalize --n_iter 4000 --path_run_dir 'test_models_SI_single_14'  --path_output_dir 'small_intestine_output/val_vae_14.npy' --path_dataset_val_csv \"../csv/val_path_SI.csv\"   --input_index 35 29 39 38 7 28 18 12 34 11 24 32 26 0 --target_index 1 2 3 4 5 6 8 9 10 13 14 15 16 17 19 20 21 22 23 25 27 29 30 31 33 36 37 40 41 42 43 45  --in_dim 14 --out_dim 32"
   ]
  },
  {
   "cell_type": "code",
   "execution_count": 32,
   "id": "b170be1d",
   "metadata": {},
   "outputs": [
    {
     "name": "stdout",
     "output_type": "stream",
     "text": [
      "add 4 into input\n",
      "input: [35, 29, 39, 38, 7, 28, 18, 12, 34, 11, 24, 32, 26, 0, 4]\n",
      "output:  [1, 2, 3, 5, 6, 8, 9, 10, 13, 14, 15, 16, 17, 19, 20, 21, 22, 23, 25, 27, 30, 31, 33, 36, 37, 40, 41, 42, 43, 44, 45]\n",
      "--out_drop_index: 3\n"
     ]
    }
   ],
   "source": [
    "val_loss_path = r'small_intestine_output/val_vae_14.npy'  \n",
    "idx = g.updateAndFindNext(idx, val_loss_path)\n",
    "out_drop = out.index(idx) \n",
    "print(\"--out_drop_index:\", out_drop)\n",
    "out = g.output.copy()"
   ]
  },
  {
   "cell_type": "markdown",
   "id": "765cd5e2",
   "metadata": {},
   "source": [
    "### Round15"
   ]
  },
  {
   "cell_type": "code",
   "execution_count": 33,
   "id": "300b23be",
   "metadata": {},
   "outputs": [],
   "source": [
    "# !python ../train_net/train_model.py --transform_signal normalize --n_iter 4000  --interval_save 200 --iter_checkpoint 200 --path_run_dir 'test_models_SI_single_15' --path_pretrain_dir 'test_models_SI_single_14'  --path_dataset_csv \"../csv/train_path_SI.csv\"  --path_dataset_val_csv \"../csv/val_path_SI.csv\" --out_drop_index 3 --input_index 35 29 39 38 7 28 18 12 34 11 24 32 26 0 4 --target_index 1 2 3 5 6 8 9 10 13 14 15 16 17 19 20 21 22 23 25 27 30 31 33 36 37 40 41 42 43 44 45   --in_dim 15 --out_dim 31\n",
    "# !python ../train_net/validation.py --transform_signal normalize --n_iter 4000 --path_run_dir 'test_models_SI_single_15'  --path_output_dir 'small_intestine_output/val_vae_15.npy' --path_dataset_val_csv \"../csv/val_path_SI.csv\"   --input_index 35 29 39 38 7 28 18 12 34 11 24 32 26 0 4 --target_index 1 2 3 5 6 8 9 10 13 14 15 16 17 19 20 21 22 23 25 27 29 30 31 33 36 37 40 41 42 43 45  --in_dim 15 --out_dim 31"
   ]
  },
  {
   "cell_type": "code",
   "execution_count": 34,
   "id": "6d1879c3",
   "metadata": {},
   "outputs": [
    {
     "name": "stdout",
     "output_type": "stream",
     "text": [
      "add 37 into input\n",
      "input: [35, 29, 39, 38, 7, 28, 18, 12, 34, 11, 24, 32, 26, 0, 4, 37]\n",
      "output:  [1, 2, 3, 5, 6, 8, 9, 10, 13, 14, 15, 16, 17, 19, 20, 21, 22, 23, 25, 27, 30, 31, 33, 36, 40, 41, 42, 43, 44, 45]\n",
      "--out_drop_index: 24\n"
     ]
    }
   ],
   "source": [
    "val_loss_path = r'small_intestine_output/val_vae_15.npy' \n",
    "idx = g.updateAndFindNext(idx, val_loss_path)\n",
    "out_drop = out.index(idx) \n",
    "print(\"--out_drop_index:\", out_drop)\n",
    "out = g.output.copy()"
   ]
  },
  {
   "cell_type": "markdown",
   "id": "290604db",
   "metadata": {},
   "source": [
    "### Round16"
   ]
  },
  {
   "cell_type": "code",
   "execution_count": 35,
   "id": "64848cd8",
   "metadata": {},
   "outputs": [],
   "source": [
    "# !python ../train_net/train_model.py --transform_signal normalize --n_iter 4000  --interval_save 200 --iter_checkpoint 200 --path_run_dir 'test_models_SI_single_16' --path_pretrain_dir 'test_models_SI_single_15'  --path_dataset_csv \"../csv/train_path_SI.csv\"  --path_dataset_val_csv \"../csv/val_path_SI.csv\" --out_drop_index 24 --input_index 35 29 39 38 7 28 18 12 34 11 24 32 26 0 4 37 --target_index 1 2 3 5 6 8 9 10 13 14 15 16 17 19 20 21 22 23 25 27 30 31 33 36 40 41 42 43 44 45   --in_dim 16 --out_dim 30\n",
    "# !python ../train_net/validation.py --transform_signal normalize --n_iter 4000 --path_run_dir 'test_models_SI_single_16'  --path_output_dir 'small_intestine_output/val_vae_16.npy' --path_dataset_val_csv \"../csv/val_path_SI.csv\"   --input_index 35 29 39 38 7 28 18 12 34 11 24 32 26 0 4 37 --target_index 1 2 3 5 6 8 9 10 13 14 15 16 17 19 20 21 22 23 25 27 29 30 31 33 36 40 41 42 43 45  --in_dim 16 --out_dim 30"
   ]
  },
  {
   "cell_type": "code",
   "execution_count": 36,
   "id": "fc0032f8",
   "metadata": {},
   "outputs": [
    {
     "name": "stdout",
     "output_type": "stream",
     "text": [
      "add 36 into input\n",
      "input: [35, 29, 39, 38, 7, 28, 18, 12, 34, 11, 24, 32, 26, 0, 4, 37, 36]\n",
      "output:  [1, 2, 3, 5, 6, 8, 9, 10, 13, 14, 15, 16, 17, 19, 20, 21, 22, 23, 25, 27, 30, 31, 33, 40, 41, 42, 43, 44, 45]\n",
      "--out_drop_index: 23\n"
     ]
    }
   ],
   "source": [
    "val_loss_path = r'small_intestine_output/val_vae_16.npy' \n",
    "idx = g.updateAndFindNext(idx, val_loss_path)\n",
    "out_drop = out.index(idx) \n",
    "print(\"--out_drop_index:\", out_drop)\n",
    "out = g.output.copy()"
   ]
  },
  {
   "cell_type": "markdown",
   "id": "5ba6ef1d",
   "metadata": {},
   "source": [
    "### Round17"
   ]
  },
  {
   "cell_type": "code",
   "execution_count": 37,
   "id": "4c050165",
   "metadata": {},
   "outputs": [],
   "source": [
    "# !python ../train_net/train_model.py --transform_signal normalize --n_iter 4000  --interval_save 200 --iter_checkpoint 200 --path_run_dir 'test_models_SI_single_17' --path_pretrain_dir 'test_models_SI_single_16'  --path_dataset_csv \"../csv/train_path_SI.csv\"  --path_dataset_val_csv \"../csv/val_path_SI.csv\" --out_drop_index 23 --input_index 35 29 39 38 7 28 18 12 34 11 24 32 26 0 4 37 36 --target_index 1 2 3 5 6 8 9 10 13 14 15 16 17 19 20 21 22 23 25 27 30 31 33 40 41 42 43 44 45   --in_dim 17 --out_dim 29\n",
    "# !python ../train_net/validation.py --transform_signal normalize --n_iter 4000 --path_run_dir 'test_models_SI_single_17'  --path_output_dir 'small_intestine_output/val_vae_17.npy' --path_dataset_val_csv \"../csv/val_path_SI.csv\"   --input_index 35 29 39 38 7 28 18 12 34 11 24 32 26 0 4 37 23 --target_index 1 2 3 5 6 8 9 10 13 14 15 16 17 19 20 21 22 25 27 29 30 31 33 36 40 41 42 43 45  --in_dim 17 --out_dim 29"
   ]
  },
  {
   "cell_type": "code",
   "execution_count": 38,
   "id": "e93fc55c",
   "metadata": {},
   "outputs": [
    {
     "name": "stdout",
     "output_type": "stream",
     "text": [
      "add 14 into input\n",
      "input: [35, 29, 39, 38, 7, 28, 18, 12, 34, 11, 24, 32, 26, 0, 4, 37, 36, 14]\n",
      "output:  [1, 2, 3, 5, 6, 8, 9, 10, 13, 15, 16, 17, 19, 20, 21, 22, 23, 25, 27, 30, 31, 33, 40, 41, 42, 43, 44, 45]\n",
      "--out_drop_index: 9\n"
     ]
    }
   ],
   "source": [
    "val_loss_path = r'small_intestine_output/val_vae_17.npy'  # lr: 1e-4 -> 5e-5 \n",
    "idx = g.updateAndFindNext(idx, val_loss_path)\n",
    "out_drop = out.index(idx) \n",
    "print(\"--out_drop_index:\", out_drop)\n",
    "out = g.output.copy()"
   ]
  },
  {
   "cell_type": "markdown",
   "id": "f9d02457",
   "metadata": {},
   "source": [
    "### Round18"
   ]
  },
  {
   "cell_type": "code",
   "execution_count": 39,
   "id": "247d6351",
   "metadata": {},
   "outputs": [],
   "source": [
    "# !python ../train_net/train_model.py --transform_signal normalize --n_iter 4000  --interval_save 200 --iter_checkpoint 200 --path_run_dir 'test_models_SI_single_18' --path_pretrain_dir 'test_models_SI_single_17'  --path_dataset_csv \"../csv/train_path_SI.csv\"  --path_dataset_val_csv \"../csv/val_path_SI.csv\" --out_drop_index 9 --input_index 35 29 39 38 7 28 18 12 34 11 24 32 26 0 4 37 36 14 --target_index 1 2 3 5 6 8 9 10 13 15 16 17 19 20 21 22 23 25 27 30 31 33 40 41 42 43 44 45   --in_dim 18 --out_dim 28\n",
    "# !python ../train_net/validation.py --transform_signal normalize --n_iter 4000 --path_run_dir 'test_models_SI_single_18'  --path_output_dir 'small_intestine_output/val_vae_18.npy' --path_dataset_val_csv \"../csv/val_path_SI.csv\"   --input_index 35 29 39 38 7 28 18 12 34 11 24 32 26 0 4 37 23 14 --target_index 1 2 3 5 6 8 9 10 13 15 16 17 19 20 21 22 25 27 29 30 31 33 36 40 41 42 43 45  --in_dim 18 --out_dim 28"
   ]
  },
  {
   "cell_type": "code",
   "execution_count": 40,
   "id": "73380771",
   "metadata": {},
   "outputs": [
    {
     "name": "stdout",
     "output_type": "stream",
     "text": [
      "add 9 into input\n",
      "input: [35, 29, 39, 38, 7, 28, 18, 12, 34, 11, 24, 32, 26, 0, 4, 37, 36, 14, 9]\n",
      "output:  [1, 2, 3, 5, 6, 8, 10, 13, 15, 16, 17, 19, 20, 21, 22, 23, 25, 27, 30, 31, 33, 40, 41, 42, 43, 44, 45]\n",
      "--out_drop_index: 6\n"
     ]
    }
   ],
   "source": [
    "val_loss_path = r'small_intestine_output/val_vae_18.npy' \n",
    "idx = g.updateAndFindNext(idx, val_loss_path)\n",
    "out_drop = out.index(idx) \n",
    "print(\"--out_drop_index:\", out_drop)\n",
    "out = g.output.copy()"
   ]
  },
  {
   "cell_type": "markdown",
   "id": "1c023453",
   "metadata": {},
   "source": [
    "### Round19"
   ]
  },
  {
   "cell_type": "code",
   "execution_count": 41,
   "id": "5a9ebb00",
   "metadata": {},
   "outputs": [],
   "source": [
    "# !python ../train_net/train_model.py --transform_signal normalize --n_iter 4000  --interval_save 200 --iter_checkpoint 200 --path_run_dir 'test_models_SI_single_19' --path_pretrain_dir 'test_models_SI_single_18'  --path_dataset_csv \"../csv/train_path_SI.csv\"  --path_dataset_val_csv \"../csv/val_path_SI.csv\" --out_drop_index 6 --input_index 35 29 39 38 7 28 18 12 34 11 24 32 26 0 4 37 36 14 9 --target_index 1 2 3 5 6 8 10 13 15 16 17 19 20 21 22 23 25 27 30 31 33 40 41 42 43 44 45   --in_dim 19 --out_dim 27\n",
    "# !python ../train_net/validation.py --transform_signal normalize --n_iter 4000 --path_run_dir 'test_models_SI_single_19'  --path_output_dir 'small_intestine_output/val_vae_19.npy' --path_dataset_val_csv \"../csv/val_path_SI.csv\"   --input_index 35 29 39 38 7 28 18 12 34 11 24 32 26 0 4 37 23 14 9 --target_index 1 2 3 5 6 8 10 13 15 16 17 19 20 21 22 25 27 29 30 31 33 36 40 41 42 43 45  --in_dim 19 --out_dim 27"
   ]
  },
  {
   "cell_type": "code",
   "execution_count": 42,
   "id": "193a2eaa",
   "metadata": {},
   "outputs": [
    {
     "name": "stdout",
     "output_type": "stream",
     "text": [
      "add 30 into input\n",
      "input: [35, 29, 39, 38, 7, 28, 18, 12, 34, 11, 24, 32, 26, 0, 4, 37, 36, 14, 9, 30]\n",
      "output:  [1, 2, 3, 5, 6, 8, 10, 13, 15, 16, 17, 19, 20, 21, 22, 23, 25, 27, 31, 33, 40, 41, 42, 43, 44, 45]\n",
      "--out_drop_index: 18\n"
     ]
    }
   ],
   "source": [
    "val_loss_path = r'small_intestine_output/val_vae_19.npy'\n",
    "idx = g.updateAndFindNext(idx, val_loss_path)\n",
    "out_drop = out.index(idx) \n",
    "print(\"--out_drop_index:\", out_drop)\n",
    "out = g.output.copy()"
   ]
  },
  {
   "cell_type": "code",
   "execution_count": 48,
   "id": "80ddbd41",
   "metadata": {},
   "outputs": [],
   "source": [
    "with open('marker_list/SI46.txt') as f:\n",
    "    si_markers = f.read().splitlines()"
   ]
  },
  {
   "cell_type": "code",
   "execution_count": 49,
   "id": "7efcb6a3",
   "metadata": {},
   "outputs": [
    {
     "data": {
      "image/png": "[encoded data removed]",
      "text/plain": [
       "<Figure size 1000x800 with 2 Axes>"
      ]
     },
     "metadata": {},
     "output_type": "display_data"
    }
   ],
   "source": [
    "n = len(g.nodes)\n",
    "edge_mtx = np.zeros((n, n))\n",
    "for i in range(n):\n",
    "    edges = g.nodes[i].edges\n",
    "    for k in range(i, len(edges)):\n",
    "        j = k+1\n",
    "        edge_mtx[i,j] = edges[k].value\n",
    "for j in range(n):\n",
    "    edge_mtx[j, j] = 0\n",
    "    for i in range(j+1, n):\n",
    "        edge_mtx[i, j] = edge_mtx[j, i]\n",
    "\n",
    "fig, ax = plt.subplots(figsize=(10, 8))\n",
    "df = pd.DataFrame(edge_mtx)\n",
    "# p = sns.heatmap(df, xticklabels=True, yticklabels=True)\n",
    "p = sns.heatmap(df, xticklabels=True, yticklabels=True, vmin=0, vmax = 0.62)\n",
    "p.set_xticklabels(si_markers, rotation=90)\n",
    "p.set_yticklabels(si_markers, rotation=0)\n",
    "plt.show()"
   ]
  },
  {
   "cell_type": "markdown",
   "id": "1436144a",
   "metadata": {},
   "source": [
    "### test"
   ]
  },
  {
   "cell_type": "code",
   "execution_count": 45,
   "id": "0ce414bb",
   "metadata": {},
   "outputs": [],
   "source": [
    "# !python predict_full_view.py --transform_signal normalize --save_image  --path_run_dir 'test_models_SI_single_19'  --path_dataset_csv \"../csv/test_path_SI.csv\" --input_index 35 29 39 38 7 28 18 12 34 11 24 32 26 0 4 37 23 14 9 --target_index 1 2 3 5 6 8 10 13 15 16 17 19 20 21 22 23 25 27 30 31 33 40 41 42 43 44 45 "
   ]
  },
  {
   "cell_type": "markdown",
   "id": "b869bf25",
   "metadata": {},
   "source": []
  }
 ],
 "metadata": {
  "kernelspec": {
   "display_name": "Python 3 (ipykernel)",
   "language": "python",
   "name": "python3"
  },
  "language_info": {
   "codemirror_mode": {
    "name": "ipython",
    "version": 3
   },
   "file_extension": ".py",
   "mimetype": "text/x-python",
   "name": "python",
   "nbconvert_exporter": "python",
   "pygments_lexer": "ipython3",
   "version": "3.10.6"
  }
 },
 "nbformat": 4,
 "nbformat_minor": 5
}
