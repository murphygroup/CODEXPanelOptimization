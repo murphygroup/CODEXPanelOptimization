{
 "cells": [
  {
   "cell_type": "code",
   "execution_count": 1,
   "id": "fb418e2c",
   "metadata": {},
   "outputs": [],
   "source": [
    "import matplotlib.pyplot as plt\n",
    "import networkx as nx\n",
    "import numpy as np\n",
    "import pandas as pd\n",
    "from train_selection_MAE import Edge, Node, Graph\n",
    "import seaborn as sns\n",
    "import os\n",
    "import imageio"
   ]
  },
  {
   "cell_type": "markdown",
   "id": "95c1bd50",
   "metadata": {},
   "source": [
    "### initialization"
   ]
  },
  {
   "cell_type": "code",
   "execution_count": 2,
   "id": "0abfa679",
   "metadata": {},
   "outputs": [],
   "source": [
    "if not os.path.exists(\"spleen_output\"):\n",
    "    os.makedirs(\"spleen_output\")\n",
    "# uncomment the line below to run but there are existing files for demo\n",
    "# !python ../train_net/corr.py --csv_path '../csv/train_path_SP29.csv' --num_biomarkers 29 --save_path 'large_intestine/mae_mtx_SP' --transform_signal normalize2  # get initial edge weights\n",
    "scores = np.load(\"spleen_output/mae_mtx_SP.npy\")"
   ]
  },
  {
   "cell_type": "code",
   "execution_count": 3,
   "id": "8f1f8f2a",
   "metadata": {},
   "outputs": [
    {
     "name": "stdout",
     "output_type": "stream",
     "text": [
      "add marker 15 into input\n",
      "input: [15]\n",
      "output:  [0, 1, 2, 3, 4, 5, 6, 7, 8, 9, 10, 11, 12, 13, 14, 16, 17, 18, 19, 20, 21, 22, 23, 24, 25, 26, 27, 28]\n"
     ]
    }
   ],
   "source": [
    "num_biomarkers = 29\n",
    "\n",
    "nodes = []\n",
    "for i in range(num_biomarkers):\n",
    "    nodes.append(Node(i, num_biomarkers))\n",
    "\n",
    "edges = []\n",
    "for i in range(num_biomarkers):\n",
    "    for j in range(i+1,num_biomarkers):\n",
    "        edge = Edge(scores[i,j])\n",
    "        edge.nodes = (i,j)\n",
    "        #edge.value = scores[i,j]\n",
    "        edges.append(edge)\n",
    "        nodes[i].edges.append(edge)\n",
    "        nodes[j].edges.append(edge)\n",
    "\n",
    "g = Graph(nodes,edges, num_biomarkers)\n",
    "\n",
    "# chose the 1st input\n",
    "node_degrees = []\n",
    "for n in g.nodes:\n",
    "    degree = sum(e.value for e in n.edges)\n",
    "    minDegree = min(e.value for e in n.edges)\n",
    "    n.init_degree = minDegree\n",
    "    node_degrees.append(degree)\n",
    "x = np.argmin(node_degrees)\n",
    "# print(np.min(node_degrees))\n",
    "\n",
    "g.input_.append(x)\n",
    "idx = int(g.input_[-1])\n",
    "\n",
    "print(\"add marker\",idx, \"into input\")\n",
    "print(\"input:\", g.input_)\n",
    "\n",
    "for i in g.output:\n",
    "    if i == idx:\n",
    "        g.output.remove(i)\n",
    "print(\"output: \", g.output)\n",
    "\n",
    "out = g.output.copy()"
   ]
  },
  {
   "cell_type": "markdown",
   "id": "dfcab592",
   "metadata": {},
   "source": [
    "### Round1"
   ]
  },
  {
   "cell_type": "code",
   "execution_count": 4,
   "id": "73787259",
   "metadata": {},
   "outputs": [],
   "source": [
    "# train the network with currect input and output markers \n",
    "# !python ../train_net/train_model.py --transform_signal normalize2 --n_iter 4000  --interval_save 200 --iter_checkpoint 200  --path_run_dir 'test_models_SP_01'  --path_dataset_csv \"../csv/train_path_SP.csv\"  --path_dataset_val_csv \"../csv/val_path_SP.csv\"  --input_index 15  --target_index 0 1 2 3 4 5 6 7 8 9 10 11 12 13 14 16 17 18 19 20 21 22 23 24 25 26 27 28   --in_dim 1 --out_dim 28\n",
    "# !python ../train_net/validation.py --transform_signal normalize2 --n_iter 4000 --path_run_dir 'test_models_SP_01'  --path_output_dir 'spleen_output/val_vae_01.npy' --path_dataset_val_csv \"../csv/val_path_SP.csv\"   --input_index  15  --target_index 0 1 2 3 4 5 6 7 8 9 10 11 12 13 14 16 17 18 19 20 21 22 23 24 25 26 27 28 --in_dim 1 --out_dim 28"
   ]
  },
  {
   "cell_type": "code",
   "execution_count": 5,
   "id": "1afb80f0",
   "metadata": {},
   "outputs": [
    {
     "name": "stdout",
     "output_type": "stream",
     "text": [
      "add 19 into input\n",
      "input: [15, 19]\n",
      "output:  [0, 1, 2, 3, 4, 5, 6, 7, 8, 9, 10, 11, 12, 13, 14, 16, 17, 18, 20, 21, 22, 23, 24, 25, 26, 27, 28]\n",
      "--out_drop_index: 18\n"
     ]
    }
   ],
   "source": [
    "val_loss_path = r'spleen_output/val_vae_01.npy'\n",
    "idx = g.updateAndFindNext(idx, val_loss_path)\n",
    "out_drop = out.index(idx) # index of added input in the previous target list\n",
    "print(\"--out_drop_index:\", out_drop)\n",
    "out = g.output.copy()"
   ]
  },
  {
   "cell_type": "markdown",
   "id": "a17f96eb",
   "metadata": {},
   "source": [
    "### Round2"
   ]
  },
  {
   "cell_type": "code",
   "execution_count": 6,
   "id": "db49ed05",
   "metadata": {},
   "outputs": [],
   "source": [
    "# !python ../train_net/train_model.py --transform_signal normalize2 --n_iter 4000  --interval_save 200 --iter_checkpoint 200  --path_run_dir 'test_models_SP_02'  --path_pretrain_dir 'test_models_SP_01' --path_dataset_csv \"../csv/train_path_SP.csv\"  --path_dataset_val_csv \"../csv/val_path_SP.csv\" --out_drop_index 18 --input_index 15 19 --target_index  1 2 3 4 5 6 7 8 9 10 11 12 13 14 16 17 18 20 21 22 23 24 25 26 27 28  --in_dim 2 --out_dim 27\n",
    "# !python ../train_net/validation.py --transform_signal normalize2 --n_iter 4000 --path_run_dir 'test_models_SP_02'  --path_output_dir 'spleen_output/val_vae_02.npy' --path_dataset_val_csv \"../csv/val_path_SP.csv\"   --input_index  15 19  --target_index  1 2 3 4 5 6 7 8 9 10 11 12 13 14 16 17 18 20 21 22 23 24 25 26 27 28 --in_dim 2 --out_dim 27"
   ]
  },
  {
   "cell_type": "code",
   "execution_count": 7,
   "id": "d33aa1c1",
   "metadata": {
    "scrolled": false
   },
   "outputs": [
    {
     "name": "stdout",
     "output_type": "stream",
     "text": [
      "add 27 into input\n",
      "input: [15, 19, 27]\n",
      "output:  [0, 1, 2, 3, 4, 5, 6, 7, 8, 9, 10, 11, 12, 13, 14, 16, 17, 18, 20, 21, 22, 23, 24, 25, 26, 28]\n",
      "--out_drop_index: 25\n"
     ]
    }
   ],
   "source": [
    "val_loss_path = r'spleen_output/val_vae_02.npy'\n",
    "idx = g.updateAndFindNext(idx, val_loss_path)\n",
    "out_drop = out.index(idx) # index of added input in the previous target list\n",
    "print(\"--out_drop_index:\", out_drop)\n",
    "out = g.output.copy()"
   ]
  },
  {
   "cell_type": "markdown",
   "id": "4534ce54",
   "metadata": {},
   "source": [
    "### Round3"
   ]
  },
  {
   "cell_type": "code",
   "execution_count": 8,
   "id": "99bc6d1a",
   "metadata": {},
   "outputs": [],
   "source": [
    "# !python ../train_net/train_model.py --transform_signal normalize2 --n_iter 4000  --interval_save 200 --iter_checkpoint 200  --path_run_dir 'test_models_SP_03'  --path_pretrain_dir 'test_models_SP_02' --path_dataset_csv \"../csv/train_path_SP.csv\"  --path_dataset_val_csv \"../csv/val_path_SP.csv\" --out_drop_index 25 --input_index 15 19 25 --target_index  1 2 3 4 5 6 7 8 9 10 11 12 13 14 16 17 18 20 21 22 23 24 26 27 28  --in_dim 3 --out_dim 26\n",
    "# !python ../train_net/validation.py --transform_signal normalize2 --n_iter 4000 --path_run_dir 'test_models_SP_03'  --path_output_dir 'spleen_output/val_vae_03.npy' --path_dataset_val_csv \"../csv/val_path_SP.csv\"   --input_index  15 19 27 --target_index  1 2 3 4 5 6 7 8 9 10 11 12 13 14 16 17 18 20 21 22 23 24 25 26 28 --in_dim 3 --out_dim 26"
   ]
  },
  {
   "cell_type": "code",
   "execution_count": 9,
   "id": "9b9f7623",
   "metadata": {},
   "outputs": [
    {
     "name": "stdout",
     "output_type": "stream",
     "text": [
      "add 7 into input\n",
      "input: [15, 19, 27, 7]\n",
      "output:  [0, 1, 2, 3, 4, 5, 6, 8, 9, 10, 11, 12, 13, 14, 16, 17, 18, 20, 21, 22, 23, 24, 25, 26, 28]\n",
      "--out_drop_index: 7\n"
     ]
    }
   ],
   "source": [
    "val_loss_path = r'spleen_output/val_vae_03.npy'\n",
    "idx = g.updateAndFindNext(idx, val_loss_path)\n",
    "out_drop = out.index(idx) # index of added input in the previous target list\n",
    "print(\"--out_drop_index:\", out_drop)\n",
    "out = g.output.copy()"
   ]
  },
  {
   "cell_type": "markdown",
   "id": "3a3b7145",
   "metadata": {},
   "source": [
    "### Round4"
   ]
  },
  {
   "cell_type": "code",
   "execution_count": 10,
   "id": "6376b528",
   "metadata": {},
   "outputs": [],
   "source": [
    "# !python ../train_net/train_model.py --transform_signal normalize2 --n_iter 4000  --interval_save 200 --iter_checkpoint 200  --path_run_dir 'test_models_SP_04'  --path_pretrain_dir 'test_models_SP_03' --path_dataset_csv \"../csv/train_path_SP.csv\"  --path_dataset_val_csv \"../csv/val_path_SP.csv\" --out_drop_index 7 --input_index 15 19 25 7 --target_index  1 2 3 4 5 6 8 9 10 11 12 13 14 16 17 18 20 21 22 23 24 26 27 28  --in_dim 4 --out_dim 25\n",
    "# !python ../train_net/validation.py --transform_signal normalize2 --n_iter 4000 --path_run_dir 'test_models_SP_04'  --path_output_dir 'spleen_output/val_vae_04.npy' --path_dataset_val_csv \"../csv/val_path_SP.csv\"   --input_index  15 19 27 7 --target_index  1 2 3 4 5 6 8 9 10 11 12 13 14 16 17 18 20 21 22 23 24 25 26 28 --in_dim 4 --out_dim 25"
   ]
  },
  {
   "cell_type": "code",
   "execution_count": 11,
   "id": "5877fe37",
   "metadata": {},
   "outputs": [
    {
     "name": "stdout",
     "output_type": "stream",
     "text": [
      "add 2 into input\n",
      "input: [15, 19, 27, 7, 2]\n",
      "output:  [0, 1, 3, 4, 5, 6, 8, 9, 10, 11, 12, 13, 14, 16, 17, 18, 20, 21, 22, 23, 24, 25, 26, 28]\n",
      "--out_drop_index: 2\n"
     ]
    }
   ],
   "source": [
    "val_loss_path = r'spleen_output/val_vae_04.npy'\n",
    "idx = g.updateAndFindNext(idx, val_loss_path)\n",
    "out_drop = out.index(idx) # index of added input in the previous target list\n",
    "print(\"--out_drop_index:\", out_drop)\n",
    "out = g.output.copy()"
   ]
  },
  {
   "cell_type": "markdown",
   "id": "e365163a",
   "metadata": {},
   "source": [
    "### Round5"
   ]
  },
  {
   "cell_type": "code",
   "execution_count": 12,
   "id": "768f3597",
   "metadata": {},
   "outputs": [],
   "source": [
    "# !python ../train_net/train_model.py --transform_signal normalize2 --n_iter 4000  --interval_save 200 --iter_checkpoint 200  --path_run_dir 'test_models_SP_05'  --path_pretrain_dir 'test_models_SP_04' --path_dataset_csv \"../csv/train_path_SP.csv\"  --path_dataset_val_csv \"../csv/val_path_SP.csv\" --out_drop_index 2 --input_index 15 19 25 7 2 --target_index  1 3 4 5 6 8 9 10 11 12 13 14 16 17 18 20 21 22 23 24 26 27 28  --in_dim 5 --out_dim 24\n",
    "# !python ../train_net/validation.py --transform_signal normalize2 --n_iter 4000 --path_run_dir 'test_models_SP_05'  --path_output_dir 'spleen_output/val_vae_05.npy' --path_dataset_val_csv \"../csv/val_path_SP.csv\"   --input_index  15 19 27 7 2 --target_index  1 3 4 5 6 8 9 10 11 12 13 14 16 17 18 20 21 22 23 24 25 26 28 --in_dim 5 --out_dim 24"
   ]
  },
  {
   "cell_type": "code",
   "execution_count": 13,
   "id": "97a2c656",
   "metadata": {},
   "outputs": [
    {
     "name": "stdout",
     "output_type": "stream",
     "text": [
      "add 28 into input\n",
      "input: [15, 19, 27, 7, 2, 28]\n",
      "output:  [0, 1, 3, 4, 5, 6, 8, 9, 10, 11, 12, 13, 14, 16, 17, 18, 20, 21, 22, 23, 24, 25, 26]\n",
      "--out_drop_index: 23\n"
     ]
    }
   ],
   "source": [
    "val_loss_path = r'spleen_output/val_vae_05.npy'\n",
    "idx = g.updateAndFindNext(idx, val_loss_path)\n",
    "out_drop = out.index(idx) \n",
    "print(\"--out_drop_index:\", out_drop)\n",
    "out = g.output.copy()"
   ]
  },
  {
   "cell_type": "markdown",
   "id": "c6ec4a0c",
   "metadata": {},
   "source": [
    "### Round6"
   ]
  },
  {
   "cell_type": "code",
   "execution_count": 14,
   "id": "15154e66",
   "metadata": {},
   "outputs": [],
   "source": [
    "# !python ../train_net/train_model.py --transform_signal normalize2 --n_iter 4000  --interval_save 200 --iter_checkpoint 200  --path_run_dir 'test_models_SP_06'  --path_pretrain_dir 'test_models_SP_05' --path_dataset_csv \"../csv/train_path_SP.csv\"  --path_dataset_val_csv \"../csv/val_path_SP.csv\" --out_drop_index 23 --input_index 15 19 25 7 2 28 --target_index  1 3 4 5 6 8 9 10 11 12 13 14 16 17 18 20 21 22 23 24 26 27  --in_dim 6 --out_dim 23\n",
    "# !python ../train_net/validation.py --transform_signal normalize2 --n_iter 4000 --path_run_dir 'test_models_SP_06'  --path_output_dir 'spleen_output/val_vae_06.npy' --path_dataset_val_csv \"../csv/val_path_SP.csv\"   --input_index  15 19 27 7 2 28 --target_index  1 3 4 5 6 8 9 10 11 12 13 14 16 17 18 20 21 22 23 24 25 26 --in_dim 6 --out_dim 23"
   ]
  },
  {
   "cell_type": "code",
   "execution_count": 15,
   "id": "217c07b9",
   "metadata": {},
   "outputs": [
    {
     "name": "stdout",
     "output_type": "stream",
     "text": [
      "add 5 into input\n",
      "input: [15, 19, 27, 7, 2, 28, 5]\n",
      "output:  [0, 1, 3, 4, 6, 8, 9, 10, 11, 12, 13, 14, 16, 17, 18, 20, 21, 22, 23, 24, 25, 26]\n",
      "--out_drop_index: 4\n"
     ]
    }
   ],
   "source": [
    "val_loss_path = r'spleen_output/val_vae_06.npy'\n",
    "idx = g.updateAndFindNext(idx, val_loss_path)\n",
    "out_drop = out.index(idx) # index of added input in the previous target list\n",
    "print(\"--out_drop_index:\", out_drop)\n",
    "out = g.output.copy()"
   ]
  },
  {
   "cell_type": "markdown",
   "id": "4cd7cf17",
   "metadata": {},
   "source": [
    "### Round7"
   ]
  },
  {
   "cell_type": "code",
   "execution_count": 16,
   "id": "fc91f0c0",
   "metadata": {},
   "outputs": [],
   "source": [
    "# !python ../train_net/train_model.py --transform_signal normalize2 --n_iter 4000  --interval_save 200 --iter_checkpoint 200  --path_run_dir 'test_models_SP_07'  --path_pretrain_dir 'test_models_SP_06' --path_dataset_csv \"../csv/train_path_SP.csv\"  --path_dataset_val_csv \"../csv/val_path_SP.csv\" --out_drop_index 4 --input_index 15 19 25 7 2 28 5 --target_index  1 3 4 6 8 9 10 11 12 13 14 16 17 18 20 21 22 23 24 26 27  --in_dim 7 --out_dim 22\n",
    "# !python ../train_net/validation.py --transform_signal normalize2 --n_iter 4000 --path_run_dir 'test_models_SP_07'  --path_output_dir 'spleen_output/val_vae_07.npy' --path_dataset_val_csv \"../csv/val_path_SP.csv\"   --input_index  15 19 27 7 2 28 5 --target_index  1 3 4 6 8 9 10 11 12 13 14 16 17 18 20 21 22 23 24 25 26 --in_dim 7 --out_dim 22"
   ]
  },
  {
   "cell_type": "code",
   "execution_count": 17,
   "id": "4c4f65d6",
   "metadata": {},
   "outputs": [
    {
     "name": "stdout",
     "output_type": "stream",
     "text": [
      "add 8 into input\n",
      "input: [15, 19, 27, 7, 2, 28, 5, 8]\n",
      "output:  [0, 1, 3, 4, 6, 9, 10, 11, 12, 13, 14, 16, 17, 18, 20, 21, 22, 23, 24, 25, 26]\n",
      "--out_drop_index: 5\n"
     ]
    }
   ],
   "source": [
    "val_loss_path = r'spleen_output/val_vae_07.npy'\n",
    "idx = g.updateAndFindNext(idx, val_loss_path)\n",
    "out_drop = out.index(idx) # index of added input in the previous target list\n",
    "print(\"--out_drop_index:\", out_drop)\n",
    "out = g.output.copy()"
   ]
  },
  {
   "cell_type": "code",
   "execution_count": 18,
   "id": "4a7f53bb",
   "metadata": {},
   "outputs": [],
   "source": [
    "with open('marker_list/LN29.txt') as f:\n",
    "    sp_markers = f.read().splitlines()"
   ]
  },
  {
   "cell_type": "code",
   "execution_count": 21,
   "id": "bbb953a8",
   "metadata": {},
   "outputs": [
    {
     "data": {
      "image/png": "[encoded data removed]",
      "text/plain": [
       "<Figure size 1000x800 with 2 Axes>"
      ]
     },
     "metadata": {},
     "output_type": "display_data"
    }
   ],
   "source": [
    "n = len(g.nodes)\n",
    "edge_mtx = np.zeros((n, n))\n",
    "for i in range(n):\n",
    "    edges = g.nodes[i].edges\n",
    "    for k in range(i, len(edges)):\n",
    "        j = k+1\n",
    "        edge_mtx[i,j] = edges[k].value\n",
    "for j in range(n):\n",
    "    edge_mtx[j, j] = 0\n",
    "    for i in range(j+1, n):\n",
    "        edge_mtx[i, j] = edge_mtx[j, i]\n",
    "\n",
    "fig, ax = plt.subplots(figsize=(10, 8))\n",
    "df = pd.DataFrame(edge_mtx)\n",
    "# p = sns.heatmap(df, xticklabels=True, yticklabels=True)\n",
    "p = sns.heatmap(df, xticklabels=True, yticklabels=True, vmin=0, vmax = 1.1)\n",
    "p.set_xticklabels(sp_markers, rotation=90)\n",
    "p.set_yticklabels(sp_markers, rotation=0)\n",
    "plt.show()"
   ]
  },
  {
   "cell_type": "markdown",
   "id": "08df878e",
   "metadata": {},
   "source": [
    "### test"
   ]
  },
  {
   "cell_type": "code",
   "execution_count": 20,
   "id": "e24a55e2",
   "metadata": {},
   "outputs": [],
   "source": [
    "# !python predict_full_view.py --transform_signal normalize2 --save_image  --path_run_dir 'test_models_SP_7'  --path_dataset_csv \"../csv/test_path_SP.csv\" --input_index  15 19 27 7 2 28 5 --target_index  1 3 4 6 8 9 10 11 12 13 14 16 17 18 20 21 22 23 24 25 26"
   ]
  }
 ],
 "metadata": {
  "kernelspec": {
   "display_name": "Python 3 (ipykernel)",
   "language": "python",
   "name": "python3"
  },
  "language_info": {
   "codemirror_mode": {
    "name": "ipython",
    "version": 3
   },
   "file_extension": ".py",
   "mimetype": "text/x-python",
   "name": "python",
   "nbconvert_exporter": "python",
   "pygments_lexer": "ipython3",
   "version": "3.10.6"
  }
 },
 "nbformat": 4,
 "nbformat_minor": 5
}
