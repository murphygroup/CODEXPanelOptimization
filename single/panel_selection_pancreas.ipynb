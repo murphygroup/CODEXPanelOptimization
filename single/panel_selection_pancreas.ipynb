{
 "cells": [
  {
   "cell_type": "code",
   "execution_count": 1,
   "id": "fb418e2c",
   "metadata": {},
   "outputs": [],
   "source": [
    "import matplotlib.pyplot as plt\n",
    "import numpy as np\n",
    "import pandas as pd\n",
    "from train_selection_MAE import Edge, Node, Graph\n",
    "import seaborn as sns\n",
    "import os"
   ]
  },
  {
   "cell_type": "markdown",
   "id": "95c1bd50",
   "metadata": {},
   "source": [
    "### initialization"
   ]
  },
  {
   "cell_type": "code",
   "execution_count": 2,
   "id": "0abfa679",
   "metadata": {},
   "outputs": [],
   "source": [
    "dir = \"pancreas_output\"\n",
    "if not os.path.exists(dir):\n",
    "    os.makedirs(dir)"
   ]
  },
  {
   "cell_type": "code",
   "execution_count": 3,
   "id": "43c4ec52",
   "metadata": {},
   "outputs": [],
   "source": [
    "# uncomment the line below to run but there are existing files for demo\n",
    "# !python ../train_net/corr.py --csv_path '../csv/train_path_pc.csv' --num_biomarkers 24 --save_path 'pancreas_output/mae_mtx_pc'  # get initial edge weights\n",
    "scores = np.load(\"pancreas_output/mae_mtx_pc.npy\")"
   ]
  },
  {
   "cell_type": "code",
   "execution_count": 4,
   "id": "f194165e",
   "metadata": {},
   "outputs": [],
   "source": [
    "# \"\"\"make heatmap to visualize correlation matrix\"\"\"\n",
    "# plt.figure(figsize=(15, 15))\n",
    "# sns.heatmap(scores, cmap=\"RdBu_r\", center=0)\n",
    "# plt.show()"
   ]
  },
  {
   "cell_type": "code",
   "execution_count": 5,
   "id": "8f1f8f2a",
   "metadata": {},
   "outputs": [
    {
     "name": "stdout",
     "output_type": "stream",
     "text": [
      "add marker 18 into input\n",
      "input: [18]\n",
      "output:  [0, 1, 2, 3, 4, 5, 6, 7, 8, 9, 10, 11, 12, 13, 14, 15, 16, 17, 19, 20, 21, 22, 23]\n"
     ]
    }
   ],
   "source": [
    "num_biomarkers = scores.shape[0]\n",
    "\n",
    "nodes = []\n",
    "for i in range(num_biomarkers):\n",
    "    nodes.append(Node(i, num_biomarkers))\n",
    "\n",
    "edges = []\n",
    "for i in range(num_biomarkers):\n",
    "    for j in range(i+1,num_biomarkers):\n",
    "        edge = Edge(scores[i,j])\n",
    "        edge.nodes = (i,j)\n",
    "        edges.append(edge)\n",
    "        nodes[i].edges.append(edge)\n",
    "        nodes[j].edges.append(edge)\n",
    "\n",
    "g = Graph(nodes,edges, num_biomarkers)\n",
    "\n",
    "# chose the 1st input\n",
    "node_degrees = []\n",
    "for n in g.nodes:\n",
    "    degree = sum(e.value for e in n.edges)\n",
    "    minDegree = min(e.value for e in n.edges)\n",
    "    n.init_degree = minDegree\n",
    "    node_degrees.append(degree)\n",
    "x = np.argmin(node_degrees)\n",
    "# print(np.min(node_degrees))\n",
    "\n",
    "g.input_.append(x)\n",
    "idx = int(g.input_[-1])\n",
    "\n",
    "print(\"add marker\",idx, \"into input\")\n",
    "print(\"input:\", g.input_)\n",
    "\n",
    "for i in g.output:\n",
    "    if i == idx:\n",
    "        g.output.remove(i)\n",
    "print(\"output: \", g.output)\n",
    "\n",
    "out = g.output.copy()"
   ]
  },
  {
   "cell_type": "markdown",
   "id": "dfcab592",
   "metadata": {},
   "source": [
    "### Round1"
   ]
  },
  {
   "cell_type": "code",
   "execution_count": 6,
   "id": "73787259",
   "metadata": {},
   "outputs": [],
   "source": [
    "# train the network with currect input and output markers \n",
    "# !python ../train_net/train_model.py  --n_iter 4000  --interval_save 200 --iter_checkpoint 200 --buffer_size 45  --path_run_dir 'test_models_pc_01'  --path_dataset_csv \"../csv/train_path_pc.csv\"  --path_dataset_val_csv \"../csv/val_path_pc.csv\"  --input_index 18  --target_index 0 1 2 3 4 5 6 7 8 9 10 11 12 13 14 15 16 17 19 20 21 22 23   --in_dim 1 --out_dim 23\n",
    "# !python ../train_net/validation.py  --n_iter 4000 --path_run_dir 'test_models_pc_01'  --path_output_dir 'pancreas_output/val_vae_01.npy' --path_dataset_val_csv \"../csv/val_path_pc.csv\"   --input_index  18  --target_index 0 1 2 3 4 5 6 7 8 9 10 11 12 13 14 15 16 17 19 20 21 22 23  --in_dim 1 --out_dim 23"
   ]
  },
  {
   "cell_type": "code",
   "execution_count": 7,
   "id": "1afb80f0",
   "metadata": {},
   "outputs": [
    {
     "name": "stdout",
     "output_type": "stream",
     "text": [
      "add 0 into input\n",
      "input: [18, 0]\n",
      "output:  [1, 2, 3, 4, 5, 6, 7, 8, 9, 10, 11, 12, 13, 14, 15, 16, 17, 19, 20, 21, 22, 23]\n",
      "--out_drop_index: 0\n"
     ]
    }
   ],
   "source": [
    "val_loss_path = r'pancreas_output/val_vae_01.npy'\n",
    "idx = g.updateAndFindNext(idx, val_loss_path)\n",
    "out_drop = out.index(idx) # index of added input in the previous target list\n",
    "print(\"--out_drop_index:\", out_drop)\n",
    "out = g.output.copy()"
   ]
  },
  {
   "cell_type": "markdown",
   "id": "a17f96eb",
   "metadata": {},
   "source": [
    "### Round2"
   ]
  },
  {
   "cell_type": "code",
   "execution_count": 8,
   "id": "db49ed05",
   "metadata": {},
   "outputs": [],
   "source": [
    "# !python ../train_net/train_model.py  --n_iter 4000  --interval_save 200 --iter_checkpoint 200 --buffer_size 45  --path_run_dir 'test_models_pc_02' --path_pretrain_dir 'test_models_pc_01' --path_dataset_csv \"../csv/train_path_pc.csv\"  --path_dataset_val_csv \"../csv/val_path_pc.csv\" --out_drop_index 0 --input_index 18 0  --target_index 1 2 3 4 5 6 7 8 9 10 11 12 13 14 15 16 17 19 20 21 22 23   --in_dim 2 --out_dim 22\n",
    "# !python ../train_net/validation.py  --n_iter 4000 --path_run_dir 'test_models_pc_02'  --path_output_dir 'pancreas_output/val_vae_02.npy' --path_dataset_val_csv \"../csv/val_path_pc.csv\"   --input_index  18 0  --target_index 1 2 3 4 5 6 7 8 9 10 11 12 13 14 15 16 17 19 20 21 22 23  --in_dim 2 --out_dim 22"
   ]
  },
  {
   "cell_type": "code",
   "execution_count": 9,
   "id": "d33aa1c1",
   "metadata": {
    "scrolled": false
   },
   "outputs": [
    {
     "name": "stdout",
     "output_type": "stream",
     "text": [
      "add 23 into input\n",
      "input: [18, 0, 23]\n",
      "output:  [1, 2, 3, 4, 5, 6, 7, 8, 9, 10, 11, 12, 13, 14, 15, 16, 17, 19, 20, 21, 22]\n",
      "--out_drop_index: 21\n"
     ]
    }
   ],
   "source": [
    "val_loss_path = r'pancreas_output/val_vae_02.npy'\n",
    "idx = g.updateAndFindNext(idx, val_loss_path)\n",
    "out_drop = out.index(idx) # index of added input in the previous target list\n",
    "print(\"--out_drop_index:\", out_drop)\n",
    "out = g.output.copy()"
   ]
  },
  {
   "cell_type": "markdown",
   "id": "4534ce54",
   "metadata": {},
   "source": [
    "### Round3"
   ]
  },
  {
   "cell_type": "code",
   "execution_count": 10,
   "id": "99bc6d1a",
   "metadata": {},
   "outputs": [],
   "source": [
    "# !python ../train_net/train_model.py  --n_iter 4000  --interval_save 200 --iter_checkpoint 200 --buffer_size 45  --path_run_dir 'test_models_pc_03' --path_pretrain_dir 'test_models_pc_02' --path_dataset_csv \"../csv/train_path_pc.csv\"  --path_dataset_val_csv \"../csv/val_path_pc.csv\" --out_drop_index 21 --input_index 18 0 23 --target_index 1 2 3 4 5 6 7 8 9 10 11 12 13 14 15 16 17 19 20 21 22    --in_dim 3 --out_dim 21\n",
    "# !python ../train_net/validation.py  --n_iter 4000 --path_run_dir 'test_models_pc_03'  --path_output_dir 'pancreas_output/val_vae_03.npy' --path_dataset_val_csv \"../csv/val_path_pc.csv\"   --input_index  18 0 23 --target_index 1 2 3 4 5 6 7 8 9 10 11 12 13 14 15 16 17 19 20 21 22  --in_dim 3 --out_dim 21"
   ]
  },
  {
   "cell_type": "code",
   "execution_count": 11,
   "id": "9b9f7623",
   "metadata": {},
   "outputs": [
    {
     "name": "stdout",
     "output_type": "stream",
     "text": [
      "add 7 into input\n",
      "input: [18, 0, 23, 7]\n",
      "output:  [1, 2, 3, 4, 5, 6, 8, 9, 10, 11, 12, 13, 14, 15, 16, 17, 19, 20, 21, 22]\n",
      "--out_drop_index: 6\n"
     ]
    }
   ],
   "source": [
    "val_loss_path = r'pancreas_output/val_vae_03.npy'\n",
    "idx = g.updateAndFindNext(idx, val_loss_path)\n",
    "out_drop = out.index(idx) # index of added input in the previous target list\n",
    "print(\"--out_drop_index:\", out_drop)\n",
    "out = g.output.copy()"
   ]
  },
  {
   "cell_type": "markdown",
   "id": "3a3b7145",
   "metadata": {},
   "source": [
    "### Round4"
   ]
  },
  {
   "cell_type": "code",
   "execution_count": 12,
   "id": "6376b528",
   "metadata": {},
   "outputs": [],
   "source": [
    "# !python ../train_net/train_model.py  --n_iter 4000  --interval_save 200 --iter_checkpoint 200 --buffer_size 45  --path_run_dir 'test_models_pc_04' --path_pretrain_dir 'test_models_pc_03' --path_dataset_csv \"../csv/train_path_pc.csv\"  --path_dataset_val_csv \"../csv/val_path_pc.csv\" --out_drop_index 6 --input_index 18 0 23 7 --target_index 1 2 3 4 5 6 8 9 10 11 12 13 14 15 16 17 19 20 21 22    --in_dim 4 --out_dim 20\n",
    "# !python ../train_net/validation.py  --n_iter 4000 --path_run_dir 'test_models_pc_04'  --path_output_dir 'pancreas_output/val_vae_04.npy' --path_dataset_val_csv \"../csv/val_path_pc.csv\"   --input_index  18 0 23 7 --target_index 1 2 3 4 5 6 8 9 10 11 12 13 14 15 16 17 19 20 21 22  --in_dim 4 --out_dim 20"
   ]
  },
  {
   "cell_type": "code",
   "execution_count": 13,
   "id": "5877fe37",
   "metadata": {},
   "outputs": [
    {
     "name": "stdout",
     "output_type": "stream",
     "text": [
      "add 1 into input\n",
      "input: [18, 0, 23, 7, 1]\n",
      "output:  [2, 3, 4, 5, 6, 8, 9, 10, 11, 12, 13, 14, 15, 16, 17, 19, 20, 21, 22]\n",
      "--out_drop_index: 0\n"
     ]
    }
   ],
   "source": [
    "val_loss_path = r'pancreas_output/val_vae_04.npy'\n",
    "idx = g.updateAndFindNext(idx, val_loss_path)\n",
    "out_drop = out.index(idx) # index of added input in the previous target list\n",
    "print(\"--out_drop_index:\", out_drop)\n",
    "out = g.output.copy()"
   ]
  },
  {
   "cell_type": "markdown",
   "id": "e365163a",
   "metadata": {},
   "source": [
    "### Round5"
   ]
  },
  {
   "cell_type": "code",
   "execution_count": 14,
   "id": "768f3597",
   "metadata": {},
   "outputs": [],
   "source": [
    "# !python ../train_net/train_model.py  --n_iter 4000  --interval_save 200 --iter_checkpoint 200 --buffer_size 45  --path_run_dir 'test_models_pc_05' --path_pretrain_dir 'test_models_pc_04' --path_dataset_csv \"../csv/train_path_pc.csv\"  --path_dataset_val_csv \"../csv/val_path_pc.csv\" --out_drop_index 0 --input_index 18 0 23 7 1 --target_index 2 3 4 5 6 8 9 10 11 12 13 14 15 16 17 19 20 21 22    --in_dim 5 --out_dim 19\n",
    "# !python ../train_net/validation.py  --n_iter 4000 --path_run_dir 'test_models_pc_05'  --path_output_dir 'pancreas_output/val_vae_05.npy' --path_dataset_val_csv \"../csv/val_path_pc.csv\"   --input_index  18 0 23 7 1 --target_index 2 3 4 5 6 8 9 10 11 12 13 14 15 16 17 19 20 21 22  --in_dim 5 --out_dim 19"
   ]
  },
  {
   "cell_type": "code",
   "execution_count": 15,
   "id": "97a2c656",
   "metadata": {},
   "outputs": [
    {
     "name": "stdout",
     "output_type": "stream",
     "text": [
      "add 20 into input\n",
      "input: [18, 0, 23, 7, 1, 20]\n",
      "output:  [2, 3, 4, 5, 6, 8, 9, 10, 11, 12, 13, 14, 15, 16, 17, 19, 21, 22]\n",
      "--out_drop_index: 16\n"
     ]
    }
   ],
   "source": [
    "val_loss_path = r'pancreas_output/val_vae_05.npy'\n",
    "idx = g.updateAndFindNext(idx, val_loss_path)\n",
    "out_drop = out.index(idx) \n",
    "print(\"--out_drop_index:\", out_drop)\n",
    "out = g.output.copy()"
   ]
  },
  {
   "cell_type": "markdown",
   "id": "c6ec4a0c",
   "metadata": {},
   "source": [
    "### Round6"
   ]
  },
  {
   "cell_type": "code",
   "execution_count": 16,
   "id": "15154e66",
   "metadata": {},
   "outputs": [],
   "source": [
    "# !python ../train_net/train_model.py  --n_iter 4000  --interval_save 200 --iter_checkpoint 200 --buffer_size 45  --path_run_dir 'test_models_pc_06' --path_pretrain_dir 'test_models_pc_05' --path_dataset_csv \"../csv/train_path_pc.csv\"  --path_dataset_val_csv \"../csv/val_path_pc.csv\" --out_drop_index 16 --input_index 18 0 23 7 1 20 --target_index 2 3 4 5 6 8 9 10 11 12 13 14 15 16 17 19 21 22    --in_dim 6 --out_dim 18\n",
    "# !python ../train_net/validation.py  --n_iter 4000 --path_run_dir 'test_models_pc_06'  --path_output_dir 'pancreas_output/val_vae_06.npy' --path_dataset_val_csv \"../csv/val_path_pc.csv\"   --input_index  18 0 23 7 1 20 --target_index 2 3 4 5 6 8 9 10 11 12 13 14 15 16 17 19 21 22  --in_dim 6 --out_dim 18"
   ]
  },
  {
   "cell_type": "code",
   "execution_count": 17,
   "id": "217c07b9",
   "metadata": {},
   "outputs": [
    {
     "name": "stdout",
     "output_type": "stream",
     "text": [
      "add 13 into input\n",
      "input: [18, 0, 23, 7, 1, 20, 13]\n",
      "output:  [2, 3, 4, 5, 6, 8, 9, 10, 11, 12, 14, 15, 16, 17, 19, 21, 22]\n",
      "--out_drop_index: 10\n"
     ]
    }
   ],
   "source": [
    "val_loss_path = r'pancreas_output/val_vae_06.npy'\n",
    "idx = g.updateAndFindNext(idx, val_loss_path)\n",
    "out_drop = out.index(idx) # index of added input in the previous target list\n",
    "print(\"--out_drop_index:\", out_drop)\n",
    "out = g.output.copy()"
   ]
  },
  {
   "cell_type": "markdown",
   "id": "4cd7cf17",
   "metadata": {},
   "source": [
    "### Round7"
   ]
  },
  {
   "cell_type": "code",
   "execution_count": 18,
   "id": "fc91f0c0",
   "metadata": {},
   "outputs": [],
   "source": [
    "# !python ../train_net/train_model.py  --n_iter 4000  --interval_save 200 --iter_checkpoint 200 --buffer_size 45  --path_run_dir 'test_models_pc_07' --path_pretrain_dir 'test_models_pc_06' --path_dataset_csv \"../csv/train_path_pc.csv\"  --path_dataset_val_csv \"../csv/val_path_pc.csv\" --out_drop_index 10 --input_index 18 0 23 7 1 20 13 --target_index 2 3 4 5 6 8 9 10 11 12 14 15 16 17 19 21 22    --in_dim 7 --out_dim 17\n",
    "# !python ../train_net/validation.py  --n_iter 4000 --path_run_dir 'test_models_pc_07'  --path_output_dir 'pancreas_output/val_vae_07.npy' --path_dataset_val_csv \"../csv/val_path_pc.csv\"   --input_index  18 0 23 7 1 20 13 --target_index 2 3 4 5 6 8 9 10 11 12 14 15 16 17 19 21 22  --in_dim 7 --out_dim 17"
   ]
  },
  {
   "cell_type": "code",
   "execution_count": 19,
   "id": "4c4f65d6",
   "metadata": {},
   "outputs": [
    {
     "name": "stdout",
     "output_type": "stream",
     "text": [
      "add 14 into input\n",
      "input: [18, 0, 23, 7, 1, 20, 13, 14]\n",
      "output:  [2, 3, 4, 5, 6, 8, 9, 10, 11, 12, 15, 16, 17, 19, 21, 22]\n",
      "--out_drop_index: 10\n"
     ]
    }
   ],
   "source": [
    "val_loss_path = r'pancreas_output/val_vae_07.npy'\n",
    "idx = g.updateAndFindNext(idx, val_loss_path)\n",
    "out_drop = out.index(idx) # index of added input in the previous target list\n",
    "print(\"--out_drop_index:\", out_drop)\n",
    "out = g.output.copy()"
   ]
  },
  {
   "cell_type": "markdown",
   "id": "8e87fc6d",
   "metadata": {},
   "source": [
    "### Round8"
   ]
  },
  {
   "cell_type": "code",
   "execution_count": 20,
   "id": "063d9e88",
   "metadata": {},
   "outputs": [],
   "source": [
    "# !python ../train_net/train_model.py  --n_iter 4000  --interval_save 200 --iter_checkpoint 200 --buffer_size 45  --path_run_dir 'test_models_pc_08' --path_pretrain_dir 'test_models_pc_07' --path_dataset_csv \"../csv/train_path_pc.csv\"  --path_dataset_val_csv \"../csv/val_path_pc.csv\" --out_drop_index 10 --input_index 18 0 23 7 1 20 13 14 --target_index 2 3 4 5 6 8 9 10 11 12 15 16 17 19 21 22    --in_dim 8 --out_dim 16\n",
    "# !python ../train_net/validation.py  --n_iter 4000 --path_run_dir 'test_models_pc_08'  --path_output_dir 'pancreas_output/val_vae_08.npy' --path_dataset_val_csv \"../csv/val_path_pc.csv\"   --input_index  18 0 23 7 1 20 13 14 --target_index 2 3 4 5 6 8 9 10 11 12 15 16 17 19 21 22  --in_dim 8 --out_dim 16"
   ]
  },
  {
   "cell_type": "code",
   "execution_count": 21,
   "id": "ea84d6bb",
   "metadata": {},
   "outputs": [
    {
     "name": "stdout",
     "output_type": "stream",
     "text": [
      "add 16 into input\n",
      "input: [18, 0, 23, 7, 1, 20, 13, 14, 16]\n",
      "output:  [2, 3, 4, 5, 6, 8, 9, 10, 11, 12, 15, 17, 19, 21, 22]\n",
      "--out_drop_index: 11\n"
     ]
    }
   ],
   "source": [
    "val_loss_path = r'pancreas_output/val_vae_08.npy'\n",
    "idx = g.updateAndFindNext(idx, val_loss_path)\n",
    "out_drop = out.index(idx) # index of added input in the previous target list\n",
    "print(\"--out_drop_index:\", out_drop)\n",
    "out = g.output.copy()"
   ]
  },
  {
   "cell_type": "markdown",
   "id": "7c1a0e13",
   "metadata": {},
   "source": [
    "### Round9"
   ]
  },
  {
   "cell_type": "code",
   "execution_count": 22,
   "id": "e6327d0d",
   "metadata": {},
   "outputs": [],
   "source": [
    "# !python ../train_net/train_model.py  --n_iter 4000  --interval_save 200 --iter_checkpoint 200 --buffer_size 45  --path_run_dir 'test_models_pc_09' --path_pretrain_dir 'test_models_pc_08' --path_dataset_csv \"../csv/train_path_pc.csv\"  --path_dataset_val_csv \"../csv/val_path_pc.csv\" --out_drop_index 11 --input_index 18 0 23 7 1 20 13 14 16 --target_index 2 3 4 5 6 8 9 10 11 12 15 17 19 21 22    --in_dim 9 --out_dim 15\n",
    "# !python ../train_net/validation.py  --n_iter 4000 --path_run_dir 'test_models_pc_09'  --path_output_dir 'pancreas_output/val_vae_09.npy' --path_dataset_val_csv \"../csv/val_path_pc.csv\"   --input_index  18 0 23 7 1 20 13 14 16 --target_index 2 3 4 5 6 8 9 10 11 12 15 17 19 21 22  --in_dim 9 --out_dim 15"
   ]
  },
  {
   "cell_type": "code",
   "execution_count": 23,
   "id": "207de69f",
   "metadata": {},
   "outputs": [
    {
     "name": "stdout",
     "output_type": "stream",
     "text": [
      "add 8 into input\n",
      "input: [18, 0, 23, 7, 1, 20, 13, 14, 16, 8]\n",
      "output:  [2, 3, 4, 5, 6, 9, 10, 11, 12, 15, 17, 19, 21, 22]\n",
      "--out_drop_index: 5\n"
     ]
    }
   ],
   "source": [
    "val_loss_path = r'pancreas_output/val_vae_09.npy'\n",
    "idx = g.updateAndFindNext(idx, val_loss_path)\n",
    "out_drop = out.index(idx) # index of added input in the previous target list\n",
    "print(\"--out_drop_index:\", out_drop)\n",
    "out = g.output.copy()"
   ]
  },
  {
   "cell_type": "markdown",
   "id": "e387f067",
   "metadata": {},
   "source": [
    "### Round10"
   ]
  },
  {
   "cell_type": "code",
   "execution_count": 24,
   "id": "b8681f6f",
   "metadata": {},
   "outputs": [],
   "source": [
    "# !python ../train_net/train_model.py  --n_iter 4000  --interval_save 200 --iter_checkpoint 200 --buffer_size 45  --path_run_dir 'test_models_pc_10' --path_pretrain_dir 'test_models_pc_09' --path_dataset_csv \"../csv/train_path_pc.csv\"  --path_dataset_val_csv \"../csv/val_path_pc.csv\" --out_drop_index 5 --input_index 18 0 23 7 1 20 13 14 16 8 --target_index 2 3 4 5 6 9 10 11 12 15 17 19 21 22    --in_dim 10 --out_dim 14\n",
    "# !python ../train_net/validation.py  --n_iter 4000 --path_run_dir 'test_models_pc_10'  --path_output_dir 'pancreas_output/val_vae_10.npy' --path_dataset_val_csv \"../csv/val_path_pc.csv\"   --input_index  18 0 23 7 1 20 13 14 16 8 --target_index 2 3 4 5 6 9 10 11 12 15 17 19 21 22  --in_dim 10 --out_dim 14"
   ]
  },
  {
   "cell_type": "code",
   "execution_count": 25,
   "id": "e7407720",
   "metadata": {},
   "outputs": [
    {
     "name": "stdout",
     "output_type": "stream",
     "text": [
      "add 9 into input\n",
      "input: [18, 0, 23, 7, 1, 20, 13, 14, 16, 8, 9]\n",
      "output:  [2, 3, 4, 5, 6, 10, 11, 12, 15, 17, 19, 21, 22]\n",
      "--out_drop_index: 5\n"
     ]
    }
   ],
   "source": [
    "val_loss_path = r'pancreas_output/val_vae_10.npy'\n",
    "idx = g.updateAndFindNext(idx, val_loss_path)\n",
    "out_drop = out.index(idx) # index of added input in the previous target list\n",
    "print(\"--out_drop_index:\", out_drop)\n",
    "out = g.output.copy()"
   ]
  },
  {
   "cell_type": "code",
   "execution_count": 26,
   "id": "8ee466e3",
   "metadata": {},
   "outputs": [
    {
     "name": "stdout",
     "output_type": "stream",
     "text": [
      "add 5 into input\n",
      "input: [18, 0, 23, 7, 1, 20, 13, 14, 16, 8, 9, 5]\n",
      "output:  [2, 3, 4, 6, 10, 11, 12, 15, 17, 19, 21, 22]\n",
      "--out_drop_index: 3\n"
     ]
    }
   ],
   "source": [
    "val_loss_path = r'pancreas_output/val_vae_11.npy'\n",
    "idx = g.updateAndFindNext(idx, val_loss_path)\n",
    "out_drop = out.index(idx) # index of added input in the previous target list\n",
    "print(\"--out_drop_index:\", out_drop)\n",
    "out = g.output.copy()"
   ]
  },
  {
   "cell_type": "code",
   "execution_count": 27,
   "id": "d712ed40",
   "metadata": {},
   "outputs": [
    {
     "name": "stdout",
     "output_type": "stream",
     "text": [
      "add 15 into input\n",
      "input: [18, 0, 23, 7, 1, 20, 13, 14, 16, 8, 9, 5, 15]\n",
      "output:  [2, 3, 4, 6, 10, 11, 12, 17, 19, 21, 22]\n",
      "--out_drop_index: 7\n"
     ]
    }
   ],
   "source": [
    "val_loss_path = r'pancreas_output/val_vae_12.npy'\n",
    "idx = g.updateAndFindNext(idx, val_loss_path)\n",
    "out_drop = out.index(idx) # index of added input in the previous target list\n",
    "print(\"--out_drop_index:\", out_drop)\n",
    "out = g.output.copy()"
   ]
  },
  {
   "cell_type": "markdown",
   "id": "283318ae",
   "metadata": {},
   "source": [
    "average node cost"
   ]
  },
  {
   "cell_type": "code",
   "execution_count": 28,
   "id": "4f74f61f",
   "metadata": {},
   "outputs": [
    {
     "data": {
      "text/plain": [
       "array([23, 22, 21, 20, 19, 18, 17, 16, 15, 14, 13, 12])"
      ]
     },
     "execution_count": 28,
     "metadata": {},
     "output_type": "execute_result"
    }
   ],
   "source": [
    "num_biomarkers_list = scores.shape[0] - np.arange(1, len(g.sum_nv_list)+1)\n",
    "num_biomarkers_list"
   ]
  },
  {
   "cell_type": "code",
   "execution_count": 29,
   "id": "e43a13b8",
   "metadata": {},
   "outputs": [
    {
     "data": {
      "text/plain": [
       "array([0.53498771, 0.52169737, 0.49931699, 0.47834029, 0.46727295,\n",
       "       0.45645969, 0.44709898, 0.4368996 , 0.42743488, 0.42026073,\n",
       "       0.409178  , 0.4013851 ])"
      ]
     },
     "execution_count": 29,
     "metadata": {},
     "output_type": "execute_result"
    }
   ],
   "source": [
    "avg_node_cost = g.sum_nv_list / num_biomarkers_list\n",
    "avg_node_cost"
   ]
  },
  {
   "cell_type": "markdown",
   "id": "6cc2a1ac",
   "metadata": {},
   "source": [
    "visualize final edge weights"
   ]
  },
  {
   "cell_type": "code",
   "execution_count": 30,
   "id": "87aee207",
   "metadata": {},
   "outputs": [],
   "source": [
    "with open('marker_list/PC24.txt') as f:\n",
    "    pc_markers = f.read().splitlines()"
   ]
  },
  {
   "cell_type": "code",
   "execution_count": 31,
   "id": "870f6888",
   "metadata": {},
   "outputs": [
    {
     "data": {
      "image/png": "[encoded data removed]",
      "text/plain": [
       "<Figure size 1000x900 with 2 Axes>"
      ]
     },
     "metadata": {},
     "output_type": "display_data"
    }
   ],
   "source": [
    "n = len(g.nodes)\n",
    "edge_mtx = np.zeros((n, n))\n",
    "for i in range(n):\n",
    "    edges = g.nodes[i].edges\n",
    "    for k in range(i, len(edges)):\n",
    "        j = k+1\n",
    "        edge_mtx[i,j] = edges[k].value\n",
    "for j in range(n):\n",
    "    edge_mtx[j, j] = 0\n",
    "    for i in range(j+1, n):\n",
    "        edge_mtx[i, j] = edge_mtx[j, i]\n",
    "\n",
    "fig, ax = plt.subplots(figsize=(10, 9))\n",
    "df = pd.DataFrame(edge_mtx)\n",
    "p = sns.heatmap(df, xticklabels=True, yticklabels=True)\n",
    "p.set_xticklabels(pc_markers, rotation=90)\n",
    "p.set_yticklabels(pc_markers, rotation=0)\n",
    "plt.show()\n",
    "fig.savefig('pancreas_output/heatmap_pc.png', dpi=300)"
   ]
  },
  {
   "cell_type": "markdown",
   "id": "08df878e",
   "metadata": {},
   "source": [
    "### test"
   ]
  },
  {
   "cell_type": "code",
   "execution_count": 26,
   "id": "e24a55e2",
   "metadata": {},
   "outputs": [],
   "source": [
    "# !python ../train_net/predict_full_view.py --save_image  --path_run_dir 'test_models_pc_10'  --path_dataset_csv \"../csv/test_path_pc.csv\" --input_index   18 0 23 7 1 20 13 14 16 8 --target_index  2 3 4 5 6 9 10 11 12 15 17 19 21 22"
   ]
  },
  {
   "cell_type": "code",
   "execution_count": null,
   "id": "6b218d27",
   "metadata": {},
   "outputs": [],
   "source": []
  }
 ],
 "metadata": {
  "kernelspec": {
   "display_name": "Python 3 (ipykernel)",
   "language": "python",
   "name": "python3"
  },
  "language_info": {
   "codemirror_mode": {
    "name": "ipython",
    "version": 3
   },
   "file_extension": ".py",
   "mimetype": "text/x-python",
   "name": "python",
   "nbconvert_exporter": "python",
   "pygments_lexer": "ipython3",
   "version": "3.10.6"
  }
 },
 "nbformat": 4,
 "nbformat_minor": 5
}
