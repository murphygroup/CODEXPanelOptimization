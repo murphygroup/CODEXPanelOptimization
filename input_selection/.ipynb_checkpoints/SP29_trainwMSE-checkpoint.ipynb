{
 "cells": [
  {
   "cell_type": "code",
   "execution_count": null,
   "id": "fb418e2c",
   "metadata": {},
   "outputs": [],
   "source": [
    "import matplotlib.pyplot as plt\n",
    "import networkx as nx\n",
    "import numpy as np\n",
    "import pandas as pd\n",
    "from train_selection_MAE import Edge, Node, Graph\n",
    "import seaborn as sns\n",
    "import os\n",
    "import imageio"
   ]
  },
  {
   "cell_type": "code",
   "execution_count": null,
   "id": "8f1f8f2a",
   "metadata": {},
   "outputs": [],
   "source": [
    "scores = np.load(\"pearson_mtx_SP29_MAECorrNew.npy\")\n",
    "\n",
    "num_biomarkers = 29\n",
    "\n",
    "stop_threshold = 0.85\n",
    "\n",
    "nodes = []\n",
    "for i in range(num_biomarkers):\n",
    "    nodes.append(Node(i, num_biomarkers))\n",
    "\n",
    "edges = []\n",
    "for i in range(num_biomarkers):\n",
    "    for j in range(i+1,num_biomarkers):\n",
    "        edge = Edge(scores[i,j])\n",
    "        edge.nodes = (i,j)\n",
    "        #edge.value = scores[i,j]\n",
    "        edges.append(edge)\n",
    "        nodes[i].edges.append(edge)\n",
    "        nodes[j].edges.append(edge)\n",
    "\n",
    "g = Graph(nodes,edges, num_biomarkers)\n",
    "\n",
    "# chose the 1st input\n",
    "node_degrees = []\n",
    "for n in g.nodes:\n",
    "    degree = sum(e.value for e in n.edges)\n",
    "    minDegree = min(e.value for e in n.edges)\n",
    "    n.init_degree = minDegree\n",
    "    node_degrees.append(degree)\n",
    "x = np.argmin(node_degrees)\n",
    "# print(np.min(node_degrees))\n",
    "\n",
    "g.input_.append(x)\n",
    "idx = int(g.input_[-1])\n",
    "\n",
    "print(\"add marker\",idx, \"into input\")\n",
    "print(\"input:\", g.input_)\n",
    "\n",
    "for i in g.output:\n",
    "    if i == idx:\n",
    "        g.output.remove(i)\n",
    "print(\"output: \", g.output)\n",
    "\n",
    "out = g.output.copy()"
   ]
  },
  {
   "cell_type": "code",
   "execution_count": null,
   "id": "cf445dbe",
   "metadata": {},
   "outputs": [],
   "source": [
    "for j in range(29):\n",
    "    scores[j, j] = 0"
   ]
  },
  {
   "cell_type": "code",
   "execution_count": null,
   "id": "1afb80f0",
   "metadata": {},
   "outputs": [],
   "source": [
    "val_loss_path = r'val_loss_1201_SP29_003000.npy'\n",
    "idx = g.updateAndFindNext(idx, val_loss_path)\n",
    "out_drop = out.index(idx) # index of added input in the previous target list\n",
    "print(\"--out_drop_index:\", out_drop)\n",
    "out = g.output.copy()"
   ]
  },
  {
   "cell_type": "code",
   "execution_count": null,
   "id": "fe3cafa3",
   "metadata": {},
   "outputs": [],
   "source": [
    "# n = len(g.nodes)\n",
    "# edge_mtx = np.zeros((n, n))\n",
    "# for i in range(n):\n",
    "#     edges = g.nodes[i].edges\n",
    "#     for k in range(i, len(edges)):\n",
    "#         j = k+1\n",
    "#         edge_mtx[i,j] = edges[k].value\n",
    "# for j in range(n):\n",
    "#     edge_mtx[j, j] = 0\n",
    "#     for i in range(j+1, n):\n",
    "#         edge_mtx[i, j] = edge_mtx[j, i]\n",
    "\n",
    "# fig, ax = plt.subplots(figsize=(10, 8))\n",
    "# df = pd.DataFrame(edge_mtx)\n",
    "# p = sns.heatmap(df, xticklabels=True, yticklabels=True, vmin=0, vmax = 1.3)\n",
    "# ax.set_title('Round 1')\n",
    "# plt.savefig('SP_round1.png')\n",
    "# plt.show()"
   ]
  },
  {
   "cell_type": "code",
   "execution_count": null,
   "id": "d33aa1c1",
   "metadata": {
    "scrolled": false
   },
   "outputs": [],
   "source": [
    "val_loss_path = r'val_loss_1202_SP29_003600.npy'\n",
    "idx = g.updateAndFindNext(idx, val_loss_path)\n",
    "out_drop = out.index(idx) # index of added input in the previous target list\n",
    "print(\"--out_drop_index:\", out_drop)\n",
    "out = g.output.copy()"
   ]
  },
  {
   "cell_type": "code",
   "execution_count": null,
   "id": "289d0884",
   "metadata": {},
   "outputs": [],
   "source": [
    "# n = len(g.nodes)\n",
    "# edge_mtx = np.zeros((n, n))\n",
    "# for i in range(n):\n",
    "#     edges = g.nodes[i].edges\n",
    "#     for k in range(i, len(edges)):\n",
    "#         j = k+1\n",
    "#         edge_mtx[i,j] = edges[k].value\n",
    "# for j in range(n):\n",
    "#     edge_mtx[j, j] = 0\n",
    "#     for i in range(j+1, n):\n",
    "#         edge_mtx[i, j] = edge_mtx[j, i]\n",
    "\n",
    "# fig, ax = plt.subplots(figsize=(10, 8))\n",
    "# df = pd.DataFrame(edge_mtx)\n",
    "# p = sns.heatmap(df, xticklabels=True, yticklabels=True, vmin=0, vmax = 1.3)\n",
    "# ax.set_title('Round 2')\n",
    "# plt.savefig('SP_round2.png')\n",
    "# plt.show()"
   ]
  },
  {
   "cell_type": "code",
   "execution_count": null,
   "id": "9b9f7623",
   "metadata": {},
   "outputs": [],
   "source": [
    "val_loss_path = r'val_loss_1202_2_SP29_004400.npy'\n",
    "idx = g.updateAndFindNext(idx, val_loss_path)\n",
    "out_drop = out.index(idx) # index of added input in the previous target list\n",
    "print(\"--out_drop_index:\", out_drop)\n",
    "out = g.output.copy()"
   ]
  },
  {
   "cell_type": "code",
   "execution_count": null,
   "id": "5877fe37",
   "metadata": {},
   "outputs": [],
   "source": [
    "val_loss_path = r'val_loss_1203_SP29_004400.npy'\n",
    "idx = g.updateAndFindNext(idx, val_loss_path)\n",
    "out_drop = out.index(idx) # index of added input in the previous target list\n",
    "print(\"--out_drop_index:\", out_drop)\n",
    "out = g.output.copy()"
   ]
  },
  {
   "cell_type": "code",
   "execution_count": null,
   "id": "97a2c656",
   "metadata": {},
   "outputs": [],
   "source": [
    "val_loss_path = r'val_loss_1203_2_SP29_000600.npy'\n",
    "idx = g.updateAndFindNext(idx, val_loss_path)\n",
    "out_drop = out.index(idx) # index of added input in the previous target list\n",
    "print(\"--out_drop_index:\", out_drop)\n",
    "out = g.output.copy()"
   ]
  },
  {
   "cell_type": "code",
   "execution_count": null,
   "id": "378f4a79",
   "metadata": {},
   "outputs": [],
   "source": [
    "# n = len(g.nodes)\n",
    "# edge_mtx = np.zeros((n, n))\n",
    "# for i in range(n):\n",
    "#     edges = g.nodes[i].edges\n",
    "#     for k in range(i, len(edges)):\n",
    "#         j = k+1\n",
    "#         edge_mtx[i,j] = edges[k].value\n",
    "# for j in range(n):\n",
    "#     edge_mtx[j, j] = 0\n",
    "#     for i in range(j+1, n):\n",
    "#         edge_mtx[i, j] = edge_mtx[j, i]\n",
    "\n",
    "# fig, ax = plt.subplots(figsize=(10, 8))\n",
    "# df = pd.DataFrame(edge_mtx)\n",
    "# p = sns.heatmap(df, xticklabels=True, yticklabels=True, vmin=0, vmax = 1.3)\n",
    "# ax.set_title('Round 5')\n",
    "# plt.savefig('SP_round5.png')\n",
    "# plt.show()"
   ]
  },
  {
   "cell_type": "code",
   "execution_count": null,
   "id": "217c07b9",
   "metadata": {},
   "outputs": [],
   "source": [
    "val_loss_path = r'val_loss_1204_SP29_000600.npy'\n",
    "idx = g.updateAndFindNext(idx, val_loss_path)\n",
    "out_drop = out.index(idx) # index of added input in the previous target list\n",
    "print(\"--out_drop_index:\", out_drop)\n",
    "out = g.output.copy()"
   ]
  },
  {
   "cell_type": "code",
   "execution_count": null,
   "id": "4c4f65d6",
   "metadata": {},
   "outputs": [],
   "source": [
    "val_loss_path = r'val_loss_1204_2_SP29_002600.npy'\n",
    "idx = g.updateAndFindNext(idx, val_loss_path)\n",
    "out_drop = out.index(idx) # index of added input in the previous target list\n",
    "print(\"--out_drop_index:\", out_drop)\n",
    "out = g.output.copy()\n",
    "# pcc = 0.948692729"
   ]
  },
  {
   "cell_type": "markdown",
   "id": "926958e9",
   "metadata": {},
   "source": [
    "------------ stop selection ---------------"
   ]
  },
  {
   "cell_type": "code",
   "execution_count": null,
   "id": "cab606d1",
   "metadata": {},
   "outputs": [],
   "source": []
  }
 ],
 "metadata": {
  "kernelspec": {
   "display_name": "Python 3 (ipykernel)",
   "language": "python",
   "name": "python3"
  },
  "language_info": {
   "codemirror_mode": {
    "name": "ipython",
    "version": 3
   },
   "file_extension": ".py",
   "mimetype": "text/x-python",
   "name": "python",
   "nbconvert_exporter": "python",
   "pygments_lexer": "ipython3",
   "version": "3.10.6"
  }
 },
 "nbformat": 4,
 "nbformat_minor": 5
}
