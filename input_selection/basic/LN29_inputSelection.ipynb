{
 "cells": [
  {
   "cell_type": "code",
   "execution_count": 1,
   "id": "52b28527",
   "metadata": {},
   "outputs": [],
   "source": [
    "import matplotlib.pyplot as plt\n",
    "import networkx as nx\n",
    "import numpy as np\n",
    "import pandas as pd\n",
    "from train_selection_MAE import Edge, Node, Graph\n",
    "import seaborn as sns\n",
    "import os\n",
    "import imageio"
   ]
  },
  {
   "cell_type": "code",
   "execution_count": 2,
   "id": "7a10a03b",
   "metadata": {},
   "outputs": [],
   "source": [
    "scores = np.load(\"pearson_mtx_LN29_MAECorrNew.npy\")\n",
    "for j in range(29):\n",
    "    scores[j, j] = 0\n",
    "\n",
    "num_biomarkers = 29\n",
    "\n",
    "nodes = []\n",
    "for i in range(num_biomarkers):\n",
    "    nodes.append(Node(i, num_biomarkers))\n",
    "\n",
    "edges = []\n",
    "for i in range(num_biomarkers):\n",
    "    for j in range(i+1,num_biomarkers):\n",
    "        edge = Edge(scores[i,j])\n",
    "        edge.nodes = (i,j)\n",
    "        edges.append(edge)\n",
    "        nodes[i].edges.append(edge)\n",
    "        nodes[j].edges.append(edge)\n",
    "\n",
    "g = Graph(nodes,edges, num_biomarkers)"
   ]
  },
  {
   "cell_type": "code",
   "execution_count": 4,
   "id": "859a46f3",
   "metadata": {},
   "outputs": [
    {
     "name": "stdout",
     "output_type": "stream",
     "text": [
      "add marker 21 into input\n",
      "input: [21]\n",
      "output:  [0, 1, 2, 3, 4, 5, 6, 7, 8, 9, 10, 11, 12, 13, 14, 15, 16, 17, 18, 19, 20, 22, 23, 24, 25, 26, 27, 28]\n"
     ]
    }
   ],
   "source": [
    "# chose the 1st input\n",
    "node_degrees = []\n",
    "for n in g.nodes:\n",
    "    degree = sum(e.value for e in n.edges)\n",
    "    minDegree = min(e.value for e in n.edges)\n",
    "    n.init_degree = minDegree\n",
    "    node_degrees.append(degree)\n",
    "x = np.argmin(node_degrees)\n",
    "\n",
    "g.input_.append(x)\n",
    "idx = int(g.input_[-1])\n",
    "\n",
    "print(\"add marker\",idx, \"into input\")\n",
    "print(\"input:\", g.input_)\n",
    "\n",
    "for i in g.output:\n",
    "    if i == idx:\n",
    "        g.output.remove(i)\n",
    "print(\"output: \", g.output)\n",
    "\n",
    "out = g.output.copy()"
   ]
  },
  {
   "cell_type": "code",
   "execution_count": 5,
   "id": "a8322dcd",
   "metadata": {},
   "outputs": [
    {
     "name": "stdout",
     "output_type": "stream",
     "text": [
      "add 10 into input\n",
      "input: [21, 10]\n",
      "output:  [0, 1, 2, 3, 4, 5, 6, 7, 8, 9, 11, 12, 13, 14, 15, 16, 17, 18, 19, 20, 22, 23, 24, 25, 26, 27, 28]\n",
      "--out_drop_index: 10\n"
     ]
    }
   ],
   "source": [
    "val_loss_path = r'val_loss_1206_LN29_002800.npy'\n",
    "idx = g.updateAndFindNext(idx, val_loss_path)\n",
    "out_drop = out.index(idx) # index of added input in the previous target list\n",
    "print(\"--out_drop_index:\", out_drop)\n",
    "out = g.output.copy()"
   ]
  },
  {
   "cell_type": "code",
   "execution_count": 6,
   "id": "62d3f9b4",
   "metadata": {},
   "outputs": [
    {
     "name": "stdout",
     "output_type": "stream",
     "text": [
      "add 25 into input\n",
      "input: [21, 10, 25]\n",
      "output:  [0, 1, 2, 3, 4, 5, 6, 7, 8, 9, 11, 12, 13, 14, 15, 16, 17, 18, 19, 20, 22, 23, 24, 26, 27, 28]\n",
      "--out_drop_index: 23\n"
     ]
    }
   ],
   "source": [
    "val_loss_path = r'val_loss_1207_LN29_003400.npy'\n",
    "idx = g.updateAndFindNext(idx, val_loss_path)\n",
    "out_drop = out.index(idx) # index of added input in the previous target list\n",
    "print(\"--out_drop_index:\", out_drop)\n",
    "out = g.output.copy()"
   ]
  },
  {
   "cell_type": "code",
   "execution_count": 7,
   "id": "632a3a15",
   "metadata": {},
   "outputs": [
    {
     "name": "stdout",
     "output_type": "stream",
     "text": [
      "add 3 into input\n",
      "input: [21, 10, 25, 3]\n",
      "output:  [0, 1, 2, 4, 5, 6, 7, 8, 9, 11, 12, 13, 14, 15, 16, 17, 18, 19, 20, 22, 23, 24, 26, 27, 28]\n",
      "--out_drop_index: 3\n"
     ]
    }
   ],
   "source": [
    "val_loss_path = r'val_loss_1207_2_LN29_003600.npy'\n",
    "idx = g.updateAndFindNext(idx, val_loss_path)\n",
    "out_drop = out.index(idx) # index of added input in the previous target list\n",
    "print(\"--out_drop_index:\", out_drop)\n",
    "out = g.output.copy()"
   ]
  },
  {
   "cell_type": "code",
   "execution_count": 8,
   "id": "f9f2aa14",
   "metadata": {},
   "outputs": [
    {
     "name": "stdout",
     "output_type": "stream",
     "text": [
      "add 22 into input\n",
      "input: [21, 10, 25, 3, 22]\n",
      "output:  [0, 1, 2, 4, 5, 6, 7, 8, 9, 11, 12, 13, 14, 15, 16, 17, 18, 19, 20, 23, 24, 26, 27, 28]\n",
      "--out_drop_index: 19\n"
     ]
    }
   ],
   "source": [
    "val_loss_path = r'val_loss_1208_LN29_003600.npy'\n",
    "idx = g.updateAndFindNext(idx, val_loss_path)\n",
    "out_drop = out.index(idx) # index of added input in the previous target list\n",
    "print(\"--out_drop_index:\", out_drop)\n",
    "out = g.output.copy()"
   ]
  },
  {
   "cell_type": "code",
   "execution_count": 9,
   "id": "1303b10a",
   "metadata": {},
   "outputs": [
    {
     "name": "stdout",
     "output_type": "stream",
     "text": [
      "add 28 into input\n",
      "input: [21, 10, 25, 3, 22, 28]\n",
      "output:  [0, 1, 2, 4, 5, 6, 7, 8, 9, 11, 12, 13, 14, 15, 16, 17, 18, 19, 20, 23, 24, 26, 27]\n",
      "--out_drop_index: 23\n"
     ]
    }
   ],
   "source": [
    "val_loss_path = r'val_loss_1208_2_LN29_003600.npy'\n",
    "idx = g.updateAndFindNext(idx, val_loss_path)\n",
    "out_drop = out.index(idx) # index of added input in the previous target list\n",
    "print(\"--out_drop_index:\", out_drop)\n",
    "out = g.output.copy()"
   ]
  },
  {
   "cell_type": "code",
   "execution_count": 10,
   "id": "a43d3f8d",
   "metadata": {},
   "outputs": [
    {
     "name": "stdout",
     "output_type": "stream",
     "text": [
      "add 17 into input\n",
      "input: [21, 10, 25, 3, 22, 28, 17]\n",
      "output:  [0, 1, 2, 4, 5, 6, 7, 8, 9, 11, 12, 13, 14, 15, 16, 18, 19, 20, 23, 24, 26, 27]\n",
      "--out_drop_index: 15\n"
     ]
    }
   ],
   "source": [
    "val_loss_path = r'val_loss_1209_LN29_003600.npy'\n",
    "idx = g.updateAndFindNext(idx, val_loss_path)\n",
    "out_drop = out.index(idx) # index of added input in the previous target list\n",
    "print(\"--out_drop_index:\", out_drop)\n",
    "out = g.output.copy()"
   ]
  },
  {
   "cell_type": "code",
   "execution_count": 11,
   "id": "819796e3",
   "metadata": {},
   "outputs": [
    {
     "name": "stdout",
     "output_type": "stream",
     "text": [
      "add 5 into input\n",
      "input: [21, 10, 25, 3, 22, 28, 17, 5]\n",
      "output:  [0, 1, 2, 4, 6, 7, 8, 9, 11, 12, 13, 14, 15, 16, 18, 19, 20, 23, 24, 26, 27]\n",
      "--out_drop_index: 4\n"
     ]
    }
   ],
   "source": [
    "val_loss_path = r'val_loss_1209_2_LN29_000800.npy'\n",
    "idx = g.updateAndFindNext(idx, val_loss_path)\n",
    "out_drop = out.index(idx) # index of added input in the previous target list\n",
    "print(\"--out_drop_index:\", out_drop)\n",
    "out = g.output.copy()\n",
    "# pcc = 0.83114283"
   ]
  },
  {
   "cell_type": "code",
   "execution_count": 12,
   "id": "dd49addd",
   "metadata": {},
   "outputs": [
    {
     "name": "stdout",
     "output_type": "stream",
     "text": [
      "add 4 into input\n",
      "input: [21, 10, 25, 3, 22, 28, 17, 5, 4]\n",
      "output:  [0, 1, 2, 6, 7, 8, 9, 11, 12, 13, 14, 15, 16, 18, 19, 20, 23, 24, 26, 27]\n",
      "--out_drop_index: 3\n"
     ]
    }
   ],
   "source": [
    "val_loss_path = r'val_loss_1210_LN29_003600.npy'\n",
    "idx = g.updateAndFindNext(idx, val_loss_path)\n",
    "out_drop = out.index(idx) # index of added input in the previous target list\n",
    "print(\"--out_drop_index:\", out_drop)\n",
    "out = g.output.copy()"
   ]
  },
  {
   "cell_type": "code",
   "execution_count": 13,
   "id": "417aa6ce",
   "metadata": {},
   "outputs": [
    {
     "name": "stdout",
     "output_type": "stream",
     "text": [
      "add 24 into input\n",
      "input: [21, 10, 25, 3, 22, 28, 17, 5, 4, 24]\n",
      "output:  [0, 1, 2, 6, 7, 8, 9, 11, 12, 13, 14, 15, 16, 18, 19, 20, 23, 26, 27]\n",
      "--out_drop_index: 17\n"
     ]
    }
   ],
   "source": [
    "val_loss_path = r'val_loss_1211_LN29_003600.npy'\n",
    "idx = g.updateAndFindNext(idx, val_loss_path)\n",
    "out_drop = out.index(idx) # index of added input in the previous target list\n",
    "print(\"--out_drop_index:\", out_drop)\n",
    "out = g.output.copy()"
   ]
  },
  {
   "cell_type": "code",
   "execution_count": 14,
   "id": "b2e99dcf",
   "metadata": {},
   "outputs": [
    {
     "name": "stdout",
     "output_type": "stream",
     "text": [
      "add 1 into input\n",
      "input: [21, 10, 25, 3, 22, 28, 17, 5, 4, 24, 1]\n",
      "output:  [0, 2, 6, 7, 8, 9, 11, 12, 13, 14, 15, 16, 18, 19, 20, 23, 26, 27]\n",
      "--out_drop_index: 1\n"
     ]
    }
   ],
   "source": [
    "val_loss_path = r'val_loss_1211_2_LN29_003200.npy'\n",
    "idx = g.updateAndFindNext(idx, val_loss_path)\n",
    "out_drop = out.index(idx) # index of added input in the previous target list\n",
    "print(\"--out_drop_index:\", out_drop)\n",
    "out = g.output.copy()"
   ]
  },
  {
   "cell_type": "code",
   "execution_count": 15,
   "id": "976f041c",
   "metadata": {},
   "outputs": [
    {
     "name": "stdout",
     "output_type": "stream",
     "text": [
      "add 14 into input\n",
      "input: [21, 10, 25, 3, 22, 28, 17, 5, 4, 24, 1, 14]\n",
      "output:  [0, 2, 6, 7, 8, 9, 11, 12, 13, 15, 16, 18, 19, 20, 23, 26, 27]\n",
      "--out_drop_index: 1\n"
     ]
    }
   ],
   "source": [
    "val_loss_path = r'val_loss_0113_LN29_003200.npy'\n",
    "idx = g.updateAndFindNext(idx, val_loss_path)\n",
    "print(\"--out_drop_index:\", out_drop)\n",
    "out = g.output.copy()"
   ]
  },
  {
   "cell_type": "code",
   "execution_count": 16,
   "id": "2a816f41",
   "metadata": {},
   "outputs": [
    {
     "name": "stdout",
     "output_type": "stream",
     "text": [
      "add 9 into input\n",
      "input: [21, 10, 25, 3, 22, 28, 17, 5, 4, 24, 1, 14, 9]\n",
      "output:  [0, 2, 6, 7, 8, 11, 12, 13, 15, 16, 18, 19, 20, 23, 26, 27]\n",
      "--out_drop_index: 5\n"
     ]
    }
   ],
   "source": [
    "val_loss_path = r'val_loss_0113_2_LN29_003200.npy'\n",
    "idx = g.updateAndFindNext(idx, val_loss_path)\n",
    "out_drop = out.index(idx) \n",
    "print(\"--out_drop_index:\", out_drop)\n",
    "out = g.output.copy()"
   ]
  },
  {
   "cell_type": "markdown",
   "id": "e971242a",
   "metadata": {},
   "source": [
    "final selected input and output:\\\n",
    "input: [21, 10, 25, 3, 22, 28, 17, 5, 4, 24, 1, 14]\\\n",
    "output:  [0, 2, 6, 7, 8, 9, 11, 12, 13, 15, 16, 18, 19, 20, 23, 26, 27]"
   ]
  },
  {
   "cell_type": "code",
   "execution_count": null,
   "id": "00b84a38",
   "metadata": {},
   "outputs": [],
   "source": []
  }
 ],
 "metadata": {
  "kernelspec": {
   "display_name": "Python 3 (ipykernel)",
   "language": "python",
   "name": "python3"
  },
  "language_info": {
   "codemirror_mode": {
    "name": "ipython",
    "version": 3
   },
   "file_extension": ".py",
   "mimetype": "text/x-python",
   "name": "python",
   "nbconvert_exporter": "python",
   "pygments_lexer": "ipython3",
   "version": "3.10.6"
  }
 },
 "nbformat": 4,
 "nbformat_minor": 5
}
