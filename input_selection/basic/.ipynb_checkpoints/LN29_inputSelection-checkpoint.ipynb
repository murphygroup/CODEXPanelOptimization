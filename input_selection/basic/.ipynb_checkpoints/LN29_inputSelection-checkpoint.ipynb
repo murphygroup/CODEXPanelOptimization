{
 "cells": [
  {
   "cell_type": "code",
   "execution_count": 1,
   "id": "52b28527",
   "metadata": {
    "pycharm": {
     "name": "#%%\n"
    }
   },
   "outputs": [],
   "source": [
    "import matplotlib.pyplot as plt\n",
    "import networkx as nx\n",
    "import numpy as np\n",
    "import pandas as pd\n",
    "from train_selection_MAE import Edge, Node, Graph\n",
    "import seaborn as sns\n",
    "import os\n",
    "import imageio"
   ]
  },
  {
   "cell_type": "code",
   "execution_count": 2,
   "id": "7a10a03b",
   "metadata": {
    "pycharm": {
     "name": "#%%\n"
    }
   },
   "outputs": [],
   "source": [
    "scores = np.load(\"pearson_mtx_LN29_MAECorrNew.npy\")\n",
    "for j in range(29):\n",
    "    scores[j, j] = 0\n",
    "\n",
    "num_biomarkers = 29\n",
    "\n",
    "nodes = []\n",
    "for i in range(num_biomarkers):\n",
    "    nodes.append(Node(i, num_biomarkers))\n",
    "\n",
    "edges = []\n",
    "for i in range(num_biomarkers):\n",
    "    for j in range(i+1,num_biomarkers):\n",
    "        edge = Edge(scores[i,j])\n",
    "        edge.nodes = (i,j)\n",
    "        # edge.value = scores[i,j]\n",
    "        edges.append(edge)\n",
    "        nodes[i].edges.append(edge)\n",
    "        nodes[j].edges.append(edge)"
   ]
  },
  {
   "cell_type": "code",
   "execution_count": 3,
   "id": "467e6ba4",
   "metadata": {
    "pycharm": {
     "name": "#%%\n"
    }
   },
   "outputs": [],
   "source": [
    "g = Graph(nodes,edges, num_biomarkers)"
   ]
  },
  {
   "cell_type": "code",
   "execution_count": 4,
   "id": "859a46f3",
   "metadata": {
    "pycharm": {
     "name": "#%%\n"
    }
   },
   "outputs": [
    {
     "name": "stdout",
     "output_type": "stream",
     "text": [
      "add marker 21 into input\n",
      "input: [21]\n",
      "output:  [0, 1, 2, 3, 4, 5, 6, 7, 8, 9, 10, 11, 12, 13, 14, 15, 16, 17, 18, 19, 20, 22, 23, 24, 25, 26, 27, 28]\n"
     ]
    }
   ],
   "source": [
    "# chose the 1st input\n",
    "node_degrees = []\n",
    "for n in g.nodes:\n",
    "    degree = sum(e.value for e in n.edges)\n",
    "    minDegree = min(e.value for e in n.edges)\n",
    "    n.init_degree = minDegree\n",
    "    node_degrees.append(degree)\n",
    "x = np.argmin(node_degrees)\n",
    "\n",
    "g.input_.append(x)\n",
    "idx = int(g.input_[-1])\n",
    "\n",
    "print(\"add marker\",idx, \"into input\")\n",
    "print(\"input:\", g.input_)\n",
    "\n",
    "for i in g.output:\n",
    "    if i == idx:\n",
    "        g.output.remove(i)\n",
    "print(\"output: \", g.output)\n",
    "\n",
    "out = g.output.copy()"
   ]
  },
  {
   "cell_type": "code",
   "execution_count": 7,
   "id": "a8322dcd",
   "metadata": {
    "pycharm": {
     "name": "#%%\n"
    }
   },
   "outputs": [
    {
     "name": "stdout",
     "output_type": "stream",
     "text": [
      "0 0.12364962697029114 = 0.546965479850769 - 0.42331585\n",
      "1 -0.08585137128829956 = 0.3313654959201813 - 0.41721687\n",
      "2 -0.022354334592819214 = 0.2978725731372833 - 0.3202269\n",
      "3 -0.028100818395614624 = 0.48989418148994446 - 0.517995\n",
      "4 -0.06509917974472046 = 0.36562076210975647 - 0.43071994\n",
      "5 0.036178648471832275 = 0.5900639891624451 - 0.55388534\n",
      "6 0.08640149235725403 = 0.459865003824234 - 0.3734635\n",
      "7 0.0813407301902771 = 0.503805935382843 - 0.4224652\n",
      "8 0.0923190712928772 = 0.5319539308547974 - 0.43963486\n",
      "9 -0.02332383394241333 = 0.459865003824234 - 0.48318884\n",
      "10 -0.15123459696769714 = 0.3433191478252411 - 0.49455374\n",
      "11 -0.17477700114250183 = 0.3433191478252411 - 0.51809615\n",
      "12 0.03412759304046631 = 0.28182321786880493 - 0.24769562\n",
      "13 -0.1539444625377655 = 0.3622232973575592 - 0.51616776\n",
      "14 -0.08568313717842102 = 0.3226233422756195 - 0.40830648\n",
      "15 -0.07469597458839417 = 0.1839812695980072 - 0.25867724\n",
      "16 -0.015250235795974731 = 0.3385288715362549 - 0.3537791\n",
      "17 -0.04632455110549927 = 0.4843958020210266 - 0.53072035\n",
      "18 -0.12375633418560028 = 0.18391461670398712 - 0.30767095\n",
      "19 0.27701690793037415 = 0.6585935354232788 - 0.38157663\n",
      "20 -0.06998594105243683 = 0.18391461670398712 - 0.25390056\n",
      "21 0.22381150722503662 = 0.22381150722503662 - 0\n",
      "22 -0.01242917776107788 = 0.5059763789176941 - 0.51840556\n",
      "23 0.026525422930717468 = 0.257453978061676 - 0.23092856\n",
      "24 0.08702683448791504 = 0.503805935382843 - 0.4167791\n",
      "25 0.11166548728942871 = 0.7783809304237366 - 0.66671544\n",
      "26 -0.03587408363819122 = 0.23300908505916595 - 0.26888317\n",
      "27 0.12330317497253418 = 0.651253342628479 - 0.52795017\n",
      "28 0.044833242893218994 = 0.5577096343040466 - 0.5128764\n",
      "node with maximum decreasing node degree:  (19, 0.27701690793037415)\n",
      "add 10 into input\n",
      "input: [21, 10]\n",
      "output:  [0, 1, 2, 3, 4, 5, 6, 7, 8, 9, 11, 12, 13, 14, 15, 16, 17, 18, 19, 20, 22, 23, 24, 25, 26, 27, 28]\n",
      "--out_drop_index: 10\n"
     ]
    }
   ],
   "source": [
    "val_loss_path = r'val_loss_1206_LN29_002800.npy'\n",
    "idx = g.updateAndFindNext(idx, val_loss_path)\n",
    "out_drop = out.index(idx) # index of added input in the previous target list\n",
    "print(\"--out_drop_index:\", out_drop)\n",
    "out = g.output.copy()"
   ]
  },
  {
   "cell_type": "code",
   "execution_count": 9,
   "id": "62d3f9b4",
   "metadata": {},
   "outputs": [
    {
     "name": "stdout",
     "output_type": "stream",
     "text": [
      "0 0.15571308135986328 = 0.546965479850769 - 0.3912524\n",
      "1 -0.04866725206375122 = 0.3313654959201813 - 0.38003275\n",
      "2 -0.009345382452011108 = 0.2978725731372833 - 0.30721796\n",
      "3 -0.013003915548324585 = 0.48989418148994446 - 0.5028981\n",
      "4 -0.04614260792732239 = 0.36562076210975647 - 0.41176337\n",
      "5 0.10631728172302246 = 0.5900639891624451 - 0.4837467\n",
      "6 0.13042643666267395 = 0.459865003824234 - 0.32943857\n",
      "7 0.09433227777481079 = 0.503805935382843 - 0.40947366\n",
      "8 0.09547415375709534 = 0.5319539308547974 - 0.43647978\n",
      "9 0.029772073030471802 = 0.459865003824234 - 0.43009293\n",
      "10 0.3433191478252411 = 0.3433191478252411 - 0\n",
      "11 0.04296949505805969 = 0.3433191478252411 - 0.30034965\n",
      "12 0.050589874386787415 = 0.28182321786880493 - 0.23123334\n",
      "13 0.015947967767715454 = 0.3622232973575592 - 0.34627533\n",
      "14 -0.025060713291168213 = 0.3226233422756195 - 0.34768406\n",
      "15 -0.059074535965919495 = 0.1839812695980072 - 0.2430558\n",
      "16 -0.008192688226699829 = 0.3385288715362549 - 0.34672156\n",
      "17 0.07511711120605469 = 0.4843958020210266 - 0.4092787\n",
      "18 -0.09378086030483246 = 0.18391461670398712 - 0.27769548\n",
      "19 0.3496837019920349 = 0.6585935354232788 - 0.30890983\n",
      "20 -0.047372668981552124 = 0.18391461670398712 - 0.23128729\n",
      "21 0.22381150722503662 = 0.22381150722503662 - 0\n",
      "22 0.0036493539810180664 = 0.5059763789176941 - 0.502327\n",
      "23 0.026525422930717468 = 0.257453978061676 - 0.23092856\n",
      "24 0.0992082953453064 = 0.503805935382843 - 0.40459764\n",
      "25 0.11546629667282104 = 0.7783809304237366 - 0.66291463\n",
      "26 -0.02028883993625641 = 0.23300908505916595 - 0.25329792\n",
      "27 0.163327157497406 = 0.651253342628479 - 0.4879262\n",
      "28 0.08598789572715759 = 0.5577096343040466 - 0.47172174\n",
      "node with maximum decreasing node degree:  (19, 0.3496837019920349)\n",
      "add 25 into input\n",
      "input: [21, 10, 25]\n",
      "output:  [0, 1, 2, 3, 4, 5, 6, 7, 8, 9, 11, 12, 13, 14, 15, 16, 17, 18, 19, 20, 22, 23, 24, 26, 27, 28]\n",
      "--out_drop_index: 23\n"
     ]
    }
   ],
   "source": [
    "val_loss_path = r'val_loss_1207_LN29_003400.npy'\n",
    "idx = g.updateAndFindNext(idx, val_loss_path)\n",
    "out_drop = out.index(idx) # index of added input in the previous target list\n",
    "print(\"--out_drop_index:\", out_drop)\n",
    "out = g.output.copy()"
   ]
  },
  {
   "cell_type": "code",
   "execution_count": 11,
   "id": "632a3a15",
   "metadata": {},
   "outputs": [
    {
     "name": "stdout",
     "output_type": "stream",
     "text": [
      "0 0.15571308135986328 = 0.546965479850769 - 0.3912524\n",
      "1 -0.04866725206375122 = 0.3313654959201813 - 0.38003275\n",
      "2 -0.006563931703567505 = 0.2978725731372833 - 0.3044365\n",
      "3 -0.013003915548324585 = 0.48989418148994446 - 0.5028981\n",
      "4 -0.038310736417770386 = 0.36562076210975647 - 0.4039315\n",
      "5 0.15102219581604004 = 0.5900639891624451 - 0.4390418\n",
      "6 0.13042643666267395 = 0.459865003824234 - 0.32943857\n",
      "7 0.12232452630996704 = 0.503805935382843 - 0.3814814\n",
      "8 0.1695334017276764 = 0.5319539308547974 - 0.36242053\n",
      "9 0.05515924096107483 = 0.459865003824234 - 0.40470576\n",
      "10 0.3433191478252411 = 0.3433191478252411 - 0\n",
      "11 0.04296949505805969 = 0.3433191478252411 - 0.30034965\n",
      "12 0.05686761438846588 = 0.28182321786880493 - 0.2249556\n",
      "13 0.015947967767715454 = 0.3622232973575592 - 0.34627533\n",
      "14 -0.025060713291168213 = 0.3226233422756195 - 0.34768406\n",
      "15 -0.059074535965919495 = 0.1839812695980072 - 0.2430558\n",
      "16 -0.0007073879241943359 = 0.3385288715362549 - 0.33923626\n",
      "17 0.07511711120605469 = 0.4843958020210266 - 0.4092787\n",
      "18 -0.07955257594585419 = 0.18391461670398712 - 0.2634672\n",
      "19 0.3624763488769531 = 0.6585935354232788 - 0.2961172\n",
      "20 -0.047372668981552124 = 0.18391461670398712 - 0.23128729\n",
      "21 0.22381150722503662 = 0.22381150722503662 - 0\n",
      "22 0.02200227975845337 = 0.5059763789176941 - 0.4839741\n",
      "23 0.03625446557998657 = 0.257453978061676 - 0.22119951\n",
      "24 0.0992082953453064 = 0.503805935382843 - 0.40459764\n",
      "25 0.7783809304237366 = 0.7783809304237366 - 0\n",
      "26 -0.002815738320350647 = 0.23300908505916595 - 0.23582482\n",
      "27 0.3187400698661804 = 0.651253342628479 - 0.33251327\n",
      "28 0.09967467188835144 = 0.5577096343040466 - 0.45803496\n",
      "node with maximum decreasing node degree:  (19, 0.3624763488769531)\n",
      "add 3 into input\n",
      "input: [21, 10, 25, 3]\n",
      "output:  [0, 1, 2, 4, 5, 6, 7, 8, 9, 11, 12, 13, 14, 15, 16, 17, 18, 19, 20, 22, 23, 24, 26, 27, 28]\n",
      "--out_drop_index: 3\n"
     ]
    }
   ],
   "source": [
    "val_loss_path = r'val_loss_1207_2_LN29_003600.npy'\n",
    "idx = g.updateAndFindNext(idx, val_loss_path)\n",
    "out_drop = out.index(idx) # index of added input in the previous target list\n",
    "print(\"--out_drop_index:\", out_drop)\n",
    "out = g.output.copy()"
   ]
  },
  {
   "cell_type": "code",
   "execution_count": 13,
   "id": "f9f2aa14",
   "metadata": {},
   "outputs": [
    {
     "name": "stdout",
     "output_type": "stream",
     "text": [
      "0 19.38310068845749 = 19.7452455163002 - 0.36214483\n",
      "5 23.660876989364624 = 24.091619551181793 - 0.43074256\n",
      "7 20.9155635535717 = 21.28904962539673 - 0.37348607\n",
      "8 22.077276945114136 = 22.439389050006866 - 0.3621121\n",
      "9 21.336165815591812 = 21.71664747595787 - 0.38048166\n",
      "12 15.778836742043495 = 16.00240620970726 - 0.22356947\n",
      "15 15.914924621582031 = 16.155869588255882 - 0.24094497\n",
      "16 15.522343665361404 = 15.840730130672455 - 0.31838647\n",
      "18 16.09880068898201 = 16.362004905939102 - 0.26320422\n",
      "20 15.424933046102524 = 15.64209595322609 - 0.2171629\n",
      "22 18.051672250032425 = 18.517337322235107 - 0.46566507\n",
      "24 20.737843871116638 = 21.130571842193604 - 0.39272797\n",
      "28 20.902160495519638 = 21.35681641101837 - 0.45465592\n",
      "node with maximum decreasing node degree:  (5, 23.660876989364624)\n",
      "add 22 into input\n",
      "input: [21, 10, 25, 3, 22]\n",
      "output:  [0, 1, 2, 4, 5, 6, 7, 8, 9, 11, 12, 13, 14, 15, 16, 17, 18, 19, 20, 23, 24, 26, 27, 28]\n",
      "--out_drop_index: 19\n"
     ]
    }
   ],
   "source": [
    "val_loss_path = r'val_loss_1208_LN29_003600.npy'\n",
    "idx = g.updateAndFindNext(idx, val_loss_path)\n",
    "out_drop = out.index(idx) # index of added input in the previous target list\n",
    "print(\"--out_drop_index:\", out_drop)\n",
    "out = g.output.copy()"
   ]
  },
  {
   "cell_type": "code",
   "execution_count": 12,
   "id": "1303b10a",
   "metadata": {},
   "outputs": [
    {
     "name": "stdout",
     "output_type": "stream",
     "text": [
      "add 28 into input\n",
      "input: [21, 10, 25, 3, 22, 28]\n",
      "output:  [0, 1, 2, 4, 5, 6, 7, 8, 9, 11, 12, 13, 14, 15, 16, 17, 18, 19, 20, 23, 24, 26, 27]\n",
      "--out_drop_index: 23\n"
     ]
    }
   ],
   "source": [
    "val_loss_path = r'val_loss_1208_2_LN29_003600.npy'\n",
    "idx = g.updateAndFindNext(idx, val_loss_path)\n",
    "out_drop = out.index(idx) # index of added input in the previous target list\n",
    "print(\"--out_drop_index:\", out_drop)\n",
    "out = g.output.copy()"
   ]
  },
  {
   "cell_type": "code",
   "execution_count": 13,
   "id": "a43d3f8d",
   "metadata": {},
   "outputs": [
    {
     "name": "stdout",
     "output_type": "stream",
     "text": [
      "add 17 into input\n",
      "input: [21, 10, 25, 3, 22, 28, 17]\n",
      "output:  [0, 1, 2, 4, 5, 6, 7, 8, 9, 11, 12, 13, 14, 15, 16, 18, 19, 20, 23, 24, 26, 27]\n",
      "--out_drop_index: 15\n"
     ]
    }
   ],
   "source": [
    "val_loss_path = r'val_loss_1209_LN29_003600.npy'\n",
    "idx = g.updateAndFindNext(idx, val_loss_path)\n",
    "out_drop = out.index(idx) # index of added input in the previous target list\n",
    "print(\"--out_drop_index:\", out_drop)\n",
    "out = g.output.copy()"
   ]
  },
  {
   "cell_type": "code",
   "execution_count": 14,
   "id": "819796e3",
   "metadata": {},
   "outputs": [
    {
     "name": "stdout",
     "output_type": "stream",
     "text": [
      "add 5 into input\n",
      "input: [21, 10, 25, 3, 22, 28, 17, 5]\n",
      "output:  [0, 1, 2, 4, 6, 7, 8, 9, 11, 12, 13, 14, 15, 16, 18, 19, 20, 23, 24, 26, 27]\n",
      "--out_drop_index: 4\n"
     ]
    }
   ],
   "source": [
    "val_loss_path = r'val_loss_1209_2_LN29_000800.npy'\n",
    "idx = g.updateAndFindNext(idx, val_loss_path)\n",
    "out_drop = out.index(idx) # index of added input in the previous target list\n",
    "print(\"--out_drop_index:\", out_drop)\n",
    "out = g.output.copy()\n",
    "# pcc = 0.83114283"
   ]
  },
  {
   "cell_type": "code",
   "execution_count": 15,
   "id": "dd49addd",
   "metadata": {},
   "outputs": [
    {
     "name": "stdout",
     "output_type": "stream",
     "text": [
      "add 4 into input\n",
      "input: [21, 10, 25, 3, 22, 28, 17, 5, 4]\n",
      "output:  [0, 1, 2, 6, 7, 8, 9, 11, 12, 13, 14, 15, 16, 18, 19, 20, 23, 24, 26, 27]\n",
      "--out_drop_index: 3\n"
     ]
    }
   ],
   "source": [
    "val_loss_path = r'val_loss_1210_LN29_003600.npy'\n",
    "idx = g.updateAndFindNext(idx, val_loss_path)\n",
    "out_drop = out.index(idx) # index of added input in the previous target list\n",
    "print(\"--out_drop_index:\", out_drop)\n",
    "out = g.output.copy()"
   ]
  },
  {
   "cell_type": "code",
   "execution_count": 16,
   "id": "417aa6ce",
   "metadata": {},
   "outputs": [
    {
     "name": "stdout",
     "output_type": "stream",
     "text": [
      "add 24 into input\n",
      "input: [21, 10, 25, 3, 22, 28, 17, 5, 4, 24]\n",
      "output:  [0, 1, 2, 6, 7, 8, 9, 11, 12, 13, 14, 15, 16, 18, 19, 20, 23, 26, 27]\n",
      "--out_drop_index: 17\n"
     ]
    }
   ],
   "source": [
    "val_loss_path = r'val_loss_1211_LN29_003600.npy'\n",
    "idx = g.updateAndFindNext(idx, val_loss_path)\n",
    "out_drop = out.index(idx) # index of added input in the previous target list\n",
    "print(\"--out_drop_index:\", out_drop)\n",
    "out = g.output.copy()"
   ]
  },
  {
   "cell_type": "code",
   "execution_count": 17,
   "id": "b2e99dcf",
   "metadata": {},
   "outputs": [
    {
     "name": "stdout",
     "output_type": "stream",
     "text": [
      "add 1 into input\n",
      "input: [21, 10, 25, 3, 22, 28, 17, 5, 4, 24, 1]\n",
      "output:  [0, 2, 6, 7, 8, 9, 11, 12, 13, 14, 15, 16, 18, 19, 20, 23, 26, 27]\n",
      "--out_drop_index: 1\n"
     ]
    }
   ],
   "source": [
    "val_loss_path = r'val_loss_1211_2_LN29_003200.npy'\n",
    "idx = g.updateAndFindNext(idx, val_loss_path)\n",
    "out_drop = out.index(idx) # index of added input in the previous target list\n",
    "print(\"--out_drop_index:\", out_drop)\n",
    "out = g.output.copy()\n",
    "# pcc = 0.852912682"
   ]
  },
  {
   "cell_type": "code",
   "execution_count": 18,
   "id": "976f041c",
   "metadata": {},
   "outputs": [
    {
     "name": "stdout",
     "output_type": "stream",
     "text": [
      "add 14 into input\n",
      "input: [21, 10, 25, 3, 22, 28, 17, 5, 4, 24, 1, 14]\n",
      "output:  [0, 2, 6, 7, 8, 9, 11, 12, 13, 15, 16, 18, 19, 20, 23, 26, 27]\n",
      "--out_drop_index: 1\n"
     ]
    }
   ],
   "source": [
    "val_loss_path = r'val_loss_0113_LN29_003200.npy'\n",
    "idx = g.updateAndFindNext(idx, val_loss_path)\n",
    "print(\"--out_drop_index:\", out_drop)\n",
    "out = g.output.copy()\n",
    "# pcc = 0.858378545"
   ]
  },
  {
   "cell_type": "code",
   "execution_count": 19,
   "id": "2a816f41",
   "metadata": {},
   "outputs": [
    {
     "name": "stdout",
     "output_type": "stream",
     "text": [
      "add 9 into input\n",
      "input: [21, 10, 25, 3, 22, 28, 17, 5, 4, 24, 1, 14, 9]\n",
      "output:  [0, 2, 6, 7, 8, 11, 12, 13, 15, 16, 18, 19, 20, 23, 26, 27]\n",
      "--out_drop_index: 5\n"
     ]
    }
   ],
   "source": [
    "val_loss_path = r'val_loss_0113_2_LN29_003200.npy'\n",
    "idx = g.updateAndFindNext(idx, val_loss_path)\n",
    "out_drop = out.index(idx) # index of added input in the previous target list\n",
    "print(\"--out_drop_index:\", out_drop)\n",
    "out = g.output.copy()\n",
    "# pcc = 0.864863783"
   ]
  }
 ],
 "metadata": {
  "kernelspec": {
   "display_name": "Python 3 (ipykernel)",
   "language": "python",
   "name": "python3"
  },
  "language_info": {
   "codemirror_mode": {
    "name": "ipython",
    "version": 3
   },
   "file_extension": ".py",
   "mimetype": "text/x-python",
   "name": "python",
   "nbconvert_exporter": "python",
   "pygments_lexer": "ipython3",
   "version": "3.10.6"
  }
 },
 "nbformat": 4,
 "nbformat_minor": 5
}
