{
 "cells": [
  {
   "cell_type": "code",
   "execution_count": 1,
   "id": "528b9d1f",
   "metadata": {},
   "outputs": [],
   "source": [
    "import matplotlib.pyplot as plt\n",
    "import numpy as np\n",
    "import pandas as pd\n",
    "from train_selection_MAE import Edge, Node, Graph\n",
    "import seaborn as sns\n",
    "import os"
   ]
  },
  {
   "cell_type": "markdown",
   "id": "1c2f9adb",
   "metadata": {},
   "source": [
    "### initialization"
   ]
  },
  {
   "cell_type": "code",
   "execution_count": 2,
   "id": "e17d6cee",
   "metadata": {},
   "outputs": [],
   "source": [
    "if not os.path.exists(\"large_intestine_output\"):\n",
    "    os.makedirs(\"large_intestine_output\")\n",
    "# uncomment to run but there are existing files for demo\n",
    "# !python ../train_net/corr.py --csv_path '../csv/train_path_LI.csv' --num_biomarkers 46 --save_path 'large_intestine_output/mae_mtx_li_single' --transform_signal normalize  # get initial edge weights\n",
    "scores = np.load(\"large_intestine_output/mae_mtx_li_single.npy\")"
   ]
  },
  {
   "cell_type": "code",
   "execution_count": 3,
   "id": "1b1beb48",
   "metadata": {},
   "outputs": [],
   "source": [
    "num_biomarkers = 46\n",
    "\n",
    "nodes = []\n",
    "for i in range(num_biomarkers):\n",
    "    nodes.append(Node(i, num_biomarkers))\n",
    "\n",
    "edges = []\n",
    "for i in range(num_biomarkers):\n",
    "    for j in range(i+1,num_biomarkers):\n",
    "        edge = Edge(scores[i,j])\n",
    "        edge.nodes = (i,j)\n",
    "        edges.append(edge)\n",
    "        nodes[i].edges.append(edge)\n",
    "        nodes[j].edges.append(edge)\n",
    "\n",
    "g = Graph(nodes,edges, num_biomarkers)"
   ]
  },
  {
   "cell_type": "code",
   "execution_count": 4,
   "id": "9736f356",
   "metadata": {},
   "outputs": [
    {
     "name": "stdout",
     "output_type": "stream",
     "text": [
      "add marker 3 into input\n",
      "input: [3]\n",
      "output:  [0, 1, 2, 4, 5, 6, 7, 8, 9, 10, 11, 12, 13, 14, 15, 16, 17, 18, 19, 20, 21, 22, 23, 24, 25, 26, 27, 28, 29, 30, 31, 32, 33, 34, 35, 36, 37, 38, 39, 40, 41, 42, 43, 44, 45]\n"
     ]
    }
   ],
   "source": [
    "# chose the 1st input\n",
    "node_degrees = []\n",
    "for n in g.nodes:\n",
    "    degree = sum(e.value for e in n.edges)\n",
    "    minDegree = min(e.value for e in n.edges)\n",
    "    n.init_degree = minDegree\n",
    "    node_degrees.append(degree)\n",
    "x = np.argmin(node_degrees)\n",
    "\n",
    "g.input_.append(x)\n",
    "idx = int(g.input_[-1])\n",
    "\n",
    "print(\"add marker\",idx, \"into input\")\n",
    "print(\"input:\", g.input_)\n",
    "\n",
    "for i in g.output:\n",
    "    if i == idx:\n",
    "        g.output.remove(i)\n",
    "print(\"output: \", g.output)\n",
    "\n",
    "out = g.output.copy()"
   ]
  },
  {
   "cell_type": "markdown",
   "id": "b63cb73d",
   "metadata": {},
   "source": [
    "### Round1"
   ]
  },
  {
   "cell_type": "code",
   "execution_count": 5,
   "id": "45f491d6",
   "metadata": {},
   "outputs": [],
   "source": [
    "# train the network with currect input and output markers \n",
    "# !python ../train_net/train_model.py --transform_signal normalize --n_iter 4000  --interval_save 200 --iter_checkpoint 200 --drop_patch_threshold -13000 --path_run_dir 'test_models_LI_single_01'  --path_dataset_csv \"../csv/train_path_LI.csv\"  --path_dataset_val_csv \"../csv/val_path_LI.csv\"  --input_index 3  --target_index 0 1 2 4 5 6 7 8 9 10 11 12 13 14 15 16 17 18 19 20 21 22 23 24 25 26 27 28 29 30 31 32 33 34 35 36 37 38 39 40 41 42 43 44 45   --in_dim 1 --out_dim 45 \n",
    "# !python ../train_net/validation.py --transform_signal normalize --n_iter 4000 --path_run_dir 'test_models_LI_single_01'  --path_output_dir 'large_intestine_output/val_vae_01.npy' --path_dataset_val_csv \"../csv/val_path_LI.csv\"   --input_index  3  --target_index 0 1 2 4 5 6 7 8 9 10 11 12 13 14 15 16 17 18 19 20 21 22 23 24 25 26 27 28 29 30 31 32 33 34 35 36 37 38 39 40 41 42 43 44 45  --in_dim 1 --out_dim 45 "
   ]
  },
  {
   "cell_type": "code",
   "execution_count": 6,
   "id": "5843f6e0",
   "metadata": {},
   "outputs": [
    {
     "name": "stdout",
     "output_type": "stream",
     "text": [
      "add 18 into input\n",
      "input: [3, 18]\n",
      "output:  [0, 1, 2, 4, 5, 6, 7, 8, 9, 10, 11, 12, 13, 14, 15, 16, 17, 19, 20, 21, 22, 23, 24, 25, 26, 27, 28, 29, 30, 31, 32, 33, 34, 35, 36, 37, 38, 39, 40, 41, 42, 43, 44, 45]\n",
      "--out_drop_index: 17\n"
     ]
    }
   ],
   "source": [
    "val_loss_path = r'large_intestine_output/val_vae_01.npy'\n",
    "idx = g.updateAndFindNext(idx, val_loss_path)\n",
    "out_drop = out.index(idx) # index of added input in the previous target list\n",
    "print(\"--out_drop_index:\", out_drop)\n",
    "out = g.output.copy()"
   ]
  },
  {
   "cell_type": "markdown",
   "id": "682d5c45",
   "metadata": {},
   "source": [
    "### Round2"
   ]
  },
  {
   "cell_type": "code",
   "execution_count": 7,
   "id": "9ac85226",
   "metadata": {},
   "outputs": [],
   "source": [
    "# !python ../train_net/train_model.py --transform_signal normalize --n_iter 4000  --interval_save 200 --iter_checkpoint 200 --drop_patch_threshold -13000 --path_run_dir 'test_models_LI_single_02'  --path_pretrain_dir 'test_models_LI_single_01' --path_dataset_csv \"../csv/train_path_LI.csv\"  --path_dataset_val_csv \"../csv/val_path_LI.csv\" --out_drop_index 17 --input_index 3 18 --target_index 0 1 2 4 5 6 7 8 9 10 11 12 13 14 15 16 17 19 20 21 22 23 24 25 26 27 28 29 30 31 32 33 34 35 36 37 38 39 40 41 42 43 44 45  --in_dim 2 --out_dim 44\n",
    "# !python ../train_net/validation.py --transform_signal normalize --n_iter 4000 --path_run_dir 'test_models_LI_single_02'  --path_output_dir 'large_intestine_output/val_vae_02.npy' --path_dataset_val_csv \"../csv/val_path_LI.csv\"   --input_index  3 18  --target_index 0 1 2 4 5 6 7 8 9 10 11 12 13 14 15 16 17 19 20 21 22 23 24 25 26 27 28 29 30 31 32 33 34 35 36 37 38 39 40 41 42 43 44 45  --in_dim 2 --out_dim 44"
   ]
  },
  {
   "cell_type": "code",
   "execution_count": 8,
   "id": "9ceec769",
   "metadata": {},
   "outputs": [
    {
     "name": "stdout",
     "output_type": "stream",
     "text": [
      "add 0 into input\n",
      "input: [3, 18, 0]\n",
      "output:  [1, 2, 4, 5, 6, 7, 8, 9, 10, 11, 12, 13, 14, 15, 16, 17, 19, 20, 21, 22, 23, 24, 25, 26, 27, 28, 29, 30, 31, 32, 33, 34, 35, 36, 37, 38, 39, 40, 41, 42, 43, 44, 45]\n",
      "--out_drop_index: 0\n"
     ]
    }
   ],
   "source": [
    "val_loss_path = r'large_intestine_output/val_vae_02.npy' \n",
    "idx = g.updateAndFindNext(idx, val_loss_path)\n",
    "out_drop = out.index(idx) # index of added input in the previous target list\n",
    "print(\"--out_drop_index:\", out_drop)\n",
    "out = g.output.copy()"
   ]
  },
  {
   "cell_type": "markdown",
   "id": "e3c99d73",
   "metadata": {},
   "source": [
    "### Round3"
   ]
  },
  {
   "cell_type": "code",
   "execution_count": 9,
   "id": "3f926e36",
   "metadata": {},
   "outputs": [],
   "source": [
    "# !python ../train_net/train_model.py --transform_signal normalize --n_iter 4000  --interval_save 200 --iter_checkpoint 200 --drop_patch_threshold -13000 --path_run_dir 'test_models_LI_single_03'  --path_pretrain_dir 'test_models_LI_single_02' --path_dataset_csv \"../csv/train_path_LI.csv\"  --path_dataset_val_csv \"../csv/val_path_LI.csv\" --out_drop_index 0 --input_index 3 18 0 --target_index 1 2 4 5 6 7 8 9 10 11 12 13 14 15 16 17 19 20 21 22 23 24 25 26 27 28 29 30 31 32 33 34 35 36 37 38 39 40 41 42 43 44 45  --in_dim 3 --out_dim 43\n",
    "# !python ../train_net/validation.py --transform_signal normalize --n_iter 4000 --path_run_dir 'test_models_LI_single_03'  --path_output_dir 'large_intestine_output/val_vae_03.npy' --path_dataset_val_csv \"../csv/val_path_LI.csv\"   --input_index  3 18 0  --target_index 1 2 4 5 6 7 8 9 10 11 12 13 14 15 16 17 19 20 21 22 23 24 25 26 27 28 29 30 31 32 33 34 35 36 37 38 39 40 41 42 43 44 45  --in_dim 3 --out_dim 43"
   ]
  },
  {
   "cell_type": "code",
   "execution_count": 10,
   "id": "ef3909da",
   "metadata": {},
   "outputs": [
    {
     "name": "stdout",
     "output_type": "stream",
     "text": [
      "add 28 into input\n",
      "input: [3, 18, 0, 28]\n",
      "output:  [1, 2, 4, 5, 6, 7, 8, 9, 10, 11, 12, 13, 14, 15, 16, 17, 19, 20, 21, 22, 23, 24, 25, 26, 27, 29, 30, 31, 32, 33, 34, 35, 36, 37, 38, 39, 40, 41, 42, 43, 44, 45]\n",
      "--out_drop_index: 25\n"
     ]
    }
   ],
   "source": [
    "val_loss_path = r'large_intestine_output/val_vae_03.npy'\n",
    "\n",
    "idx = g.updateAndFindNext(idx, val_loss_path)\n",
    "out_drop = out.index(idx) # index of added input in the previous target list\n",
    "print(\"--out_drop_index:\", out_drop)\n",
    "out = g.output.copy()"
   ]
  },
  {
   "cell_type": "markdown",
   "id": "91d965e2",
   "metadata": {},
   "source": [
    "### Round4"
   ]
  },
  {
   "cell_type": "code",
   "execution_count": 11,
   "id": "265d1bf1",
   "metadata": {},
   "outputs": [],
   "source": [
    "# !python ../train_net/train_model.py --transform_signal normalize --n_iter 4000  --interval_save 200 --iter_checkpoint 200 --drop_patch_threshold -13000 --path_run_dir 'test_models_LI_single_04'  --path_pretrain_dir 'test_models_LI_single_03' --path_dataset_csv \"../csv/train_path_LI.csv\"  --path_dataset_val_csv \"../csv/val_path_LI.csv\" --out_drop_index 25 --input_index 3 18 0 28 --target_index 1 2 4 5 6 7 8 9 10 11 12 13 14 15 16 17 19 20 21 22 23 24 25 26 27 29 30 31 32 33 34 35 36 37 38 39 40 41 42 43 44 45  --in_dim 4 --out_dim 42\n",
    "# !python ../train_net/validation.py --transform_signal normalize --n_iter 4000 --path_run_dir 'test_models_LI_single_04'  --path_output_dir 'large_intestine_output/val_vae_04.npy' --path_dataset_val_csv \"../csv/val_path_LI.csv\"   --input_index  3 18 0 28  --target_index 1 2 4 5 6 7 8 9 10 11 12 13 14 15 16 17 19 20 21 22 23 24 25 26 27 29 30 31 32 33 34 35 36 37 38 39 40 41 42 43 44 45  --in_dim 4 --out_dim 42"
   ]
  },
  {
   "cell_type": "code",
   "execution_count": 12,
   "id": "a651246f",
   "metadata": {},
   "outputs": [
    {
     "name": "stdout",
     "output_type": "stream",
     "text": [
      "add 41 into input\n",
      "input: [3, 18, 0, 28, 41]\n",
      "output:  [1, 2, 4, 5, 6, 7, 8, 9, 10, 11, 12, 13, 14, 15, 16, 17, 19, 20, 21, 22, 23, 24, 25, 26, 27, 29, 30, 31, 32, 33, 34, 35, 36, 37, 38, 39, 40, 42, 43, 44, 45]\n",
      "--out_drop_index: 37\n"
     ]
    }
   ],
   "source": [
    "val_loss_path = r'large_intestine_output/val_vae_04.npy'  \n",
    "idx = g.updateAndFindNext(idx, val_loss_path) \n",
    "out_drop = out.index(idx) # index of added input in the previous target list\n",
    "print(\"--out_drop_index:\", out_drop)\n",
    "out = g.output.copy()"
   ]
  },
  {
   "cell_type": "markdown",
   "id": "31bef4fa",
   "metadata": {},
   "source": [
    "### Round5"
   ]
  },
  {
   "cell_type": "code",
   "execution_count": 13,
   "id": "846cc28f",
   "metadata": {},
   "outputs": [],
   "source": [
    "# !python ../train_net/train_model.py --transform_signal normalize --n_iter 4000  --interval_save 200 --iter_checkpoint 200 --drop_patch_threshold -13000 --path_run_dir 'test_models_LI_single_05'  --path_pretrain_dir 'test_models_LI_single_04' --path_dataset_csv \"../csv/train_path_LI.csv\"  --path_dataset_val_csv \"../csv/val_path_LI.csv\" --out_drop_index 37 --input_index 3 18 0 28 41 --target_index 1 2 4 5 6 7 8 9 10 11 12 13 14 15 16 17 19 20 21 22 23 24 25 26 27 29 30 31 32 33 34 35 36 37 38 39 40 42 43 44 45  --in_dim 5 --out_dim 41\n",
    "# !python ../train_net/validation.py --transform_signal normalize --n_iter 4000 --path_run_dir 'test_models_LI_single_05'  --path_output_dir 'large_intestine_output/val_vae_05.npy' --path_dataset_val_csv \"../csv/val_path_LI.csv\"   --input_index  3 18 0 28  --target_index 1 2 4 5 6 7 8 9 10 11 12 13 14 15 16 17 19 20 21 22 23 24 25 26 27 29 30 31 32 33 34 35 36 37 38 39 40 42 43 44 45  --in_dim 5 --out_dim 41"
   ]
  },
  {
   "cell_type": "code",
   "execution_count": 14,
   "id": "84bc92fb",
   "metadata": {},
   "outputs": [
    {
     "name": "stdout",
     "output_type": "stream",
     "text": [
      "add 7 into input\n",
      "input: [3, 18, 0, 28, 41, 7]\n",
      "output:  [1, 2, 4, 5, 6, 8, 9, 10, 11, 12, 13, 14, 15, 16, 17, 19, 20, 21, 22, 23, 24, 25, 26, 27, 29, 30, 31, 32, 33, 34, 35, 36, 37, 38, 39, 40, 42, 43, 44, 45]\n",
      "--out_drop_index: 5\n"
     ]
    }
   ],
   "source": [
    "val_loss_path = r'large_intestine_output/val_vae_05.npy'\n",
    "idx = g.updateAndFindNext(idx, val_loss_path)\n",
    "out_drop = out.index(idx) \n",
    "print(\"--out_drop_index:\", out_drop)\n",
    "out = g.output.copy()"
   ]
  },
  {
   "cell_type": "markdown",
   "id": "c2501ed6",
   "metadata": {},
   "source": [
    "### Round6"
   ]
  },
  {
   "cell_type": "code",
   "execution_count": 15,
   "id": "f6b0d788",
   "metadata": {},
   "outputs": [],
   "source": [
    "# !python ../train_net/train_model.py --transform_signal normalize --n_iter 4000  --interval_save 200 --iter_checkpoint 200 --drop_patch_threshold -13000 --path_run_dir 'test_models_LI_single_06'  --path_pretrain_dir 'test_models_LI_single_05' --path_dataset_csv \"../csv/train_path_LI.csv\"  --path_dataset_val_csv \"../csv/val_path_LI.csv\" --out_drop_index 5 --input_index 3 18 0 28 41 7 --target_index 1 2 4 5 6 8 9 10 11 12 13 14 15 16 17 19 20 21 22 23 24 25 26 27 29 30 31 32 33 34 35 36 37 38 39 40 42 43 44 45  --in_dim 6 --out_dim 40\n",
    "# !python ../train_net/validation.py --transform_signal normalize --n_iter 4000 --path_run_dir 'test_models_LI_single_06'  --path_output_dir 'large_intestine_output/val_vae_06.npy' --path_dataset_val_csv \"../csv/val_path_LI.csv\"   --input_index  3 18 0 28 7  --target_index 1 2 4 5 6 8 9 10 11 12 13 14 15 16 17 19 20 21 22 23 24 25 26 27 29 30 31 32 33 34 35 36 37 38 39 40 42 43 44 45  --in_dim 6 --out_dim 40"
   ]
  },
  {
   "cell_type": "code",
   "execution_count": 16,
   "id": "9ce78cd0",
   "metadata": {},
   "outputs": [
    {
     "name": "stdout",
     "output_type": "stream",
     "text": [
      "add 34 into input\n",
      "input: [3, 18, 0, 28, 41, 7, 34]\n",
      "output:  [1, 2, 4, 5, 6, 8, 9, 10, 11, 12, 13, 14, 15, 16, 17, 19, 20, 21, 22, 23, 24, 25, 26, 27, 29, 30, 31, 32, 33, 35, 36, 37, 38, 39, 40, 42, 43, 44, 45]\n",
      "--out_drop_index: 29\n"
     ]
    }
   ],
   "source": [
    "val_loss_path = r'large_intestine_output/val_vae_06.npy' \n",
    "idx = g.updateAndFindNext(idx, val_loss_path)\n",
    "out_drop = out.index(idx) \n",
    "print(\"--out_drop_index:\", out_drop)\n",
    "out = g.output.copy()"
   ]
  },
  {
   "cell_type": "markdown",
   "id": "6115efd9",
   "metadata": {},
   "source": [
    "### Round7"
   ]
  },
  {
   "cell_type": "code",
   "execution_count": 17,
   "id": "213dcded",
   "metadata": {},
   "outputs": [],
   "source": [
    "# !python ../train_net/train_model.py --transform_signal normalize --n_iter 4000  --interval_save 200 --iter_checkpoint 200 --drop_patch_threshold -13000 --path_run_dir 'test_models_LI_single_07'  --path_pretrain_dir 'test_models_LI_single_06' --path_dataset_csv \"../csv/train_path_LI.csv\"  --path_dataset_val_csv \"../csv/val_path_LI.csv\" --out_drop_index 29 --input_index 3 18 0 28 41 7 34 --target_index 1 2 4 5 6 8 9 10 11 12 13 14 15 16 17 19 20 21 22 23 24 25 26 27 29 30 31 32 33 35 36 37 38 39 40 42 43 44 45  --in_dim 7 --out_dim 39\n",
    "# !python ../train_net/validation.py --transform_signal normalize --n_iter 4000 --path_run_dir 'test_models_LI_single_07'  --path_output_dir 'large_intestine_output/val_vae_07.npy' --path_dataset_val_csv \"../csv/val_path_LI.csv\"   --input_index  3 18 0 28 7 34  --target_index 1 2 4 5 6 8 9 10 11 12 13 14 15 16 17 19 20 21 22 23 24 25 26 27 29 30 31 32 33 35 36 37 38 39 40 42 43 44 45  --in_dim 7 --out_dim 39"
   ]
  },
  {
   "cell_type": "code",
   "execution_count": 18,
   "id": "91439482",
   "metadata": {},
   "outputs": [
    {
     "name": "stdout",
     "output_type": "stream",
     "text": [
      "add 44 into input\n",
      "input: [3, 18, 0, 28, 41, 7, 34, 44]\n",
      "output:  [1, 2, 4, 5, 6, 8, 9, 10, 11, 12, 13, 14, 15, 16, 17, 19, 20, 21, 22, 23, 24, 25, 26, 27, 29, 30, 31, 32, 33, 35, 36, 37, 38, 39, 40, 42, 43, 45]\n",
      "--out_drop_index: 37\n"
     ]
    }
   ],
   "source": [
    "val_loss_path = r'large_intestine_output/val_vae_07.npy' \n",
    "idx = g.updateAndFindNext(idx, val_loss_path)\n",
    "out_drop = out.index(idx) \n",
    "print(\"--out_drop_index:\", out_drop)\n",
    "out = g.output.copy()"
   ]
  },
  {
   "cell_type": "markdown",
   "id": "1f513fcf",
   "metadata": {},
   "source": [
    "### Round8"
   ]
  },
  {
   "cell_type": "code",
   "execution_count": 19,
   "id": "c7b631b8",
   "metadata": {},
   "outputs": [],
   "source": [
    "# !python ../train_net/train_model.py --transform_signal normalize --n_iter 4000  --interval_save 200 --iter_checkpoint 200 --drop_patch_threshold -13000 --path_run_dir 'test_models_LI_single_08'  --path_pretrain_dir 'test_models_LI_single_07' --path_dataset_csv \"../csv/train_path_LI.csv\"  --path_dataset_val_csv \"../csv/val_path_LI.csv\" --out_drop_index 37 --input_index 3 18 0 28 41 7 34 44 --target_index 1 2 4 5 6 8 9 10 11 12 13 14 15 16 17 19 20 21 22 23 24 25 26 27 29 30 31 32 33 35 36 37 38 39 40 42 43 45  --in_dim 8 --out_dim 38\n",
    "# !python ../train_net/validation.py --transform_signal normalize --n_iter 4000 --path_run_dir 'test_models_LI_single_08'  --path_output_dir 'large_intestine_output/val_vae_08.npy' --path_dataset_val_csv \"../csv/val_path_LI.csv\"   --input_index  3 18 0 28 7 34 37 --target_index 1 2 4 5 6 8 9 10 11 12 13 14 15 16 17 19 20 21 22 23 24 25 26 27 29 30 31 32 33 35 36 37 38 39 40 42 43 45  --in_dim 8 --out_dim 38"
   ]
  },
  {
   "cell_type": "code",
   "execution_count": 20,
   "id": "4e2659c0",
   "metadata": {},
   "outputs": [
    {
     "name": "stdout",
     "output_type": "stream",
     "text": [
      "add 17 into input\n",
      "input: [3, 18, 0, 28, 41, 7, 34, 44, 17]\n",
      "output:  [1, 2, 4, 5, 6, 8, 9, 10, 11, 12, 13, 14, 15, 16, 19, 20, 21, 22, 23, 24, 25, 26, 27, 29, 30, 31, 32, 33, 35, 36, 37, 38, 39, 40, 42, 43, 45]\n",
      "--out_drop_index: 14\n"
     ]
    }
   ],
   "source": [
    "val_loss_path = r'large_intestine_output/val_vae_08.npy' \n",
    "idx = g.updateAndFindNext(idx, val_loss_path)\n",
    "out_drop = out.index(idx) \n",
    "print(\"--out_drop_index:\", out_drop)\n",
    "out = g.output.copy()"
   ]
  },
  {
   "cell_type": "markdown",
   "id": "1c106681",
   "metadata": {},
   "source": [
    "### Round9"
   ]
  },
  {
   "cell_type": "code",
   "execution_count": 21,
   "id": "54d49cf8",
   "metadata": {},
   "outputs": [],
   "source": [
    "# !python ../train_net/train_model.py --transform_signal normalize --n_iter 4000  --interval_save 200 --iter_checkpoint 200 --drop_patch_threshold -13000 --path_run_dir 'test_models_LI_single_09'  --path_pretrain_dir 'test_models_LI_single_08' --path_dataset_csv \"../csv/train_path_LI.csv\"  --path_dataset_val_csv \"../csv/val_path_LI.csv\" --out_drop_index 14 --input_index 3 18 0 28 41 7 34 44 17 --target_index 1 2 4 5 6 8 9 10 11 12 13 14 15 16 19 20 21 22 23 24 25 26 27 29 30 31 32 33 35 36 37 38 39 40 42 43 45  --in_dim 9 --out_dim 37\n",
    "# !python ../train_net/validation.py --transform_signal normalize --n_iter 4000 --path_run_dir 'test_models_LI_single_09'  --path_output_dir 'large_intestine_output/val_vae_09.npy' --path_dataset_val_csv \"../csv/val_path_LI.csv\"   --input_index  3 18 0 28 7 34 37 17 --target_index 1 2 4 5 6 8 9 10 11 12 13 14 15 16 19 20 21 22 23 24 25 26 27 29 30 31 32 33 35 36 37 38 39 40 42 43 45  --in_dim 9 --out_dim 37"
   ]
  },
  {
   "cell_type": "code",
   "execution_count": 22,
   "id": "6fdaba64",
   "metadata": {},
   "outputs": [
    {
     "name": "stdout",
     "output_type": "stream",
     "text": [
      "add 25 into input\n",
      "input: [3, 18, 0, 28, 41, 7, 34, 44, 17, 25]\n",
      "output:  [1, 2, 4, 5, 6, 8, 9, 10, 11, 12, 13, 14, 15, 16, 19, 20, 21, 22, 23, 24, 26, 27, 29, 30, 31, 32, 33, 35, 36, 37, 38, 39, 40, 42, 43, 45]\n",
      "--out_drop_index: 20\n"
     ]
    }
   ],
   "source": [
    "val_loss_path = r'large_intestine_output/val_vae_09.npy'\n",
    "idx = g.updateAndFindNext(idx, val_loss_path)\n",
    "out_drop = out.index(idx) \n",
    "print(\"--out_drop_index:\", out_drop)\n",
    "out = g.output.copy()"
   ]
  },
  {
   "cell_type": "markdown",
   "id": "236a9b35",
   "metadata": {},
   "source": [
    "### Round10"
   ]
  },
  {
   "cell_type": "code",
   "execution_count": 23,
   "id": "ff823608",
   "metadata": {},
   "outputs": [],
   "source": [
    "# !python ../train_net/train_model.py --transform_signal normalize --n_iter 4000  --interval_save 200 --iter_checkpoint 200 --drop_patch_threshold -13000 --path_run_dir 'test_models_LI_single_10'  --path_pretrain_dir 'test_models_LI_single_09' --path_dataset_csv \"../csv/train_path_LI.csv\"  --path_dataset_val_csv \"../csv/val_path_LI.csv\" --out_drop_index 20 --input_index 3 18 0 28 41 7 34 44 17 25 --target_index 1 2 4 5 6 8 9 10 11 12 13 14 15 16 19 20 21 22 23 24 26 27 29 30 31 32 33 35 36 37 38 39 40 42 43 45  --in_dim 10 --out_dim 36\n",
    "# !python ../train_net/validation.py --transform_signal normalize --n_iter 4000 --path_run_dir 'test_models_LI_single_10'  --path_output_dir 'large_intestine_output/val_vae_10.npy' --path_dataset_val_csv \"../csv/val_path_LI.csv\"   --input_index  3 18 0 28 7 34 37 17 25 --target_index 1 2 4 5 6 8 9 10 11 12 13 14 15 16 19 20 21 22 23 24 26 27 29 30 31 32 33 35 37 38 39 40 42 43 45  --in_dim 10 --out_dim 36"
   ]
  },
  {
   "cell_type": "code",
   "execution_count": 24,
   "id": "5552bdf1",
   "metadata": {},
   "outputs": [
    {
     "name": "stdout",
     "output_type": "stream",
     "text": [
      "add 36 into input\n",
      "input: [3, 18, 0, 28, 41, 7, 34, 44, 17, 25, 36]\n",
      "output:  [1, 2, 4, 5, 6, 8, 9, 10, 11, 12, 13, 14, 15, 16, 19, 20, 21, 22, 23, 24, 26, 27, 29, 30, 31, 32, 33, 35, 37, 38, 39, 40, 42, 43, 45]\n",
      "--out_drop_index: 28\n"
     ]
    }
   ],
   "source": [
    "val_loss_path = r'large_intestine_output/val_vae_10.npy' \n",
    "idx = g.updateAndFindNext(idx, val_loss_path)\n",
    "out_drop = out.index(idx) \n",
    "print(\"--out_drop_index:\", out_drop)\n",
    "out = g.output.copy()"
   ]
  },
  {
   "cell_type": "markdown",
   "id": "df7ee774",
   "metadata": {},
   "source": [
    "### Round11"
   ]
  },
  {
   "cell_type": "code",
   "execution_count": 25,
   "id": "3dd7ca6f",
   "metadata": {},
   "outputs": [],
   "source": [
    "# !python ../train_net/train_model.py --transform_signal normalize --n_iter 4000  --interval_save 200 --iter_checkpoint 200 --drop_patch_threshold -13000 --path_run_dir 'test_models_LI_single_11'  --path_pretrain_dir 'test_models_LI_single_10' --path_dataset_csv \"../csv/train_path_LI.csv\"  --path_dataset_val_csv \"../csv/val_path_LI.csv\" --out_drop_index 28 --input_index 3 18 0 28 41 7 34 44 17 25 36 --target_index 1 2 4 5 6 8 9 10 11 12 13 14 15 16 19 20 21 22 23 24 26 27 29 30 31 32 33 35 37 38 39 40 42 43 45  --in_dim 11 --out_dim 35\n",
    "# !python ../train_net/validation.py --transform_signal normalize --n_iter 4000 --path_run_dir 'test_models_LI_single_11'  --path_output_dir 'large_intestine_output/val_vae_11.npy' --path_dataset_val_csv \"../csv/val_path_LI.csv\"   --input_index  3 18 0 28 7 34 37 17 25 35 --target_index 1 2 4 5 6 8 9 10 11 12 13 14 15 16 19 20 21 22 23 24 26 27 29 30 31 32 33 37 38 39 40 42 43 45  --in_dim 11 --out_dim 35"
   ]
  },
  {
   "cell_type": "code",
   "execution_count": 26,
   "id": "3a7b37c6",
   "metadata": {},
   "outputs": [
    {
     "name": "stdout",
     "output_type": "stream",
     "text": [
      "add 27 into input\n",
      "input: [3, 18, 0, 28, 41, 7, 34, 44, 17, 25, 36, 27]\n",
      "output:  [1, 2, 4, 5, 6, 8, 9, 10, 11, 12, 13, 14, 15, 16, 19, 20, 21, 22, 23, 24, 26, 29, 30, 31, 32, 33, 35, 37, 38, 39, 40, 42, 43, 45]\n",
      "--out_drop_index: 21\n"
     ]
    }
   ],
   "source": [
    "val_loss_path = r'large_intestine_output/val_vae_11.npy'  \n",
    "idx = g.updateAndFindNext(idx, val_loss_path)\n",
    "out_drop = out.index(idx) \n",
    "print(\"--out_drop_index:\", out_drop)\n",
    "out = g.output.copy()"
   ]
  },
  {
   "cell_type": "markdown",
   "id": "31b6db93",
   "metadata": {},
   "source": [
    "### Round12"
   ]
  },
  {
   "cell_type": "code",
   "execution_count": 27,
   "id": "64cdb64e",
   "metadata": {},
   "outputs": [],
   "source": [
    "# !python ../train_net/train_model.py --transform_signal normalize --n_iter 4000  --interval_save 200 --iter_checkpoint 200 --drop_patch_threshold -13000 --path_run_dir 'test_models_LI_single_12'  --path_pretrain_dir 'test_models_LI_single_11' --path_dataset_csv \"../csv/train_path_LI.csv\"  --path_dataset_val_csv \"../csv/val_path_LI.csv\" --out_drop_index 21 --input_index 3 18 0 28 41 7 34 44 17 25 36 27 --target_index 1 2 4 5 6 8 9 10 11 12 13 14 15 16 19 20 21 22 23 24 26 29 30 31 32 33 35 37 38 39 40 42 43 45  --in_dim 12 --out_dim 34\n",
    "# !python ../train_net/validation.py --transform_signal normalize --n_iter 4000 --path_run_dir 'test_models_LI_single_11'  --path_output_dir 'large_intestine_output/val_vae_11.npy' --path_dataset_val_csv \"../csv/val_path_LI.csv\"   --input_index  3 18 0 28 7 34 37 17 25 35 27 --target_index 1 2 4 5 6 8 9 10 11 12 13 14 15 16 19 20 21 22 23 24 26 29 30 31 32 33 37 38 39 40 42 43 45  --in_dim 12 --out_dim 34"
   ]
  },
  {
   "cell_type": "code",
   "execution_count": 28,
   "id": "09aa1b4d",
   "metadata": {},
   "outputs": [
    {
     "name": "stdout",
     "output_type": "stream",
     "text": [
      "add 6 into input\n",
      "input: [3, 18, 0, 28, 41, 7, 34, 44, 17, 25, 36, 27, 6]\n",
      "output:  [1, 2, 4, 5, 8, 9, 10, 11, 12, 13, 14, 15, 16, 19, 20, 21, 22, 23, 24, 26, 29, 30, 31, 32, 33, 35, 37, 38, 39, 40, 42, 43, 45]\n",
      "--out_drop_index: 4\n"
     ]
    }
   ],
   "source": [
    "val_loss_path = r'large_intestine_output/val_vae_12.npy' \n",
    "idx = g.updateAndFindNext(idx, val_loss_path)\n",
    "out_drop = out.index(idx) \n",
    "print(\"--out_drop_index:\", out_drop)\n",
    "out = g.output.copy()"
   ]
  },
  {
   "cell_type": "markdown",
   "id": "6a140ad2",
   "metadata": {},
   "source": [
    "### Round13"
   ]
  },
  {
   "cell_type": "code",
   "execution_count": 29,
   "id": "5591c8e0",
   "metadata": {},
   "outputs": [],
   "source": [
    "# !python ../train_net/train_model.py --transform_signal normalize --n_iter 4000  --interval_save 200 --iter_checkpoint 200 --drop_patch_threshold -13000 --path_run_dir 'test_models_LI_single_13'  --path_pretrain_dir 'test_models_LI_single_12' --path_dataset_csv \"../csv/train_path_LI.csv\"  --path_dataset_val_csv \"../csv/val_path_LI.csv\" --out_drop_index 4 --input_index 3 18 0 28 41 7 34 44 17 25 36 27 6  --target_index 1 2 4 5 8 9 10 11 12 13 14 15 16 19 20 21 22 23 24 26 29 30 31 32 33 35 37 38 39 40 42 43 45  --in_dim 13 --out_dim 33\n",
    "# !python ../train_net/validation.py --transform_signal normalize --n_iter 4000 --path_run_dir 'test_models_LI_single_13'  --path_output_dir 'large_intestine_output/val_vae_13.npy' --path_dataset_val_csv \"../csv/val_path_LI.csv\"   --input_index  3 18 0 28 7 34 37 17 25 35 27 6  --target_index 1 2 4 5 8 9 10 11 12 13 14 15 16 19 20 21 22 23 24 26 29 30 31 32 33 37 38 39 40 42 43 45  --in_dim 13 --out_dim 33"
   ]
  },
  {
   "cell_type": "code",
   "execution_count": 30,
   "id": "282002fc",
   "metadata": {},
   "outputs": [
    {
     "name": "stdout",
     "output_type": "stream",
     "text": [
      "add 14 into input\n",
      "input: [3, 18, 0, 28, 41, 7, 34, 44, 17, 25, 36, 27, 6, 14]\n",
      "output:  [1, 2, 4, 5, 8, 9, 10, 11, 12, 13, 15, 16, 19, 20, 21, 22, 23, 24, 26, 29, 30, 31, 32, 33, 35, 37, 38, 39, 40, 42, 43, 45]\n",
      "--out_drop_index: 10\n"
     ]
    }
   ],
   "source": [
    "val_loss_path = r'large_intestine_output/val_vae_13.npy'\n",
    "idx = g.updateAndFindNext(idx, val_loss_path)\n",
    "out_drop = out.index(idx) \n",
    "print(\"--out_drop_index:\", out_drop)\n",
    "out = g.output.copy()"
   ]
  },
  {
   "cell_type": "markdown",
   "id": "cd539ceb",
   "metadata": {},
   "source": [
    "### Round14"
   ]
  },
  {
   "cell_type": "code",
   "execution_count": 31,
   "id": "3c30e9c7",
   "metadata": {},
   "outputs": [],
   "source": [
    "# !python ../train_net/train_model.py --transform_signal normalize --n_iter 4000  --interval_save 200 --iter_checkpoint 200 --drop_patch_threshold -13000 --path_run_dir 'test_models_LI_single_14'  --path_pretrain_dir 'test_models_LI_single_13' --path_dataset_csv \"../csv/train_path_LI.csv\"  --path_dataset_val_csv \"../csv/val_path_LI.csv\" --out_drop_index 10 --input_index 3 18 0 28 41 7 34 44 17 25 36 27 6 14 --target_index 1 2 4 5 8 9 10 11 12 13 15 16 19 20 21 22 23 24 26 29 30 31 32 33 35 37 38 39 40 42 43 45  --in_dim 14 --out_dim 32\n",
    "# !python ../train_net/validation.py --transform_signal normalize --n_iter 4000 --path_run_dir 'test_models_LI_single_14'  --path_output_dir 'large_intestine_output/val_vae_14.npy' --path_dataset_val_csv \"../csv/val_path_LI.csv\"   --input_index  3 18 0 28 7 34 37 17 25 35 27 6 14  --target_index 1 2 4 5 8 9 10 11 12 13 15 16 19 20 21 22 23 24 26 29 30 31 32 33 37 38 39 40 42 43 45  --in_dim 14 --out_dim 32"
   ]
  },
  {
   "cell_type": "code",
   "execution_count": 32,
   "id": "40b0e756",
   "metadata": {},
   "outputs": [
    {
     "name": "stdout",
     "output_type": "stream",
     "text": [
      "add 40 into input\n",
      "input: [3, 18, 0, 28, 41, 7, 34, 44, 17, 25, 36, 27, 6, 14, 40]\n",
      "output:  [1, 2, 4, 5, 8, 9, 10, 11, 12, 13, 15, 16, 19, 20, 21, 22, 23, 24, 26, 29, 30, 31, 32, 33, 35, 37, 38, 39, 42, 43, 45]\n",
      "--out_drop_index: 28\n"
     ]
    }
   ],
   "source": [
    "val_loss_path = r'large_intestine_output/val_vae_14.npy' \n",
    "idx = g.updateAndFindNext(idx, val_loss_path)\n",
    "out_drop = out.index(idx) \n",
    "print(\"--out_drop_index:\", out_drop)\n",
    "out = g.output.copy()"
   ]
  },
  {
   "cell_type": "markdown",
   "id": "095506b6",
   "metadata": {},
   "source": [
    "### Round15"
   ]
  },
  {
   "cell_type": "code",
   "execution_count": 33,
   "id": "1c406718",
   "metadata": {},
   "outputs": [],
   "source": [
    "# !python ../train_net/train_model.py --transform_signal normalize --n_iter 4000  --interval_save 200 --iter_checkpoint 200 --drop_patch_threshold -13000 --path_run_dir 'test_models_LI_single_15'  --path_pretrain_dir 'test_models_LI_single_14' --path_dataset_csv \"../csv/train_path_LI.csv\"  --path_dataset_val_csv \"../csv/val_path_LI.csv\" --out_drop_index 28 --input_index 3 18 0 28 41 7 34 44 17 25 36 27 6 14 40 --target_index 1 2 4 5 8 9 10 11 12 13 15 16 19 20 21 22 23 24 26 29 30 31 32 33 35 37 38 39 42 43 45  --in_dim 15 --out_dim 31\n",
    "# !python ../train_net/validation.py --transform_signal normalize --n_iter 4000 --path_run_dir 'test_models_LI_single_15'  --path_output_dir 'large_intestine_output/val_vae_15.npy' --path_dataset_val_csv \"../csv/val_path_LI.csv\"   --input_index  3 18 0 28 7 34 37 17 25 35 27 6 14 15  --target_index 1 2 4 5 8 9 10 11 12 13 16 19 20 21 22 23 24 26 29 30 31 32 33 37 38 39 40 42 43 45  --in_dim 15 --out_dim 31"
   ]
  },
  {
   "cell_type": "code",
   "execution_count": 34,
   "id": "b63339b5",
   "metadata": {},
   "outputs": [
    {
     "name": "stdout",
     "output_type": "stream",
     "text": [
      "add 13 into input\n",
      "input: [3, 18, 0, 28, 41, 7, 34, 44, 17, 25, 36, 27, 6, 14, 40, 13]\n",
      "output:  [1, 2, 4, 5, 8, 9, 10, 11, 12, 15, 16, 19, 20, 21, 22, 23, 24, 26, 29, 30, 31, 32, 33, 35, 37, 38, 39, 42, 43, 45]\n",
      "--out_drop_index: 9\n"
     ]
    }
   ],
   "source": [
    "val_loss_path = r'large_intestine_output/val_vae_15.npy' \n",
    "idx = g.updateAndFindNext(idx, val_loss_path)\n",
    "out_drop = out.index(idx) \n",
    "print(\"--out_drop_index:\", out_drop)\n",
    "out = g.output.copy()"
   ]
  },
  {
   "cell_type": "markdown",
   "id": "4b29d5fa",
   "metadata": {},
   "source": [
    "### Round16"
   ]
  },
  {
   "cell_type": "code",
   "execution_count": 35,
   "id": "9378a375",
   "metadata": {},
   "outputs": [],
   "source": [
    "# !python ../train_net/train_model.py --transform_signal normalize --n_iter 4000  --interval_save 200 --iter_checkpoint 200 --drop_patch_threshold -13000 --path_run_dir 'test_models_LI_single_16'  --path_pretrain_dir 'test_models_LI_single_15' --path_dataset_csv \"../csv/train_path_LI.csv\"  --path_dataset_val_csv \"../csv/val_path_LI.csv\" --out_drop_index 9 --input_index 3 18 0 28 41 7 34 44 17 25 36 27 6 14 40 13 --target_index 1 2 4 5 8 9 10 11 12 15 16 19 20 21 22 23 24 26 29 30 31 32 33 35 37 38 39 42 43 45  --in_dim 16 --out_dim 30\n",
    "# !python ../train_net/validation.py --transform_signal normalize --n_iter 4000 --path_run_dir 'test_models_LI_single_16'  --path_output_dir 'large_intestine_output/val_vae_16.npy' --path_dataset_val_csv \"../csv/val_path_LI.csv\"   --input_index  3 18 0 28 7 34 37 17 25 35 27 6 14 15 13  --target_index 1 2 4 5 8 9 10 11 12 16 19 20 21 22 23 24 26 29 30 31 32 33 37 38 39 40 42 43 45  --in_dim 16 --out_dim 30"
   ]
  },
  {
   "cell_type": "code",
   "execution_count": 36,
   "id": "48d8cc33",
   "metadata": {},
   "outputs": [
    {
     "name": "stdout",
     "output_type": "stream",
     "text": [
      "add 23 into input\n",
      "input: [3, 18, 0, 28, 41, 7, 34, 44, 17, 25, 36, 27, 6, 14, 40, 13, 23]\n",
      "output:  [1, 2, 4, 5, 8, 9, 10, 11, 12, 15, 16, 19, 20, 21, 22, 24, 26, 29, 30, 31, 32, 33, 35, 37, 38, 39, 42, 43, 45]\n",
      "--out_drop_index: 15\n"
     ]
    }
   ],
   "source": [
    "val_loss_path = r'large_intestine_output/val_vae_16.npy' \n",
    "idx = g.updateAndFindNext(idx, val_loss_path)\n",
    "out_drop = out.index(idx) \n",
    "print(\"--out_drop_index:\", out_drop)\n",
    "out = g.output.copy()"
   ]
  },
  {
   "cell_type": "markdown",
   "id": "f723fb62",
   "metadata": {},
   "source": [
    "### Roung17"
   ]
  },
  {
   "cell_type": "code",
   "execution_count": 37,
   "id": "2c3d338e",
   "metadata": {},
   "outputs": [],
   "source": [
    "# !python ../train_net/train_model.py --transform_signal normalize --n_iter 4000  --interval_save 200 --iter_checkpoint 200 --drop_patch_threshold -13000 --path_run_dir 'test_models_LI_single_17'  --path_pretrain_dir 'test_models_LI_single_16' --path_dataset_csv \"../csv/train_path_LI.csv\"  --path_dataset_val_csv \"../csv/val_path_LI.csv\" --out_drop_index 15 --input_index 3 18 0 28 41 7 34 44 17 25 36 27 6 14 40 13 23 --target_index 1 2 4 5 8 9 10 11 12 15 16 19 20 21 22 24 26 29 30 31 32 33 35 37 38 39 42 43 45  --in_dim 17 --out_dim 29\n",
    "# !python ../train_net/validation.py --transform_signal normalize --n_iter 4000 --path_run_dir 'test_models_LI_single_17'  --path_output_dir 'large_intestine_output/val_vae_17.npy' --path_dataset_val_csv \"../csv/val_path_LI.csv\"   --input_index  3 18 0 28 7 34 37 17 25 35 27 6 14 15 13 23  --target_index 1 2 4 5 8 9 10 11 12 16 19 20 21 22 24 26 29 30 31 32 33 37 38 39 40 42 43 45  --in_dim 17 --out_dim 29"
   ]
  },
  {
   "cell_type": "code",
   "execution_count": 38,
   "id": "1c7fc511",
   "metadata": {},
   "outputs": [
    {
     "name": "stdout",
     "output_type": "stream",
     "text": [
      "add 37 into input\n",
      "input: [3, 18, 0, 28, 41, 7, 34, 44, 17, 25, 36, 27, 6, 14, 40, 13, 23, 37]\n",
      "output:  [1, 2, 4, 5, 8, 9, 10, 11, 12, 15, 16, 19, 20, 21, 22, 24, 26, 29, 30, 31, 32, 33, 35, 38, 39, 42, 43, 45]\n",
      "--out_drop_index: 23\n"
     ]
    }
   ],
   "source": [
    "val_loss_path = r'large_intestine_output/val_vae_17.npy' \n",
    "idx = g.updateAndFindNext(idx, val_loss_path)\n",
    "out_drop = out.index(idx) \n",
    "print(\"--out_drop_index:\", out_drop)\n",
    "out = g.output.copy()"
   ]
  },
  {
   "cell_type": "markdown",
   "id": "7678ba7e",
   "metadata": {},
   "source": [
    "### Round18"
   ]
  },
  {
   "cell_type": "code",
   "execution_count": 39,
   "id": "658567cd",
   "metadata": {},
   "outputs": [],
   "source": [
    "# !python ../train_net/train_model.py --transform_signal normalize --n_iter 4000  --interval_save 200 --iter_checkpoint 200 --drop_patch_threshold -13000 --path_run_dir 'test_models_LI_single_18'  --path_pretrain_dir 'test_models_LI_single_17' --path_dataset_csv \"../csv/train_path_LI.csv\"  --path_dataset_val_csv \"../csv/val_path_LI.csv\" --out_drop_index 23 --input_index 3 18 0 28 41 7 34 44 17 25 36 27 6 14 40 13 23 37 --target_index 1 2 4 5 8 9 10 11 12 15 16 19 20 21 22 24 26 29 30 31 32 33 35 38 39 42 43 45  --in_dim 18 --out_dim 28\n",
    "# !python ../train_net/validation.py --transform_signal normalize --n_iter 4000 --path_run_dir 'test_models_LI_single_18'  --path_output_dir 'large_intestine_output/val_vae_18.npy' --path_dataset_val_csv \"../csv/val_path_LI.csv\"   --input_index  3 18 0 28 7 34 37 17 25 35 27 6 14 15 13 23 37 --target_index 1 2 4 5 8 9 10 11 12 16 19 20 21 22 24 26 29 30 31 32 33 38 39 40 42 43 45  --in_dim 18 --out_dim 28"
   ]
  },
  {
   "cell_type": "code",
   "execution_count": 40,
   "id": "5159fec9",
   "metadata": {},
   "outputs": [
    {
     "name": "stdout",
     "output_type": "stream",
     "text": [
      "add 8 into input\n",
      "input: [3, 18, 0, 28, 41, 7, 34, 44, 17, 25, 36, 27, 6, 14, 40, 13, 23, 37, 8]\n",
      "output:  [1, 2, 4, 5, 9, 10, 11, 12, 15, 16, 19, 20, 21, 22, 24, 26, 29, 30, 31, 32, 33, 35, 38, 39, 42, 43, 45]\n",
      "--out_drop_index: 4\n"
     ]
    }
   ],
   "source": [
    "val_loss_path = r'large_intestine_output/val_vae_18.npy' \n",
    "idx = g.updateAndFindNext(idx, val_loss_path)\n",
    "out_drop = out.index(idx) \n",
    "print(\"--out_drop_index:\", out_drop)\n",
    "out = g.output.copy()"
   ]
  },
  {
   "cell_type": "markdown",
   "id": "febc0532",
   "metadata": {},
   "source": [
    "### Round19"
   ]
  },
  {
   "cell_type": "code",
   "execution_count": 41,
   "id": "b58b11de",
   "metadata": {},
   "outputs": [],
   "source": [
    "# !python ../train_net/train_model.py --transform_signal normalize --n_iter 4000  --interval_save 200 --iter_checkpoint 200 --drop_patch_threshold -13000 --path_run_dir 'test_models_LI_single_19'  --path_pretrain_dir 'test_models_LI_single_18' --path_dataset_csv \"../csv/train_path_LI.csv\"  --path_dataset_val_csv \"../csv/val_path_LI.csv\" --out_drop_index 4 --input_index 3 18 0 28 41 7 34 44 17 25 36 27 6 14 40 13 23 37 8 --target_index 1 2 4 5 9 10 11 12 15 16 19 20 21 22 24 26 29 30 31 32 33 35 38 39 42 43 45  --in_dim 19 --out_dim 27\n",
    "# !python ../train_net/validation.py --transform_signal normalize --n_iter 4000 --path_run_dir 'test_models_LI_single_19'  --path_output_dir 'large_intestine_output/val_vae_19.npy' --path_dataset_val_csv \"../csv/val_path_LI.csv\"   --input_index  3 18 0 28 7 34 37 17 25 35 27 6 14 15 13 23 37 8 --target_index 1 2 4 5 9 10 11 12 16 19 20 21 22 24 26 29 30 31 32 33 38 39 40 42 43 45  --in_dim 19 --out_dim 27"
   ]
  },
  {
   "cell_type": "code",
   "execution_count": 42,
   "id": "75eb3371",
   "metadata": {},
   "outputs": [
    {
     "name": "stdout",
     "output_type": "stream",
     "text": [
      "add 32 into input\n",
      "input: [3, 18, 0, 28, 41, 7, 34, 44, 17, 25, 36, 27, 6, 14, 40, 13, 23, 37, 8, 32]\n",
      "output:  [1, 2, 4, 5, 9, 10, 11, 12, 15, 16, 19, 20, 21, 22, 24, 26, 29, 30, 31, 33, 35, 38, 39, 42, 43, 45]\n",
      "--out_drop_index: 19\n"
     ]
    }
   ],
   "source": [
    "val_loss_path = r'large_intestine_output/val_vae_19.npy' \n",
    "idx = g.updateAndFindNext(idx, val_loss_path)\n",
    "out_drop = out.index(idx) \n",
    "print(\"--out_drop_index:\", out_drop)\n",
    "out = g.output.copy()"
   ]
  },
  {
   "cell_type": "code",
   "execution_count": 43,
   "id": "8ce6cc1f",
   "metadata": {},
   "outputs": [],
   "source": [
    "with open('marker_list/LI46.txt') as f:\n",
    "    li_markers = f.read().splitlines()"
   ]
  },
  {
   "cell_type": "code",
   "execution_count": 44,
   "id": "0b3fcbf5",
   "metadata": {},
   "outputs": [
    {
     "data": {
      "image/png": "[encoded data removed]",
      "text/plain": [
       "<Figure size 1000x800 with 2 Axes>"
      ]
     },
     "metadata": {},
     "output_type": "display_data"
    }
   ],
   "source": [
    "n = len(g.nodes)\n",
    "edge_mtx = np.zeros((n, n))\n",
    "for i in range(n):\n",
    "    edges = g.nodes[i].edges\n",
    "    for k in range(i, len(edges)):\n",
    "        j = k+1\n",
    "        edge_mtx[i,j] = edges[k].value\n",
    "for j in range(n):\n",
    "    edge_mtx[j, j] = 0\n",
    "    for i in range(j+1, n):\n",
    "        edge_mtx[i, j] = edge_mtx[j, i]\n",
    "\n",
    "fig, ax = plt.subplots(figsize=(10, 8))\n",
    "df = pd.DataFrame(edge_mtx)\n",
    "p = sns.heatmap(df, xticklabels=True, yticklabels=True, vmin=0, vmax = 0.62)\n",
    "p.set_xticklabels(li_markers, rotation=90)\n",
    "p.set_yticklabels(li_markers, rotation=0)\n",
    "plt.show()"
   ]
  },
  {
   "cell_type": "markdown",
   "id": "ab15f4a1",
   "metadata": {},
   "source": [
    "### test"
   ]
  },
  {
   "cell_type": "code",
   "execution_count": 45,
   "id": "80ef3afc",
   "metadata": {},
   "outputs": [],
   "source": [
    "# !python ../train_net/predict_full_view.py --transform_signal normalize --save_image  --path_run_dir 'test_models_LI_single_19'  --path_dataset_csv \"../csv/test_path_LI.csv\" --input_index 3 18 0 28 7 34 37 17 25 35 27 6 14 15 13 23 37 8 --target_index 1 2 4 5 9 10 11 12 16 19 20 21 22 24 26 29 30 31 32 33 38 39 40 42 43 45 "
   ]
  },
  {
   "cell_type": "markdown",
   "id": "d59c5935",
   "metadata": {},
   "source": [
    "cropped image in Figure 5"
   ]
  },
  {
   "cell_type": "code",
   "execution_count": 46,
   "id": "4b58b7ac",
   "metadata": {},
   "outputs": [],
   "source": [
    "from visualization import *"
   ]
  },
  {
   "cell_type": "code",
   "execution_count": 47,
   "id": "3257a06d",
   "metadata": {},
   "outputs": [],
   "source": [
    "inf3 = inf3, top3, path_real, path_synth, transform_signal, w_start, w_end, h_start, h_end, output_dir)[4, 24, 9]\n",
    "top3 = [21, 1, 29]\n",
    "path_real = \"../data/large_intestine/normalized_images/HBM964.FPNH.767.tiff\"\n",
    "path_synth = \"test_models_LI_single_19/imgs/3_synth.tiff\"\n",
    "transform_signal = 'normalize'\n",
    "w_start = 5500\n",
    "w_end = 7000\n",
    "h_start = 3000\n",
    "h_end = 4500\n",
    "output_dir = \"large_intestine_output\"\n",
    "path_synth_mp = \"../mp/large_intestine_output/3_synth.tiff\"\n",
    "\n",
    "crop_image("
   ]
  },
  {
   "cell_type": "markdown",
   "id": "b840dfe1",
   "metadata": {},
   "source": [
    "get top3, inferior3 markers and their most similar observed markers"
   ]
  },
  {
   "cell_type": "code",
   "execution_count": 48,
   "id": "e3b4b647",
   "metadata": {},
   "outputs": [],
   "source": [
    "idx1 = [3, 18, 0, 28, 7, 34, 37, 17, 25, 35, 27, 6, 14, 15, 13, 23, 37, 8]\n",
    "idx2 = [1, 2, 4, 5, 9, 10, 11, 12, 16, 19, 20, 21, 22, 24, 26, 29, 30, 31, 32, 33, 38, 39, 40, 42, 43, 45]\n",
    "select_markers(idx1, idx2, path_real, path_synth, transform_signal)"
   ]
  },
  {
   "cell_type": "code",
   "execution_count": null,
   "id": "7401ef0f",
   "metadata": {},
   "outputs": [],
   "source": []
  }
 ],
 "metadata": {
  "kernelspec": {
   "display_name": "Python 3 (ipykernel)",
   "language": "python",
   "name": "python3"
  },
  "language_info": {
   "codemirror_mode": {
    "name": "ipython",
    "version": 3
   },
   "file_extension": ".py",
   "mimetype": "text/x-python",
   "name": "python",
   "nbconvert_exporter": "python",
   "pygments_lexer": "ipython3",
   "version": "3.10.6"
  }
 },
 "nbformat": 4,
 "nbformat_minor": 5
}
