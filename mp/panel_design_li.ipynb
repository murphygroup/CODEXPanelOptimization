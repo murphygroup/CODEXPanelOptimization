{
 "cells": [
  {
   "cell_type": "code",
   "execution_count": 1,
   "metadata": {},
   "outputs": [],
   "source": [
    "import numpy as np\n",
    "from MarkerGraph import *\n",
    "import matplotlib.pyplot as plt\n",
    "import os"
   ]
  },
  {
   "cell_type": "code",
   "execution_count": 2,
   "metadata": {},
   "outputs": [],
   "source": [
    "if not os.path.exists(\"large_intestine_output\"):\n",
    "    os.makedirs(\"large_intestine_output\")"
   ]
  },
  {
   "cell_type": "code",
   "execution_count": 3,
   "metadata": {},
   "outputs": [],
   "source": [
    "with open('marker_list/LI46.txt') as f:\n",
    "    li_markers = f.read().splitlines()"
   ]
  },
  {
   "cell_type": "code",
   "execution_count": 4,
   "metadata": {},
   "outputs": [],
   "source": [
    "p0 = [ 'Hoechst', 'DRAQ5', 'CD127',\n",
    "'CD4', 'CD44', 'CD49f', 'CD49a', 'CD123', 'CD19', 'aSMA',\n",
    "'CD66', 'CD138', 'CK7', 'ITLN1', 'Cytokeratin', 'MUC1', 'MUC2', 'CD45', 'CD45RO',]\n",
    "\n",
    "p1 = ['Hoechst', 'DRAQ5', 'CD127', \n",
    "'CD4', 'CD44', 'CD49f', 'CD49a', 'CD45', 'CD45RO', 'CD90',\n",
    "'CD57', 'CD69', 'CD117', 'Ki67', 'CD7', 'CD8', 'CD11c', 'HLADR']\n",
    "\n",
    "p2 = ['Hoechst',\n",
    "'CD66', 'ITLN1', 'CD138', 'CK7', 'Cytokeratin', 'MUC1', 'SOX9', 'Vimentin', 'CD38', 'CD31',\n",
    "'CD36', 'BCL2', 'CHGA', 'CD3', 'CD34', 'CDX2', 'CD161', 'CD15']\n",
    "\n",
    "p3 = ['Hoechst', \n",
    "'SOX9', 'Vimentin', 'CD38', 'CD31', 'CD36', 'BCL2', 'CHGA', 'CD3', 'CD34', 'CDX2', 'CD161', 'CD15',\n",
    "'CD206', 'CD21', 'CD56', 'CD68', 'CD16', 'CD163']\n",
    "\n",
    "p4 = ['Hoechst', 'DRAQ5', 'CD127',  \n",
    "'CD206', 'CD21', 'CD56', 'CD68', 'CD16', 'CD163',\n",
    "'CD90','CD57', 'CD69', 'CD117', 'Ki67', 'CD7', 'CD8', 'CD11c', 'HLADR']"
   ]
  },
  {
   "cell_type": "code",
   "execution_count": 5,
   "metadata": {},
   "outputs": [],
   "source": [
    "p0_idx = [li_markers.index(i) for i in p0]\n",
    "p1_idx = [li_markers.index(i) for i in p1]\n",
    "p2_idx = [li_markers.index(i) for i in p2]\n",
    "p3_idx = [li_markers.index(i) for i in p3]\n",
    "p4_idx = [li_markers.index(i) for i in p4]\n",
    "\n",
    "p0_idx = sorted(p0_idx)\n",
    "p1_idx = sorted(p1_idx)\n",
    "p2_idx = sorted(p2_idx)\n",
    "p3_idx = sorted(p3_idx)\n",
    "p4_idx = sorted(p4_idx)\n",
    "\n",
    "p_all = list(set(p0+p1+p2+p3+p4))\n",
    "assert len(p_all) == 46"
   ]
  },
  {
   "cell_type": "code",
   "execution_count": 6,
   "metadata": {},
   "outputs": [
    {
     "name": "stdout",
     "output_type": "stream",
     "text": [
      "p0_idx = [0, 2, 4, 6, 8, 12, 14, 17, 18, 19, 21, 23, 24, 27, 28, 29, 36, 39, 40]\n",
      "p1_idx = [0, 1, 2, 6, 7, 8, 9, 12, 18, 22, 26, 29, 34, 36, 37, 38, 40, 42]\n",
      "p2_idx = [0, 5, 10, 13, 14, 16, 17, 19, 20, 24, 25, 27, 30, 32, 33, 39, 41, 44, 45]\n",
      "p3_idx = [0, 3, 5, 10, 11, 13, 15, 16, 20, 25, 30, 31, 32, 33, 35, 41, 43, 44, 45]\n",
      "p4_idx = [0, 1, 2, 3, 6, 7, 9, 11, 15, 22, 26, 31, 34, 35, 37, 38, 42, 43]\n",
      "19\n",
      "18\n",
      "19\n",
      "19\n",
      "18\n"
     ]
    }
   ],
   "source": [
    "print('p0_idx =', p0_idx)\n",
    "print('p1_idx =', p1_idx)\n",
    "print('p2_idx =', p2_idx)\n",
    "print('p3_idx =', p3_idx)\n",
    "print('p4_idx =', p4_idx)\n",
    "\n",
    "print(len(p0_idx))\n",
    "print(len(p1_idx))\n",
    "print(len(p2_idx))\n",
    "print(len(p3_idx))\n",
    "print(len(p4_idx))"
   ]
  },
  {
   "cell_type": "code",
   "execution_count": 7,
   "metadata": {},
   "outputs": [
    {
     "name": "stdout",
     "output_type": "stream",
     "text": [
      "9.645606994628906\n"
     ]
    }
   ],
   "source": [
    "init_mtx_basic = np.load(\"../single/large_intestine_output/mae_mtx_li_single.npy\")\n",
    "print(np.sum(np.min(init_mtx_basic + 100 * np.eye(46), axis=0)))\n",
    "# crop out the initial matrix for each subpanel\n",
    "p0_mtx = init_mtx_basic[p0_idx, :][:, p0_idx]\n",
    "p1_mtx = init_mtx_basic[p1_idx, :][:, p1_idx]\n",
    "p2_mtx = init_mtx_basic[p2_idx, :][:, p2_idx]\n",
    "p3_mtx = init_mtx_basic[p3_idx, :][:, p3_idx]\n",
    "p4_mtx = init_mtx_basic[p4_idx, :][:, p4_idx]"
   ]
  },
  {
   "cell_type": "code",
   "execution_count": 8,
   "metadata": {},
   "outputs": [
    {
     "name": "stdout",
     "output_type": "stream",
     "text": [
      "0.31211402075048156\n"
     ]
    }
   ],
   "source": [
    "print((np.mean(p0_mtx) + np.mean(p1_mtx) + np.mean(p2_mtx) + np.mean(p3_mtx) + np.mean(p4_mtx))/5)"
   ]
  },
  {
   "cell_type": "code",
   "execution_count": 9,
   "metadata": {},
   "outputs": [],
   "source": [
    "num_markers = 46\n",
    "subgraphs_idx = [p0_idx, p1_idx, p2_idx, p3_idx, p4_idx]\n",
    "subgraphs_mtx = [p0_mtx, p1_mtx, p2_mtx, p3_mtx, p4_mtx]"
   ]
  },
  {
   "cell_type": "code",
   "execution_count": 10,
   "metadata": {},
   "outputs": [],
   "source": [
    "out_final =  [1, 2, 3, 4, 5, 8, 9, 10, 11, 12, 13, 14, 15, 16, 19, 21, 22, 23, 24, 25, 29, 30, 32, 33, 35, 37, 38, 39, 40, 42, 45]\n",
    "regret_list = []\n",
    "loss_list = []\n",
    "node_costs = []"
   ]
  },
  {
   "attachments": {},
   "cell_type": "markdown",
   "metadata": {},
   "source": [
    "### initialize"
   ]
  },
  {
   "cell_type": "code",
   "execution_count": 11,
   "metadata": {},
   "outputs": [],
   "source": [
    "G = MarkerGraph(subgraphs_idx, subgraphs_mtx, num_markers)\n",
    "G.mtx\n",
    "\n",
    "node_costs.append(np.sum(G.node_weights))"
   ]
  },
  {
   "attachments": {},
   "cell_type": "markdown",
   "metadata": {},
   "source": [
    "### update round 1"
   ]
  },
  {
   "cell_type": "code",
   "execution_count": 12,
   "metadata": {},
   "outputs": [
    {
     "name": "stdout",
     "output_type": "stream",
     "text": [
      "input: [6]\n",
      "output: [0, 1, 2, 3, 4, 5, 7, 8, 9, 10, 11, 12, 13, 14, 15, 16, 17, 18, 19, 20, 21, 22, 23, 24, 25, 26, 27, 28, 29, 30, 31, 32, 33, 34, 35, 36, 37, 38, 39, 40, 41, 42, 43, 44, 45]\n",
      "--------------------------------\n",
      "training subgraph:  0 input:  [6] output:  [0, 2, 4, 8, 12, 14, 17, 18, 19, 21, 23, 24, 27, 28, 29, 36, 39, 40]\n",
      "training subgraph:  1 input:  [6] output:  [0, 1, 2, 7, 8, 9, 12, 18, 22, 26, 29, 34, 36, 37, 38, 40, 42]\n",
      "training subgraph:  4 input:  [6] output:  [0, 1, 2, 3, 7, 9, 11, 15, 22, 26, 31, 34, 35, 37, 38, 42, 43]\n"
     ]
    }
   ],
   "source": [
    "first_marker = G.select_first_input()"
   ]
  },
  {
   "cell_type": "code",
   "execution_count": 13,
   "metadata": {},
   "outputs": [],
   "source": [
    "# train the net in subpanel0\n",
    "# !python ../train_net/train_model.py --transform_signal normalize --drop_patch_threshold -13000 --n_iter 3200  --interval_save 200 --iter_checkpoint 200 --path_run_dir 'test_models_LI_sp0_r1'  --path_dataset_csv \"../csv/train_path_LI.csv\" --path_dataset_val_csv \"../csv/val_path_LI.csv\" --input_index 6 --target_index 0 2 4 8 12 14 17 18 19 21 23 24 17 28 29 36 39 40 --in_dim 1 --out_dim 18\n",
    "# !python ../train_net/validation.py --transform_signal normalize --n_iter 3200 --path_run_dir 'test_models_LI_sp0_r1'  --path_output_dir 'large_intestine_output/r1_sp0_val_mae.npy' --path_dataset_val_csv \"../csv/val_path_LI.csv\"  --input_index 6 --target_index  0 2 4 8 12 14 17 18 19 21 23 24 17 28 29 36 39 40   --in_dim 1 --out_dim 18\n",
    "\n",
    "# train the net in subpanel1\n",
    "# !python ../train_net/train_model.py --transform_signal normalize --drop_patch_threshold -13000 --n_iter 3200  --interval_save 200 --iter_checkpoint 200 --path_run_dir 'test_models_LI_sp1_r1'  --path_dataset_csv \"../csv/train_path_LI.csv\" --path_dataset_val_csv \"../csv/val_path_LI.csv\" --input_index 6 --target_index 0 1 2 7 8 9 12 18 22 26 29 34 36 37 38 40 42 --in_dim 1 --out_dim 17\n",
    "# !python ../train_net/validation.py --transform_signal normalize --n_iter 3200 --path_run_dir 'test_models_LI_sp1_r1'  --path_output_dir 'large_intestine_output/r1_sp1_val_mae.npy' --path_dataset_val_csv \"../csv/val_path_LI.csv\"  --input_index 6 --target_index 0 1 2 7 8 9 12 18 22 26 29 34 36 37 38 40 42  --in_dim 1 --out_dim 17\n",
    "\n",
    "# train the net in subpanel4\n",
    "# !python ../train_net/train_model.py --transform_signal normalize --drop_patch_threshold -13000 --n_iter 3200  --interval_save 200 --iter_checkpoint 200 --path_run_dir 'test_models_LI_sp4_r1'  --path_dataset_csv \"../csv/train_path_LI.csv\" --path_dataset_val_csv \"../csv/val_path_LI.csv\" --input_index 6 --target_index 0 1 2 3 7 9 11 15 22 26 31 34 35 37 38 42 43  --in_dim 1 --out_dim 17\n",
    "# !python ../train_net/validation.py --transform_signal normalize --n_iter 3200 --path_run_dir 'test_models_LI_sp4_r1' --path_output_dir 'large_intestine_output/r1_sp4_val_mae.npy'  --path_dataset_val_csv \"../csv/val_path_LI.csv\" --input_index 6 --target_index  0 1 2 3 7 9 11 15 22 26 31 34 35 37 38 42 43  --in_dim 1 --out_dim 17"
   ]
  },
  {
   "cell_type": "code",
   "execution_count": 14,
   "metadata": {},
   "outputs": [],
   "source": [
    "subgraph0_prediction = np.load('large_intestine_output/r1_sp0_val_mae.npy', allow_pickle=True) \n",
    "subgraph1_prediction = np.load('large_intestine_output/r1_sp1_val_mae.npy', allow_pickle=True) \n",
    "subgraph4_prediction = np.load('large_intestine_output/r1_sp4_val_mae.npy', allow_pickle=True) "
   ]
  },
  {
   "cell_type": "code",
   "execution_count": 15,
   "metadata": {},
   "outputs": [],
   "source": [
    "# update the subgraph matrix\n",
    "G.update_subgraph(0, subgraph0_prediction)\n",
    "G.update_subgraph(1, subgraph1_prediction)\n",
    "G.update_subgraph(4, subgraph4_prediction)"
   ]
  },
  {
   "cell_type": "code",
   "execution_count": 16,
   "metadata": {},
   "outputs": [],
   "source": [
    "G.update()   \n",
    "node_costs.append(np.sum(G.node_weights))"
   ]
  },
  {
   "attachments": {},
   "cell_type": "markdown",
   "metadata": {},
   "source": [
    "### update round 2"
   ]
  },
  {
   "cell_type": "code",
   "execution_count": 17,
   "metadata": {},
   "outputs": [
    {
     "name": "stdout",
     "output_type": "stream",
     "text": [
      "input: [6, 43]\n",
      "output: [0, 1, 2, 3, 4, 5, 7, 8, 9, 10, 11, 12, 13, 14, 15, 16, 17, 18, 19, 20, 21, 22, 23, 24, 25, 26, 27, 28, 29, 30, 31, 32, 33, 34, 35, 36, 37, 38, 39, 40, 41, 42, 44, 45]\n",
      "--------------------------------\n",
      "training subgraph:  3 input:  [43] output:  [0, 3, 5, 10, 11, 13, 15, 16, 20, 25, 30, 31, 32, 33, 35, 41, 44, 45]\n",
      "training subgraph:  4 input:  [6, 43] output:  [0, 1, 2, 3, 7, 9, 11, 15, 22, 26, 31, 34, 35, 37, 38, 42]\n",
      "--out_drop_index:  16\n"
     ]
    }
   ],
   "source": [
    "next_input = G.select_next_input()"
   ]
  },
  {
   "cell_type": "code",
   "execution_count": 18,
   "metadata": {},
   "outputs": [],
   "source": [
    "# train the net in subpanel3\n",
    "# !python ../train_net/train_model.py --transform_signal normalize --drop_patch_threshold -13000 --n_iter 3200  --interval_save 200 --iter_checkpoint 200 --path_run_dir 'r2_sp3_val_vae.npy'  --path_dataset_csv \"../csv/train_path_LI.csv\" --path_dataset_val_csv \"../csv/val_path_LI.csv\" --input_index 43 --target_index 0 3 5 10 11 13 15 16 20 25 30 31 32 33 35 41 44 45 --in_dim 1 --out_dim 18\n",
    "# !python ../train_net/validation.py --transform_signal normalize --n_iter 3200 --path_run_dir 'test_models_sp3_r2' --path_output_dir 'large_intestine_output/r2_sp3_val_mae.npy'  --path_dataset_val_csv \"../csv/val_path_LI.csv\"  --input_index 43 --target_index  0 3 5 10 11 13 15 16 20 25 30 31 32 33 35 41 44 45   --in_dim 1 --out_dim 18\n",
    "\n",
    "# train the net in subpanel4\n",
    "# !python ../train_net/train_model.py --transform_signal normalize --drop_patch_threshold -13000 --n_iter 3200  --interval_save 200 --iter_checkpoint 200 --path_run_dir 'test_models_LI_sp4_r2' --path_pretrain_dir 'test_models_LI_sp4_r1' --path_dataset_csv \"../csv/train_path_LI.csv\" --path_dataset_val_csv \"../csv/val_path_LI.csv\" --out_drop_index 16 --input_index 6 43 --target_index 0 1 2 3 7 9 11 15 22 26 31 34 35 37 38 42  --in_dim 2 --out_dim 16\n",
    "# !python ../train_net/validation.py --transform_signal normalize --n_iter 3200 --path_run_dir 'test_models_LI_sp4_r2'  --path_output_dir 'large_intestine_output/r2_sp4_val_mae.npy' --path_dataset_val_csv \"../csv/val_path_LI.csv\" --input_index 6 43 --target_index  0 1 2 3 7 9 11 15 22 26 31 34 35 37 38 42  --in_dim 2 --out_dim 16"
   ]
  },
  {
   "cell_type": "code",
   "execution_count": 19,
   "metadata": {},
   "outputs": [],
   "source": [
    "subgraph3_prediction = np.load('large_intestine_output/r2_sp3_val_mae.npy', allow_pickle=True)\n",
    "subgraph4_prediction = np.load('large_intestine_output/r2_sp4_val_mae.npy', allow_pickle=True)"
   ]
  },
  {
   "cell_type": "code",
   "execution_count": 20,
   "metadata": {},
   "outputs": [],
   "source": [
    "G.update_subgraph(3, subgraph3_prediction)\n",
    "G.update_subgraph(4, subgraph4_prediction)"
   ]
  },
  {
   "cell_type": "code",
   "execution_count": 21,
   "metadata": {},
   "outputs": [],
   "source": [
    "G.update()\n",
    "node_costs.append(np.sum(G.node_weights)) "
   ]
  },
  {
   "cell_type": "markdown",
   "metadata": {},
   "source": [
    "### Round 3"
   ]
  },
  {
   "cell_type": "code",
   "execution_count": 22,
   "metadata": {},
   "outputs": [
    {
     "name": "stdout",
     "output_type": "stream",
     "text": [
      "input: [6, 43, 19]\n",
      "output: [0, 1, 2, 3, 4, 5, 7, 8, 9, 10, 11, 12, 13, 14, 15, 16, 17, 18, 20, 21, 22, 23, 24, 25, 26, 27, 28, 29, 30, 31, 32, 33, 34, 35, 36, 37, 38, 39, 40, 41, 42, 44, 45]\n",
      "--------------------------------\n",
      "training subgraph:  0 input:  [6, 19] output:  [0, 2, 4, 8, 12, 14, 17, 18, 21, 23, 24, 27, 28, 29, 36, 39, 40]\n",
      "--out_drop_index:  8\n",
      "training subgraph:  2 input:  [19] output:  [0, 5, 10, 13, 14, 16, 17, 20, 24, 25, 27, 30, 32, 33, 39, 41, 44, 45]\n"
     ]
    }
   ],
   "source": [
    "next_input = G.select_next_input()"
   ]
  },
  {
   "cell_type": "code",
   "execution_count": 23,
   "metadata": {},
   "outputs": [],
   "source": [
    "# train the net in subpanel0\n",
    "# !python ../train_net/train_model.py --transform_signal normalize --drop_patch_threshold -13000 --n_iter 3200  --interval_save 200 --iter_checkpoint 200 --path_run_dir 'test_models_sp0_r3' --path_pretrain_dir 'test_models_LI_sp0_r1' --path_dataset_csv \"../csv/train_path_LI.csv\" --path_dataset_val_csv \"../csv/val_path_LI.csv\" --out_drop_index  8 --input_index 6 19 --target_index 0 2 4 8 12 14 17 18 21 23 24 17 28 29 36 39 40 --in_dim 2 --out_dim 17\n",
    "# !python ../train_net/validation.py --transform_signal normalize --n_iter 3200 --path_run_dir 'test_models_LI_sp0_r3' --path_output_dir 'large_intestine_output/r3_sp0_val_mae.npy'  --path_dataset_val_csv \"../csv/val_path_LI.csv\"  --input_index 6 19 --target_index  0 2 4 8 12 14 17 18 21 23 24 17 28 29 36 39 40   --in_dim 2 --out_dim 17\n",
    "\n",
    "# train the net in subpanel2\n",
    "# !python ../train_net/train_model.py --transform_signal normalize --drop_patch_threshold -13000 --n_iter 3200  --interval_save 200 --iter_checkpoint 200 --path_run_dir 'test_models_LI_sp2_r3'  --path_dataset_csv \"../csv/train_path_LI.csv\" --path_dataset_val_csv \"../csv/val_path_LI.csv\" --input_index 19 --target_index 0 5 10 13 14 16 17 20 24 25 27 30 32 33 39 41 44 45 --in_dim 1 --out_dim 18\n",
    "# !python ../train_net/validation.py --transform_signal normalize --n_iter 3200 --path_run_dir 'test_models_LI_sp2_r3' --path_output_dir 'large_intestine_output/r3_sp2_val_mae.npy'  --path_dataset_val_csv \"../csv/val_path_LI.csv\"  --input_index 19 --target_index 0 5 10 13 14 16 17 20 24 25 27 30 32 33 39 41 44 45    --in_dim 1 --out_dim 18"
   ]
  },
  {
   "cell_type": "code",
   "execution_count": 24,
   "metadata": {},
   "outputs": [],
   "source": [
    "subgraph0_prediction = np.load('large_intestine_output/r3_sp0_val_mae.npy', allow_pickle=True)\n",
    "subgraph2_prediction = np.load('large_intestine_output/r3_sp2_val_mae.npy', allow_pickle=True)"
   ]
  },
  {
   "cell_type": "code",
   "execution_count": 25,
   "metadata": {},
   "outputs": [],
   "source": [
    "G.update_subgraph(0, subgraph0_prediction)\n",
    "G.update_subgraph(2, subgraph2_prediction)"
   ]
  },
  {
   "cell_type": "code",
   "execution_count": 26,
   "metadata": {},
   "outputs": [],
   "source": [
    "G.update()  \n",
    "node_costs.append(np.sum(G.node_weights))"
   ]
  },
  {
   "attachments": {},
   "cell_type": "markdown",
   "metadata": {},
   "source": [
    "### Round4"
   ]
  },
  {
   "cell_type": "code",
   "execution_count": 27,
   "metadata": {},
   "outputs": [
    {
     "name": "stdout",
     "output_type": "stream",
     "text": [
      "tie\n",
      "candidates:  0 2 input: [6, 43, 19, 0]\n",
      "output: [1, 2, 3, 4, 5, 7, 8, 9, 10, 11, 12, 13, 14, 15, 16, 17, 18, 20, 21, 22, 23, 24, 25, 26, 27, 28, 29, 30, 31, 32, 33, 34, 35, 36, 37, 38, 39, 40, 41, 42, 44, 45]\n",
      "--------------------------------\n",
      "training subgraph:  0 input:  [6, 19, 0] output:  [2, 4, 8, 12, 14, 17, 18, 21, 23, 24, 27, 28, 29, 36, 39, 40]\n",
      "--out_drop_index:  0\n",
      "training subgraph:  1 input:  [6, 0] output:  [1, 2, 7, 8, 9, 12, 18, 22, 26, 29, 34, 36, 37, 38, 40, 42]\n",
      "--out_drop_index:  0\n",
      "training subgraph:  2 input:  [19, 0] output:  [5, 10, 13, 14, 16, 17, 20, 24, 25, 27, 30, 32, 33, 39, 41, 44, 45]\n",
      "--out_drop_index:  0\n",
      "training subgraph:  3 input:  [43, 0] output:  [3, 5, 10, 11, 13, 15, 16, 20, 25, 30, 31, 32, 33, 35, 41, 44, 45]\n",
      "--out_drop_index:  0\n",
      "training subgraph:  4 input:  [6, 43, 0] output:  [1, 2, 3, 7, 9, 11, 15, 22, 26, 31, 34, 35, 37, 38, 42]\n",
      "--out_drop_index:  0\n"
     ]
    }
   ],
   "source": [
    "next_input = G.select_next_input()"
   ]
  },
  {
   "cell_type": "code",
   "execution_count": 28,
   "metadata": {},
   "outputs": [],
   "source": [
    "# train the net in subpanel0\n",
    "# !python ../train_net/train_model.py --transform_signal normalize --drop_patch_threshold -13000 --n_iter 3200  --interval_save 200 --iter_checkpoint 200 --path_run_dir 'test_models_LI_sp0_r4' --path_pretrain_dir 'test_models_LI_sp0_r2' --path_dataset_csv \"../csv/train_path_LI.csv\" --path_dataset_val_csv \"../csv/val_path_LI.csv\" --out_drop_index  0 --input_index 6 19 0 --target_index 2 4 8 12 14 17 18 21 23 24 17 28 29 36 39 40 --in_dim 3 --out_dim 16\n",
    "# !python ../train_net/validation.py --transform_signal normalize --n_iter 3200 --path_run_dir 'test_models_LI_sp0_r4' --path_output_dir 'large_intestine_output/r4_sp0_val_mae'  --path_dataset_val_csv \"../csv/val_path_LI.csv\"  --input_index 6 19 0 --target_index  2 4 8 12 14 17 18 21 23 24 17 28 29 36 39 40   --in_dim 3 --out_dim 16\n",
    "\n",
    "# train the net in subpanel1\n",
    "# !python ../train_net/train_model.py --transform_signal normalize --drop_patch_threshold -13000 --n_iter 3200  --interval_save 200 --iter_checkpoint 200 --path_run_dir 'test_models_LI_sp1_r4'  --path_pretrain_dir 'test_models_LI_sp1_r1' --path_dataset_csv \"../csv/train_path_LI.csv\" --path_dataset_val_csv \"../csv/val_path_LI.csv\" --out_drop_index 0 --input_index 6 0 --target_index 1 2 7 8 9 12 18 22 26 29 34 36 37 38 40 42 --in_dim 2 --out_dim 16\n",
    "# !python ../train_net/validation.py --transform_signal normalize --n_iter 3200 --path_run_dir 'test_models_LI_sp1_r4'  --path_output_dir 'large_intestine_output/r4_sp1_val_mae.npy' --path_dataset_val_csv \"../csv/val_path_LI.csv\"  --input_index 6 0 --target_index 1 2 7 8 9 12 18 22 26 29 34 36 37 38 40 42  --in_dim 2 --out_dim 16\n",
    "\n",
    "# train the net in subpanel2\n",
    "# !python ../train_net/train_model.py --transform_signal normalize --drop_patch_threshold -13000 --n_iter 3200  --interval_save 200 --iter_checkpoint 200 --path_run_dir 'test_models_LI_sp2_r4'   --path_pretrain_dir 'test_models_LI_sp2_r3' --path_dataset_csv \"../csv/train_path_LI.csv\" --path_dataset_val_csv \"../csv/val_path_LI.csv\" --out_drop_index 0 --input_index 19 0 --target_index 5 10 13 14 16 17 20 24 25 27 30 32 33 39 41 44 45 --in_dim 2 --out_dim 17\n",
    "# !python ../train_net/validation.py --transform_signal normalize --n_iter 3200 --path_run_dir 'test_models_LI_sp2_r4' --path_output_dir 'large_intestine_output/r4_sp2_val_mae.npy'  --path_dataset_val_csv \"../csv/val_path_LI.csv\"  --input_index 19 0 --target_index  5 10 13 14 16 17 20 24 25 27 30 32 33 39 41 44 45   --in_dim 2 --out_dim 17\n",
    "\n",
    "# train the net in subpanel3\n",
    "# !python ../train_net/train_model.py --transform_signal normalize --drop_patch_threshold -13000 --n_iter 3200  --interval_save 200 --iter_checkpoint 200 --path_run_dir 'test_models_LI_sp3_r4'  --path_pretrain_dir 'test_models_LI_sp3_r2' --path_dataset_csv \"../csv/train_path_LI.csv\" --path_dataset_val_csv \"../csv/val_path_LI.csv\" --out_drop_index 0 --input_index 43 0 --target_index 3 5 10 11 13 15 16 20 25 30 31 32 33 35 41 44 45 --in_dim 2 --out_dim 17\n",
    "# !python ../train_net/validation.py --transform_signal normalize --n_iter 3200 --path_run_dir 'test_models_LI_sp3_r4' --path_output_dir 'large_intestine_output/r4_sp3_val_mae.npy'  --path_dataset_val_csv \"../csv/val_path_LI.csv\"  --input_index 43 0 --target_index  3 5 10 11 13 15 16 20 25 30 31 32 33 35 41 44 45   --in_dim 2 --out_dim 17\n",
    "\n",
    "# train the net in subpanel4\n",
    "# !python ../train_net/train_model.py --transform_signal normalize --drop_patch_threshold -13000 --n_iter 3200  --interval_save 200 --iter_checkpoint 200 --path_run_dir 'test_models_LI_sp4_r4' --path_pretrain_dir 'test_models_LI_sp4_r2' --path_dataset_csv \"../csv/train_path_LI.csv\" --path_dataset_val_csv \"../csv/val_path_LI.csv\" --out_drop_index 0 --input_index 6 43 0 --target_index 1 2 3 7 9 11 15 22 26 31 34 35 37 38 42  --in_dim 3 --out_dim 15\n",
    "# !python ../train_net/validation.py --transform_signal normalize --n_iter 3200 --path_run_dir 'test_models_LI_sp4_r4'  --path_output_dir 'large_intestine_output/r4_sp4_val_mae.npy' --path_dataset_val_csv \"../csv/val_path_LI.csv\" --input_index 6 43 0 --target_index  1 2 3 7 9 11 15 22 26 31 34 35 37 38 42  --in_dim 3 --out_dim 15"
   ]
  },
  {
   "cell_type": "code",
   "execution_count": 29,
   "metadata": {},
   "outputs": [],
   "source": [
    "subgraph0_prediction = np.load('large_intestine_output/r4_sp0_val_mae.npy', allow_pickle=True)\n",
    "subgraph1_prediction = np.load('large_intestine_output/r4_sp1_val_mae.npy', allow_pickle=True)\n",
    "subgraph2_prediction = np.load('large_intestine_output/r4_sp2_val_mae.npy', allow_pickle=True)\n",
    "subgraph3_prediction = np.load('large_intestine_output/r4_sp3_val_mae.npy', allow_pickle=True)\n",
    "subgraph4_prediction = np.load('large_intestine_output/r4_sp4_val_mae.npy', allow_pickle=True)"
   ]
  },
  {
   "cell_type": "code",
   "execution_count": 30,
   "metadata": {},
   "outputs": [],
   "source": [
    "G.update_subgraph(0, subgraph0_prediction)\n",
    "G.update_subgraph(1, subgraph1_prediction)\n",
    "G.update_subgraph(2, subgraph2_prediction)\n",
    "G.update_subgraph(3, subgraph3_prediction)\n",
    "G.update_subgraph(4, subgraph4_prediction)\n"
   ]
  },
  {
   "cell_type": "code",
   "execution_count": 31,
   "metadata": {},
   "outputs": [],
   "source": [
    "G.update()  \n",
    "node_costs.append(np.sum(G.node_weights))"
   ]
  },
  {
   "attachments": {},
   "cell_type": "markdown",
   "metadata": {},
   "source": [
    "### Round 5"
   ]
  },
  {
   "cell_type": "code",
   "execution_count": 32,
   "metadata": {},
   "outputs": [
    {
     "name": "stdout",
     "output_type": "stream",
     "text": [
      "input: [6, 43, 19, 0, 18]\n",
      "output: [1, 2, 3, 4, 5, 7, 8, 9, 10, 11, 12, 13, 14, 15, 16, 17, 20, 21, 22, 23, 24, 25, 26, 27, 28, 29, 30, 31, 32, 33, 34, 35, 36, 37, 38, 39, 40, 41, 42, 44, 45]\n",
      "--------------------------------\n",
      "training subgraph:  0 input:  [6, 19, 0, 18] output:  [2, 4, 8, 12, 14, 17, 21, 23, 24, 27, 28, 29, 36, 39, 40]\n",
      "--out_drop_index:  6\n",
      "training subgraph:  1 input:  [6, 0, 18] output:  [1, 2, 7, 8, 9, 12, 22, 26, 29, 34, 36, 37, 38, 40, 42]\n",
      "--out_drop_index:  6\n"
     ]
    },
    {
     "data": {
      "text/plain": [
       "18"
      ]
     },
     "execution_count": 32,
     "metadata": {},
     "output_type": "execute_result"
    }
   ],
   "source": [
    "next_input = G.select_next_input()\n",
    "next_input"
   ]
  },
  {
   "cell_type": "code",
   "execution_count": 33,
   "metadata": {},
   "outputs": [],
   "source": [
    "# train the net in subpanel0\n",
    "# !python ../train_net/train_model.py --transform_signal normalize --drop_patch_threshold -13000 --n_iter 3200  --interval_save 200 --iter_checkpoint 200 --path_run_dir 'test_models_LI_sp0_r5' --path_pretrain_dir 'test_models_LI_sp0_r4' --path_dataset_csv \"../csv/train_path_LI.csv\" --path_dataset_val_csv \"../csv/val_path_LI.csv\" --out_drop_index  6 --input_index 6 19 0 18 --target_index 2 4 8 12 14 17 21 23 24 17 28 29 36 39 40 --in_dim 4 --out_dim 15\n",
    "# !python ../train_net/validation.py --transform_signal normalize --n_iter 3200 --path_run_dir 'test_models_LI_sp0_r5' --path_output_dir 'large_intestine_output/r5_sp0_val_mae.npy'  --path_dataset_val_csv \"../csv/val_path_LI.csv\"  --input_index 6 19 0 18 --target_index  2 4 8 12 14 17 21 23 24 17 28 29 36 39 40   --in_dim 4 --out_dim 15\n",
    "\n",
    "# train the net in subpanel1\n",
    "# !python ../train_net/train_model.py --transform_signal normalize --drop_patch_threshold -13000 --n_iter 3200  --interval_save 200 --iter_checkpoint 200 --path_run_dir 'test_models_LI_sp1_r5'  --path_pretrain_dir 'test_models_LI_sp1_r4' --path_dataset_csv \"../csv/train_path_LI.csv\" --path_dataset_val_csv \"../csv/val_path_LI.csv\" --out_drop_index 6 --input_index 6 0 18 --target_index 1 2 7 8 9 12 22 26 29 34 36 37 38 40 42 --in_dim 3 --out_dim 15\n",
    "# !python ../train_net/validation.py --transform_signal normalize --n_iter 3200 --path_run_dir 'test_models_LI_sp1_r5'  --path_output_dir 'large_intestine_output/r5_sp1_val_mae.npy' --path_dataset_val_csv \"../csv/val_path_LI.csv\"  --input_index 6 0 18 --target_index 1 2 7 8 9 12 22 26 29 34 36 37 38 40 42  --in_dim 3 --out_dim 15"
   ]
  },
  {
   "cell_type": "code",
   "execution_count": 34,
   "metadata": {},
   "outputs": [],
   "source": [
    "subgraph0_prediction = np.load('large_intestine_output/r5_sp0_val_mae.npy', allow_pickle=True)\n",
    "subgraph1_prediction = np.load('large_intestine_output/r5_sp1_val_mae.npy', allow_pickle=True)"
   ]
  },
  {
   "cell_type": "code",
   "execution_count": 35,
   "metadata": {},
   "outputs": [],
   "source": [
    "G.update_subgraph(0, subgraph0_prediction)\n",
    "G.update_subgraph(1, subgraph1_prediction)"
   ]
  },
  {
   "cell_type": "code",
   "execution_count": 36,
   "metadata": {},
   "outputs": [],
   "source": [
    "G.update()  \n",
    "node_costs.append(np.sum(G.node_weights))"
   ]
  },
  {
   "cell_type": "markdown",
   "metadata": {},
   "source": [
    "### Round6"
   ]
  },
  {
   "cell_type": "code",
   "execution_count": 37,
   "metadata": {},
   "outputs": [
    {
     "name": "stdout",
     "output_type": "stream",
     "text": [
      "input: [6, 43, 19, 0, 18, 31]\n",
      "output: [1, 2, 3, 4, 5, 7, 8, 9, 10, 11, 12, 13, 14, 15, 16, 17, 20, 21, 22, 23, 24, 25, 26, 27, 28, 29, 30, 32, 33, 34, 35, 36, 37, 38, 39, 40, 41, 42, 44, 45]\n",
      "--------------------------------\n",
      "training subgraph:  3 input:  [43, 0, 31] output:  [3, 5, 10, 11, 13, 15, 16, 20, 25, 30, 32, 33, 35, 41, 44, 45]\n",
      "--out_drop_index:  10\n",
      "training subgraph:  4 input:  [6, 43, 0, 31] output:  [1, 2, 3, 7, 9, 11, 15, 22, 26, 34, 35, 37, 38, 42]\n",
      "--out_drop_index:  9\n"
     ]
    },
    {
     "data": {
      "text/plain": [
       "31"
      ]
     },
     "execution_count": 37,
     "metadata": {},
     "output_type": "execute_result"
    }
   ],
   "source": [
    "next_input = G.select_next_input()\n",
    "next_input"
   ]
  },
  {
   "cell_type": "code",
   "execution_count": 38,
   "metadata": {},
   "outputs": [],
   "source": [
    "# train the net in subpanel3\n",
    "# !python ../train_net/train_model.py --transform_signal normalize --drop_patch_threshold -13000 --n_iter 3200  --interval_save 200 --iter_checkpoint 200 --path_run_dir 'test_models_LI_sp3_r6'  --path_pretrain_dir 'test_models_LI_sp3_r4' --path_dataset_csv \"../csv/train_path_LI.csv\" --path_dataset_val_csv \"../csv/val_path_LI.csv\" --out_drop_index 10 --input_index 43 0 31 --target_index 3 5 10 11 13 15 16 20 25 30 32 33 35 41 44 45 --in_dim 3 --out_dim 16\n",
    "# !python ../train_net/validation.py --transform_signal normalize --n_iter 3200 --path_run_dir 'test_models_LI_sp3_r6' --path_output_dir 'large_intestine_output/r6_sp3_val_mae.npy'  --path_dataset_val_csv \"../csv/val_path_LI.csv\"  --input_index 43 0 31 --target_index  3 5 10 11 13 15 20 25 30 32 33 35 41 44 45   --in_dim 3 --out_dim 16\n",
    "\n",
    "# train the net in subpanel4\n",
    "# !python ../train_net/train_model.py --transform_signal normalize --drop_patch_threshold -13000 --n_iter 3200  --interval_save 200 --iter_checkpoint 200 --path_run_dir 'test_models_LI_sp4_r6' --path_pretrain_dir 'test_models_LI_sp4_r4' --path_dataset_csv \"../csv/train_path_LI.csv\" --path_dataset_val_csv \"../csv/val_path_LI.csv\" --out_drop_index 9  --input_index 6 43 0 31 --target_index 1 2 3 7 9 11 15 22 26 34 35 37 38 42  --in_dim 4 --out_dim 14\n",
    "# !python ../train_net/validation.py --transform_signal normalize --n_iter 3200 --path_run_dir 'test_models_LI_sp4_r6'  --path_output_dir 'large_intestine_output/r6_sp4_val_mae.npy' --path_dataset_val_csv \"../csv/val_path_LI.csv\" --input_index 6 43 01 31 --target_index  1 2 3 7 9 11 15 22 26 34 35 37 38 42  --in_dim 4 --out_dim 14"
   ]
  },
  {
   "cell_type": "code",
   "execution_count": 39,
   "metadata": {},
   "outputs": [],
   "source": [
    "subgraph3_prediction = np.load('large_intestine_output/r6_sp3_val_mae.npy', allow_pickle=True)\n",
    "subgraph4_prediction = np.load('large_intestine_output/r6_sp4_val_mae.npy', allow_pickle=True)\n",
    "\n",
    "G.update_subgraph(3, subgraph3_prediction)\n",
    "G.update_subgraph(4, subgraph4_prediction)\n",
    "\n",
    "G.update()  \n",
    "node_costs.append(np.sum(G.node_weights))"
   ]
  },
  {
   "cell_type": "markdown",
   "metadata": {},
   "source": [
    "### Round7"
   ]
  },
  {
   "cell_type": "code",
   "execution_count": 40,
   "metadata": {},
   "outputs": [
    {
     "name": "stdout",
     "output_type": "stream",
     "text": [
      "input: [6, 43, 19, 0, 18, 31, 41]\n",
      "output: [1, 2, 3, 4, 5, 7, 8, 9, 10, 11, 12, 13, 14, 15, 16, 17, 20, 21, 22, 23, 24, 25, 26, 27, 28, 29, 30, 32, 33, 34, 35, 36, 37, 38, 39, 40, 42, 44, 45]\n",
      "--------------------------------\n",
      "training subgraph:  2 input:  [19, 0, 41] output:  [5, 10, 13, 14, 16, 17, 20, 24, 25, 27, 30, 32, 33, 39, 44, 45]\n",
      "--out_drop_index:  14\n",
      "training subgraph:  3 input:  [43, 0, 31, 41] output:  [3, 5, 10, 11, 13, 15, 16, 20, 25, 30, 32, 33, 35, 44, 45]\n",
      "--out_drop_index:  13\n"
     ]
    }
   ],
   "source": [
    "next_input = G.select_next_input()"
   ]
  },
  {
   "cell_type": "code",
   "execution_count": 41,
   "metadata": {},
   "outputs": [],
   "source": [
    "# train the net in subpanel2\n",
    "# !python ../train_net/train_model.py --transform_signal normalize --drop_patch_threshold -13000 --n_iter 3200  --interval_save 200 --iter_checkpoint 200 --path_run_dir 'test_models_LI_sp2_r7'   --path_pretrain_dir 'test_models_LI_sp2_r4' --path_dataset_csv \"../csv/train_path_LI.csv\" --path_dataset_val_csv \"../csv/val_path_LI.csv\" --out_drop_index 14 --input_index 19 0 41 --target_index 5 10 13 14 16 17 20 24 25 27 30 32 33 39 44 45 --in_dim 3 --out_dim 16\n",
    "# !python ../train_net/validation.py --transform_signal normalize --n_iter 3200 --path_run_dir 'test_models_sp2_r7' --path_output_dir 'large_intestine_output/r7_sp2_val_mae.npy'  --path_dataset_val_csv \"../csv/val_path_LI.csv\"  --input_index 19 0 41 --target_index  5 10 13 14 16 17 20 24 25 27 20 32 33 44 45   --in_dim 3 --out_dim 16\n",
    "\n",
    "# train the net in subpanel3\n",
    "# !python ../train_net/train_model.py --transform_signal normalize --drop_patch_threshold -13000 --n_iter 3200  --interval_save 200 --iter_checkpoint 200 --path_run_dir 'test_models_LI_sp3_r7'  --path_pretrain_dir 'test_models_LI_sp3_r6' --path_dataset_csv \"../csv/train_path_LI.csv\" --path_dataset_val_csv \"../csv/val_path_LI.csv\" --out_drop_index 13 --input_index 43 0 31 41 --target_index 3 5 10 11 13 15 16 20 25 30 32 33 35 44 45 --in_dim 4 --out_dim 15\n",
    "# !python ../train_net/validation.py --transform_signal normalize --n_iter 3200 --path_run_dir 'test_models_sp3_r7' --path_output_dir 'large_intestine_output/r7_sp3_val_mae.npy'  --path_dataset_val_csv \"../csv/val_path_LI.csv\"  --input_index 43 0 31 41 --target_index  3 5 10 11 13 15 20 25 30 32 33 35 44 45   --in_dim 4 --out_dim 15"
   ]
  },
  {
   "cell_type": "code",
   "execution_count": 42,
   "metadata": {},
   "outputs": [],
   "source": [
    "subgraph2_prediction = np.load('large_intestine_output/r7_sp2_val_mae.npy', allow_pickle=True)\n",
    "subgraph3_prediction = np.load('large_intestine_output/r7_sp3_val_mae.npy', allow_pickle=True)"
   ]
  },
  {
   "cell_type": "code",
   "execution_count": 43,
   "metadata": {},
   "outputs": [],
   "source": [
    "G.update_subgraph(2, subgraph2_prediction)\n",
    "G.update_subgraph(3, subgraph3_prediction)"
   ]
  },
  {
   "cell_type": "code",
   "execution_count": 44,
   "metadata": {},
   "outputs": [],
   "source": [
    "G.update()  \n",
    "node_costs.append(np.sum(G.node_weights))"
   ]
  },
  {
   "cell_type": "markdown",
   "metadata": {},
   "source": [
    "### Round8"
   ]
  },
  {
   "cell_type": "code",
   "execution_count": 45,
   "metadata": {},
   "outputs": [
    {
     "name": "stdout",
     "output_type": "stream",
     "text": [
      "input: [6, 43, 19, 0, 18, 31, 41, 7]\n",
      "output: [1, 2, 3, 4, 5, 8, 9, 10, 11, 12, 13, 14, 15, 16, 17, 20, 21, 22, 23, 24, 25, 26, 27, 28, 29, 30, 32, 33, 34, 35, 36, 37, 38, 39, 40, 42, 44, 45]\n",
      "--------------------------------\n",
      "training subgraph:  1 input:  [6, 0, 18, 7] output:  [1, 2, 8, 9, 12, 22, 26, 29, 34, 36, 37, 38, 40, 42]\n",
      "--out_drop_index:  2\n",
      "training subgraph:  4 input:  [6, 43, 0, 31, 7] output:  [1, 2, 3, 9, 11, 15, 22, 26, 34, 35, 37, 38, 42]\n",
      "--out_drop_index:  3\n"
     ]
    }
   ],
   "source": [
    "next_input = G.select_next_input()"
   ]
  },
  {
   "cell_type": "code",
   "execution_count": 46,
   "metadata": {},
   "outputs": [],
   "source": [
    "# train the net in subpanel1\n",
    "# !python ../train_net/train_model.py --transform_signal normalize --drop_patch_threshold -13000 --n_iter 3200  --interval_save 200 --iter_checkpoint 200 --path_run_dir 'test_models_LI_sp1_r8'  --path_pretrain_dir 'test_models_LI_sp1_r5' --path_dataset_csv \"../csv/train_path_LI.csv\" --path_dataset_val_csv \"../csv/val_path_LI.csv\" --out_drop_index 2 --input_index 6 0 18 7 --target_index 1 2 8 9 12 22 26 29 34 36 37 38 40 42 --in_dim 4 --out_dim 14\n",
    "# !python ../train_net/validation.py --transform_signal normalize --n_iter 3200 --path_run_dir 'test_models_sp1_r8'  --path_output_dir 'large_intestine_output/r8_sp1_val_mae.npy' --path_dataset_val_csv \"../csv/val_path_LI.csv\"  --input_index 6 0 18 7 --target_index 1 2 8 9 12 22 26 29 34 36 37 38 40 42  --in_dim 4 --out_dim 14\n",
    "\n",
    "# train the net in subpanel4\n",
    "# !python ../train_net/train_model.py --transform_signal normalize --drop_patch_threshold -13000 --n_iter 3200  --interval_save 200 --iter_checkpoint 200 --path_run_dir 'test_models_LI_sp4_r8' --path_pretrain_dir 'test_models_LI_sp4_r6' --path_dataset_csv \"../csv/train_path_LI.csv\" --path_dataset_val_csv \"../csv/val_path_LI.csv\" --out_drop_index 3  --input_index 6 43 0 31 7 --target_index 1 2 3 9 11 15 22 26 34 35 37 38 42  --in_dim 5 --out_dim 13\n",
    "# !python ../train_net/validation.py --transform_signal normalize --n_iter 3200 --path_run_dir 'test_models_sp4_r8'  --path_output_dir 'large_intestine_output/r8_sp4_val_mae.npy' --path_dataset_val_csv \"../csv/val_path_LI.csv\" --input_index 6 43 01 31 7 --target_index  1 2 3 9 11 15 22 26 34 35 37 38 42  --in_dim 5 --out_dim 13"
   ]
  },
  {
   "cell_type": "code",
   "execution_count": 47,
   "metadata": {},
   "outputs": [],
   "source": [
    "subgraph1_prediction = np.load('large_intestine_output/r8_sp1_val_mae.npy', allow_pickle=True)\n",
    "subgraph4_prediction = np.load('large_intestine_output/r8_sp4_val_mae.npy', allow_pickle=True)"
   ]
  },
  {
   "cell_type": "code",
   "execution_count": 48,
   "metadata": {},
   "outputs": [],
   "source": [
    "G.update_subgraph(1, subgraph1_prediction)\n",
    "G.update_subgraph(4, subgraph4_prediction)"
   ]
  },
  {
   "cell_type": "code",
   "execution_count": 49,
   "metadata": {},
   "outputs": [],
   "source": [
    "G.update()  \n",
    "node_costs.append(np.sum(G.node_weights))"
   ]
  },
  {
   "cell_type": "markdown",
   "metadata": {},
   "source": [
    "### Round 9"
   ]
  },
  {
   "cell_type": "code",
   "execution_count": 50,
   "metadata": {},
   "outputs": [
    {
     "name": "stdout",
     "output_type": "stream",
     "text": [
      "input: [6, 43, 19, 0, 18, 31, 41, 7, 28]\n",
      "output: [1, 2, 3, 4, 5, 8, 9, 10, 11, 12, 13, 14, 15, 16, 17, 20, 21, 22, 23, 24, 25, 26, 27, 29, 30, 32, 33, 34, 35, 36, 37, 38, 39, 40, 42, 44, 45]\n",
      "--------------------------------\n",
      "training subgraph:  0 input:  [6, 19, 0, 18, 28] output:  [2, 4, 8, 12, 14, 17, 21, 23, 24, 27, 29, 36, 39, 40]\n",
      "--out_drop_index:  10\n"
     ]
    }
   ],
   "source": [
    "next_input = G.select_next_input()"
   ]
  },
  {
   "cell_type": "code",
   "execution_count": 51,
   "metadata": {},
   "outputs": [],
   "source": [
    "# train the net in subpanel0\n",
    "# !python ../train_net/train_model.py --transform_signal normalize --drop_patch_threshold -13000 --n_iter 3200  --interval_save 200 --iter_checkpoint 200 --path_run_dir 'test_models_LI_sp0_r9' --path_pretrain_dir 'test_models_LI_sp0_r5' --path_dataset_csv \"../csv/train_path_LI.csv\" --path_dataset_val_csv \"../csv/val_path_LI.csv\" --out_drop_index 10 --input_index 6 19 0 18 28 --target_index 2 4 8 12 14 17 21 23 24 27 29 36 39 40 --in_dim 5 --out_dim 14\n",
    "# !python ../train_net/validation.py --transform_signal normalize --n_iter 3200 --path_run_dir 'test_models_LI_sp0_r9' --path_output_dir 'large_intestine_output/r9_sp0_val_mae.npy'  --path_dataset_val_csv \"../csv/val_path_LI.csv\"  --input_index 6 19 0 18 28 --target_index  2 4 8 12 14 17 21 23 24 27 29 36 39 40   --in_dim 5 --out_dim 14"
   ]
  },
  {
   "cell_type": "code",
   "execution_count": 52,
   "metadata": {},
   "outputs": [],
   "source": [
    "subgraph0_prediction = np.load('large_intestine_output/r9_sp0_val_mae.npy', allow_pickle=True)"
   ]
  },
  {
   "cell_type": "code",
   "execution_count": 53,
   "metadata": {},
   "outputs": [],
   "source": [
    "G.update_subgraph(0, subgraph0_prediction)"
   ]
  },
  {
   "cell_type": "code",
   "execution_count": 54,
   "metadata": {},
   "outputs": [],
   "source": [
    "G.update()  \n",
    "node_costs.append(np.sum(G.node_weights))"
   ]
  },
  {
   "cell_type": "markdown",
   "metadata": {},
   "source": [
    "### Round10"
   ]
  },
  {
   "cell_type": "code",
   "execution_count": 55,
   "metadata": {},
   "outputs": [
    {
     "name": "stdout",
     "output_type": "stream",
     "text": [
      "input: [6, 43, 19, 0, 18, 31, 41, 7, 28, 44]\n",
      "output: [1, 2, 3, 4, 5, 8, 9, 10, 11, 12, 13, 14, 15, 16, 17, 20, 21, 22, 23, 24, 25, 26, 27, 29, 30, 32, 33, 34, 35, 36, 37, 38, 39, 40, 42, 45]\n",
      "--------------------------------\n",
      "training subgraph:  2 input:  [19, 0, 41, 44] output:  [5, 10, 13, 14, 16, 17, 20, 24, 25, 27, 30, 32, 33, 39, 45]\n",
      "--out_drop_index:  14\n",
      "training subgraph:  3 input:  [43, 0, 31, 41, 44] output:  [3, 5, 10, 11, 13, 15, 16, 20, 25, 30, 32, 33, 35, 45]\n",
      "--out_drop_index:  13\n"
     ]
    }
   ],
   "source": [
    "next_input = G.select_next_input()"
   ]
  },
  {
   "cell_type": "code",
   "execution_count": 56,
   "metadata": {},
   "outputs": [],
   "source": [
    "# train the net in subpanel2\n",
    "# !python ../train_net/train_model.py --transform_signal normalize --drop_patch_threshold -13000 --n_iter 3200  --interval_save 200 --iter_checkpoint 200 --path_run_dir 'test_models_LI_sp2_r10'   --path_pretrain_dir 'test_models_LI_sp2_r7' --path_dataset_csv \"../csv/train_path_LI.csv\" --path_dataset_val_csv \"../csv/val_path_LI.csv\" --out_drop_index 14 --input_index 19 0 41 44 --target_index 5 10 13 14 16 17 20 24 25 27 30 32 33 39 45 --in_dim 4 --out_dim 15\n",
    "# !python ../train_net/validation.py --transform_signal normalize --n_iter 3200 --path_run_dir 'test_models_LI_sp2_r10' --path_output_dir 'large_intestine_output/r10_sp2_val_mae.npy'  --path_dataset_val_csv \"../csv/val_path_LI.csv\"  --input_index 19 0 41 44 --target_index  5 10 13 14 16 17 20 24 25 27 30 32 33 39 45   --in_dim 4 --out_dim 15\n",
    "\n",
    "# train the net in subpanel3\n",
    "# !python ../train_net/train_model.py --transform_signal normalize --drop_patch_threshold -13000 --n_iter 3200  --interval_save 200 --iter_checkpoint 200 --path_run_dir 'test_models_LI_sp3_r10'  --path_pretrain_dir 'test_models_LI_sp3_r7' --path_dataset_csv \"../csv/train_path_LI.csv\" --path_dataset_val_csv \"../csv/val_path_LI.csv\" --out_drop_index 13 --input_index 43 0 31 41 44 --target_index 3 5 10 11 13 15 16 20 25 30 32 33 35 45 --in_dim 5 --out_dim 14\n",
    "# !python ../train_net/validation.py --transform_signal normalize --n_iter 3200 --path_run_dir 'test_models_LI_sp3_r10' --path_output_dir 'large_intestine_output/r10_sp3_val_mae.npy'  --path_dataset_val_csv \"../csv/val_path_LI.csv\"  --input_index 43 0 31 41 44 --target_index  3 5 10 11 13 15 20 25 30 32 33 35 45   --in_dim 5 --out_dim 14"
   ]
  },
  {
   "cell_type": "code",
   "execution_count": 57,
   "metadata": {},
   "outputs": [],
   "source": [
    "subgraph2_prediction = np.load('large_intestine_output/r10_sp2_val_mae.npy', allow_pickle=True)\n",
    "subgraph3_prediction = np.load('large_intestine_output/r10_sp3_val_mae.npy', allow_pickle=True)"
   ]
  },
  {
   "cell_type": "code",
   "execution_count": 58,
   "metadata": {},
   "outputs": [],
   "source": [
    "G.update_subgraph(2, subgraph2_prediction)\n",
    "G.update_subgraph(3, subgraph3_prediction)"
   ]
  },
  {
   "cell_type": "code",
   "execution_count": 59,
   "metadata": {},
   "outputs": [],
   "source": [
    "G.update()  \n",
    "node_costs.append(np.sum(G.node_weights))"
   ]
  },
  {
   "cell_type": "markdown",
   "metadata": {},
   "source": [
    "### Round 11"
   ]
  },
  {
   "cell_type": "code",
   "execution_count": 60,
   "metadata": {},
   "outputs": [
    {
     "name": "stdout",
     "output_type": "stream",
     "text": [
      "input: [6, 43, 19, 0, 18, 31, 41, 7, 28, 44, 34]\n",
      "output: [1, 2, 3, 4, 5, 8, 9, 10, 11, 12, 13, 14, 15, 16, 17, 20, 21, 22, 23, 24, 25, 26, 27, 29, 30, 32, 33, 35, 36, 37, 38, 39, 40, 42, 45]\n",
      "--------------------------------\n",
      "training subgraph:  1 input:  [6, 0, 18, 7, 34] output:  [1, 2, 8, 9, 12, 22, 26, 29, 36, 37, 38, 40, 42]\n",
      "--out_drop_index:  8\n",
      "training subgraph:  4 input:  [6, 43, 0, 31, 7, 34] output:  [1, 2, 3, 9, 11, 15, 22, 26, 35, 37, 38, 42]\n",
      "--out_drop_index:  8\n"
     ]
    }
   ],
   "source": [
    "next_input = G.select_next_input()"
   ]
  },
  {
   "cell_type": "code",
   "execution_count": 61,
   "metadata": {},
   "outputs": [],
   "source": [
    "# train the net in subpanel1\n",
    "# !python ../train_net/train_model.py --transform_signal normalize --drop_patch_threshold -13000 --n_iter 3200  --interval_save 200 --iter_checkpoint 200 --path_run_dir 'test_models_LI_sp1_r11'  --path_pretrain_dir 'test_models_LI_sp1_r8' --path_dataset_csv \"../csv/train_path_LI.csv\" --path_dataset_val_csv \"../csv/val_path_LI.csv\" --out_drop_index 8 --input_index 6 0 18 7 34 --target_index 1 2 8 9 12 22 26 29 36 37 38 40 42 --in_dim 5 --out_dim 13\n",
    "# !python ../train_net/validation.py --transform_signal normalize --n_iter 3200 --path_run_dir 'test_models_LI_sp1_r11'  --path_output_dir 'large_intestine_output/r11_sp1_val_mae.npy' --path_dataset_val_csv \"../csv/val_path_LI.csv\"  --input_index 6 0 18 7 34 --target_index 1 2 8 9 12 22 26 29 36 37 38 40 42  --in_dim 5 --out_dim 13\n",
    "\n",
    "# train the net in subpanel4\n",
    "# !python ../train_net/train_model.py --transform_signal normalize --drop_patch_threshold -13000 --n_iter 3200  --interval_save 200 --iter_checkpoint 200 --path_run_dir 'test_models_LI_sp4_r11' --path_pretrain_dir 'test_models_LI_sp4_r8' --path_dataset_csv \"../csv/train_path_LI.csv\" --path_dataset_val_csv \"../csv/val_path_LI.csv\" --out_drop_index 8 --input_index 6 43 0 31 7 34 --target_index 1 2 3 9 11 15 22 26 35 37 38 42  --in_dim 6 --out_dim 12\n",
    "# !python ../train_net/validation.py --transform_signal normalize --n_iter 3200 --path_run_dir 'test_models_LI_sp4_r11'  --path_output_dir 'large_intestine_output/r11_sp4_val_mae.npy' --path_dataset_val_csv \"../csv/val_path_LI.csv\" --input_index 6 43 01 31 7 34 --target_index  1 2 3 9 11 15 22 26 35 37 38 42  --in_dim 6 --out_dim 12"
   ]
  },
  {
   "cell_type": "code",
   "execution_count": 62,
   "metadata": {},
   "outputs": [],
   "source": [
    "subgraph1_prediction = np.load('large_intestine_output/r11_sp1_val_mae.npy', allow_pickle=True)\n",
    "subgraph4_prediction = np.load('large_intestine_output/r11_sp4_val_mae.npy', allow_pickle=True)"
   ]
  },
  {
   "cell_type": "code",
   "execution_count": 63,
   "metadata": {},
   "outputs": [],
   "source": [
    "G.update_subgraph(1, subgraph1_prediction)\n",
    "G.update_subgraph(4, subgraph4_prediction)"
   ]
  },
  {
   "cell_type": "code",
   "execution_count": 64,
   "metadata": {},
   "outputs": [],
   "source": [
    "G.update()  \n",
    "node_costs.append(np.sum(G.node_weights))"
   ]
  },
  {
   "cell_type": "markdown",
   "metadata": {},
   "source": [
    "### Round12"
   ]
  },
  {
   "cell_type": "code",
   "execution_count": 65,
   "metadata": {},
   "outputs": [
    {
     "name": "stdout",
     "output_type": "stream",
     "text": [
      "input: [6, 43, 19, 0, 18, 31, 41, 7, 28, 44, 34, 27]\n",
      "output: [1, 2, 3, 4, 5, 8, 9, 10, 11, 12, 13, 14, 15, 16, 17, 20, 21, 22, 23, 24, 25, 26, 29, 30, 32, 33, 35, 36, 37, 38, 39, 40, 42, 45]\n",
      "--------------------------------\n",
      "training subgraph:  0 input:  [6, 19, 0, 18, 28, 27] output:  [2, 4, 8, 12, 14, 17, 21, 23, 24, 29, 36, 39, 40]\n",
      "--out_drop_index:  9\n",
      "training subgraph:  2 input:  [19, 0, 41, 44, 27] output:  [5, 10, 13, 14, 16, 17, 20, 24, 25, 30, 32, 33, 39, 45]\n",
      "--out_drop_index:  9\n"
     ]
    }
   ],
   "source": [
    "next_input = G.select_next_input()"
   ]
  },
  {
   "cell_type": "code",
   "execution_count": 66,
   "metadata": {},
   "outputs": [],
   "source": [
    "# train the net in subpanel0\n",
    "# !python ../train_net/train_model.py --transform_signal normalize --drop_patch_threshold -13000 --n_iter 3200  --interval_save 200 --iter_checkpoint 200 --path_run_dir 'test_models_LI_sp0_r12' --path_pretrain_dir 'test_models_LI_sp0_r9' --path_dataset_csv \"../csv/train_path_LI.csv\" --path_dataset_val_csv \"../csv/val_path_LI.csv\" --out_drop_index 9 --input_index 6 19 0 18 28 27 --target_index 2 4 8 12 14 17 21 23 24 29 36 39 40 --in_dim 6 --out_dim 13\n",
    "# !python ../train_net/validation.py --transform_signal normalize --n_iter 3200 --path_run_dir 'test_models_LI_sp0_r12' --path_output_dir 'large_intestine_output/r12_sp0_val_mae.npy'  --path_dataset_val_csv \"../csv/val_path_LI.csv\"  --input_index 6 19 0 18 28 27 --target_index  2 4 8 12 14 17 21 23 24 29 36 39 40   --in_dim 6 --out_dim 13\n",
    "\n",
    "# train the net in subpanel2\n",
    "# !python ../train_net/train_model.py --transform_signal normalize --drop_patch_threshold -13000 --n_iter 3200  --interval_save 200 --iter_checkpoint 200 --path_run_dir 'test_models_LI_sp2_r12'   --path_pretrain_dir 'test_models_LI_sp2_r10' --path_dataset_csv \"../csv/train_path_LI.csv\" --path_dataset_val_csv \"../csv/val_path_LI.csv\" --out_drop_index 9 --input_index 19 0 41 44 27 --target_index 5 10 13 14 16 17 20 24 25 30 32 33 39 45 --in_dim 5 --out_dim 14\n",
    "# !python ../train_net/validation.py --transform_signal normalize --n_iter 3200 --path_run_dir 'test_models_LI_sp2_r12' --path_output_dir 'large_intestine_output/r12_sp2_val_mae.npyy'  --path_dataset_val_csv \"../csv/val_path_LI.csv\"  --input_index 19 0 41 44 27 --target_index  5 10 13 14 16 17 20 24 25 30 32 33 39 45   --in_dim 5 --out_dim 14\n"
   ]
  },
  {
   "cell_type": "code",
   "execution_count": 67,
   "metadata": {},
   "outputs": [],
   "source": [
    "subgraph0_prediction = np.load('large_intestine_output/r12_sp0_val_mae.npy', allow_pickle=True)\n",
    "subgraph2_prediction = np.load('large_intestine_output/r12_sp2_val_mae.npy', allow_pickle=True)"
   ]
  },
  {
   "cell_type": "code",
   "execution_count": 68,
   "metadata": {},
   "outputs": [],
   "source": [
    "G.update_subgraph(0, subgraph0_prediction)\n",
    "G.update_subgraph(2, subgraph2_prediction)"
   ]
  },
  {
   "cell_type": "code",
   "execution_count": 69,
   "metadata": {},
   "outputs": [],
   "source": [
    "G.update()\n",
    "node_costs.append(np.sum(G.node_weights))"
   ]
  },
  {
   "cell_type": "markdown",
   "metadata": {},
   "source": [
    "### Round 13"
   ]
  },
  {
   "cell_type": "code",
   "execution_count": 70,
   "metadata": {},
   "outputs": [
    {
     "name": "stdout",
     "output_type": "stream",
     "text": [
      "input: [6, 43, 19, 0, 18, 31, 41, 7, 28, 44, 34, 27, 20]\n",
      "output: [1, 2, 3, 4, 5, 8, 9, 10, 11, 12, 13, 14, 15, 16, 17, 21, 22, 23, 24, 25, 26, 29, 30, 32, 33, 35, 36, 37, 38, 39, 40, 42, 45]\n",
      "--------------------------------\n",
      "training subgraph:  2 input:  [19, 0, 41, 44, 27, 20] output:  [5, 10, 13, 14, 16, 17, 24, 25, 30, 32, 33, 39, 45]\n",
      "--out_drop_index:  6\n",
      "training subgraph:  3 input:  [43, 0, 31, 41, 44, 20] output:  [3, 5, 10, 11, 13, 15, 16, 25, 30, 32, 33, 35, 45]\n",
      "--out_drop_index:  7\n"
     ]
    }
   ],
   "source": [
    "next_input = G.select_next_input()"
   ]
  },
  {
   "cell_type": "code",
   "execution_count": 71,
   "metadata": {},
   "outputs": [],
   "source": [
    "# train the net in subpanel2\n",
    "# !python ../train_net/train_model.py --transform_signal normalize --drop_patch_threshold -13000 --n_iter 3200  --interval_save 200 --iter_checkpoint 200 --path_run_dir 'test_models_LI_sp2_r13'   --path_pretrain_dir 'test_models_LI_sp2_r12' --path_dataset_csv \"../csv/train_path_LI.csv\" --path_dataset_val_csv \"../csv/val_path_LI.csv\" --out_drop_index 6 --input_index 19 0 41 44 27 20 --target_index 5 10 13 14 16 17 24 25 30 32 33 39 45 --in_dim 6 --out_dim 13\n",
    "# !python ../train_net/validation.py --transform_signal normalize --n_iter 3200 --path_run_dir 'test_models_LI_sp2_r13' --path_output_dir 'large_intestine_output/r13_sp2_val_mae.npy'  --path_dataset_val_csv \"../csv/val_path_LI.csv\"  --input_index 19 0 41 44 27 20 --target_index  5 10 13 14 16 17 24 25 30 32 33 39 45   --in_dim 6 --out_dim 13\n",
    "\n",
    "# train the net in subpanel3\n",
    "# !python ../train_net/train_model.py --transform_signal normalize --drop_patch_threshold -13000 --n_iter 3200  --interval_save 200 --iter_checkpoint 200 --path_run_dir 'test_models_LI_sp3_r13'  --path_pretrain_dir 'test_models_LI_sp3_r10' --path_dataset_csv \"../csv/train_path_LI.csv\" --path_dataset_val_csv \"../csv/val_path_LI.csv\" --out_drop_index 7 --input_index 43 0 31 41 44 20 --target_index 3 5 10 11 13 15 16 25 30 32 33 35 45 --in_dim 6 --out_dim 13\n",
    "# !python ../train_net/validation.py --transform_signal normalize --n_iter 3200 --path_run_dir 'test_models_LI_sp3_r13' --path_output_dir 'large_intestine_output/r13_sp3_val_mae.npy'  --path_dataset_val_csv \"../csv/val_path_LI.csv\"  --input_index 43 0 31 41 44 20 --target_index  3 5 10 11 13 15 25 30 32 33 35 45   --in_dim 6 --out_dim 13"
   ]
  },
  {
   "cell_type": "code",
   "execution_count": 72,
   "metadata": {},
   "outputs": [],
   "source": [
    "subgraph2_prediction = np.load('large_intestine_output/r13_sp2_val_mae.npy', allow_pickle=True)\n",
    "subgraph3_prediction = np.load('large_intestine_output/r13_sp3_val_mae.npy', allow_pickle=True)"
   ]
  },
  {
   "cell_type": "code",
   "execution_count": 73,
   "metadata": {},
   "outputs": [],
   "source": [
    "G.update_subgraph(2, subgraph2_prediction)\n",
    "G.update_subgraph(3, subgraph3_prediction)"
   ]
  },
  {
   "cell_type": "code",
   "execution_count": 74,
   "metadata": {},
   "outputs": [],
   "source": [
    "G.update()\n",
    "node_costs.append(np.sum(G.node_weights))"
   ]
  },
  {
   "cell_type": "markdown",
   "metadata": {},
   "source": [
    "### Round 14"
   ]
  },
  {
   "cell_type": "code",
   "execution_count": 75,
   "metadata": {},
   "outputs": [
    {
     "name": "stdout",
     "output_type": "stream",
     "text": [
      "input: [6, 43, 19, 0, 18, 31, 41, 7, 28, 44, 34, 27, 20, 25]\n",
      "output: [1, 2, 3, 4, 5, 8, 9, 10, 11, 12, 13, 14, 15, 16, 17, 21, 22, 23, 24, 26, 29, 30, 32, 33, 35, 36, 37, 38, 39, 40, 42, 45]\n",
      "--------------------------------\n",
      "training subgraph:  2 input:  [19, 0, 41, 44, 27, 20, 25] output:  [5, 10, 13, 14, 16, 17, 24, 30, 32, 33, 39, 45]\n",
      "--out_drop_index:  7\n",
      "training subgraph:  3 input:  [43, 0, 31, 41, 44, 20, 25] output:  [3, 5, 10, 11, 13, 15, 16, 30, 32, 33, 35, 45]\n",
      "--out_drop_index:  7\n"
     ]
    }
   ],
   "source": [
    "next_input = G.select_next_input()"
   ]
  },
  {
   "cell_type": "code",
   "execution_count": 76,
   "metadata": {},
   "outputs": [],
   "source": [
    "# train the net in subpanel2\n",
    "# !python ../train_net/train_model.py --transform_signal normalize --drop_patch_threshold -13000 --n_iter 3200  --interval_save 200 --iter_checkpoint 200 --path_run_dir 'test_models_LI_sp2_r14'   --path_pretrain_dir 'test_models_LI_sp2_r13' --path_dataset_csv \"../csv/train_path_LI.csv\" --path_dataset_val_csv \"../csv/val_path_LI.csv\" --out_drop_index 7 --input_index 19 0 41 44 27 20 25 --target_index 5 10 13 14 16 17 24 30 32 33 39 45 --in_dim 7 --out_dim 12\n",
    "# !python ../train_net/validation.py --transform_signal normalize --n_iter 3200 --path_run_dir 'test_models_LI_sp2_r14' --path_output_dir 'large_intestine_output/r14_sp2_val_mae.npy'  --path_dataset_val_csv \"../csv/val_path_LI.csv\"  --input_index 19 0 41 44 27 20 25 --target_index  5 10 13 14 16 17 24 30 32 33 39 45   --in_dim 7 --out_dim 12\n",
    "\n",
    "# train the net in subpanel3\n",
    "# !python ../train_net/train_model.py --transform_signal normalize --drop_patch_threshold -13000 --n_iter 3200  --interval_save 200 --iter_checkpoint 200 --path_run_dir 'test_models_LI_sp3_r14'  --path_pretrain_dir 'test_models_LI_sp3_r13' --path_dataset_csv \"../csv/train_path_LI.csv\" --path_dataset_val_csv \"../csv/val_path_LI.csv\" --out_drop_index 7 --input_index 43 0 31 41 44 20 25 --target_index 3 5 10 11 13 15 16 30 32 33 35 45 --in_dim 7 --out_dim 12\n",
    "# !python ../train_net/validation.py --transform_signal normalize --n_iter 3200 --path_run_dir 'test_models_LI_sp3_r14' --path_output_dir 'large_intestine_output/r14_sp3_val_mae.npy'  --path_dataset_val_csv \"../csv/val_path_LI.csv\"  --input_index 43 0 31 41 44 20 25 --target_index  3 5 10 11 13 15 30 32 33 35 45   --in_dim 7 --out_dim 12"
   ]
  },
  {
   "cell_type": "code",
   "execution_count": 77,
   "metadata": {},
   "outputs": [],
   "source": [
    "subgraph2_prediction = np.load('large_intestine_output/r14_sp2_val_mae.npy', allow_pickle=True)\n",
    "subgraph3_prediction = np.load('large_intestine_output/r14_sp3_val_mae.npy', allow_pickle=True)"
   ]
  },
  {
   "cell_type": "code",
   "execution_count": 78,
   "metadata": {},
   "outputs": [],
   "source": [
    "G.update_subgraph(2, subgraph2_prediction)\n",
    "G.update_subgraph(3, subgraph3_prediction)"
   ]
  },
  {
   "cell_type": "code",
   "execution_count": 79,
   "metadata": {},
   "outputs": [],
   "source": [
    "G.update()\n",
    "node_costs.append(np.sum(G.node_weights))"
   ]
  },
  {
   "cell_type": "markdown",
   "metadata": {},
   "source": [
    "###  Round 15"
   ]
  },
  {
   "cell_type": "code",
   "execution_count": 80,
   "metadata": {},
   "outputs": [
    {
     "name": "stdout",
     "output_type": "stream",
     "text": [
      "input: [6, 43, 19, 0, 18, 31, 41, 7, 28, 44, 34, 27, 20, 25, 36]\n",
      "output: [1, 2, 3, 4, 5, 8, 9, 10, 11, 12, 13, 14, 15, 16, 17, 21, 22, 23, 24, 26, 29, 30, 32, 33, 35, 37, 38, 39, 40, 42, 45]\n",
      "--------------------------------\n",
      "training subgraph:  0 input:  [6, 19, 0, 18, 28, 27, 36] output:  [2, 4, 8, 12, 14, 17, 21, 23, 24, 29, 39, 40]\n",
      "--out_drop_index:  10\n",
      "training subgraph:  1 input:  [6, 0, 18, 7, 34, 36] output:  [1, 2, 8, 9, 12, 22, 26, 29, 37, 38, 40, 42]\n",
      "--out_drop_index:  8\n"
     ]
    }
   ],
   "source": [
    "next_input = G.select_next_input()"
   ]
  },
  {
   "cell_type": "code",
   "execution_count": 81,
   "metadata": {},
   "outputs": [],
   "source": [
    "# train the net in subpanel0\n",
    "# !python ../train_net/train_model.py --transform_signal normalize --drop_patch_threshold -13000 --n_iter 3200  --interval_save 200 --iter_checkpoint 200 --path_run_dir 'test_models_LI_sp0_r15' --path_pretrain_dir 'test_models_LI_sp0_r12' --path_dataset_csv \"../csv/train_path_LI.csv\" --path_dataset_val_csv \"../csv/val_path_LI.csv\" --out_drop_index 10 --input_index 6 19 0 18 28 27 36 --target_index 2 4 8 12 14 17 21 23 24 29 39 40 --in_dim 7 --out_dim 12\n",
    "# !python ../train_net/validation.py --transform_signal normalize --n_iter 3200 --path_run_dir 'test_models_LI_sp0_r15' --path_output_dir 'large_intestine_output/r15_sp0_val_mae.npy'  --path_dataset_val_csv \"../csv/val_path_LI.csv\"  --input_index 6 19 0 18 28 27 36 --target_index  2 4 8 12 14 17 21 23 24 29 39 40   --in_dim 7 --out_dim 12\n",
    "\n",
    "# train the net in subpanel1\n",
    "# !python ../train_net/train_model.py --transform_signal normalize --drop_patch_threshold -13000 --n_iter 3200  --interval_save 200 --iter_checkpoint 200 --path_run_dir 'test_models_LI_sp1_r11'  --path_pretrain_dir 'test_models_LI_sp1_r8' --path_dataset_csv \"../csv/train_path_LI.csv\" --path_dataset_val_csv \"../csv/val_path_LI.csv\" --out_drop_index 8 --input_index 6 0 18 7 34 36 --target_index 1 2 8 9 12 22 26 29 37 38 40 42 --in_dim 6 --out_dim 12\n",
    "# !python ../train_net/validation.py --transform_signal normalize --n_iter 3200 --path_run_dir 'test_models_LI_sp1_r15'  --path_output_dir 'large_intestine_output/r15_sp1_val_mae.npy' --path_dataset_val_csv \"../csv/val_path_LI.csv\"  --input_index 6 0 18 7 34 36 --target_index 1 2 8 9 12 22 26 29 37 38 40 42  --in_dim 6 --out_dim 12"
   ]
  },
  {
   "cell_type": "code",
   "execution_count": 82,
   "metadata": {},
   "outputs": [],
   "source": [
    "subgraph0_prediction = np.load('large_intestine_output/r15_sp0_val_mae.npy', allow_pickle=True)\n",
    "subgraph1_prediction = np.load('large_intestine_output/r15_sp1_val_mae.npy', allow_pickle=True)\n",
    "\n",
    "G.update_subgraph(0, subgraph0_prediction)\n",
    "G.update_subgraph(1, subgraph1_prediction)\n",
    "\n",
    "G.update()\n",
    "node_costs.append(np.sum(G.node_weights))"
   ]
  },
  {
   "cell_type": "markdown",
   "metadata": {},
   "source": [
    "### Round 16"
   ]
  },
  {
   "cell_type": "code",
   "execution_count": 83,
   "metadata": {},
   "outputs": [
    {
     "name": "stdout",
     "output_type": "stream",
     "text": [
      "input: [6, 43, 19, 0, 18, 31, 41, 7, 28, 44, 34, 27, 20, 25, 36, 37]\n",
      "output: [1, 2, 3, 4, 5, 8, 9, 10, 11, 12, 13, 14, 15, 16, 17, 21, 22, 23, 24, 26, 29, 30, 32, 33, 35, 38, 39, 40, 42, 45]\n",
      "--------------------------------\n",
      "training subgraph:  1 input:  [6, 0, 18, 7, 34, 36, 37] output:  [1, 2, 8, 9, 12, 22, 26, 29, 38, 40, 42]\n",
      "--out_drop_index:  8\n",
      "training subgraph:  4 input:  [6, 43, 0, 31, 7, 34, 37] output:  [1, 2, 3, 9, 11, 15, 22, 26, 35, 38, 42]\n",
      "--out_drop_index:  9\n"
     ]
    }
   ],
   "source": [
    "next_input = G.select_next_input()"
   ]
  },
  {
   "cell_type": "code",
   "execution_count": 84,
   "metadata": {},
   "outputs": [],
   "source": [
    "# train the net in subpanel1\n",
    "# !python ../train_net/train_model.py --transform_signal normalize --drop_patch_threshold -13000 --n_iter 3200  --interval_save 200 --iter_checkpoint 200 --path_run_dir 'test_models_LI_sp1_r16'  --path_pretrain_dir 'test_models_LI_sp1_r11' --path_dataset_csv \"../csv/train_path_LI.csv\" --path_dataset_val_csv \"../csv/val_path_LI.csv\" --out_drop_index 8 --input_index 6 0 18 7 34 36 37 --target_index 1 2 8 9 12 22 26 29 38 40 42 --in_dim 7 --out_dim 11\n",
    "# !python ../train_net/validation.py --transform_signal normalize --n_iter 3200 --path_run_dir 'test_models_LI_sp1_r16'  --path_output_dir 'large_intestine_output/r16_sp1_val_mae.npy' --path_dataset_val_csv \"../csv/val_path_LI.csv\"  --input_index 6 0 18 7 34 36 37 --target_index 1 2 8 9 12 22 26 29 38 40 42  --in_dim 7 --out_dim 11\n",
    "\n",
    "# train the net in subpanel4\n",
    "# !python ../train_net/train_model.py --transform_signal normalize --drop_patch_threshold -13000 --n_iter 3200  --interval_save 200 --iter_checkpoint 200 --path_run_dir 'test_models_LI_sp4_r16' --path_pretrain_dir 'test_models_LI_sp4_r11' --path_dataset_csv \"../csv/train_path_LI.csv\" --path_dataset_val_csv \"../csv/val_path_LI.csv\" --out_drop_index 9 --input_index 6 43 0 31 7 34 37 --target_index 1 2 3 9 11 15 22 26 35 38 42  --in_dim 7 --out_dim 11\n",
    "# !python ../train_net/validation.py --transform_signal normalize --n_iter 3200 --path_run_dir 'test_models_LI_sp4_r16'  --path_output_dir 'large_intestine_output/r16_sp4_val_mae.npy' --path_dataset_val_csv \"../csv/val_path_LI.csv\" --input_index 6 43 01 31 7 34 37 --target_index  1 2 3 9 11 15 22 26 35 38 42  --in_dim 7 --out_dim 11"
   ]
  },
  {
   "cell_type": "code",
   "execution_count": 85,
   "metadata": {},
   "outputs": [],
   "source": [
    "subgraph1_prediction = np.load('large_intestine_output/r16_sp1_val_mae.npy', allow_pickle=True)\n",
    "subgraph4_prediction = np.load('large_intestine_output/r16_sp4_val_mae.npy', allow_pickle=True)\n",
    "\n",
    "G.update_subgraph(1, subgraph1_prediction)\n",
    "G.update_subgraph(4, subgraph4_prediction)\n",
    "\n",
    "G.update()\n",
    "node_costs.append(np.sum(G.node_weights))"
   ]
  },
  {
   "cell_type": "markdown",
   "metadata": {},
   "source": [
    "### Round 17\n"
   ]
  },
  {
   "cell_type": "code",
   "execution_count": 86,
   "metadata": {},
   "outputs": [
    {
     "name": "stdout",
     "output_type": "stream",
     "text": [
      "input: [6, 43, 19, 0, 18, 31, 41, 7, 28, 44, 34, 27, 20, 25, 36, 37, 38]\n",
      "output: [1, 2, 3, 4, 5, 8, 9, 10, 11, 12, 13, 14, 15, 16, 17, 21, 22, 23, 24, 26, 29, 30, 32, 33, 35, 39, 40, 42, 45]\n",
      "--------------------------------\n",
      "training subgraph:  1 input:  [6, 0, 18, 7, 34, 36, 37, 38] output:  [1, 2, 8, 9, 12, 22, 26, 29, 40, 42]\n",
      "--out_drop_index:  8\n",
      "training subgraph:  4 input:  [6, 43, 0, 31, 7, 34, 37, 38] output:  [1, 2, 3, 9, 11, 15, 22, 26, 35, 42]\n",
      "--out_drop_index:  9\n"
     ]
    }
   ],
   "source": [
    "next_input = G.select_next_input()"
   ]
  },
  {
   "cell_type": "code",
   "execution_count": 87,
   "metadata": {},
   "outputs": [],
   "source": [
    "# train the net in subpanel1\n",
    "# !python ../train_net/train_model.py --transform_signal normalize --drop_patch_threshold -13000 --n_iter 3200  --interval_save 200 --iter_checkpoint 200 --path_run_dir 'test_models_LI_sp1_r17'  --path_pretrain_dir 'test_models_LI_sp1_r16' --path_dataset_csv \"../csv/train_path_LI.csv\" --path_dataset_val_csv \"../csv/val_path_LI.csv\" --out_drop_index 8 --input_index 6 0 18 7 34 36 37 38 --target_index 1 2 8 9 12 22 26 29 40 42 --in_dim 8 --out_dim 10\n",
    "# !python ../train_net/validation.py --transform_signal normalize --n_iter 3200 --path_run_dir 'test_models_LI_sp1_r16'  --path_output_dir 'large_intestine_output/r17_sp1_val_mae.npy' --path_dataset_val_csv \"../csv/val_path_LI.csv\"  --input_index 6 0 18 7 34 36 37 38 --target_index 1 2 8 9 12 22 26 29 40 42  --in_dim 8 --out_dim 10\n",
    "\n",
    "# train the net in subpanel4\n",
    "# !python ../train_net/train_model.py --transform_signal normalize --drop_patch_threshold -13000 --n_iter 3200  --interval_save 200 --iter_checkpoint 200 --path_run_dir 'test_models_LI_sp4_r16' --path_pretrain_dir 'test_models_LI_sp4_r11' --path_dataset_csv \"../csv/train_path_LI.csv\" --path_dataset_val_csv \"../csv/val_path_LI.csv\" --out_drop_index 9 --input_index 6 43 0 31 7 34 37 38 --target_index 1 2 3 9 11 15 22 26 35 42  --in_dim 8 --out_dim 10\n",
    "# !python ../train_net/validation.py --transform_signal normalize --n_iter 3200 --path_run_dir 'test_models_LI_sp4_r16'  --path_output_dir 'large_intestine_output/r17_sp4_val_mae.npy' --path_dataset_val_csv \"../csv/val_path_LI.csv\" --input_index 6 43 01 31 7 34 37 38  --target_index  1 2 3 9 11 15 22 26 35 42  --in_dim 8 --out_dim 10"
   ]
  },
  {
   "cell_type": "code",
   "execution_count": 88,
   "metadata": {},
   "outputs": [],
   "source": [
    "subgraph1_prediction = np.load('large_intestine_output/r17_sp1_val_mae.npy', allow_pickle=True)\n",
    "subgraph4_prediction = np.load('large_intestine_output/r17_sp4_val_mae.npy', allow_pickle=True)\n",
    "\n",
    "G.update_subgraph(1, subgraph1_prediction)\n",
    "G.update_subgraph(4, subgraph4_prediction)\n",
    "\n",
    "G.update()\n",
    "node_costs.append(np.sum(G.node_weights))"
   ]
  },
  {
   "cell_type": "markdown",
   "metadata": {},
   "source": [
    "### Round 18"
   ]
  },
  {
   "cell_type": "code",
   "execution_count": 89,
   "metadata": {},
   "outputs": [
    {
     "name": "stdout",
     "output_type": "stream",
     "text": [
      "input: [6, 43, 19, 0, 18, 31, 41, 7, 28, 44, 34, 27, 20, 25, 36, 37, 38, 13]\n",
      "output: [1, 2, 3, 4, 5, 8, 9, 10, 11, 12, 14, 15, 16, 17, 21, 22, 23, 24, 26, 29, 30, 32, 33, 35, 39, 40, 42, 45]\n",
      "--------------------------------\n",
      "training subgraph:  2 input:  [19, 0, 41, 44, 27, 20, 25, 13] output:  [5, 10, 14, 16, 17, 24, 30, 32, 33, 39, 45]\n",
      "--out_drop_index:  2\n",
      "training subgraph:  3 input:  [43, 0, 31, 41, 44, 20, 25, 13] output:  [3, 5, 10, 11, 15, 16, 30, 32, 33, 35, 45]\n",
      "--out_drop_index:  4\n"
     ]
    }
   ],
   "source": [
    "next_input = G.select_next_input()"
   ]
  },
  {
   "cell_type": "code",
   "execution_count": 90,
   "metadata": {},
   "outputs": [],
   "source": [
    "# train the net in subpanel2\n",
    "# !python ../train_net/train_model.py --transform_signal normalize --drop_patch_threshold -13000 --n_iter 3200  --interval_save 200 --iter_checkpoint 200 --path_run_dir 'test_models_LI_sp2_r18'   --path_pretrain_dir 'test_models_LI_sp2_r14' --path_dataset_csv \"../csv/train_path_LI.csv\" --path_dataset_val_csv \"../csv/val_path_LI.csv\" --out_drop_index 2 --input_index 19 0 41 44 27 20 25 13 --target_index 5 10 14 16 17 24 30 32 33 39 45 --in_dim 8 --out_dim 11\n",
    "# !python ../train_net/validation.py --transform_signal normalize --n_iter 3200 --path_run_dir 'test_models_LI_sp2_r18' --path_output_dir 'large_intestine_output/r18_sp2_val_mae.npy'  --path_dataset_val_csv \"../csv/val_path_LI.csv\"  --input_index 19 0 41 44 27 20 25 13 --target_index  5 10 14 16 17 24 30 32 33 39 45   --in_dim 8 --out_dim 11\n",
    "\n",
    "# train the net in subpanel3\n",
    "# !python ../train_net/train_model.py --transform_signal normalize --drop_patch_threshold -13000 --n_iter 3200  --interval_save 200 --iter_checkpoint 200 --path_run_dir 'test_models_LI_sp3_r18'  --path_pretrain_dir 'test_models_LI_sp3_r14' --path_dataset_csv \"../csv/train_path_LI.csv\" --path_dataset_val_csv \"../csv/val_path_LI.csv\" --out_drop_index 4 --input_index 43 0 31 41 44 20 25 13 --target_index 3 5 10 11 15 16 30 32 33 35 45 --in_dim 8 --out_dim 11\n",
    "# !python ../train_net/validation.py --transform_signal normalize --n_iter 3200 --path_run_dir 'test_models_LI_sp3_r18' --path_output_dir 'large_intestine_output/r18_sp3_val_mae.npy'  --path_dataset_val_csv \"../csv/val_path_LI.csv\"  --input_index 43 0 31 41 44 20 25 13 --target_index  3 5 10 11 15 30 32 33 35 45   --in_dim 8 --out_dim 11"
   ]
  },
  {
   "cell_type": "code",
   "execution_count": 91,
   "metadata": {},
   "outputs": [],
   "source": [
    "subgraph2_prediction = np.load('large_intestine_output/r18_sp2_val_mae.npy', allow_pickle=True)\n",
    "subgraph3_prediction = np.load('large_intestine_output/r18_sp3_val_mae.npy', allow_pickle=True)\n",
    "\n",
    "G.update_subgraph(2, subgraph2_prediction)\n",
    "G.update_subgraph(3, subgraph3_prediction)\n",
    "\n",
    "G.update()\n",
    "node_costs.append(np.sum(G.node_weights))"
   ]
  },
  {
   "cell_type": "markdown",
   "metadata": {},
   "source": [
    "### Round 19"
   ]
  },
  {
   "cell_type": "code",
   "execution_count": 92,
   "metadata": {},
   "outputs": [
    {
     "name": "stdout",
     "output_type": "stream",
     "text": [
      "input: [6, 43, 19, 0, 18, 31, 41, 7, 28, 44, 34, 27, 20, 25, 36, 37, 38, 13, 32]\n",
      "output: [1, 2, 3, 4, 5, 8, 9, 10, 11, 12, 14, 15, 16, 17, 21, 22, 23, 24, 26, 29, 30, 33, 35, 39, 40, 42, 45]\n",
      "--------------------------------\n",
      "training subgraph:  2 input:  [19, 0, 41, 44, 27, 20, 25, 13, 32] output:  [5, 10, 14, 16, 17, 24, 30, 33, 39, 45]\n",
      "--out_drop_index:  7\n",
      "training subgraph:  3 input:  [43, 0, 31, 41, 44, 20, 25, 13, 32] output:  [3, 5, 10, 11, 15, 16, 30, 33, 35, 45]\n",
      "--out_drop_index:  7\n"
     ]
    }
   ],
   "source": [
    "next_input = G.select_next_input()"
   ]
  },
  {
   "cell_type": "code",
   "execution_count": 93,
   "metadata": {},
   "outputs": [],
   "source": [
    "# train the net in subpanel2\n",
    "# !python ../train_net/train_model.py --transform_signal normalize --drop_patch_threshold -13000 --n_iter 3200  --interval_save 200 --iter_checkpoint 200 --path_run_dir 'test_models_LI_sp2_r19'   --path_pretrain_dir 'test_models_LI_sp2_r18' --path_dataset_csv \"../csv/train_path_LI.csv\" --path_dataset_val_csv \"../csv/val_path_LI.csv\" --out_drop_index 7 --input_index 19 0 41 44 27 20 25 13 32 --target_index 5 10 14 16 17 24 30 33 39 45 --in_dim 9 --out_dim 10\n",
    "# !python ../train_net/validation.py --transform_signal normalize --n_iter 3200 --path_run_dir 'test_models_LI_sp2_r19' --path_output_dir 'large_intestine_output/r19_sp2_val_mae.npy'  --path_dataset_val_csv \"../csv/val_path_LI.csv\"  --input_index 19 0 41 44 27 20 25 13 32 --target_index  5 10 14 16 17 24 30 33 39 45   --in_dim 9 --out_dim 10\n",
    "\n",
    "# train the net in subpanel3\n",
    "# !python ../train_net/train_model.py --transform_signal normalize --drop_patch_threshold -13000 --n_iter 3200  --interval_save 200 --iter_checkpoint 200 --path_run_dir 'test_models_LI_sp3_r19'  --path_pretrain_dir 'test_models_LI_sp3_r18' --path_dataset_csv \"../csv/train_path_LI.csv\" --path_dataset_val_csv \"../csv/val_path_LI.csv\" --out_drop_index 7 --input_index 43 0 31 41 44 20 25 13 32 --target_index 3 5 10 11 15 16 30 33 35 45 --in_dim 9 --out_dim 10\n",
    "# !python ../train_net/validation.py --transform_signal normalize --n_iter 3200 --path_run_dir 'test_models_LI_sp3_r19' --path_output_dir 'large_intestine_output/r19_sp3_val_mae.npy'  --path_dataset_val_csv \"../csv/val_path_LI.csv\"  --input_index 43 0 31 41 44 20 25 13 32 --target_index  3 5 10 11 15 30 33 35 45   --in_dim 9 --out_dim 10"
   ]
  },
  {
   "cell_type": "code",
   "execution_count": 94,
   "metadata": {},
   "outputs": [],
   "source": [
    "subgraph2_prediction = np.load('large_intestine_output/r19_sp2_val_mae.npy', allow_pickle=True)\n",
    "subgraph3_prediction = np.load('large_intestine_output/r19_sp3_val_mae.npy', allow_pickle=True)\n",
    "\n",
    "G.update_subgraph(2, subgraph2_prediction)\n",
    "G.update_subgraph(3, subgraph3_prediction)\n",
    "\n",
    "G.update()\n",
    "node_costs.append(np.sum(G.node_weights))"
   ]
  },
  {
   "cell_type": "code",
   "execution_count": 95,
   "metadata": {},
   "outputs": [
    {
     "name": "stdout",
     "output_type": "stream",
     "text": [
      "[0.0, 13.189843092113733, 10.990895219147205, 10.081493735313416, 9.34431010733048, 8.673479720950127, 8.240719821304083, 7.708132013678551, 7.257667645812035, 6.89984018355608, 6.563436947762966, 6.24884770065546, 5.794893376529217, 5.482682600617409, 5.231026031076908, 5.0023205280303955, 4.7410110011696815, 4.491450190544128, 4.258732549846172, 4.056373756378889]\n"
     ]
    }
   ],
   "source": [
    "print(node_costs)"
   ]
  },
  {
   "cell_type": "code",
   "execution_count": 96,
   "metadata": {},
   "outputs": [],
   "source": [
    "import numpy as np\n",
    "# np.save(\"li_mtx.npy\", G.mtx)\n",
    "li_mtx = np.load(\"li_mtx.npy\")\n",
    "\n",
    "with open('marker_list/LI46.txt') as f:\n",
    "    li_markers = f.read().splitlines()"
   ]
  },
  {
   "cell_type": "code",
   "execution_count": 97,
   "metadata": {},
   "outputs": [
    {
     "data": {
      "image/png": "[encoded data removed]",
      "text/plain": [
       "<Figure size 1000x800 with 2 Axes>"
      ]
     },
     "metadata": {},
     "output_type": "display_data"
    }
   ],
   "source": [
    "import seaborn as sns\n",
    "import matplotlib.pyplot as plt\n",
    "import pandas as pd\n",
    "fig, ax = plt.subplots(figsize=(10, 8))\n",
    "sns.set_theme()\n",
    "df = pd.DataFrame(li_mtx)\n",
    "p = sns.heatmap(df, xticklabels=True, yticklabels=True, vmin=0, vmax = 0.62)\n",
    "p.set_xticklabels(li_markers, rotation=90)\n",
    "p.set_yticklabels(li_markers, rotation=0)\n",
    "plt.show()"
   ]
  },
  {
   "cell_type": "code",
   "execution_count": null,
   "metadata": {},
   "outputs": [],
   "source": []
  }
 ],
 "metadata": {
  "kernelspec": {
   "display_name": "networkx",
   "language": "python",
   "name": "python3"
  },
  "language_info": {
   "codemirror_mode": {
    "name": "ipython",
    "version": 3
   },
   "file_extension": ".py",
   "mimetype": "text/x-python",
   "name": "python",
   "nbconvert_exporter": "python",
   "pygments_lexer": "ipython3",
   "version": "3.10.6"
  },
  "orig_nbformat": 4
 },
 "nbformat": 4,
 "nbformat_minor": 2
}
