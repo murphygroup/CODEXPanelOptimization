{
 "cells": [
  {
   "cell_type": "code",
   "execution_count": 1,
   "id": "52b28527",
   "metadata": {
    "pycharm": {
     "name": "#%%\n"
    }
   },
   "outputs": [],
   "source": [
    "import matplotlib.pyplot as plt\n",
    "import networkx as nx\n",
    "import numpy as np\n",
    "import pandas as pd\n",
    "from train_selection_MAE import Edge, Node, Graph\n",
    "import seaborn as sns\n",
    "import os\n",
    "import imageio"
   ]
  },
  {
   "cell_type": "markdown",
   "id": "2a744682",
   "metadata": {},
   "source": [
    "### initialization"
   ]
  },
  {
   "cell_type": "code",
   "execution_count": 2,
   "id": "52056f80",
   "metadata": {},
   "outputs": [],
   "source": [
    "if not os.path.exists(\"lymph_node_output\"):\n",
    "    os.makedirs(\"lymph_node_output\")\n",
    "# uncomment the line below to run but there are existing files for demo\n",
    "# !python ../train_net/corr.py --csv_path '../csv/train_path_LN29.csv' --num_biomarkers 29 --save_path 'large_intestine/mae_mtx_LN' --transform_signal normalize2  # get initial edge weights\n",
    "scores = np.load(\"lymph_node_output/mae_mtx_LN.npy\")"
   ]
  },
  {
   "cell_type": "code",
   "execution_count": 3,
   "id": "7a10a03b",
   "metadata": {
    "pycharm": {
     "name": "#%%\n"
    }
   },
   "outputs": [],
   "source": [
    "num_biomarkers = 29\n",
    "\n",
    "nodes = []\n",
    "for i in range(num_biomarkers):\n",
    "    nodes.append(Node(i, num_biomarkers))\n",
    "\n",
    "edges = []\n",
    "for i in range(num_biomarkers):\n",
    "    for j in range(i+1,num_biomarkers):\n",
    "        edge = Edge(scores[i,j])\n",
    "        edge.nodes = (i,j)\n",
    "        edges.append(edge)\n",
    "        nodes[i].edges.append(edge)\n",
    "        nodes[j].edges.append(edge)\n",
    "\n",
    "g = Graph(nodes,edges, num_biomarkers)"
   ]
  },
  {
   "cell_type": "code",
   "execution_count": 4,
   "id": "859a46f3",
   "metadata": {
    "pycharm": {
     "name": "#%%\n"
    }
   },
   "outputs": [
    {
     "name": "stdout",
     "output_type": "stream",
     "text": [
      "add marker 21 into input\n",
      "input: [21]\n",
      "output:  [0, 1, 2, 3, 4, 5, 6, 7, 8, 9, 10, 11, 12, 13, 14, 15, 16, 17, 18, 19, 20, 22, 23, 24, 25, 26, 27, 28]\n"
     ]
    }
   ],
   "source": [
    "# chose the 1st input\n",
    "node_degrees = []\n",
    "for n in g.nodes:\n",
    "    degree = sum(e.value for e in n.edges)\n",
    "    minDegree = min(e.value for e in n.edges)\n",
    "    n.init_degree = minDegree\n",
    "    node_degrees.append(degree)\n",
    "x = np.argmin(node_degrees)\n",
    "\n",
    "g.input_.append(x)\n",
    "idx = int(g.input_[-1])\n",
    "\n",
    "print(\"add marker\",idx, \"into input\")\n",
    "print(\"input:\", g.input_)\n",
    "\n",
    "for i in g.output:\n",
    "    if i == idx:\n",
    "        g.output.remove(i)\n",
    "print(\"output: \", g.output)\n",
    "\n",
    "out = g.output.copy()"
   ]
  },
  {
   "cell_type": "markdown",
   "id": "3c6ed10a",
   "metadata": {},
   "source": [
    "### Round1"
   ]
  },
  {
   "cell_type": "code",
   "execution_count": 5,
   "id": "39cab4ae",
   "metadata": {},
   "outputs": [],
   "source": [
    "# train the network with currect input and output markers \n",
    "# !python ../train_net/train_model.py --transform_signal normalize2 --n_iter 4000  --interval_save 200 --iter_checkpoint 200  --path_run_dir 'test_models_LN_01'  --path_dataset_csv \"../csv/train_path_LN.csv\"  --path_dataset_val_csv \"../csv/val_path_LN.csv\"  --input_index 21  --target_index 0 1 2 3 4 5 6 7 8 9 10 11 12 13 14 15 16 17 18 19 20 22 23 24 25 26 27 28   --in_dim 1 --out_dim 28\n",
    "# !python ../train_net/validation.py --transform_signal normalize2 --n_iter 4000 --path_run_dir 'test_models_LN_01'  --path_output_dir 'lymph_node_output/val_vae_01.npy' --path_dataset_val_csv \"../csv/val_path_LN.csv\"   --input_index  21  --target_index 0 1 2 3 4 5 6 7 8 9 10 11 12 13 14 15 16 17 18 19 20 22 23 24 25 26 27 28 --in_dim 1 --out_dim 28"
   ]
  },
  {
   "cell_type": "code",
   "execution_count": 6,
   "id": "a8322dcd",
   "metadata": {
    "pycharm": {
     "name": "#%%\n"
    }
   },
   "outputs": [
    {
     "name": "stdout",
     "output_type": "stream",
     "text": [
      "add 10 into input\n",
      "input: [21, 10]\n",
      "output:  [0, 1, 2, 3, 4, 5, 6, 7, 8, 9, 11, 12, 13, 14, 15, 16, 17, 18, 19, 20, 22, 23, 24, 25, 26, 27, 28]\n",
      "--out_drop_index: 10\n"
     ]
    }
   ],
   "source": [
    "val_loss_path = r'lymph_node_output/val_vae_01.npy' \n",
    "idx = g.updateAndFindNext(idx, val_loss_path)\n",
    "out_drop = out.index(idx) # index of added input in the previous target list\n",
    "print(\"--out_drop_index:\", out_drop)\n",
    "out = g.output.copy()"
   ]
  },
  {
   "cell_type": "markdown",
   "id": "265bd2c6",
   "metadata": {},
   "source": [
    "### Round2"
   ]
  },
  {
   "cell_type": "code",
   "execution_count": 7,
   "id": "fcc15971",
   "metadata": {},
   "outputs": [],
   "source": [
    "# !python ../train_net/train_model.py --transform_signal normalize2 --n_iter 4000  --interval_save 200 --iter_checkpoint 200  --path_run_dir 'test_models_LN_02'  --path_pretrain_dir 'test_models_LN_01' --path_dataset_csv \"../csv/train_path_LN.csv\"  --path_dataset_val_csv \"../csv/val_path_LN.csv\" --out_drop_index 10 --input_index 21 10  --target_index 0 1 2 3 4 5 6 7 8 9 11 12 13 14 15 16 17 18 19 20 22 23 24 25 26 27 28   --in_dim 2 --out_dim 27\n",
    "# !python ../train_net/validation.py --transform_signal normalize2 --n_iter 4000 --path_run_dir 'test_models_LN_02'  --path_output_dir 'lymph_node_output/val_vae_02.npy' --path_dataset_val_csv \"../csv/val_path_LN.csv\"   --input_index  21 10  --target_index 0 1 2 3 4 5 6 7 8 9 11 12 13 14 15 16 17 18 19 20 22 23 24 25 26 27 28 --in_dim 2 --out_dim 27"
   ]
  },
  {
   "cell_type": "code",
   "execution_count": 8,
   "id": "62d3f9b4",
   "metadata": {},
   "outputs": [
    {
     "name": "stdout",
     "output_type": "stream",
     "text": [
      "add 25 into input\n",
      "input: [21, 10, 25]\n",
      "output:  [0, 1, 2, 3, 4, 5, 6, 7, 8, 9, 11, 12, 13, 14, 15, 16, 17, 18, 19, 20, 22, 23, 24, 26, 27, 28]\n",
      "--out_drop_index: 23\n"
     ]
    }
   ],
   "source": [
    "val_loss_path = r'lymph_node_output/val_vae_02.npy'    \n",
    "idx = g.updateAndFindNext(idx, val_loss_path)\n",
    "out_drop = out.index(idx) # index of added input in the previous target list\n",
    "print(\"--out_drop_index:\", out_drop)\n",
    "out = g.output.copy()"
   ]
  },
  {
   "cell_type": "markdown",
   "id": "1ada0220",
   "metadata": {},
   "source": [
    "### Round3"
   ]
  },
  {
   "cell_type": "code",
   "execution_count": 9,
   "id": "18b1c866",
   "metadata": {},
   "outputs": [],
   "source": [
    "# !python ../train_net/train_model.py --transform_signal normalize2 --n_iter 4000  --interval_save 200 --iter_checkpoint 200  --path_run_dir 'test_models_LN_03'  --path_pretrain_dir 'test_models_LN_02' --path_dataset_csv \"../csv/train_path_LN.csv\"  --path_dataset_val_csv \"../csv/val_path_LN.csv\" --out_drop_index 23 --input_index 21 10 25  --target_index 0 1 2 3 4 5 6 7 8 9 11 12 13 14 15 16 17 18 19 20 22 23 24 26 27 28   --in_dim 3 --out_dim 26\n",
    "# !python ../train_net/validation.py --transform_signal normalize2 --n_iter 4000 --path_run_dir 'test_models_LN_03'  --path_output_dir 'lymph_node_output/val_vae_03.npy' --path_dataset_val_csv \"../csv/val_path_LN.csv\"   --input_index  21 10 25  --target_index 0 1 2 3 4 5 6 7 8 9 11 12 13 14 15 16 17 18 19 20 22 23 24 26 27 28 --in_dim 3 --out_dim 26"
   ]
  },
  {
   "cell_type": "code",
   "execution_count": 10,
   "id": "632a3a15",
   "metadata": {},
   "outputs": [
    {
     "name": "stdout",
     "output_type": "stream",
     "text": [
      "add 3 into input\n",
      "input: [21, 10, 25, 3]\n",
      "output:  [0, 1, 2, 4, 5, 6, 7, 8, 9, 11, 12, 13, 14, 15, 16, 17, 18, 19, 20, 22, 23, 24, 26, 27, 28]\n",
      "--out_drop_index: 3\n"
     ]
    }
   ],
   "source": [
    "val_loss_path = r'lymph_node_output/val_vae_03.npy'  \n",
    "idx = g.updateAndFindNext(idx, val_loss_path)\n",
    "out_drop = out.index(idx) \n",
    "print(\"--out_drop_index:\", out_drop)\n",
    "out = g.output.copy()"
   ]
  },
  {
   "cell_type": "markdown",
   "id": "b47ca4ba",
   "metadata": {},
   "source": [
    "### Round4"
   ]
  },
  {
   "cell_type": "code",
   "execution_count": 11,
   "id": "fdbf8605",
   "metadata": {},
   "outputs": [],
   "source": [
    "# !python ../train_net/train_model.py --transform_signal normalize2 --n_iter 4000  --interval_save 200 --iter_checkpoint 200  --path_run_dir 'test_models_LN_04'  --path_pretrain_dir 'test_models_LN_03' --path_dataset_csv \"../csv/train_path_LN.csv\"  --path_dataset_val_csv \"../csv/val_path_LN.csv\" --out_drop_index 3 --input_index 21 10 25 3 --target_index 0 1 2 4 5 6 7 8 9 11 12 13 14 15 16 17 18 19 20 22 23 24 26 27 28   --in_dim 4 --out_dim 25\n",
    "# !python ../train_net/validation.py --transform_signal normalize2 --n_iter 4000 --path_run_dir 'test_models_LN_04'  --path_output_dir 'lymph_node_output/val_vae_04.npy' --path_dataset_val_csv \"../csv/val_path_LN.csv\"   --input_index  21 10 25 3  --target_index 0 1 2 4 5 6 7 8 9 11 12 13 14 15 16 17 18 19 20 22 23 24 26 27 28 --in_dim 4 --out_dim 25"
   ]
  },
  {
   "cell_type": "code",
   "execution_count": 12,
   "id": "f9f2aa14",
   "metadata": {},
   "outputs": [
    {
     "name": "stdout",
     "output_type": "stream",
     "text": [
      "add 22 into input\n",
      "input: [21, 10, 25, 3, 22]\n",
      "output:  [0, 1, 2, 4, 5, 6, 7, 8, 9, 11, 12, 13, 14, 15, 16, 17, 18, 19, 20, 23, 24, 26, 27, 28]\n",
      "--out_drop_index: 19\n"
     ]
    }
   ],
   "source": [
    "val_loss_path = r'lymph_node_output/val_vae_04.npy' \n",
    "idx = g.updateAndFindNext(idx, val_loss_path)\n",
    "out_drop = out.index(idx) # index of added input in the previous target list\n",
    "print(\"--out_drop_index:\", out_drop)\n",
    "out = g.output.copy()"
   ]
  },
  {
   "cell_type": "markdown",
   "id": "89fe6279",
   "metadata": {},
   "source": [
    "### Round5"
   ]
  },
  {
   "cell_type": "code",
   "execution_count": 13,
   "id": "0bd88541",
   "metadata": {},
   "outputs": [],
   "source": [
    "# !python ../train_net/train_model.py --transform_signal normalize2 --n_iter 4000  --interval_save 200 --iter_checkpoint 200  --path_run_dir 'test_models_LN_05'  --path_pretrain_dir 'test_models_LN_04' --path_dataset_csv \"../csv/train_path_LN.csv\"  --path_dataset_val_csv \"../csv/val_path_LN.csv\" --out_drop_index 19 --input_index 21 10 25 3 22 --target_index 0 1 2 4 5 6 7 8 9 11 12 13 14 15 16 17 18 19 20 23 24 26 27 28   --in_dim 5 --out_dim 24\n",
    "# !python ../train_net/validation.py --transform_signal normalize2 --n_iter 4000 --path_run_dir 'test_models_LN_05'  --path_output_dir 'lymph_node_output/val_vae_05.npy' --path_dataset_val_csv \"../csv/val_path_LN.csv\"   --input_index  21 10 25 3 22  --target_index 0 1 2 3 4 5 6 7 8 9 11 12 13 14 15 16 17 18 19 20 23 24 26 27 28 --in_dim 5 --out_dim 24"
   ]
  },
  {
   "cell_type": "code",
   "execution_count": 14,
   "id": "1303b10a",
   "metadata": {},
   "outputs": [
    {
     "name": "stdout",
     "output_type": "stream",
     "text": [
      "add 28 into input\n",
      "input: [21, 10, 25, 3, 22, 28]\n",
      "output:  [0, 1, 2, 4, 5, 6, 7, 8, 9, 11, 12, 13, 14, 15, 16, 17, 18, 19, 20, 23, 24, 26, 27]\n",
      "--out_drop_index: 23\n"
     ]
    }
   ],
   "source": [
    "val_loss_path = r'lymph_node_output/val_vae_05.npy' \n",
    "idx = g.updateAndFindNext(idx, val_loss_path)\n",
    "out_drop = out.index(idx) # index of added input in the previous target list\n",
    "print(\"--out_drop_index:\", out_drop)\n",
    "out = g.output.copy()"
   ]
  },
  {
   "cell_type": "markdown",
   "id": "c080adf1",
   "metadata": {},
   "source": [
    "### Round6"
   ]
  },
  {
   "cell_type": "code",
   "execution_count": 15,
   "id": "6cb8a818",
   "metadata": {},
   "outputs": [],
   "source": [
    "# !python ../train_net/train_model.py --transform_signal normalize2 --n_iter 4000  --interval_save 200 --iter_checkpoint 200  --path_run_dir 'test_models_LN_06'  --path_pretrain_dir 'test_models_LN_05' --path_dataset_csv \"../csv/train_path_LN.csv\"  --path_dataset_val_csv \"../csv/val_path_LN.csv\" --out_drop_index 23 --input_index 21 10 25 3 22 28 --target_index 0 1 2 4 5 6 7 8 9 11 12 13 14 15 16 17 18 19 20 23 24 26 27   --in_dim 6 --out_dim 23\n",
    "# !python ../train_net/validation.py --transform_signal normalize2 --n_iter 4000 --path_run_dir 'test_models_LN_06'  --path_output_dir 'lymph_node_output/val_vae_06.npy' --path_dataset_val_csv \"../csv/val_path_LN.csv\"   --input_index  21 10 25 3 22 28  --target_index 0 1 2 3 4 5 6 7 8 9 11 12 13 14 15 16 17 18 19 20 23 24 26 27 --in_dim 6 --out_dim 23"
   ]
  },
  {
   "cell_type": "code",
   "execution_count": 16,
   "id": "a43d3f8d",
   "metadata": {},
   "outputs": [
    {
     "name": "stdout",
     "output_type": "stream",
     "text": [
      "add 17 into input\n",
      "input: [21, 10, 25, 3, 22, 28, 17]\n",
      "output:  [0, 1, 2, 4, 5, 6, 7, 8, 9, 11, 12, 13, 14, 15, 16, 18, 19, 20, 23, 24, 26, 27]\n",
      "--out_drop_index: 15\n"
     ]
    }
   ],
   "source": [
    "val_loss_path = r'lymph_node_output/val_vae_06.npy'\n",
    "idx = g.updateAndFindNext(idx, val_loss_path)\n",
    "out_drop = out.index(idx) # index of added input in the previous target list\n",
    "print(\"--out_drop_index:\", out_drop)\n",
    "out = g.output.copy()"
   ]
  },
  {
   "cell_type": "markdown",
   "id": "9703e87c",
   "metadata": {},
   "source": [
    "### Round7"
   ]
  },
  {
   "cell_type": "code",
   "execution_count": 17,
   "id": "325c963b",
   "metadata": {},
   "outputs": [],
   "source": [
    "# !python ../train_net/train_model.py --transform_signal normalize2 --n_iter 4000  --interval_save 200 --iter_checkpoint 200  --path_run_dir 'test_models_LN_07'  --path_pretrain_dir 'test_models_LN_06' --path_dataset_csv \"../csv/train_path_LN.csv\"  --path_dataset_val_csv \"../csv/val_path_LN.csv\" --out_drop_index 15 --input_index 21 10 25 3 22 28 17 --target_index 0 1 2 4 5 6 7 8 9 11 12 13 14 15 16 18 19 20 23 24 26 27   --in_dim 7 --out_dim 22\n",
    "# !python ../train_net/validation.py --transform_signal normalize2 --n_iter 4000 --path_run_dir 'test_models_LN_07'  --path_output_dir 'lymph_node_output/val_vae_07.npy' --path_dataset_val_csv \"../csv/val_path_LN.csv\"   --input_index  21 10 25 3 22 28 17 --target_index 0 1 2 3 4 5 6 7 8 9 11 12 13 14 15 16 18 19 20 23 24 26 27 --in_dim 7 --out_dim 22"
   ]
  },
  {
   "cell_type": "code",
   "execution_count": 18,
   "id": "819796e3",
   "metadata": {},
   "outputs": [
    {
     "name": "stdout",
     "output_type": "stream",
     "text": [
      "add 5 into input\n",
      "input: [21, 10, 25, 3, 22, 28, 17, 5]\n",
      "output:  [0, 1, 2, 4, 6, 7, 8, 9, 11, 12, 13, 14, 15, 16, 18, 19, 20, 23, 24, 26, 27]\n",
      "--out_drop_index: 4\n"
     ]
    }
   ],
   "source": [
    "val_loss_path = r'lymph_node_output/val_vae_07.npy' \n",
    "idx = g.updateAndFindNext(idx, val_loss_path)\n",
    "out_drop = out.index(idx) # index of added input in the previous target list\n",
    "print(\"--out_drop_index:\", out_drop)\n",
    "out = g.output.copy()"
   ]
  },
  {
   "cell_type": "markdown",
   "id": "060a4c86",
   "metadata": {},
   "source": [
    "### Round8"
   ]
  },
  {
   "cell_type": "code",
   "execution_count": 19,
   "id": "0054c410",
   "metadata": {},
   "outputs": [],
   "source": [
    "# !python ../train_net/train_model.py --transform_signal normalize2 --n_iter 4000  --interval_save 200 --iter_checkpoint 200  --path_run_dir 'test_models_LN_08'  --path_pretrain_dir 'test_models_LN_07' --path_dataset_csv \"../csv/train_path_LN.csv\"  --path_dataset_val_csv \"../csv/val_path_LN.csv\" --out_drop_index 4 --input_index 21 10 25 3 22 28 17 5 --target_index 0 1 2 4 6 7 8 9 11 12 13 14 15 16 18 19 20 23 24 26 27   --in_dim 8 --out_dim 21\n",
    "# !python ../train_net/validation.py --transform_signal normalize2 --n_iter 4000 --path_run_dir 'test_models_LN_08'  --path_output_dir 'lymph_node_output/val_vae_08.npy' --path_dataset_val_csv \"../csv/val_path_LN.csv\"   --input_index  21 10 25 3 22 28 17 5 --target_index 0 1 2 4 6 7 8 9 11 12 13 14 15 16 18 19 20 23 24 26 27 --in_dim 8 --out_dim 21"
   ]
  },
  {
   "cell_type": "code",
   "execution_count": 20,
   "id": "dd49addd",
   "metadata": {},
   "outputs": [
    {
     "name": "stdout",
     "output_type": "stream",
     "text": [
      "add 4 into input\n",
      "input: [21, 10, 25, 3, 22, 28, 17, 5, 4]\n",
      "output:  [0, 1, 2, 6, 7, 8, 9, 11, 12, 13, 14, 15, 16, 18, 19, 20, 23, 24, 26, 27]\n",
      "--out_drop_index: 3\n"
     ]
    }
   ],
   "source": [
    "val_loss_path = r'lymph_node_output/val_vae_08.npy'\n",
    "idx = g.updateAndFindNext(idx, val_loss_path)\n",
    "out_drop = out.index(idx) # index of added input in the previous target list\n",
    "print(\"--out_drop_index:\", out_drop)\n",
    "out = g.output.copy()\n"
   ]
  },
  {
   "cell_type": "markdown",
   "id": "fe805743",
   "metadata": {},
   "source": [
    "### Round9"
   ]
  },
  {
   "cell_type": "code",
   "execution_count": 21,
   "id": "4849eaf6",
   "metadata": {},
   "outputs": [],
   "source": [
    "# !python ../train_net/train_model.py --transform_signal normalize2 --n_iter 4000  --interval_save 200 --iter_checkpoint 200  --path_run_dir 'test_models_LN_09'  --path_pretrain_dir 'test_models_LN_08' --path_dataset_csv \"../csv/train_path_LN.csv\"  --path_dataset_val_csv \"../csv/val_path_LN.csv\" --out_drop_index 3 --input_index 21 10 25 3 22 28 17 5 4 --target_index 0 1 2 6 7 8 9 11 12 13 14 15 16 18 19 20 23 24 26 27   --in_dim 9 --out_dim 20\n",
    "# !python ../train_net/validation.py --transform_signal normalize2 --n_iter 4000 --path_run_dir 'test_models_LN_09'  --path_output_dir 'lymph_node_output/val_vae_09.npy' --path_dataset_val_csv \"../csv/val_path_LN.csv\"   --input_index  21 10 25 3 22 28 17 5 4 --target_index 0 1 2 6 7 8 9 11 12 13 14 15 16 18 19 20 23 24 26 27 --in_dim 9 --out_dim 20"
   ]
  },
  {
   "cell_type": "code",
   "execution_count": 22,
   "id": "417aa6ce",
   "metadata": {},
   "outputs": [
    {
     "name": "stdout",
     "output_type": "stream",
     "text": [
      "add 24 into input\n",
      "input: [21, 10, 25, 3, 22, 28, 17, 5, 4, 24]\n",
      "output:  [0, 1, 2, 6, 7, 8, 9, 11, 12, 13, 14, 15, 16, 18, 19, 20, 23, 26, 27]\n",
      "--out_drop_index: 17\n"
     ]
    }
   ],
   "source": [
    "val_loss_path = r'lymph_node_output/val_vae_09.npy'  \n",
    "idx = g.updateAndFindNext(idx, val_loss_path)\n",
    "out_drop = out.index(idx) \n",
    "print(\"--out_drop_index:\", out_drop)\n",
    "out = g.output.copy()"
   ]
  },
  {
   "cell_type": "markdown",
   "id": "159d8b0c",
   "metadata": {},
   "source": [
    "### Round10"
   ]
  },
  {
   "cell_type": "code",
   "execution_count": 23,
   "id": "4ab99cd6",
   "metadata": {},
   "outputs": [],
   "source": [
    "# !python ../train_net/train_model.py --transform_signal normalize2 --n_iter 4000  --interval_save 200 --iter_checkpoint 200  --path_run_dir 'test_models_LN_10'  --path_pretrain_dir 'test_models_LN_09' --path_dataset_csv \"../csv/train_path_LN.csv\"  --path_dataset_val_csv \"../csv/val_path_LN.csv\" --out_drop_index 17 --input_index 21 10 25 3 22 28 17 5 4 24 --target_index 0 1 2 6 7 8 9 11 12 13 14 15 16 18 19 20 23 26 27   --in_dim 10 --out_dim 19\n",
    "# !python ../train_net/validation.py --transform_signal normalize2 --n_iter 4000 --path_run_dir 'test_models_LN_10'  --path_output_dir 'lymph_node_output/val_vae_10.npy' --path_dataset_val_csv \"../csv/val_path_LN.csv\"   --input_index  21 10 25 3 22 28 17 5 4 24 --target_index 0 1 2 6 7 8 9 11 12 13 14 15 16 18 19 20 23 26 27 --in_dim 10 --out_dim 19"
   ]
  },
  {
   "cell_type": "code",
   "execution_count": 24,
   "id": "b2e99dcf",
   "metadata": {},
   "outputs": [
    {
     "name": "stdout",
     "output_type": "stream",
     "text": [
      "add 1 into input\n",
      "input: [21, 10, 25, 3, 22, 28, 17, 5, 4, 24, 1]\n",
      "output:  [0, 2, 6, 7, 8, 9, 11, 12, 13, 14, 15, 16, 18, 19, 20, 23, 26, 27]\n",
      "--out_drop_index: 1\n"
     ]
    }
   ],
   "source": [
    "val_loss_path = r'lymph_node_output/val_vae_10.npy' \n",
    "idx = g.updateAndFindNext(idx, val_loss_path)\n",
    "out_drop = out.index(idx) # index of added input in the previous target list\n",
    "print(\"--out_drop_index:\", out_drop)\n",
    "out = g.output.copy()"
   ]
  },
  {
   "cell_type": "markdown",
   "id": "67f5ae3a",
   "metadata": {},
   "source": [
    "### Round11"
   ]
  },
  {
   "cell_type": "code",
   "execution_count": 25,
   "id": "d2a21c59",
   "metadata": {},
   "outputs": [],
   "source": [
    "# !python ../train_net/train_model.py --transform_signal normalize2 --n_iter 4000  --interval_save 200 --iter_checkpoint 200  --path_run_dir 'test_models_LN_11'  --path_pretrain_dir 'test_models_LN_10' --path_dataset_csv \"../csv/train_path_LN.csv\"  --path_dataset_val_csv \"../csv/val_path_LN.csv\" --out_drop_index 1 --input_index 21 10 25 3 22 28 17 5 4 24 1 --target_index 0 2 6 7 8 9 11 12 13 14 15 16 18 19 20 23 26 27   --in_dim 11 --out_dim 18\n",
    "# !python ../train_net/validation.py --transform_signal normalize2 --n_iter 4000 --path_run_dir 'test_models_LN_11'  --path_output_dir 'lymph_node_output/val_vae_11.npy' --path_dataset_val_csv \"../csv/val_path_LN.csv\"   --input_index  21 10 25 3 22 28 17 5 4 24 1 --target_index 0 2 6 7 8 9 11 12 13 14 15 16 18 19 20 23 26 27 --in_dim 11 --out_dim 18"
   ]
  },
  {
   "cell_type": "code",
   "execution_count": 26,
   "id": "5d5e36ca",
   "metadata": {},
   "outputs": [
    {
     "name": "stdout",
     "output_type": "stream",
     "text": [
      "add 14 into input\n",
      "input: [21, 10, 25, 3, 22, 28, 17, 5, 4, 24, 1, 14]\n",
      "output:  [0, 2, 6, 7, 8, 9, 11, 12, 13, 15, 16, 18, 19, 20, 23, 26, 27]\n",
      "--out_drop_index: 9\n"
     ]
    }
   ],
   "source": [
    "val_loss_path = r'lymph_node_output/val_vae_11.npy' \n",
    "idx = g.updateAndFindNext(idx, val_loss_path)\n",
    "out_drop = out.index(idx)\n",
    "print(\"--out_drop_index:\", out_drop)\n",
    "out = g.output.copy()"
   ]
  },
  {
   "cell_type": "markdown",
   "id": "29423cb0",
   "metadata": {},
   "source": [
    "### Round12"
   ]
  },
  {
   "cell_type": "code",
   "execution_count": 27,
   "id": "773964da",
   "metadata": {},
   "outputs": [],
   "source": [
    "# !python ../train_net/train_model.py --transform_signal normalize2 --n_iter 4000  --interval_save 200 --iter_checkpoint 200  --path_run_dir 'test_models_LN_12'  --path_pretrain_dir 'test_models_LN_11' --path_dataset_csv \"../csv/train_path_LN.csv\"  --path_dataset_val_csv \"../csv/val_path_LN.csv\" --out_drop_index 9 --input_index 21 10 25 3 22 28 17 5 4 24 1 14 --target_index 0 2 6 7 8 9 11 12 13 15 16 18 19 20 23 26 27   --in_dim 12 --out_dim 17\n",
    "# !python ../train_net/validation.py --transform_signal normalize2 --n_iter 4000 --path_run_dir 'test_models_LN_12'  --path_output_dir 'lymph_node_output/val_vae_12.npy' --path_dataset_val_csv \"../csv/val_path_LN.csv\"   --input_index  21 10 25 3 22 28 17 5 4 24 1 14 --target_index 0 2 6 7 8 9 11 12 13 15 16 18 19 20 23 26 27 --in_dim 12 --out_dim 17"
   ]
  },
  {
   "cell_type": "code",
   "execution_count": 28,
   "id": "d4453247",
   "metadata": {},
   "outputs": [
    {
     "name": "stdout",
     "output_type": "stream",
     "text": [
      "add 9 into input\n",
      "input: [21, 10, 25, 3, 22, 28, 17, 5, 4, 24, 1, 14, 9]\n",
      "output:  [0, 2, 6, 7, 8, 11, 12, 13, 15, 16, 18, 19, 20, 23, 26, 27]\n",
      "--out_drop_index: 5\n"
     ]
    }
   ],
   "source": [
    "val_loss_path = r'lymph_node_output/val_vae_12.npy' \n",
    "idx = g.updateAndFindNext(idx, val_loss_path)\n",
    "out_drop = out.index(idx) # index of added input in the previous target list\n",
    "print(\"--out_drop_index:\", out_drop)\n",
    "out = g.output.copy()"
   ]
  },
  {
   "cell_type": "code",
   "execution_count": 32,
   "id": "2cd05169",
   "metadata": {},
   "outputs": [],
   "source": [
    "with open('marker_list/LN29.txt') as f:\n",
    "    ln_markers = f.read().splitlines()"
   ]
  },
  {
   "cell_type": "code",
   "execution_count": 39,
   "id": "36c371c5",
   "metadata": {},
   "outputs": [
    {
     "data": {
      "image/png": "[encoded data removed]",
      "text/plain": [
       "<Figure size 1000x800 with 2 Axes>"
      ]
     },
     "metadata": {},
     "output_type": "display_data"
    }
   ],
   "source": [
    "n = len(g.nodes)\n",
    "edge_mtx = np.zeros((n, n))\n",
    "for i in range(n):\n",
    "    edges = g.nodes[i].edges\n",
    "    for k in range(i, len(edges)):\n",
    "        j = k+1\n",
    "        edge_mtx[i,j] = edges[k].value\n",
    "for j in range(n):\n",
    "    edge_mtx[j, j] = 0\n",
    "    for i in range(j+1, n):\n",
    "        edge_mtx[i, j] = edge_mtx[j, i]\n",
    "\n",
    "fig, ax = plt.subplots(figsize=(10, 8))\n",
    "df = pd.DataFrame(edge_mtx)\n",
    "p = sns.heatmap(df, xticklabels=True, yticklabels=True, vmin=0, vmax = 1.1)\n",
    "p.set_xticklabels(ln_markers, rotation=90)\n",
    "p.set_yticklabels(ln_markers, rotation=0)\n",
    "plt.show()"
   ]
  },
  {
   "cell_type": "markdown",
   "id": "c73ee6ff",
   "metadata": {},
   "source": [
    "### test"
   ]
  },
  {
   "cell_type": "code",
   "execution_count": null,
   "id": "7e6fe9d7",
   "metadata": {},
   "outputs": [],
   "source": [
    "# !python predict_full_view.py --transform_signal normalize2 --save_image  --path_run_dir 'test_models_LN_12'  --path_dataset_csv \"test_path_LN.csv\" --input_index 21 10 25 3 22 28 17 5 4 24 1 14 --target_index 0 2 6 7 8 9 11 12 13 15 16 18 19 20 23 26 27 "
   ]
  }
 ],
 "metadata": {
  "kernelspec": {
   "display_name": "Python 3 (ipykernel)",
   "language": "python",
   "name": "python3"
  },
  "language_info": {
   "codemirror_mode": {
    "name": "ipython",
    "version": 3
   },
   "file_extension": ".py",
   "mimetype": "text/x-python",
   "name": "python",
   "nbconvert_exporter": "python",
   "pygments_lexer": "ipython3",
   "version": "3.10.6"
  }
 },
 "nbformat": 4,
 "nbformat_minor": 5
}
