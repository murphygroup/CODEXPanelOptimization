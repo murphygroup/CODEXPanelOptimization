{
 "cells": [
  {
   "cell_type": "code",
   "execution_count": 1,
   "metadata": {},
   "outputs": [],
   "source": [
    "import numpy as np\n",
    "from MarkerGraph import *\n",
    "import matplotlib.pyplot as plt\n",
    "import os"
   ]
  },
  {
   "cell_type": "code",
   "execution_count": 2,
   "metadata": {},
   "outputs": [],
   "source": [
    "with open('marker_list/SI46.txt') as f:\n",
    "    si_markers = f.read().splitlines()"
   ]
  },
  {
   "cell_type": "code",
   "execution_count": 3,
   "metadata": {},
   "outputs": [],
   "source": [
    "p0 = ['Hoechst', 'DRAQ5', \n",
    "'CD49f', 'CK7', 'CD19', 'CD123', 'CD66',\n",
    "'MUC1', 'CD4', 'CD138', 'CD44',\n",
    "'ITLN1',\n",
    "'CDX2', 'CD45', 'CD45RO', 'CD117',\n",
    "'MUC2', 'aSMA', 'CD31']\n",
    "\n",
    "\n",
    "p1 = ['Hoechst', 'DRAQ5',\n",
    "'CD57', 'CD90', \n",
    "'MUC1', 'CD4', 'CD138', 'CD44',\n",
    "'CD15', 'CD11c', 'Ki67','CD69',\n",
    "'CDX2', 'CD45', 'CD45RO','CD117',\n",
    "'ITLN1',\n",
    "'CD49a', 'SOX9']\n",
    "\n",
    "\n",
    "p2 = ['Hoechst', 'DRAQ5',\n",
    "'CD15', 'CD11c', 'Ki67', 'CD69',\n",
    "'CDX2', 'CD45', 'CD45RO', 'CD117',\n",
    "'CD49a', 'SOX9',\n",
    "'CD68', 'CD21',\n",
    "'CD8', 'CHGA', 'CD161', 'CD7', 'CD56']\n",
    "\n",
    "\n",
    "p3 = [ 'Hoechst', 'DRAQ5', 'CD127',\n",
    "'CD49a', 'SOX9',\n",
    "'CD8', 'CHGA', 'CD161', 'CD7', 'CD56',\n",
    "'BCL2',\n",
    "'ITLN1',\n",
    "'MUC2', 'aSMA', 'CD31',\n",
    "'Cytokeratin', 'CD36', 'CD3', 'CD38']\n",
    "\n",
    "\n",
    "p4 = [ 'Hoechst', 'DRAQ5', 'CD127',\n",
    "'CD206', 'HLADR', 'CD16', 'CD163', 'Vimentin', 'CD34',\n",
    "'CD68', 'CD21',\n",
    "'CD8', 'CHGA', 'CD161', 'CD7', 'CD56',\n",
    "'CD49a', 'SOX9',\n",
    "'BCL2']\n"
   ]
  },
  {
   "cell_type": "code",
   "execution_count": 4,
   "metadata": {},
   "outputs": [],
   "source": [
    "p0_idx = [si_markers.index(i) for i in p0]\n",
    "p1_idx = [si_markers.index(i) for i in p1]\n",
    "p2_idx = [si_markers.index(i) for i in p2]\n",
    "p3_idx = [si_markers.index(i) for i in p3]\n",
    "p4_idx = [si_markers.index(i) for i in p4]\n",
    "\n",
    "p0_idx = sorted(p0_idx)\n",
    "p1_idx = sorted(p1_idx)\n",
    "p2_idx = sorted(p2_idx)\n",
    "p3_idx = sorted(p3_idx)\n",
    "p4_idx = sorted(p4_idx)\n",
    "\n",
    "p_all = list(set(p0+p1+p2+p3+p4))\n",
    "assert len(p_all) == 46"
   ]
  },
  {
   "cell_type": "code",
   "execution_count": 5,
   "metadata": {},
   "outputs": [
    {
     "name": "stdout",
     "output_type": "stream",
     "text": [
      "p0_idx = [0, 1, 4, 6, 7, 11, 13, 14, 19, 23, 26, 29, 30, 32, 33, 36, 39, 42, 43] 19\n",
      "p1_idx = [0, 1, 11, 12, 13, 14, 21, 24, 27, 28, 29, 30, 33, 36, 38, 39, 41, 43, 45] 19\n",
      "p2_idx = [0, 5, 8, 10, 13, 14, 16, 21, 24, 27, 28, 29, 31, 33, 35, 38, 40, 43, 45] 19\n",
      "p3_idx = [0, 4, 5, 7, 8, 15, 16, 17, 18, 22, 24, 31, 32, 33, 34, 36, 37, 38, 40] 19\n",
      "p4_idx = [0, 2, 3, 5, 8, 9, 10, 15, 16, 17, 20, 24, 25, 31, 33, 35, 38, 40, 44] 19\n"
     ]
    }
   ],
   "source": [
    "print('p0_idx =', p0_idx, len(p0_idx))\n",
    "print('p1_idx =', p1_idx, len(p1_idx))\n",
    "print('p2_idx =', p2_idx, len(p2_idx))\n",
    "print('p3_idx =', p3_idx, len(p3_idx))\n",
    "print('p4_idx =', p4_idx, len(p4_idx))"
   ]
  },
  {
   "cell_type": "code",
   "execution_count": 6,
   "metadata": {},
   "outputs": [],
   "source": [
    "init_mtx_basic = np.load(\"../single/small_intestine_output/mae_mtx_si_single.npy\")\n",
    "\n",
    "# crop out the initial matrix for each subpanel\n",
    "p0_mtx = init_mtx_basic[p0_idx, :][:, p0_idx]\n",
    "p1_mtx = init_mtx_basic[p1_idx, :][:, p1_idx]\n",
    "p2_mtx = init_mtx_basic[p2_idx, :][:, p2_idx]\n",
    "p3_mtx = init_mtx_basic[p3_idx, :][:, p3_idx]\n",
    "p4_mtx = init_mtx_basic[p4_idx, :][:, p4_idx]"
   ]
  },
  {
   "cell_type": "code",
   "execution_count": 7,
   "metadata": {},
   "outputs": [],
   "source": [
    "num_markers = 46\n",
    "subgraphs_idx = [p0_idx, p1_idx, p2_idx, p3_idx, p4_idx]\n",
    "subgraphs_mtx = [p0_mtx, p1_mtx, p2_mtx, p3_mtx, p4_mtx]"
   ]
  },
  {
   "attachments": {},
   "cell_type": "markdown",
   "metadata": {},
   "source": [
    "### initialize"
   ]
  },
  {
   "cell_type": "code",
   "execution_count": 8,
   "metadata": {},
   "outputs": [],
   "source": [
    "G = MarkerGraph(subgraphs_idx, subgraphs_mtx, num_markers)\n",
    "G.mtx\n",
    "\n",
    "node_costs = []\n",
    "node_costs.append(np.sum(G.node_weights))"
   ]
  },
  {
   "attachments": {},
   "cell_type": "markdown",
   "metadata": {},
   "source": [
    "### update round 1"
   ]
  },
  {
   "cell_type": "code",
   "execution_count": 9,
   "metadata": {},
   "outputs": [
    {
     "name": "stdout",
     "output_type": "stream",
     "text": [
      "input: [38]\n",
      "output: [0, 1, 2, 3, 4, 5, 6, 7, 8, 9, 10, 11, 12, 13, 14, 15, 16, 17, 18, 19, 20, 21, 22, 23, 24, 25, 26, 27, 28, 29, 30, 31, 32, 33, 34, 35, 36, 37, 39, 40, 41, 42, 43, 44, 45]\n",
      "--------------------------------\n",
      "training subgraph:  1 input:  [38] output:  [0, 1, 11, 12, 13, 14, 21, 24, 27, 28, 29, 30, 33, 36, 39, 41, 43, 45]\n",
      "training subgraph:  2 input:  [38] output:  [0, 5, 8, 10, 13, 14, 16, 21, 24, 27, 28, 29, 31, 33, 35, 40, 43, 45]\n",
      "training subgraph:  3 input:  [38] output:  [0, 4, 5, 7, 8, 15, 16, 17, 18, 22, 24, 31, 32, 33, 34, 36, 37, 40]\n",
      "training subgraph:  4 input:  [38] output:  [0, 2, 3, 5, 8, 9, 10, 15, 16, 17, 20, 24, 25, 31, 33, 35, 40, 44]\n"
     ]
    }
   ],
   "source": [
    "first_marker = G.select_first_input()"
   ]
  },
  {
   "cell_type": "code",
   "execution_count": 10,
   "metadata": {},
   "outputs": [],
   "source": [
    "# train the net in subpanel1\n",
    "# !python ../train_net/train_model.py --transform_signal normalize --drop_patch_threshold -13000 --n_iter 3200  --interval_save 200 --iter_checkpoint 200 --path_run_dir 'test_models_SI_sp1_r1'  --path_dataset_csv \"../csv/train_path_SI.csv\" --path_dataset_val_csv \"../csv/val_path_SI.csv\" --input_index 38 --target_index 0 1 11 12 13 14 21 24 27 28 29 30 33 36 39 41 43 45  --in_dim 1 --out_dim 18\n",
    "# !python ../train_net/validation.py --transform_signal normalize --n_iter 3200 --path_run_dir 'test_models_SI_sp1_r1'  --path_output_dir 'small_intestine_output/r1_sp1_val_mae.npy' --path_dataset_val_csv \"../csv/val_path_SI.csv\"  --input_index 38 --target_index 0 1 11 12 13 14 21 24 27 28 29 30 33 36 39 41 43 45 --in_dim 1 --out_dim 18\n",
    "\n",
    "# train the net in subpanel2\n",
    "# !python ../train_net/train_model.py --transform_signal normalize --drop_patch_threshold -13000 --n_iter 3200  --interval_save 200 --iter_checkpoint 200 --path_run_dir 'test_models_SI_sp2_r1'  --path_dataset_csv \"../csv/train_path_SI.csv\" --path_dataset_val_csv \"../csv/val_path_SI.csv\" --input_index 38 --target_index 0 5 8 10 13 14 16 21 24 27 28 29 31 33 35 40 43 45 --in_dim 1 --out_dim 18\n",
    "# !python ../train_net/validation.py --transform_signal normalize --n_iter 3200 --path_run_dir 'test_models_SI_sp2_r1'  --path_output_dir 'small_intestine_output/r1_sp2_val_mae.npy' --path_dataset_val_csv \"../csv/val_path_LI.csv\"  --input_index 38 --target_index 0 5 8 10 13 14 16 21 24 27 28 29 31 33 35 40 43 4  --in_dim 1 --out_dim 18\n",
    "\n",
    "# train the net in subpanel3\n",
    "# !python ../train_net/train_model.py --transform_signal normalize --drop_patch_threshold -13000 --n_iter 3200  --interval_save 200 --iter_checkpoint 200 --path_run_dir 'test_models_SI_sp3_r1'  --path_dataset_csv \"../csv/train_path_SI.csv\" --path_dataset_val_csv \"../csv/val_path_SI.csv\" --input_index 38 --target_index 0 4 5 7 8 15 16 17 18 22 24 31 32 33 34 36 37 40 --in_dim 1 --out_dim 18\n",
    "# !python ../train_net/validation.py --transform_signal normalize --n_iter 3200 --path_run_dir 'test_models_SI_sp3_r1'  --path_output_dir 'small_intestine_output/r1_sp3_val_mae.npy' --path_dataset_val_csv \"../csv/val_path_LI.csv\"  --input_index 38 --target_index 0 4 5 7 8 15 16 17 18 22 24 31 32 33 34 36 37 40  --in_dim 1 --out_dim 18\n",
    "\n",
    "# train the net in subpanel4\n",
    "# !python ../train_net/train_model.py --transform_signal normalize --drop_patch_threshold -13000 --n_iter 3200  --interval_save 200 --iter_checkpoint 200 --path_run_dir 'test_models_SI_sp4_r1'  --path_dataset_csv \"../csv/train_path_SI.csv\" --path_dataset_val_csv \"../csv/val_path_SI.csv\" --input_index 38 --target_index 0 2 3 5 8 9 10 15 16 17 20 24 25 31 33 35 40 44  --in_dim 1 --out_dim 18\n",
    "# !python ../train_net/validation.py --transform_signal normalize --n_iter 3200 --path_run_dir 'test_models_SI_sp4_r1' --path_output_dir 'small_intestine_output/r1_sp4_val_mae.npy'  --path_dataset_val_csv \"../csv/val_path_LI.csv\" --input_index 38 --target_index  0 2 3 5 8 9 10 15 16 17 20 24 25 31 33 35 40 44  --in_dim 1 --out_dim 18"
   ]
  },
  {
   "cell_type": "code",
   "execution_count": 11,
   "metadata": {},
   "outputs": [],
   "source": [
    "subgraph1_prediction = np.load('small_intestine_output/r1_sp1_val_mae.npy', allow_pickle=True)\n",
    "subgraph2_prediction = np.load('small_intestine_output/r1_sp2_val_mae.npy', allow_pickle=True)\n",
    "subgraph3_prediction = np.load('small_intestine_output/r1_sp3_val_mae.npy', allow_pickle=True)\n",
    "subgraph4_prediction = np.load('small_intestine_output/r1_sp4_val_mae.npy', allow_pickle=True)"
   ]
  },
  {
   "cell_type": "code",
   "execution_count": 12,
   "metadata": {},
   "outputs": [],
   "source": [
    "# update the subgraph matrix\n",
    "G.update_subgraph(1, subgraph1_prediction)\n",
    "G.update_subgraph(2, subgraph2_prediction)\n",
    "G.update_subgraph(3, subgraph3_prediction)\n",
    "G.update_subgraph(4, subgraph4_prediction)"
   ]
  },
  {
   "cell_type": "code",
   "execution_count": 13,
   "metadata": {},
   "outputs": [],
   "source": [
    "G.update()   \n",
    "node_costs.append(np.sum(G.node_weights))"
   ]
  },
  {
   "attachments": {},
   "cell_type": "markdown",
   "metadata": {},
   "source": [
    "### update round 2"
   ]
  },
  {
   "cell_type": "code",
   "execution_count": 14,
   "metadata": {},
   "outputs": [
    {
     "name": "stdout",
     "output_type": "stream",
     "text": [
      "input: [38, 29]\n",
      "output: [0, 1, 2, 3, 4, 5, 6, 7, 8, 9, 10, 11, 12, 13, 14, 15, 16, 17, 18, 19, 20, 21, 22, 23, 24, 25, 26, 27, 28, 30, 31, 32, 33, 34, 35, 36, 37, 39, 40, 41, 42, 43, 44, 45]\n",
      "--------------------------------\n",
      "training subgraph:  0 input:  [29] output:  [0, 1, 4, 6, 7, 11, 13, 14, 19, 23, 26, 30, 32, 33, 36, 39, 42, 43]\n",
      "training subgraph:  1 input:  [38, 29] output:  [0, 1, 11, 12, 13, 14, 21, 24, 27, 28, 30, 33, 36, 39, 41, 43, 45]\n",
      "--out_drop_index:  10\n",
      "training subgraph:  2 input:  [38, 29] output:  [0, 5, 8, 10, 13, 14, 16, 21, 24, 27, 28, 31, 33, 35, 40, 43, 45]\n",
      "--out_drop_index:  11\n"
     ]
    }
   ],
   "source": [
    "next_input = G.select_next_input()"
   ]
  },
  {
   "cell_type": "code",
   "execution_count": 15,
   "metadata": {},
   "outputs": [],
   "source": [
    "# train the net in subpanel0\n",
    "# !python ../train_net/train_model.py --transform_signal normalize --drop_patch_threshold -13000 --n_iter 3200  --interval_save 200 --iter_checkpoint 200 --path_run_dir 'test_models_SI_sp0_r2'  --path_dataset_csv \"../csv/train_path_SI.csv\" --path_dataset_val_csv \"../csv/val_path_SI.csv\" --input_index 29 --target_index 0 1 4 6 7 11 13 14 19 23 26 30 32 33 36 39 42 43 --in_dim 1 --out_dim 18\n",
    "# !python ../train_net/validation.py --transform_signal normalize --n_iter 3200 --path_run_dir 'test_models_SI_sp0_r2'  --path_output_dir 'small_intestine_output/r2_sp0_val_mae.npy' --path_dataset_val_csv \"../csv/val_path_SI.csv\"  --input_index 29 --target_index  0 1 4 6 7 11 13 14 19 23 26 30 32 33 36 39 42 43  --in_dim 1 --out_dim 18\n",
    "\n",
    "# train the net in subpanel1\n",
    "# !python ../train_net/train_model.py --transform_signal normalize --drop_patch_threshold -13000 --n_iter 3200  --interval_save 200 --iter_checkpoint 200 --path_run_dir 'test_models_SI_sp1_r2' --path_pretrain_dir 'test_models_SI_sp1_r1' --path_dataset_csv \"../csv/train_path_SI.csv\" --path_dataset_val_csv \"../csv/val_path_SI.csv\" --out_drop_index 10 --input_index 38 29 --target_index 0 1 11 12 13 14 21 24 27 28 30 33 36 39 41 43 45  --in_dim 2 --out_dim 17\n",
    "# !python ../train_net/validation.py --transform_signal normalize --n_iter 3200 --path_run_dir 'test_models_SI_sp1_r2'  --path_output_dir 'small_intestine_output/r2_sp1_val_mae.npy' --path_dataset_val_csv \"../csv/val_path_SI.csv\"  --input_index 38 29 --target_index 0 1 11 12 13 14 21 24 27 28 30 33 36 39 41 43 45 --in_dim 2 --out_dim 17\n",
    "\n",
    "# train the net in subpanel2\n",
    "# !python ../train_net/train_model.py --transform_signal normalize --drop_patch_threshold -13000 --n_iter 3200  --interval_save 200 --iter_checkpoint 200 --path_run_dir 'test_models_SI_sp2_r2'  --path_pretrain_dir 'test_models_SI_sp2_r1'--path_dataset_csv \"../csv/train_path_SI.csv\" --path_dataset_val_csv \"../csv/val_path_LI.csv\" --out_drop_index 11 --input_index 38 29 --target_index 0 5 8 10 13 14 16 21 24 27 28 31 33 35 40 43 45 --in_dim 2 --out_dim 17\n",
    "# !python ../train_net/validation.py --transform_signal normalize --n_iter 3200 --path_run_dir 'test_models_SI_sp2_r2'  --path_output_dir 'small_intestine_output/r2_sp2_val_mae.npy' --path_dataset_val_csv \"../csv/val_path_SI.csv\"  --input_index 38 29 --target_index 0 5 8 10 13 14 16 21 24 27 28 31 33 35 40 43 4  --in_dim 2 --out_dim 17"
   ]
  },
  {
   "cell_type": "code",
   "execution_count": 16,
   "metadata": {},
   "outputs": [],
   "source": [
    "subgraph0_prediction = np.load('small_intestine_output/r2_sp0_val_mae.npy', allow_pickle=True)\n",
    "subgraph1_prediction = np.load('small_intestine_output/r2_sp1_val_mae.npy', allow_pickle=True)\n",
    "subgraph2_prediction = np.load('small_intestine_output/r2_sp2_val_mae.npy', allow_pickle=True)"
   ]
  },
  {
   "cell_type": "code",
   "execution_count": 17,
   "metadata": {},
   "outputs": [],
   "source": [
    "G.update_subgraph(0, subgraph0_prediction)\n",
    "G.update_subgraph(1, subgraph1_prediction)\n",
    "G.update_subgraph(2, subgraph2_prediction)"
   ]
  },
  {
   "cell_type": "code",
   "execution_count": 18,
   "metadata": {},
   "outputs": [],
   "source": [
    "G.update()   \n",
    "node_costs.append(np.sum(G.node_weights))"
   ]
  },
  {
   "cell_type": "markdown",
   "metadata": {},
   "source": [
    "### Round 3"
   ]
  },
  {
   "cell_type": "code",
   "execution_count": 19,
   "metadata": {},
   "outputs": [
    {
     "name": "stdout",
     "output_type": "stream",
     "text": [
      "input: [38, 29, 24]\n",
      "output: [0, 1, 2, 3, 4, 5, 6, 7, 8, 9, 10, 11, 12, 13, 14, 15, 16, 17, 18, 19, 20, 21, 22, 23, 25, 26, 27, 28, 30, 31, 32, 33, 34, 35, 36, 37, 39, 40, 41, 42, 43, 44, 45]\n",
      "--------------------------------\n",
      "training subgraph:  1 input:  [38, 29, 24] output:  [0, 1, 11, 12, 13, 14, 21, 27, 28, 30, 33, 36, 39, 41, 43, 45]\n",
      "--out_drop_index:  7\n",
      "training subgraph:  2 input:  [38, 29, 24] output:  [0, 5, 8, 10, 13, 14, 16, 21, 27, 28, 31, 33, 35, 40, 43, 45]\n",
      "--out_drop_index:  8\n",
      "training subgraph:  3 input:  [38, 24] output:  [0, 4, 5, 7, 8, 15, 16, 17, 18, 22, 31, 32, 33, 34, 36, 37, 40]\n",
      "--out_drop_index:  10\n",
      "training subgraph:  4 input:  [38, 24] output:  [0, 2, 3, 5, 8, 9, 10, 15, 16, 17, 20, 25, 31, 33, 35, 40, 44]\n",
      "--out_drop_index:  11\n"
     ]
    }
   ],
   "source": [
    "next_input = G.select_next_input()"
   ]
  },
  {
   "cell_type": "code",
   "execution_count": 20,
   "metadata": {},
   "outputs": [],
   "source": [
    "# train the net in subpanel1\n",
    "# !python ../train_net/train_model.py --transform_signal normalize --drop_patch_threshold -13000 --n_iter 3200  --interval_save 200 --iter_checkpoint 200 --path_run_dir 'test_models_SI_sp1_r3' --path_pretrain_dir 'test_models_SI_sp1_r2' --path_dataset_csv \"../csv/train_path_SI.csv\" --path_dataset_val_csv \"../csv/val_path_SI.csv\" --out_drop_index 7 --input_index 38 29 24 --target_index 0 1 11 12 13 14 21 27 28 30 33 36 39 41 43 45  --in_dim 3 --out_dim 16\n",
    "# !python ../train_net/validation.py --transform_signal normalize --n_iter 3200 --path_run_dir 'test_models_SI_sp1_r3'  --path_output_dir 'small_intestine_output/r3_sp1_val_mae.npy' --path_dataset_val_csv \"../csv/val_path_SI.csv\"  --input_index 38 29 24 --target_index 0 1 11 12 13 14 21 27 28 30 33 36 39 41 43 45 --in_dim 3 --out_dim 16\n",
    "\n",
    "# train the net in subpanel2\n",
    "# !python ../train_net/train_model.py --transform_signal normalize --drop_patch_threshold -13000 --n_iter 3200  --interval_save 200 --iter_checkpoint 200 --path_run_dir 'test_models_SI_sp2_r3'  --path_pretrain_dir 'test_models_SI_sp2_r2'--path_dataset_csv \"../csv/train_path_SI.csv\" --path_dataset_val_csv \"../csv/val_path_LI.csv\" --out_drop_index 8 --input_index 38 29 24 --target_index 0 5 8 10 13 14 16 21 27 28 31 33 35 40 43 45 --in_dim 3 --out_dim 16\n",
    "# !python ../train_net/validation.py --transform_signal normalize --n_iter 3200 --path_run_dir 'test_models_SI_sp2_r3'  --path_output_dir 'small_intestine_output/r3_sp2_val_mae.npy' --path_dataset_val_csv \"../csv/val_path_SI.csv\"  --input_index 38 29 24 --target_index 0 5 8 10 13 14 16 21 27 28 31 33 35 40 43 4  --in_dim 3 --out_dim 16\n",
    "\n",
    "# train the net in subpanel3\n",
    "# !python ../train_net/train_model.py --transform_signal normalize --drop_patch_threshold -13000 --n_iter 3200  --interval_save 200 --iter_checkpoint 200 --path_run_dir 'test_models_SI_sp3_r3'  --path_pretrain_dir 'test_models_SI_sp3_r1' --path_dataset_csv \"../csv/train_path_SI.csv\" --path_dataset_val_csv \"../csv/val_path_SI.csv\" --out_drop_index 10 --input_index 10 24 --target_index 0 4 5 7 8 15 16 17 18 22 31 32 33 34 36 37 40 --in_dim 2 --out_dim 17\n",
    "# !python ../train_net/validation.py --transform_signal normalize --n_iter 3200 --path_run_dir 'test_models_SI_sp3_r3'  --path_output_dir 'small_intestine_output/r3_sp3_val_mae.npy' --path_dataset_val_csv \"../csv/val_path_SI.csv\"  --input_index 38 24 --target_index 0 4 5 7 8 15 16 17 18 22 31 32 33 34 36 37 40  --in_dim 2 --out_dim 17\n",
    "\n",
    "# train the net in subpanel4\n",
    "# !python ../train_net/train_model.py --transform_signal normalize --drop_patch_threshold -13000 --n_iter 3200  --interval_save 200 --iter_checkpoint 200 --path_run_dir 'test_models_SI_sp4_r3'  --path_pretrain_dir 'test_models_SI_sp4_r1' --path_dataset_csv \"../csv/train_path_SI.csv\" --path_dataset_val_csv \"../csv/val_path_SI.csv\" --out_drop_index 11 --input_index 38 24  --target_index 0 2 3 5 8 9 10 15 16 17 20 25 31 33 35 40 44  --in_dim 2 --out_dim 17\n",
    "# !python ../train_net/validation.py --transform_signal normalize --n_iter 3200 --path_run_dir 'test_models_SI_sp4_r3' --path_output_dir 'small_intestine_output/r3_sp4_val_mae.npy'  --path_dataset_val_csv \"../csv/val_path_SI.csv\" --input_index 38 24 --target_index  0 2 3 5 8 9 10 15 16 17 20 25 31 33 35 40 44  --in_dim 2 --out_dim 17"
   ]
  },
  {
   "cell_type": "code",
   "execution_count": 21,
   "metadata": {},
   "outputs": [],
   "source": [
    "subgraph1_prediction = np.load('small_intestine_output/r3_sp1_val_mae.npy', allow_pickle=True)\n",
    "subgraph2_prediction = np.load('small_intestine_output/r3_sp2_val_mae.npy', allow_pickle=True)\n",
    "subgraph3_prediction = np.load('small_intestine_output/r3_sp3_val_mae.npy', allow_pickle=True)\n",
    "subgraph4_prediction = np.load('small_intestine_output/r3_sp4_val_mae.npy', allow_pickle=True)"
   ]
  },
  {
   "cell_type": "code",
   "execution_count": 22,
   "metadata": {},
   "outputs": [],
   "source": [
    "# update the subgraph matrix\n",
    "G.update_subgraph(1, subgraph1_prediction)\n",
    "G.update_subgraph(2, subgraph2_prediction)\n",
    "G.update_subgraph(3, subgraph3_prediction)\n",
    "G.update_subgraph(4, subgraph4_prediction)\n",
    "\n",
    "G.update()   \n",
    "node_costs.append(np.sum(G.node_weights))"
   ]
  },
  {
   "attachments": {},
   "cell_type": "markdown",
   "metadata": {},
   "source": [
    "### Round4"
   ]
  },
  {
   "cell_type": "code",
   "execution_count": 23,
   "metadata": {},
   "outputs": [
    {
     "name": "stdout",
     "output_type": "stream",
     "text": [
      "input: [38, 29, 24, 39]\n",
      "output: [0, 1, 2, 3, 4, 5, 6, 7, 8, 9, 10, 11, 12, 13, 14, 15, 16, 17, 18, 19, 20, 21, 22, 23, 25, 26, 27, 28, 30, 31, 32, 33, 34, 35, 36, 37, 40, 41, 42, 43, 44, 45]\n",
      "--------------------------------\n",
      "training subgraph:  0 input:  [29, 39] output:  [0, 1, 4, 6, 7, 11, 13, 14, 19, 23, 26, 30, 32, 33, 36, 42, 43]\n",
      "--out_drop_index:  15\n",
      "training subgraph:  1 input:  [38, 29, 24, 39] output:  [0, 1, 11, 12, 13, 14, 21, 27, 28, 30, 33, 36, 41, 43, 45]\n",
      "--out_drop_index:  12\n"
     ]
    }
   ],
   "source": [
    "next_input = G.select_next_input()"
   ]
  },
  {
   "cell_type": "code",
   "execution_count": 24,
   "metadata": {},
   "outputs": [],
   "source": [
    "# train the net in subpanel0\n",
    "# !python ../train_net/train_model.py --transform_signal normalize --drop_patch_threshold -13000 --n_iter 3200  --interval_save 200 --iter_checkpoint 200 --path_run_dir 'test_models_SI_sp0_r4' --path_pretrain_dir 'test_models_SI_sp0_r2' --path_dataset_csv \"../csv/train_path_SI.csv\" --path_dataset_val_csv \"../csv/val_path_SI.csv\" --out_drop_index 15 --input_index 29 39 --target_index 0 1 4 6 7 11 13 14 19 23 26 30 32 33 36 42 43 --in_dim 2 --out_dim 17\n",
    "# !python ../train_net/validation.py --transform_signal normalize --n_iter 3200 --path_run_dir 'test_models_SI_sp0_r4'  --path_output_dir 'small_intestine_output/r4_sp0_val_mae.npy' --path_dataset_val_csv \"../csv/val_path_SI.csv\"  --input_index 29 39 --target_index  0 1 4 6 7 11 13 14 19 23 26 30 32 33 36 42 43  --in_dim 2 --out_dim 17\n",
    "\n",
    "# train the net in subpanel1\n",
    "# !python ../train_net/train_model.py --transform_signal normalize --drop_patch_threshold -13000 --n_iter 3200  --interval_save 200 --iter_checkpoint 200 --path_run_dir 'test_models_SI_sp1_r4' --path_pretrain_dir 'test_models_SI_sp1_r3' --path_dataset_csv \"../csv/train_path_SI.csv\" --path_dataset_val_csv \"../csv/val_path_SI.csv\" --out_drop_index 12 --input_index 38 29 24 39 --target_index 0 1 11 12 13 14 21 27 28 30 33 36 41 43 45  --in_dim 4 --out_dim 15\n",
    "# !python ../train_net/validation.py --transform_signal normalize --n_iter 3200 --path_run_dir 'test_models_SI_sp1_r4'  --path_output_dir 'small_intestine_output/r4_sp1_val_mae.npy' --path_dataset_val_csv \"../csv/val_path_SI.csv\"  --input_index 38 29 24 39 --target_index 0 1 11 12 13 14 21 27 28 30 33 36 41 43 45 --in_dim 4 --out_dim 15"
   ]
  },
  {
   "cell_type": "code",
   "execution_count": 25,
   "metadata": {},
   "outputs": [],
   "source": [
    "subgraph0_prediction = np.load('small_intestine_output/r4_sp0_val_mae.npy', allow_pickle=True)\n",
    "subgraph1_prediction = np.load('small_intestine_output/r4_sp1_val_mae.npy', allow_pickle=True)"
   ]
  },
  {
   "cell_type": "code",
   "execution_count": 26,
   "metadata": {},
   "outputs": [],
   "source": [
    "G.update_subgraph(0, subgraph0_prediction)\n",
    "G.update_subgraph(1, subgraph1_prediction)\n",
    "\n",
    "\n",
    "G.update()   \n",
    "node_costs.append(np.sum(G.node_weights))"
   ]
  },
  {
   "attachments": {},
   "cell_type": "markdown",
   "metadata": {},
   "source": [
    "### Round 5"
   ]
  },
  {
   "cell_type": "code",
   "execution_count": 27,
   "metadata": {},
   "outputs": [
    {
     "name": "stdout",
     "output_type": "stream",
     "text": [
      "input: [38, 29, 24, 39, 7]\n",
      "output: [0, 1, 2, 3, 4, 5, 6, 8, 9, 10, 11, 12, 13, 14, 15, 16, 17, 18, 19, 20, 21, 22, 23, 25, 26, 27, 28, 30, 31, 32, 33, 34, 35, 36, 37, 40, 41, 42, 43, 44, 45]\n",
      "--------------------------------\n",
      "training subgraph:  0 input:  [29, 39, 7] output:  [0, 1, 4, 6, 11, 13, 14, 19, 23, 26, 30, 32, 33, 36, 42, 43]\n",
      "--out_drop_index:  4\n",
      "training subgraph:  3 input:  [38, 24, 7] output:  [0, 4, 5, 8, 15, 16, 17, 18, 22, 31, 32, 33, 34, 36, 37, 40]\n",
      "--out_drop_index:  3\n"
     ]
    }
   ],
   "source": [
    "next_input = G.select_next_input()"
   ]
  },
  {
   "cell_type": "code",
   "execution_count": 28,
   "metadata": {},
   "outputs": [],
   "source": [
    "# train the net in subpanel0\n",
    "# !python ../train_net/train_model.py --transform_signal normalize --drop_patch_threshold -13000 --n_iter 3200  --interval_save 200 --iter_checkpoint 200 --path_run_dir 'test_models_SI_sp0_r5' --path_pretrain_dir 'test_models_SI_sp0_r4' --path_dataset_csv \"../csv/train_path_SI.csv\" --path_dataset_val_csv \"../csv/val_path_SI.csv\" --out_drop_index 4 --input_index 29 39 7 --target_index 0 1 4 6 11 13 14 19 23 26 30 32 33 36 42 43 --in_dim 3 --out_dim 16\n",
    "# !python ../train_net/validation.py --transform_signal normalize --n_iter 3200 --path_run_dir 'test_models_SI_sp0_r5'  --path_output_dir 'small_intestine_output/r5_sp0_val_mae' --path_dataset_val_csv \"../csv/val_path_SI.csv\"  --input_index 29 39 7 --target_index  0 1 4 6 11 13 14 19 23 26 30 32 33 36 42 43  --in_dim 3 --out_dim 16\n",
    "\n",
    "# train the net in subpanel3\n",
    "# !python ../train_net/train_model.py --transform_signal normalize --drop_patch_threshold -13000 --n_iter 3200  --interval_save 200 --iter_checkpoint 200 --path_run_dir 'test_models_SI_sp3_r5'  --path_pretrain_dir 'test_models_SI_sp3_r3' --path_dataset_csv \"../csv/train_path_SI.csv\" --path_dataset_val_csv \"../csv/val_path_SI.csv\" --out_drop_index 3 --input_index 10 24 7 --target_index 0 4 5 8 15 16 17 18 22 31 32 33 34 36 37 40 --in_dim 3 --out_dim 16\n",
    "# !python ../train_net/validation.py --transform_signal normalize --n_iter 3200 --path_run_dir 'test_models_SI_sp3_r5'  --path_output_dir 'small_intestine_output/r5_sp3_val_mae.npy' --path_dataset_val_csv \"../csv/val_path_SI.csv\"  --input_index 38 24 7 --target_index 0 4 5 8 15 16 17 18 22 31 32 33 34 36 37 40  --in_dim 3 --out_dim 16"
   ]
  },
  {
   "cell_type": "code",
   "execution_count": 29,
   "metadata": {},
   "outputs": [],
   "source": [
    "subgraph0_prediction = np.load('small_intestine_output/r5_sp0_val_mae.npy', allow_pickle=True)\n",
    "subgraph3_prediction = np.load('small_intestine_output/r5_sp3_val_mae.npy', allow_pickle=True)"
   ]
  },
  {
   "cell_type": "code",
   "execution_count": 30,
   "metadata": {},
   "outputs": [],
   "source": [
    "G.update_subgraph(0, subgraph0_prediction)\n",
    "G.update_subgraph(3, subgraph3_prediction)\n",
    "\n",
    "G.update()   \n",
    "node_costs.append(np.sum(G.node_weights))"
   ]
  },
  {
   "cell_type": "markdown",
   "metadata": {},
   "source": [
    "### Round6"
   ]
  },
  {
   "cell_type": "code",
   "execution_count": 31,
   "metadata": {},
   "outputs": [
    {
     "name": "stdout",
     "output_type": "stream",
     "text": [
      "input: [38, 29, 24, 39, 7, 35]\n",
      "output: [0, 1, 2, 3, 4, 5, 6, 8, 9, 10, 11, 12, 13, 14, 15, 16, 17, 18, 19, 20, 21, 22, 23, 25, 26, 27, 28, 30, 31, 32, 33, 34, 36, 37, 40, 41, 42, 43, 44, 45]\n",
      "--------------------------------\n",
      "training subgraph:  2 input:  [38, 29, 24, 35] output:  [0, 5, 8, 10, 13, 14, 16, 21, 27, 28, 31, 33, 40, 43, 45]\n",
      "--out_drop_index:  12\n",
      "training subgraph:  4 input:  [38, 24, 35] output:  [0, 2, 3, 5, 8, 9, 10, 15, 16, 17, 20, 25, 31, 33, 40, 44]\n",
      "--out_drop_index:  14\n"
     ]
    }
   ],
   "source": [
    "next_input = G.select_next_input()"
   ]
  },
  {
   "cell_type": "code",
   "execution_count": 32,
   "metadata": {},
   "outputs": [],
   "source": [
    "# train the net in subpanel2\n",
    "# !python ../train_net/train_model.py --transform_signal normalize --drop_patch_threshold -13000 --n_iter 3200  --interval_save 200 --iter_checkpoint 200 --path_run_dir 'test_models_SI_sp2_r6'  --path_pretrain_dir 'test_models_SI_sp2_r3'--path_dataset_csv \"../csv/train_path_SI.csv\" --path_dataset_val_csv \"../csv/val_path_LI.csv\" --out_drop_index 12 --input_index 38 29 24 35 --target_index 0 5 8 10 13 14 16 21 27 28 31 33 40 43 45 --in_dim 4 --out_dim 15\n",
    "# !python ../train_net/validation.py --transform_signal normalize --n_iter 3200 --path_run_dir 'test_models_SI_sp2_r6'  --path_output_dir 'small_intestine_output/r6_sp2_val_mae.np' --path_dataset_val_csv \"../csv/val_path_SI.csv\"  --input_index 38 29 24 35 --target_index 0 5 8 10 13 14 16 21 27 28 31 33 40 43 45  --in_dim 4 --out_dim 15\n",
    "\n",
    "# train the net in subpanel4\n",
    "# !python ../train_net/train_model.py --transform_signal normalize --drop_patch_threshold -13000 --n_iter 3200  --interval_save 200 --iter_checkpoint 200 --path_run_dir 'test_models_SI_sp4_r6'  --path_pretrain_dir 'test_models_SI_sp4_r3' --path_dataset_csv \"../csv/train_path_SI.csv\" --path_dataset_val_csv \"../csv/val_path_SI.csv\" --out_drop_index 14 --input_index 38 24 35 --target_index 0 2 3 5 8 9 10 15 16 17 20 25 31 33 40 44  --in_dim 3 --out_dim 16\n",
    "# !python ../train_net/validation.py --transform_signal normalize --n_iter 3200 --path_run_dir 'test_models_SI_sp4_r6' --path_output_dir 'small_intestine_output/r6_sp4_val_mae.npy'  --path_dataset_val_csv \"../csv/val_path_SI.csv\" --input_index 38 24 35 --target_index  0 2 3 5 8 9 10 15 16 17 20 25 31 33 40 44  --in_dim 3 --out_dim 16"
   ]
  },
  {
   "cell_type": "code",
   "execution_count": 33,
   "metadata": {},
   "outputs": [],
   "source": [
    "subgraph2_prediction = np.load('small_intestine_output/r6_sp2_val_mae.npy', allow_pickle=True)\n",
    "subgraph4_prediction = np.load('small_intestine_output/r6_sp4_val_mae.npy', allow_pickle=True)"
   ]
  },
  {
   "cell_type": "code",
   "execution_count": 34,
   "metadata": {},
   "outputs": [],
   "source": [
    "G.update_subgraph(2, subgraph2_prediction)\n",
    "G.update_subgraph(4, subgraph4_prediction)\n",
    "\n",
    "\n",
    "\n",
    "G.update()   \n",
    "node_costs.append(np.sum(G.node_weights))"
   ]
  },
  {
   "cell_type": "markdown",
   "metadata": {},
   "source": [
    "### Round7"
   ]
  },
  {
   "cell_type": "code",
   "execution_count": 35,
   "metadata": {},
   "outputs": [
    {
     "name": "stdout",
     "output_type": "stream",
     "text": [
      "input: [38, 29, 24, 39, 7, 35, 33]\n",
      "output: [0, 1, 2, 3, 4, 5, 6, 8, 9, 10, 11, 12, 13, 14, 15, 16, 17, 18, 19, 20, 21, 22, 23, 25, 26, 27, 28, 30, 31, 32, 34, 36, 37, 40, 41, 42, 43, 44, 45]\n",
      "--------------------------------\n",
      "training subgraph:  0 input:  [29, 39, 7, 33] output:  [0, 1, 4, 6, 11, 13, 14, 19, 23, 26, 30, 32, 36, 42, 43]\n",
      "--out_drop_index:  12\n",
      "training subgraph:  1 input:  [38, 29, 24, 39, 33] output:  [0, 1, 11, 12, 13, 14, 21, 27, 28, 30, 36, 41, 43, 45]\n",
      "--out_drop_index:  10\n",
      "training subgraph:  2 input:  [38, 29, 24, 35, 33] output:  [0, 5, 8, 10, 13, 14, 16, 21, 27, 28, 31, 40, 43, 45]\n",
      "--out_drop_index:  11\n",
      "training subgraph:  3 input:  [38, 24, 7, 33] output:  [0, 4, 5, 8, 15, 16, 17, 18, 22, 31, 32, 34, 36, 37, 40]\n",
      "--out_drop_index:  11\n",
      "training subgraph:  4 input:  [38, 24, 35, 33] output:  [0, 2, 3, 5, 8, 9, 10, 15, 16, 17, 20, 25, 31, 40, 44]\n",
      "--out_drop_index:  13\n"
     ]
    }
   ],
   "source": [
    "next_input = G.select_next_input()"
   ]
  },
  {
   "cell_type": "code",
   "execution_count": 36,
   "metadata": {},
   "outputs": [],
   "source": [
    "# train the net in subpanel0\n",
    "# !python ../train_net/train_model.py --transform_signal normalize --drop_patch_threshold -13000 --n_iter 3200  --interval_save 200 --iter_checkpoint 200 --path_run_dir 'test_models_SI_sp0_r7' --path_pretrain_dir 'test_models_SI_sp0_r5' --path_dataset_csv \"../csv/train_path_SI.csv\" --path_dataset_val_csv \"../csv/val_path_SI.csv\" --out_drop_index 12 --input_index 29 39 7 33 --target_index 0 1 4 6 11 13 14 19 23 26 30 32 36 42 43 --in_dim 4 --out_dim 15\n",
    "# !python ../train_net/validation.py --transform_signal normalize --n_iter 3200 --path_run_dir 'test_models_SI_sp0_r7'  --path_output_dir 'small_intestine_output/r7_sp0_val_mae.npy' --path_dataset_val_csv \"../csv/val_path_SI.csv\"  --input_index 29 39 7 33 --target_index  0 1 4 6 11 13 14 19 23 26 30 32 36 42 43  --in_dim 4 --out_dim 15\n",
    "\n",
    "# train the net in subpanel1\n",
    "# !python ../train_net/train_model.py --transform_signal normalize --drop_patch_threshold -13000 --n_iter 3200  --interval_save 200 --iter_checkpoint 200 --path_run_dir 'test_models_SI_sp1_r7' --path_pretrain_dir 'test_models_SI_sp1_r4' --path_dataset_csv \"../csv/train_path_SI.csv\" --path_dataset_val_csv \"../csv/val_path_SI.csv\" --out_drop_index 10 --input_index 38 29 24 39 33 --target_index 0 1 11 12 13 14 21 27 28 30 36 41 43 45  --in_dim 5 --out_dim 14\n",
    "# !python ../train_net/validation.py --transform_signal normalize --n_iter 3200 --path_run_dir 'test_models_SI_sp1_r7'  --path_output_dir 'small_intestine_output/r7_sp0_val_mae.npy' --path_dataset_val_csv \"../csv/val_path_SI.csv\"  --input_index 38 29 24 39 33 --target_index 0 1 11 12 13 14 21 27 28 30 36 41 43 45 --in_dim 5 --out_dim 14\n",
    "\n",
    "# train the net in subpanel2\n",
    "# !python ../train_net/train_model.py --transform_signal normalize --drop_patch_threshold -13000 --n_iter 3200  --interval_save 200 --iter_checkpoint 200 --path_run_dir 'test_models_SI_sp2_r7'  --path_pretrain_dir 'test_models_SI_sp2_r6'--path_dataset_csv \"../csv/train_path_SI.csv\" --path_dataset_val_csv \"../csv/val_path_LI.csv\" --out_drop_index 11 --input_index 38 29 24 35 33 --target_index 0 5 8 10 13 14 16 21 27 28 31 40 43 45 --in_dim 5 --out_dim 14\n",
    "# !python ../train_net/validation.py --transform_signal normalize --n_iter 3200 --path_run_dir 'test_models_SI_sp2_r7'  --path_output_dir 'small_intestine_output/r7_sp2_val_mae.npy' --path_dataset_val_csv \"../csv/val_path_SI.csv\"  --input_index 38 29 24 35 33 --target_index 0 5 8 10 13 14 16 21 27 28 31 40 43 45  --in_dim 5 --out_dim 14\n",
    "\n",
    "# train the net in subpanel3\n",
    "# !python ../train_net/train_model.py --transform_signal normalize --drop_patch_threshold -13000 --n_iter 3200  --interval_save 200 --iter_checkpoint 200 --path_run_dir 'test_models_SI_sp3_r7'  --path_pretrain_dir 'test_models_SI_sp3_r5' --path_dataset_csv \"../csv/train_path_SI.csv\" --path_dataset_val_csv \"../csv/val_path_SI.csv\" --out_drop_index 11 --input_index 10 24 7 33 --target_index 0 4 5 8 15 16 17 18 22 31 32 34 36 37 40 --in_dim 4 --out_dim 15\n",
    "# !python ../train_net/validation.py --transform_signal normalize --n_iter 3200 --path_run_dir 'test_models_SI_sp3_r7'  --path_output_dir 'small_intestine_output/r7_sp3_val_mae.npy' --path_dataset_val_csv \"../csv/val_path_SI.csv\"  --input_index 38 24 7 33 --target_index 0 4 5 8 15 16 17 18 22 31 32 34 36 37 40  --in_dim 4 --out_dim 15\n",
    "\n",
    "# train the net in subpanel4\n",
    "# !python ../train_net/train_model.py --transform_signal normalize --drop_patch_threshold -13000 --n_iter 3200  --interval_save 200 --iter_checkpoint 200 --path_run_dir 'test_models_SI_sp4_r7'  --path_pretrain_dir 'test_models_SI_sp4_r6' --path_dataset_csv \"../csv/train_path_SI.csv\" --path_dataset_val_csv \"../csv/val_path_SI.csv\" --out_drop_index 13 --input_index 38 24 35 33 --target_index 0 2 3 5 8 9 10 15 16 17 20 25 31 40 44  --in_dim 4 --out_dim 15\n",
    "# !python ../train_net/validation.py --transform_signal normalize --n_iter 3200 --path_run_dir 'test_models_SI_sp4_r7' --path_output_dir 'small_intestine_output/r7_sp4_val_mae.npy'  --path_dataset_val_csv \"../csv/val_path_SI.csv\" --input_index 38 24 35 33 --target_index  0 2 3 5 8 9 10 15 16 17 20 25 31 40 44  --in_dim 4 --out_dim 15"
   ]
  },
  {
   "cell_type": "code",
   "execution_count": 37,
   "metadata": {},
   "outputs": [],
   "source": [
    "subgraph0_prediction = np.load('small_intestine_output/r7_sp0_val_mae.npy', allow_pickle=True)\n",
    "subgraph1_prediction = np.load('small_intestine_output/r7_sp1_val_mae.npy', allow_pickle=True)\n",
    "subgraph2_prediction = np.load('small_intestine_output/r7_sp2_val_mae.npy', allow_pickle=True)\n",
    "subgraph3_prediction = np.load('small_intestine_output/r7_sp3_val_mae.npy', allow_pickle=True)\n",
    "subgraph4_prediction = np.load('small_intestine_output/r7_sp4_val_mae.npy', allow_pickle=True)"
   ]
  },
  {
   "cell_type": "code",
   "execution_count": 38,
   "metadata": {},
   "outputs": [],
   "source": [
    "G.update_subgraph(0, subgraph0_prediction)\n",
    "G.update_subgraph(1, subgraph1_prediction)\n",
    "G.update_subgraph(2, subgraph2_prediction)\n",
    "G.update_subgraph(3, subgraph3_prediction)\n",
    "G.update_subgraph(4, subgraph4_prediction)\n",
    "\n",
    "\n",
    "G.update()   \n",
    "node_costs.append(np.sum(G.node_weights))"
   ]
  },
  {
   "cell_type": "markdown",
   "metadata": {},
   "source": [
    "\n",
    "### Round8"
   ]
  },
  {
   "cell_type": "code",
   "execution_count": 39,
   "metadata": {},
   "outputs": [
    {
     "name": "stdout",
     "output_type": "stream",
     "text": [
      "input: [38, 29, 24, 39, 7, 35, 33, 13]\n",
      "output: [0, 1, 2, 3, 4, 5, 6, 8, 9, 10, 11, 12, 14, 15, 16, 17, 18, 19, 20, 21, 22, 23, 25, 26, 27, 28, 30, 31, 32, 34, 36, 37, 40, 41, 42, 43, 44, 45]\n",
      "--------------------------------\n",
      "training subgraph:  0 input:  [29, 39, 7, 33, 13] output:  [0, 1, 4, 6, 11, 14, 19, 23, 26, 30, 32, 36, 42, 43]\n",
      "--out_drop_index:  5\n",
      "training subgraph:  1 input:  [38, 29, 24, 39, 33, 13] output:  [0, 1, 11, 12, 14, 21, 27, 28, 30, 36, 41, 43, 45]\n",
      "--out_drop_index:  4\n",
      "training subgraph:  2 input:  [38, 29, 24, 35, 33, 13] output:  [0, 5, 8, 10, 14, 16, 21, 27, 28, 31, 40, 43, 45]\n",
      "--out_drop_index:  4\n"
     ]
    }
   ],
   "source": [
    "next_input = G.select_next_input()"
   ]
  },
  {
   "cell_type": "code",
   "execution_count": 40,
   "metadata": {},
   "outputs": [],
   "source": [
    "# train the net in subpanel0\n",
    "# !python ../train_net/train_model.py --transform_signal normalize --drop_patch_threshold -13000 --n_iter 3200  --interval_save 200 --iter_checkpoint 200 --path_run_dir 'test_models_SI_sp0_r8' --path_pretrain_dir 'test_models_SI_sp0_r7' --path_dataset_csv \"../csv/train_path_SI.csv\" --path_dataset_val_csv \"../csv/val_path_SI.csv\" --out_drop_index 5 --input_index 29 39 7 33 13 --target_index 0 1 4 6 11 14 19 23 26 30 32 36 42 43 --in_dim 5 --out_dim 14\n",
    "# !python ../train_net/validation.py --transform_signal normalize --n_iter 3200 --path_run_dir 'test_models_SI_sp0_r8'  --path_output_dir 'small_intestine_output/r8_sp0_val_mae.npy' --path_dataset_val_csv \"../csv/val_path_SI.csv\"  --input_index 29 39 7 33 13 --target_index  0 1 4 6 11 14 19 23 26 30 32 36 42 43  --in_dim 5 --out_dim 14\n",
    "\n",
    "# train the net in subpanel1\n",
    "# !python ../train_net/train_model.py --transform_signal normalize --drop_patch_threshold -13000 --n_iter 3200  --interval_save 200 --iter_checkpoint 200 --path_run_dir 'test_models_SI_sp1_r8' --path_pretrain_dir 'test_models_SI_sp1_r7' --path_dataset_csv \"../csv/train_path_SI.csv\" --path_dataset_val_csv \"../csv/val_path_SI.csv\" --out_drop_index 4 --input_index 38 29 24 39 33 13 --target_index 0 1 11 12 14 21 27 28 30 36 41 43 45  --in_dim 6 --out_dim 13\n",
    "# !python ../train_net/validation.py --transform_signal normalize --n_iter 3200 --path_run_dir 'test_models_SI_sp1_r8'  --path_output_dir 'small_intestine_output/r8_sp1_val_mae.npy' --path_dataset_val_csv \"../csv/val_path_SI.csv\"  --input_index 38 29 24 39 33 13 --target_index 0 1 11 12 14 21 27 28 30 36 41 43 45 --in_dim 6 --out_dim 13\n",
    "\n",
    "# train the net in subpanel2\n",
    "# !python ../train_net/train_model.py --transform_signal normalize --drop_patch_threshold -13000 --n_iter 3200  --interval_save 200 --iter_checkpoint 200 --path_run_dir 'test_models_SI_sp2_r8'  --path_pretrain_dir 'test_models_SI_sp2_r7'--path_dataset_csv \"../csv/train_path_SI.csv\" --path_dataset_val_csv \"../csv/val_path_LI.csv\" --out_drop_index 4 --input_index 38 29 24 35 33 13 --target_index 0 5 8 10 14 16 21 27 28 31 40 43 45 --in_dim 6 --out_dim 13\n",
    "# !python ../train_net/validation.py --transform_signal normalize --n_iter 3200 --path_run_dir 'test_models_SI_sp2_r8'  --path_output_dir 'small_intestine_output/r8_sp2_val_mae.npy' --path_dataset_val_csv \"../csv/val_path_SI.csv\"  --input_index 38 29 24 35 33 13 --target_index 0 5 8 10 14 16 21 27 28 31 40 43 45  --in_dim 6 --out_dim 13"
   ]
  },
  {
   "cell_type": "code",
   "execution_count": 41,
   "metadata": {},
   "outputs": [],
   "source": [
    "subgraph0_prediction = np.load('small_intestine_output/r8_sp0_val_mae.npy', allow_pickle=True)\n",
    "subgraph1_prediction = np.load('small_intestine_output/r8_sp1_val_mae.npy', allow_pickle=True)\n",
    "subgraph2_prediction = np.load('small_intestine_output/r8_sp2_val_mae.npy', allow_pickle=True)"
   ]
  },
  {
   "cell_type": "code",
   "execution_count": 42,
   "metadata": {},
   "outputs": [],
   "source": [
    "G.update_subgraph(0, subgraph0_prediction)\n",
    "G.update_subgraph(1, subgraph1_prediction)\n",
    "G.update_subgraph(2, subgraph2_prediction)\n",
    "\n",
    "\n",
    "\n",
    "G.update()   \n",
    "node_costs.append(np.sum(G.node_weights))"
   ]
  },
  {
   "cell_type": "markdown",
   "metadata": {},
   "source": [
    "### Round 9"
   ]
  },
  {
   "cell_type": "code",
   "execution_count": 43,
   "metadata": {},
   "outputs": [
    {
     "name": "stdout",
     "output_type": "stream",
     "text": [
      "input: [38, 29, 24, 39, 7, 35, 33, 13, 43]\n",
      "output: [0, 1, 2, 3, 4, 5, 6, 8, 9, 10, 11, 12, 14, 15, 16, 17, 18, 19, 20, 21, 22, 23, 25, 26, 27, 28, 30, 31, 32, 34, 36, 37, 40, 41, 42, 44, 45]\n",
      "--------------------------------\n",
      "training subgraph:  0 input:  [29, 39, 7, 33, 13, 43] output:  [0, 1, 4, 6, 11, 14, 19, 23, 26, 30, 32, 36, 42]\n",
      "--out_drop_index:  13\n",
      "training subgraph:  1 input:  [38, 29, 24, 39, 33, 13, 43] output:  [0, 1, 11, 12, 14, 21, 27, 28, 30, 36, 41, 45]\n",
      "--out_drop_index:  11\n",
      "training subgraph:  2 input:  [38, 29, 24, 35, 33, 13, 43] output:  [0, 5, 8, 10, 14, 16, 21, 27, 28, 31, 40, 45]\n",
      "--out_drop_index:  11\n"
     ]
    }
   ],
   "source": [
    "next_input = G.select_next_input()"
   ]
  },
  {
   "cell_type": "code",
   "execution_count": 44,
   "metadata": {},
   "outputs": [],
   "source": [
    "# train the net in subpanel0\n",
    "# !python ../train_net/train_model.py --transform_signal normalize --drop_patch_threshold -13000 --n_iter 3200  --interval_save 200 --iter_checkpoint 200 --path_run_dir 'test_models_SI_sp0_r9' --path_pretrain_dir 'test_models_SI_sp0_r8' --path_dataset_csv \"../csv/train_path_SI.csv\" --path_dataset_val_csv \"../csv/val_path_SI.csv\" --out_drop_index 13 --input_index 29 39 7 33 13 43 --target_index 0 1 4 6 11 14 19 23 26 30 32 36 42 --in_dim 6 --out_dim 13\n",
    "# !python ../train_net/validation.py --transform_signal normalize --n_iter 3200 --path_run_dir 'test_models_SI_sp0_r9'  --path_output_dir 'small_intestine_output/r9_sp0_val_mae.npy' --path_dataset_val_csv \"../csv/val_path_SI.csv\"  --input_index 29 39 7 33 13 43 --target_index  0 1 4 6 11 14 19 23 26 30 32 36 42  --in_dim 6 --out_dim 13\n",
    "\n",
    "# train the net in subpanel1\n",
    "# !python ../train_net/train_model.py --transform_signal normalize --drop_patch_threshold -13000 --n_iter 3200  --interval_save 200 --iter_checkpoint 200 --path_run_dir 'test_models_SI_sp1_r9' --path_pretrain_dir 'test_models_SI_sp1_r8' --path_dataset_csv \"../csv/train_path_SI.csv\" --path_dataset_val_csv \"../csv/val_path_SI.csv\" --out_drop_index 11 --input_index 38 29 24 39 33 13 43 --target_index 0 1 11 12 14 21 27 28 30 36 41 45  --in_dim 7 --out_dim 12\n",
    "# !python ../train_net/validation.py --transform_signal normalize --n_iter 3200 --path_run_dir 'test_models_SI_sp1_r9'  --path_output_dir 'small_intestine_output/r9_sp1_val_mae.npy' --path_dataset_val_csv \"../csv/val_path_SI.csv\"  --input_index 38 29 24 39 33 13 43 --target_index 0 1 11 12 14 21 27 28 30 36 41 45 --in_dim 7 --out_dim 12\n",
    "\n",
    "# train the net in subpanel2\n",
    "# !python ../train_net/train_model.py --transform_signal normalize --drop_patch_threshold -13000 --n_iter 3200  --interval_save 200 --iter_checkpoint 200 --path_run_dir 'test_models_SI_sp2_r9'  --path_pretrain_dir 'test_models_SI_sp2_r8'--path_dataset_csv \"../csv/train_path_SI.csv\" --path_dataset_val_csv \"../csv/val_path_LI.csv\" --out_drop_index 11 --input_index 38 29 24 35 33 13 43 --target_index 0 5 8 10 14 16 21 27 28 31 40 45 --in_dim 7 --out_dim 12\n",
    "# !python ../train_net/validation.py --transform_signal normalize --n_iter 3200 --path_run_dir 'test_models_SI_sp2_r9'  --path_output_dir 'small_intestine_output/r9_sp2_val_mae.npy' --path_dataset_val_csv \"../csv/val_path_SI.csv\"  --input_index 38 29 24 35 33 13 43 --target_index 0 5 8 10 14 16 21 27 28 31 40 45  --in_dim 7 --out_dim 12"
   ]
  },
  {
   "cell_type": "code",
   "execution_count": 45,
   "metadata": {},
   "outputs": [],
   "source": [
    "subgraph0_prediction = np.load('small_intestine_output/r9_sp0_val_mae.npy', allow_pickle=True)\n",
    "subgraph1_prediction = np.load('small_intestine_output/r9_sp1_val_mae.npy', allow_pickle=True)\n",
    "subgraph2_prediction = np.load('small_intestine_output/r9_sp2_val_mae.npy', allow_pickle=True)\n",
    "\n",
    "G.update_subgraph(0, subgraph0_prediction)\n",
    "G.update_subgraph(1, subgraph1_prediction)\n",
    "G.update_subgraph(2, subgraph2_prediction)\n",
    "\n",
    "\n",
    "G.update()   \n",
    "node_costs.append(np.sum(G.node_weights))"
   ]
  },
  {
   "cell_type": "markdown",
   "metadata": {},
   "source": [
    "### Round10"
   ]
  },
  {
   "cell_type": "code",
   "execution_count": 46,
   "metadata": {},
   "outputs": [
    {
     "name": "stdout",
     "output_type": "stream",
     "text": [
      "input: [38, 29, 24, 39, 7, 35, 33, 13, 43, 14]\n",
      "output: [0, 1, 2, 3, 4, 5, 6, 8, 9, 10, 11, 12, 15, 16, 17, 18, 19, 20, 21, 22, 23, 25, 26, 27, 28, 30, 31, 32, 34, 36, 37, 40, 41, 42, 44, 45]\n",
      "--------------------------------\n",
      "training subgraph:  0 input:  [29, 39, 7, 33, 13, 43, 14] output:  [0, 1, 4, 6, 11, 19, 23, 26, 30, 32, 36, 42]\n",
      "--out_drop_index:  5\n",
      "training subgraph:  1 input:  [38, 29, 24, 39, 33, 13, 43, 14] output:  [0, 1, 11, 12, 21, 27, 28, 30, 36, 41, 45]\n",
      "--out_drop_index:  4\n",
      "training subgraph:  2 input:  [38, 29, 24, 35, 33, 13, 43, 14] output:  [0, 5, 8, 10, 16, 21, 27, 28, 31, 40, 45]\n",
      "--out_drop_index:  4\n"
     ]
    }
   ],
   "source": [
    "next_input = G.select_next_input()"
   ]
  },
  {
   "cell_type": "code",
   "execution_count": 47,
   "metadata": {},
   "outputs": [],
   "source": [
    "# train the net in subpanel0\n",
    "# !python ../train_net/train_model.py --transform_signal normalize --drop_patch_threshold -13000 --n_iter 3200  --interval_save 200 --iter_checkpoint 200 --path_run_dir 'test_models_SI_sp0_r10' --path_pretrain_dir 'test_models_SI_sp0_r9' --path_dataset_csv \"../csv/train_path_SI.csv\" --path_dataset_val_csv \"../csv/val_path_SI.csv\" --out_drop_index 5 --input_index 29 39 7 33 13 43 14 --target_index 0 1 4 6 11 19 23 26 30 32 36 42 --in_dim 7 --out_dim 12\n",
    "# !python ../train_net/validation.py --transform_signal normalize --n_iter 3200 --path_run_dir 'test_models_SI_sp0_r10'  --path_output_dir 'small_intestine_output/r10_sp0_val_mae.npy' --path_dataset_val_csv \"../csv/val_path_SI.csv\"  --input_index 29 39 7 33 13 43 14 --target_index  0 1 4 6 11 19 23 26 30 32 36 42  --in_dim 7 --out_dim 12\n",
    "\n",
    "# train the net in subpanel1\n",
    "# !python ../train_net/train_model.py --transform_signal normalize --drop_patch_threshold -13000 --n_iter 3200  --interval_save 200 --iter_checkpoint 200 --path_run_dir 'test_models_SI_sp1_r10' --path_pretrain_dir 'test_models_SI_sp1_r9' --path_dataset_csv \"../csv/train_path_SI.csv\" --path_dataset_val_csv \"../csv/val_path_SI.csv\" --out_drop_index 4 --input_index 38 29 24 39 33 13 43 14 --target_index 0 1 11 12 21 27 28 30 36 41 45  --in_dim 8 --out_dim 11\n",
    "# !python ../train_net/validation.py --transform_signal normalize --n_iter 3200 --path_run_dir 'test_models_SI_sp1_r10'  --path_output_dir 'small_intestine_output/r10_sp1_val_mae.npy' --path_dataset_val_csv \"../csv/val_path_SI.csv\"  --input_index 38 29 24 39 33 13 43 14 --target_index 0 1 11 12 21 27 28 30 36 41 45 --in_dim 8 --out_dim 11\n",
    "\n",
    "# train the net in subpanel2\n",
    "# !python ../train_net/train_model.py --transform_signal normalize --drop_patch_threshold -13000 --n_iter 3200  --interval_save 200 --iter_checkpoint 200 --path_run_dir 'test_models_SI_sp2_r10'  --path_pretrain_dir 'test_models_SI_sp2_r9'--path_dataset_csv \"../csv/train_path_SI.csv\" --path_dataset_val_csv \"../csv/val_path_LI.csv\" --out_drop_index 4 --input_index 38 29 24 35 33 13 43 14 --target_index 0 5 8 10 16 21 27 28 31 40 45 --in_dim 8 --out_dim 11\n",
    "# !python ../train_net/validation.py --transform_signal normalize --n_iter 3200 --path_run_dir 'test_models_SI_sp2_r10'  --path_output_dir 'small_intestine_output/r10_sp2_val_mae.npy' --path_dataset_val_csv \"../csv/val_path_SI.csv\"  --input_index 38 29 24 35 33 13 43 14 --target_index 0 5 8 10 16 21 27 28 31 40 45  --in_dim 8 --out_dim 11"
   ]
  },
  {
   "cell_type": "code",
   "execution_count": 48,
   "metadata": {},
   "outputs": [],
   "source": [
    "subgraph0_prediction = np.load('small_intestine_output/r10_sp0_val_mae.npy', allow_pickle=True)\n",
    "subgraph1_prediction = np.load('small_intestine_output/r10_sp1_val_mae.npy', allow_pickle=True)\n",
    "subgraph2_prediction = np.load('small_intestine_output/r10_sp2_val_mae.npy', allow_pickle=True)\n",
    "\n",
    "G.update_subgraph(0, subgraph0_prediction)\n",
    "G.update_subgraph(1, subgraph1_prediction)\n",
    "G.update_subgraph(2, subgraph2_prediction)\n",
    "\n",
    "G.update()   \n",
    "node_costs.append(np.sum(G.node_weights))"
   ]
  },
  {
   "cell_type": "markdown",
   "metadata": {},
   "source": [
    "### Round 11"
   ]
  },
  {
   "cell_type": "code",
   "execution_count": 49,
   "metadata": {},
   "outputs": [
    {
     "name": "stdout",
     "output_type": "stream",
     "text": [
      "input: [38, 29, 24, 39, 7, 35, 33, 13, 43, 14, 32]\n",
      "output: [0, 1, 2, 3, 4, 5, 6, 8, 9, 10, 11, 12, 15, 16, 17, 18, 19, 20, 21, 22, 23, 25, 26, 27, 28, 30, 31, 34, 36, 37, 40, 41, 42, 44, 45]\n",
      "--------------------------------\n",
      "training subgraph:  0 input:  [29, 39, 7, 33, 13, 43, 14, 32] output:  [0, 1, 4, 6, 11, 19, 23, 26, 30, 36, 42]\n",
      "--out_drop_index:  9\n",
      "training subgraph:  3 input:  [38, 24, 7, 33, 32] output:  [0, 4, 5, 8, 15, 16, 17, 18, 22, 31, 34, 36, 37, 40]\n",
      "--out_drop_index:  10\n"
     ]
    }
   ],
   "source": [
    "next_input = G.select_next_input()"
   ]
  },
  {
   "cell_type": "code",
   "execution_count": 50,
   "metadata": {},
   "outputs": [],
   "source": [
    "# train the net in subpanel0\n",
    "# !python ../train_net/train_model.py --transform_signal normalize --drop_patch_threshold -13000 --n_iter 3200  --interval_save 200 --iter_checkpoint 200 --path_run_dir 'test_models_SI_sp0_r11' --path_pretrain_dir 'test_models_SI_sp0_r10' --path_dataset_csv \"../csv/train_path_SI.csv\" --path_dataset_val_csv \"../csv/val_path_SI.csv\" --out_drop_index 9 --input_index 29 39 7 33 13 43 14 32 --target_index 0 1 4 6 11 19 23 26 30 36 42 --in_dim 8 --out_dim 11\n",
    "# !python ../train_net/validation.py --transform_signal normalize --n_iter 3200 --path_run_dir 'test_models_SI_sp0_r11'  --path_output_dir 'small_intestine_output/r11_sp0_val_mae.npy' --path_dataset_val_csv \"../csv/val_path_SI.csv\"  --input_index 29 39 7 33 13 43 14 32 --target_index  0 1 4 6 11 19 23 26 30 36 42  --in_dim 8 --out_dim 11\n",
    "\n",
    "# train the net in subpanel3\n",
    "# !python ../train_net/train_model.py --transform_signal normalize --drop_patch_threshold -13000 --n_iter 3200  --interval_save 200 --iter_checkpoint 200 --path_run_dir 'test_models_SI_sp3_r11'  --path_pretrain_dir 'test_models_SI_sp3_r7' --path_dataset_csv \"../csv/train_path_SI.csv\" --path_dataset_val_csv \"../csv/val_path_SI.csv\" --out_drop_index 10 --input_index 10 24 7 33 32 --target_index 0 4 5 8 15 16 17 18 22 31 34 36 37 40 --in_dim 5 --out_dim 14\n",
    "# !python ../train_net/validation.py --transform_signal normalize --n_iter 3200 --path_run_dir 'test_models_SI_sp3_r11'  --path_output_dir 'small_intestine_output/r11_sp3_val_mae.npy' --path_dataset_val_csv \"../csv/val_path_SI.csv\"  --input_index 38 24 7 33 32 --target_index 0 4 5 8 15 16 17 18 22 31 34 36 37 40  --in_dim 5 --out_dim 14"
   ]
  },
  {
   "cell_type": "code",
   "execution_count": 51,
   "metadata": {},
   "outputs": [],
   "source": [
    "subgraph0_prediction = np.load('small_intestine_output/r11_sp0_val_mae.npy', allow_pickle=True)\n",
    "subgraph3_prediction = np.load('small_intestine_output/r11_sp3_val_mae.npy', allow_pickle=True)\n",
    "\n",
    "\n",
    "G.update_subgraph(0, subgraph0_prediction)\n",
    "G.update_subgraph(3, subgraph3_prediction)\n",
    "\n",
    "\n",
    "\n",
    "G.update()   \n",
    "node_costs.append(np.sum(G.node_weights))"
   ]
  },
  {
   "cell_type": "markdown",
   "metadata": {},
   "source": [
    "### Round12"
   ]
  },
  {
   "cell_type": "code",
   "execution_count": 52,
   "metadata": {},
   "outputs": [
    {
     "name": "stdout",
     "output_type": "stream",
     "text": [
      "tie\n",
      "candidates:  36 42 input: [38, 29, 24, 39, 7, 35, 33, 13, 43, 14, 32, 36]\n",
      "output: [0, 1, 2, 3, 4, 5, 6, 8, 9, 10, 11, 12, 15, 16, 17, 18, 19, 20, 21, 22, 23, 25, 26, 27, 28, 30, 31, 34, 37, 40, 41, 42, 44, 45]\n",
      "--------------------------------\n",
      "training subgraph:  0 input:  [29, 39, 7, 33, 13, 43, 14, 32, 36] output:  [0, 1, 4, 6, 11, 19, 23, 26, 30, 42]\n",
      "--out_drop_index:  9\n",
      "training subgraph:  1 input:  [38, 29, 24, 39, 33, 13, 43, 14, 36] output:  [0, 1, 11, 12, 21, 27, 28, 30, 41, 45]\n",
      "--out_drop_index:  8\n",
      "training subgraph:  3 input:  [38, 24, 7, 33, 32, 36] output:  [0, 4, 5, 8, 15, 16, 17, 18, 22, 31, 34, 37, 40]\n",
      "--out_drop_index:  11\n"
     ]
    }
   ],
   "source": [
    "next_input = G.select_next_input()"
   ]
  },
  {
   "cell_type": "code",
   "execution_count": 53,
   "metadata": {},
   "outputs": [],
   "source": [
    "# train the net in subpanel0\n",
    "# !python ../train_net/train_model.py --transform_signal normalize --drop_patch_threshold -13000 --n_iter 3200  --interval_save 200 --iter_checkpoint 200 --path_run_dir 'test_models_SI_sp0_r12' --path_pretrain_dir 'test_models_SI_sp0_r11' --path_dataset_csv \"../csv/train_path_SI.csv\" --path_dataset_val_csv \"../csv/val_path_SI.csv\" --out_drop_index 9 --input_index 29 39 7 33 13 43 14 32 36 --target_index 0 1 4 6 11 19 23 26 30 42 --in_dim 9 --out_dim 10\n",
    "# !python ../train_net/validation.py --transform_signal normalize --n_iter 3200 --path_run_dir 'test_models_SI_sp0_r12'  --path_output_dir 'small_intestine_output/r12_sp0_val_mae.npy' --path_dataset_val_csv \"../csv/val_p1th_SI.csv\"  --input_index 29 39 7 33 13 43 14 32 36 --target_index  0 1 4 6 11 19 23 26 30 42  --in_dim 9 --out_dim 10\n",
    "\n",
    "# train the net in subpanel1\n",
    "# !python ../train_net/train_model.py --transform_signal normalize --drop_patch_threshold -13000 --n_iter 3200  --interval_save 200 --iter_checkpoint 200 --path_run_dir 'test_models_SI_sp1_r12' --path_pretrain_dir 'test_models_SI_sp1_r10' --path_dataset_csv \"../csv/train_path_SI.csv\" --path_dataset_val_csv \"../csv/val_path_SI.csv\" --out_drop_index 8 --input_index 38 29 24 39 33 13 43 14 36 --target_index 0 1 11 12 21 27 28 30 41 45  --in_dim 9 --out_dim 10\n",
    "# !python ../train_net/validation.py --transform_signal normalize --n_iter 3200 --path_run_dir 'test_models_SI_sp1_r12'  --path_output_dir 'small_intestine_output/r12_sp1_val_mae.npy' --path_dataset_val_csv \"../csv/val_path_SI.csv\"  --input_index 38 29 24 39 33 13 43 14 36 --target_index 0 1 11 12 21 27 28 30 41 45 --in_dim 9 --out_dim 10\n",
    "\n",
    "# train the net in subpanel3\n",
    "# !python ../train_net/train_model.py --transform_signal normalize --drop_patch_threshold -13000 --n_iter 3200  --interval_save 200 --iter_checkpoint 200 --path_run_dir 'test_models_SI_sp3_r12'  --path_pretrain_dir 'test_models_SI_sp3_r11' --path_dataset_csv \"../csv/train_path_SI.csv\" --path_dataset_val_csv \"../csv/val_path_SI.csv\" --out_drop_index 11 --input_index 10 24 7 33 32 36 --target_index 0 4 5 8 15 16 17 18 22 31 34 37 40 --in_dim 6 --out_dim 13\n",
    "# !python ../train_net/validation.py --transform_signal normalize --n_iter 3200 --path_run_dir 'test_models_SI_sp3_r12'  --path_output_dir 'small_intestine_output/r12_sp3_val_mae.npy' --path_dataset_val_csv \"../csv/val_path_SI.csv\"  --input_index 38 24 7 33 32 --target_index 0 4 5 8 15 16 17 18 22 31 34 36 37 40  --in_dim 6 --out_dim 13"
   ]
  },
  {
   "cell_type": "code",
   "execution_count": 54,
   "metadata": {},
   "outputs": [],
   "source": [
    "subgraph0_prediction = np.load('small_intestine_output/r12_sp0_val_mae.npy', allow_pickle=True)\n",
    "subgraph1_prediction = np.load('small_intestine_output/r12_sp1_val_mae.npy', allow_pickle=True)\n",
    "subgraph3_prediction = np.load('small_intestine_output/r12_sp3_val_mae.npy', allow_pickle=True)\n",
    "\n",
    "\n",
    "G.update_subgraph(0, subgraph0_prediction)\n",
    "G.update_subgraph(1, subgraph1_prediction)\n",
    "G.update_subgraph(3, subgraph3_prediction)\n",
    "\n",
    "\n",
    "\n",
    "G.update()   \n",
    "node_costs.append(np.sum(G.node_weights))"
   ]
  },
  {
   "cell_type": "markdown",
   "metadata": {},
   "source": [
    "### Round 13"
   ]
  },
  {
   "cell_type": "code",
   "execution_count": 55,
   "metadata": {},
   "outputs": [
    {
     "name": "stdout",
     "output_type": "stream",
     "text": [
      "tie\n",
      "candidates:  10 44 input: [38, 29, 24, 39, 7, 35, 33, 13, 43, 14, 32, 36, 10]\n",
      "output: [0, 1, 2, 3, 4, 5, 6, 8, 9, 11, 12, 15, 16, 17, 18, 19, 20, 21, 22, 23, 25, 26, 27, 28, 30, 31, 34, 37, 40, 41, 42, 44, 45]\n",
      "--------------------------------\n",
      "training subgraph:  2 input:  [38, 29, 24, 35, 33, 13, 43, 14, 10] output:  [0, 5, 8, 16, 21, 27, 28, 31, 40, 45]\n",
      "--out_drop_index:  3\n",
      "training subgraph:  4 input:  [38, 24, 35, 33, 10] output:  [0, 2, 3, 5, 8, 9, 15, 16, 17, 20, 25, 31, 40, 44]\n",
      "--out_drop_index:  6\n"
     ]
    }
   ],
   "source": [
    "next_input = G.select_next_input()"
   ]
  },
  {
   "cell_type": "code",
   "execution_count": 56,
   "metadata": {},
   "outputs": [],
   "source": [
    "# train the net in subpanel2\n",
    "# !python ../train_net/train_model.py --transform_signal normalize --drop_patch_threshold -13000 --n_iter 3200  --interval_save 200 --iter_checkpoint 200 --path_run_dir 'test_models_SI_sp2_r13'  --path_pretrain_dir 'test_models_SI_sp2_r10'--path_dataset_csv \"../csv/train_path_SI.csv\" --path_dataset_val_csv \"../csv/val_path_LI.csv\" --out_drop_index 3 --input_index 38 29 24 35 33 13 43 14 10 --target_index 0 5 8 16 21 27 28 31 40 45 --in_dim 9 --out_dim 10\n",
    "# !python ../train_net/validation.py --transform_signal normalize --n_iter 3200 --path_run_dir 'test_models_SI_sp2_r13'  --path_output_dir 'small_intestine_output/r13_sp2_val_mae.npy' --path_dataset_val_csv \"../csv/val_path_SI.csv\"  --input_index 38 29 24 35 33 13 43 14 10 --target_index 0 5 8 16 21 27 28 31 40 45  --in_dim 9 --out_dim 10\n",
    "\n",
    "# train the net in subpanel4\n",
    "# !python ../train_net/train_model.py --transform_signal normalize --drop_patch_threshold -13000 --n_iter 3200  --interval_save 200 --iter_checkpoint 200 --path_run_dir 'test_models_SI_sp4_r13'  --path_pretrain_dir 'test_models_SI_sp4_r7' --path_dataset_csv \"../csv/train_path_SI.csv\" --path_dataset_val_csv \"../csv/val_path_SI.csv\" --out_drop_index 6 --input_index 38 24 35 33 10 --target_index 0 2 3 5 8 9 15 16 17 20 25 31 40 44  --in_dim 5 --out_dim 14\n",
    "# !python ../train_net/validation.py --transform_signal normalize --n_iter 3200 --path_run_dir 'test_models_SI_sp4_r13' --path_output_dir 'small_intestine_output/r13_sp4_val_mae.npy'  --path_dataset_val_csv \"../csv/val_path_SI.csv\" --input_index 38 24 35 33 10 --target_index  0 2 3 5 8 9 15 16 17 20 25 31 40 44  --in_dim 5 --out_dim 14"
   ]
  },
  {
   "cell_type": "code",
   "execution_count": 57,
   "metadata": {},
   "outputs": [],
   "source": [
    "subgraph2_prediction = np.load('small_intestine_output/r13_sp2_val_mae.npy', allow_pickle=True)\n",
    "subgraph4_prediction = np.load('small_intestine_output/r13_sp4_val_mae.npy', allow_pickle=True)\n",
    "\n",
    "\n",
    "G.update_subgraph(2, subgraph2_prediction)\n",
    "G.update_subgraph(4, subgraph4_prediction)\n",
    "\n",
    "\n",
    "\n",
    "G.update()   \n",
    "node_costs.append(np.sum(G.node_weights))"
   ]
  },
  {
   "cell_type": "markdown",
   "metadata": {},
   "source": [
    "### Round 14"
   ]
  },
  {
   "cell_type": "code",
   "execution_count": 58,
   "metadata": {},
   "outputs": [
    {
     "name": "stdout",
     "output_type": "stream",
     "text": [
      "input: [38, 29, 24, 39, 7, 35, 33, 13, 43, 14, 32, 36, 10, 0]\n",
      "output: [1, 2, 3, 4, 5, 6, 8, 9, 11, 12, 15, 16, 17, 18, 19, 20, 21, 22, 23, 25, 26, 27, 28, 30, 31, 34, 37, 40, 41, 42, 44, 45]\n",
      "--------------------------------\n",
      "training subgraph:  0 input:  [29, 39, 7, 33, 13, 43, 14, 32, 36, 0] output:  [1, 4, 6, 11, 19, 23, 26, 30, 42]\n",
      "--out_drop_index:  0\n",
      "training subgraph:  1 input:  [38, 29, 24, 39, 33, 13, 43, 14, 36, 0] output:  [1, 11, 12, 21, 27, 28, 30, 41, 45]\n",
      "--out_drop_index:  0\n",
      "training subgraph:  2 input:  [38, 29, 24, 35, 33, 13, 43, 14, 10, 0] output:  [5, 8, 16, 21, 27, 28, 31, 40, 45]\n",
      "--out_drop_index:  0\n",
      "training subgraph:  3 input:  [38, 24, 7, 33, 32, 36, 0] output:  [4, 5, 8, 15, 16, 17, 18, 22, 31, 34, 37, 40]\n",
      "--out_drop_index:  0\n",
      "training subgraph:  4 input:  [38, 24, 35, 33, 10, 0] output:  [2, 3, 5, 8, 9, 15, 16, 17, 20, 25, 31, 40, 44]\n",
      "--out_drop_index:  0\n"
     ]
    }
   ],
   "source": [
    "next_input = G.select_next_input()"
   ]
  },
  {
   "cell_type": "code",
   "execution_count": 59,
   "metadata": {},
   "outputs": [],
   "source": [
    "# train the net in subpanel0\n",
    "# !python ../train_net/train_model.py --transform_signal normalize --drop_patch_threshold -13000 --n_iter 3200  --interval_save 200 --iter_checkpoint 200 --path_run_dir 'test_models_SI_sp0_r14' --path_pretrain_dir 'test_models_SI_sp0_r12' --path_dataset_csv \"../csv/train_path_SI.csv\" --path_dataset_val_csv \"../csv/val_path_SI.csv\" --out_drop_index 0 --input_index 29 39 7 33 13 43 14 32 36 0 --target_index 1 4 6 11 19 23 26 30 42 --in_dim 10 --out_dim 9\n",
    "# !python ../train_net/validation.py --transform_signal normalize --n_iter 3200 --path_run_dir 'test_models_SI_sp0_r14'  --path_output_dir 'small_intestine_output/r14_sp0_val_mae.npy' --path_dataset_val_csv \"../csv/val_p1th_SI.csv\"  --input_index 29 39 7 33 13 43 14 32 36 0 --target_index  1 4 6 11 19 23 26 30 42  --in_dim 10 --out_dim 9\n",
    "\n",
    "# train the net in subpanel1\n",
    "# !python ../train_net/train_model.py --transform_signal normalize --drop_patch_threshold -13000 --n_iter 3200  --interval_save 200 --iter_checkpoint 200 --path_run_dir 'test_models_SI_sp1_r14' --path_pretrain_dir 'test_models_SI_sp1_r12' --path_dataset_csv \"../csv/train_path_SI.csv\" --path_dataset_val_csv \"../csv/val_path_SI.csv\" --out_drop_index 0 --input_index 38 29 24 39 33 13 43 14 36 0 --target_index 1 11 12 21 27 28 30 41 45  --in_dim 10 --out_dim 9\n",
    "# !python ../train_net/validation.py --transform_signal normalize --n_iter 3200 --path_run_dir 'test_models_SI_sp1_r14'  --path_output_dir 'small_intestine_output/r14_sp1_val_mae.npy' --path_dataset_val_csv \"../csv/val_path_SI.csv\"  --input_index 38 29 24 39 33 13 43 14 36 0 --target_index 1 11 12 21 27 28 30 41 45 --in_dim 10 --out_dim 9\n",
    "\n",
    "# train the net in subpanel2\n",
    "# !python ../train_net/train_model.py --transform_signal normalize --drop_patch_threshold -13000 --n_iter 3200  --interval_save 200 --iter_checkpoint 200 --path_run_dir 'test_models_SI_sp2_r14'  --path_pretrain_dir 'test_models_SI_sp2_r13'--path_dataset_csv \"../csv/train_path_SI.csv\" --path_dataset_val_csv \"../csv/val_path_LI.csv\" --out_drop_index 0 --input_index 38 29 24 35 33 13 43 14 10 0 --target_index 5 8 16 21 27 28 31 40 45 --in_dim 10 --out_dim 9\n",
    "# !python ../train_net/validation.py --transform_signal normalize --n_iter 3200 --path_run_dir 'test_models_SI_sp2_r14'  --path_output_dir 'small_intestine_output/r14_sp2_val_mae.npy' --path_dataset_val_csv \"../csv/val_path_SI.csv\"  --input_index 38 29 24 35 33 13 43 14 10 0 --target_index 5 8 16 21 27 28 31 40 45  --in_dim 10 --out_dim 9\n",
    "\n",
    "# train the net in subpanel3\n",
    "# !python ../train_net/train_model.py --transform_signal normalize --drop_patch_threshold -13000 --n_iter 3200  --interval_save 200 --iter_checkpoint 200 --path_run_dir 'test_models_SI_sp3_r14'  --path_pretrain_dir 'test_models_SI_sp3_r12' --path_dataset_csv \"../csv/train_path_SI.csv\" --path_dataset_val_csv \"../csv/val_path_SI.csv\" --out_drop_index 0 --input_index 10 24 7 33 32 36 0 --target_index 4 5 8 15 16 17 18 22 31 34 37 40 --in_dim 7 --out_dim 12\n",
    "# !python ../train_net/validation.py --transform_signal normalize --n_iter 3200 --path_run_dir 'test_models_SI_sp3_r14'  --path_output_dir 'small_intestine_output/r14_sp3_val_mae.npy' --path_dataset_val_csv \"../csv/val_path_SI.csv\"  --input_index 38 24 7 33 32 0 --target_index 4 5 8 15 16 17 18 22 31 34 36 37 40  --in_dim 7 --out_dim 12\n",
    "\n",
    "# train the net in subpanel4\n",
    "# !python ../train_net/train_model.py --transform_signal normalize --drop_patch_threshold -13000 --n_iter 3200  --interval_save 200 --iter_checkpoint 200 --path_run_dir 'test_models_SI_sp4_r14'  --path_pretrain_dir 'test_models_SI_sp4_r13' --path_dataset_csv \"../csv/train_path_SI.csv\" --path_dataset_val_csv \"../csv/val_path_SI.csv\" --out_drop_index 0 --input_index 38 24 35 33 10 0 --target_index 2 3 5 8 9 15 16 17 20 25 31 40 44  --in_dim 6 --out_dim 13\n",
    "# !python ../train_net/validation.py --transform_signal normalize --n_iter 3200 --path_run_dir 'test_models_SI_sp4_r14' --path_output_dir 'small_intestine_output/r14_sp4_val_mae.npy'  --path_dataset_val_csv \"../csv/val_path_SI.csv\" --input_index 38 24 35 33 10 0 --target_index  2 3 5 8 9 15 16 17 20 25 31 40 44  --in_dim 6 --out_dim 13"
   ]
  },
  {
   "cell_type": "code",
   "execution_count": 60,
   "metadata": {},
   "outputs": [],
   "source": [
    "subgraph0_prediction = np.load('small_intestine_output/r14_sp0_val_mae.npy', allow_pickle=True)\n",
    "subgraph1_prediction = np.load('small_intestine_output/r14_sp1_val_mae.npy', allow_pickle=True)\n",
    "subgraph2_prediction = np.load('small_intestine_output/r14_sp2_val_mae.npy', allow_pickle=True)\n",
    "subgraph3_prediction = np.load('small_intestine_output/r14_sp3_val_mae.npy', allow_pickle=True)\n",
    "subgraph4_prediction = np.load('small_intestine_output/r14_sp4_val_mae.npy', allow_pickle=True)"
   ]
  },
  {
   "cell_type": "code",
   "execution_count": 61,
   "metadata": {},
   "outputs": [],
   "source": [
    "G.update_subgraph(0, subgraph0_prediction)\n",
    "G.update_subgraph(1, subgraph1_prediction)\n",
    "G.update_subgraph(2, subgraph2_prediction)\n",
    "G.update_subgraph(3, subgraph3_prediction)\n",
    "G.update_subgraph(4, subgraph4_prediction)\n",
    "\n",
    "\n",
    "G.update()   \n",
    "node_costs.append(np.sum(G.node_weights))"
   ]
  },
  {
   "cell_type": "markdown",
   "metadata": {},
   "source": [
    "### Round 15"
   ]
  },
  {
   "cell_type": "code",
   "execution_count": 62,
   "metadata": {},
   "outputs": [
    {
     "name": "stdout",
     "output_type": "stream",
     "text": [
      "input: [38, 29, 24, 39, 7, 35, 33, 13, 43, 14, 32, 36, 10, 0, 42]\n",
      "output: [1, 2, 3, 4, 5, 6, 8, 9, 11, 12, 15, 16, 17, 18, 19, 20, 21, 22, 23, 25, 26, 27, 28, 30, 31, 34, 37, 40, 41, 44, 45]\n",
      "--------------------------------\n",
      "training subgraph:  0 input:  [29, 39, 7, 33, 13, 43, 14, 32, 36, 0, 42] output:  [1, 4, 6, 11, 19, 23, 26, 30]\n",
      "--out_drop_index:  8\n"
     ]
    }
   ],
   "source": [
    "next_input = G.select_next_input()"
   ]
  },
  {
   "cell_type": "code",
   "execution_count": 63,
   "metadata": {},
   "outputs": [],
   "source": [
    "# train the net in subpanel0\n",
    "# !python ../train_net/train_model.py --transform_signal normalize --drop_patch_threshold -13000 --n_iter 3200  --interval_save 200 --iter_checkpoint 200 --path_run_dir 'test_models_SI_sp0_r15' --path_pretrain_dir 'test_models_SI_sp0_r14' --path_dataset_csv \"../csv/train_path_SI.csv\" --path_dataset_val_csv \"../csv/val_path_SI.csv\" --out_drop_index 8 --input_index 29 39 7 33 13 43 14 32 36 0 42 --target_index 1 4 6 11 19 23 26 30  --in_dim 11 --out_dim 8 \n",
    "# !python ../train_net/validation.py --transform_signal normalize --n_iter 3200 --path_run_dir 'test_models_SI_sp0_r15'  --path_output_dir 'large_intestine_output/r15_sp0_val_mae.npy' --path_dataset_val_csv \"../csv/val_p1th_SI.csv\"  --input_index 29 39 7 33 13 43 14 32 36 0 42 --target_index  1 4 6 11 19 23 26 30  --in_dim 11 --out_dim 8"
   ]
  },
  {
   "cell_type": "code",
   "execution_count": 64,
   "metadata": {},
   "outputs": [],
   "source": [
    "subgraph0_prediction = np.load('small_intestine_output/r15_sp0_val_mae.npy', allow_pickle=True)\n",
    "G.update_subgraph(0, subgraph0_prediction)\n",
    "G.update()   \n",
    "node_costs.append(np.sum(G.node_weights))"
   ]
  },
  {
   "cell_type": "markdown",
   "metadata": {},
   "source": [
    "### Round 16"
   ]
  },
  {
   "cell_type": "code",
   "execution_count": 65,
   "metadata": {},
   "outputs": [
    {
     "name": "stdout",
     "output_type": "stream",
     "text": [
      "input: [38, 29, 24, 39, 7, 35, 33, 13, 43, 14, 32, 36, 10, 0, 42, 2]\n",
      "output: [1, 3, 4, 5, 6, 8, 9, 11, 12, 15, 16, 17, 18, 19, 20, 21, 22, 23, 25, 26, 27, 28, 30, 31, 34, 37, 40, 41, 44, 45]\n",
      "--------------------------------\n",
      "training subgraph:  4 input:  [38, 24, 35, 33, 10, 0, 2] output:  [3, 5, 8, 9, 15, 16, 17, 20, 25, 31, 40, 44]\n",
      "--out_drop_index:  0\n"
     ]
    }
   ],
   "source": [
    "next_input = G.select_next_input()"
   ]
  },
  {
   "cell_type": "code",
   "execution_count": 66,
   "metadata": {},
   "outputs": [],
   "source": [
    "# train the net in subpanel4\n",
    "# !python ../train_net/train_model.py --transform_signal normalize --drop_patch_threshold -13000 --n_iter 3200  --interval_save 200 --iter_checkpoint 200 --path_run_dir 'test_models_SI_sp4_r16'  --path_pretrain_dir 'test_models_SI_sp4_r14' --path_dataset_csv \"../csv/train_path_SI.csv\" --path_dataset_val_csv \"../csv/val_path_SI.csv\" --out_drop_index 0 --input_index 38 24 35 33 10 0 2 --target_index 3 5 8 9 15 16 17 20 25 31 40 44  --in_dim 7 --out_dim 12\n",
    "# !python ../train_net/validation.py --transform_signal normalize --n_iter 3200 --path_run_dir 'test_models_SI_sp4_r16' --path_output_dir 'small_intestine_output/r16_sp4_val_mae.npy'  --path_dataset_val_csv \"../csv/val_path_SI.csv\" --input_index 38 24 35 33 10 0 2 --target_index  3 5 8 9 15 16 17 20 25 31 40 44  --in_dim 7 --out_dim 12"
   ]
  },
  {
   "cell_type": "code",
   "execution_count": 67,
   "metadata": {},
   "outputs": [],
   "source": [
    "subgraph4_prediction = np.load('small_intestine_output/r16_sp4_val_mae.npy', allow_pickle=True)\n",
    "G.update_subgraph(4, subgraph4_prediction)\n",
    "G.update()   \n",
    "node_costs.append(np.sum(G.node_weights))"
   ]
  },
  {
   "cell_type": "markdown",
   "metadata": {},
   "source": [
    "### Round 17"
   ]
  },
  {
   "cell_type": "code",
   "execution_count": 68,
   "metadata": {},
   "outputs": [
    {
     "name": "stdout",
     "output_type": "stream",
     "text": [
      "input: [38, 29, 24, 39, 7, 35, 33, 13, 43, 14, 32, 36, 10, 0, 42, 2, 44]\n",
      "output: [1, 3, 4, 5, 6, 8, 9, 11, 12, 15, 16, 17, 18, 19, 20, 21, 22, 23, 25, 26, 27, 28, 30, 31, 34, 37, 40, 41, 45]\n",
      "--------------------------------\n",
      "training subgraph:  4 input:  [38, 24, 35, 33, 10, 0, 2, 44] output:  [3, 5, 8, 9, 15, 16, 17, 20, 25, 31, 40]\n",
      "--out_drop_index:  11\n"
     ]
    }
   ],
   "source": [
    "next_input = G.select_next_input()"
   ]
  },
  {
   "cell_type": "code",
   "execution_count": 69,
   "metadata": {},
   "outputs": [],
   "source": [
    "# train the net in subpanel4\n",
    "# !python ../train_net/train_model.py --transform_signal normalize --drop_patch_threshold -13000 --n_iter 3200  --interval_save 200 --iter_checkpoint 200 --path_run_dir 'test_models_SI_sp4_r17'  --path_pretrain_dir 'test_models_SI_sp4_r16' --path_dataset_csv \"../csv/train_path_SI.csv\" --path_dataset_val_csv \"../csv/val_path_SI.csv\" --out_drop_index 11 --input_index 38 24 35 33 10 0 2 44 --target_index 3 5 8 9 15 16 17 20 25 31 40  --in_dim 8 --out_dim 11\n",
    "# !python ../train_net/validation.py --transform_signal normalize --n_iter 3200 --path_run_dir 'test_models_SI_sp4_r17' --path_output_dir 'small_intestine_output/r17_sp4_val_mae.npy'  --path_dataset_val_csv \"../csv/val_path_SI.csv\" --input_index 38 24 35 33 10 0 2 44 --target_index  3 5 8 9 15 16 17 20 25 31 40  --in_dim 8 --out_dim 11"
   ]
  },
  {
   "cell_type": "code",
   "execution_count": 70,
   "metadata": {},
   "outputs": [],
   "source": [
    "subgraph4_prediction = np.load('small_intestine_output/r17_sp4_val_mae.npy', allow_pickle=True)\n",
    "G.update_subgraph(4, subgraph4_prediction)\n",
    "G.update()   \n",
    "node_costs.append(np.sum(G.node_weights))"
   ]
  },
  {
   "cell_type": "markdown",
   "metadata": {},
   "source": [
    "### Round 18"
   ]
  },
  {
   "cell_type": "code",
   "execution_count": 71,
   "metadata": {},
   "outputs": [
    {
     "name": "stdout",
     "output_type": "stream",
     "text": [
      "input: [38, 29, 24, 39, 7, 35, 33, 13, 43, 14, 32, 36, 10, 0, 42, 2, 44, 11]\n",
      "output: [1, 3, 4, 5, 6, 8, 9, 12, 15, 16, 17, 18, 19, 20, 21, 22, 23, 25, 26, 27, 28, 30, 31, 34, 37, 40, 41, 45]\n",
      "--------------------------------\n",
      "training subgraph:  0 input:  [29, 39, 7, 33, 13, 43, 14, 32, 36, 0, 42, 11] output:  [1, 4, 6, 19, 23, 26, 30]\n",
      "--out_drop_index:  3\n",
      "training subgraph:  1 input:  [38, 29, 24, 39, 33, 13, 43, 14, 36, 0, 11] output:  [1, 12, 21, 27, 28, 30, 41, 45]\n",
      "--out_drop_index:  1\n"
     ]
    }
   ],
   "source": [
    "next_input = G.select_next_input()"
   ]
  },
  {
   "cell_type": "code",
   "execution_count": 72,
   "metadata": {},
   "outputs": [],
   "source": [
    "# train the net in subpanel0\n",
    "# !python ../train_net/train_model.py --transform_signal normalize --drop_patch_threshold -13000 --n_iter 3200  --interval_save 200 --iter_checkpoint 200 --path_run_dir 'test_models_SI_sp0_r18' --path_pretrain_dir 'test_models_SI_sp0_r15' --path_dataset_csv \"../csv/train_path_SI.csv\" --path_dataset_val_csv \"../csv/val_path_SI.csv\" --out_drop_index 3 --input_index 29 39 7 33 13 43 14 32 36 0 42 11 --target_index 1 4 6 19 23 26 30  --in_dim 12 --out_dim 7 \n",
    "# !python ../train_net/validation.py --transform_signal normalize --n_iter 3200 --path_run_dir 'test_models_SI_sp0_r15'  --path_output_dir 'small_intestine_output/r18_sp0_val_mae.npy' --path_dataset_val_csv \"../csv/val_p1th_SI.csv\"  --input_index 29 39 7 33 13 43 14 32 36 0 42 11  --target_index  1 4 6 19 23 26 30  --in_dim 12 --out_dim 7\n",
    "\n",
    "# train the net in subpanel1\n",
    "# !python ../train_net/train_model.py --transform_signal normalize --drop_patch_threshold -13000 --n_iter 3200  --interval_save 200 --iter_checkpoint 200 --path_run_dir 'test_models_SI_sp1_r18' --path_pretrain_dir 'test_models_SI_sp1_r14' --path_dataset_csv \"../csv/train_path_SI.csv\" --path_dataset_val_csv \"../csv/val_path_SI.csv\" --out_drop_index 1 --input_index 38 29 24 39 33 13 43 14 36 0 11 --target_index 1 12 21 27 28 30 41 45  --in_dim 11 --out_dim 8\n",
    "# !python ../train_net/validation.py --transform_signal normalize --n_iter 3200 --path_run_dir 'test_models_SI_sp1_r18'  --path_output_dir 'small_intestine_output/r18_sp1_val_mae.npy' --path_dataset_val_csv \"../csv/val_path_SI.csv\"  --input_index 38 29 24 39 33 13 43 14 36 0 11 --target_index 1 12 21 27 28 30 41 45 --in_dim 11 --out_dim 8"
   ]
  },
  {
   "cell_type": "code",
   "execution_count": 73,
   "metadata": {},
   "outputs": [],
   "source": [
    "subgraph0_prediction = np.load('small_intestine_output/r18_sp0_val_mae.npy', allow_pickle=True)\n",
    "subgraph1_prediction = np.load('small_intestine_output/r18_sp1_val_mae.npy', allow_pickle=True)\n",
    "\n",
    "\n",
    "G.update_subgraph(0, subgraph0_prediction)\n",
    "G.update_subgraph(1, subgraph1_prediction)\n",
    "\n",
    "\n",
    "\n",
    "G.update()   \n",
    "node_costs.append(np.sum(G.node_weights))"
   ]
  },
  {
   "cell_type": "markdown",
   "metadata": {},
   "source": [
    "### Round 19"
   ]
  },
  {
   "cell_type": "code",
   "execution_count": 74,
   "metadata": {},
   "outputs": [
    {
     "name": "stdout",
     "output_type": "stream",
     "text": [
      "input: [38, 29, 24, 39, 7, 35, 33, 13, 43, 14, 32, 36, 10, 0, 42, 2, 44, 11, 4]\n",
      "output: [1, 3, 5, 6, 8, 9, 12, 15, 16, 17, 18, 19, 20, 21, 22, 23, 25, 26, 27, 28, 30, 31, 34, 37, 40, 41, 45]\n",
      "--------------------------------\n",
      "training subgraph:  0 input:  [29, 39, 7, 33, 13, 43, 14, 32, 36, 0, 42, 11, 4] output:  [1, 6, 19, 23, 26, 30]\n",
      "--out_drop_index:  1\n",
      "training subgraph:  3 input:  [38, 24, 7, 33, 32, 36, 0, 4] output:  [5, 8, 15, 16, 17, 18, 22, 31, 34, 37, 40]\n",
      "--out_drop_index:  0\n"
     ]
    }
   ],
   "source": [
    "next_input = G.select_next_input()"
   ]
  },
  {
   "cell_type": "code",
   "execution_count": 75,
   "metadata": {},
   "outputs": [],
   "source": [
    "# train the net in subpanel0\n",
    "# !python ../train_net/train_model.py --transform_signal normalize --drop_patch_threshold -13000 --n_iter 3200  --interval_save 200 --iter_checkpoint 200 --path_run_dir 'test_models_SI_sp0_r19' --path_pretrain_dir 'test_models_SI_sp0_r18' --path_dataset_csv \"../csv/train_path_SI.csv\" --path_dataset_val_csv \"../csv/val_path_SI.csv\" --out_drop_index 1 --input_index 29 39 7 33 13 43 14 32 36 0 42 11 4 --target_index 1 6 19 23 26 30  --in_dim 13 --out_dim 6 \n",
    "# !python ../train_net/validation.py --transform_signal normalize --n_iter 3200 --path_run_dir 'test_models_SI_sp0_r19'  --path_output_dir 'small_intestine_output/r19_sp0_val_mae.npy' --path_dataset_val_csv \"../csv/val_p1th_SI.csv\"  --input_index 29 39 7 33 13 43 14 32 36 0 42 11 4  --target_index  1 6 19 23 26 30  --in_dim 13 --out_dim 6\n",
    "\n",
    "# train the net in subpanel3\n",
    "# !python ../train_net/train_model.py --transform_signal normalize --drop_patch_threshold -13000 --n_iter 3200  --interval_save 200 --iter_checkpoint 200 --path_run_dir 'test_models_SI_sp3_r19'  --path_pretrain_dir 'test_models_SI_sp3_r14' --path_dataset_csv \"../csv/train_path_SI.csv\" --path_dataset_val_csv \"../csv/val_path_SI.csv\" --out_drop_index 0 --input_index 10 24 7 33 32 36 0 4 --target_index 5 8 15 16 17 18 22 31 34 37 40 --in_dim 8 --out_dim 11\n",
    "# !python ../train_net/validation.py --transform_signal normalize --n_iter 3200 --path_run_dir 'test_models_SI_sp3_r19'  --path_output_dir 'small_intestine_output/r19_sp3_val_mae.npy' --path_dataset_val_csv \"../csv/val_path_SI.csv\"  --input_index 38 24 7 33 32 0 4 --target_index 5 8 15 16 17 18 22 31 34 36 37 40  --in_dim 8 --out_dim 11"
   ]
  },
  {
   "cell_type": "code",
   "execution_count": 76,
   "metadata": {},
   "outputs": [],
   "source": [
    "subgraph0_prediction = np.load('small_intestine_output/r19_sp0_val_mae.npy', allow_pickle=True)\n",
    "subgraph3_prediction = np.load('small_intestine_output/r19_sp3_val_mae.npy', allow_pickle=True)\n",
    "\n",
    "\n",
    "G.update_subgraph(0, subgraph0_prediction)\n",
    "G.update_subgraph(3, subgraph3_prediction)\n",
    "\n",
    "\n",
    "G.update()   \n",
    "node_costs.append(np.sum(G.node_weights))\n",
    "np.save(\"si_node_costs.npy\", node_costs)"
   ]
  },
  {
   "cell_type": "code",
   "execution_count": 77,
   "metadata": {},
   "outputs": [],
   "source": [
    "import numpy as np\n",
    "# np.save(\"si_mtx.npy\", G.mtx)\n",
    "si_mtx = np.load(\"si_mtx.npy\")\n",
    "\n",
    "with open('marker_list/SI46.txt') as f:\n",
    "    li_markers = f.read().splitlines()"
   ]
  },
  {
   "cell_type": "code",
   "execution_count": 78,
   "metadata": {},
   "outputs": [
    {
     "data": {
      "image/png": "[encoded data removed]",
      "text/plain": [
       "<Figure size 1000x800 with 2 Axes>"
      ]
     },
     "metadata": {},
     "output_type": "display_data"
    }
   ],
   "source": [
    "# heatmap of final graph\n",
    "import seaborn as sns\n",
    "import matplotlib.pyplot as plt\n",
    "import pandas as pd\n",
    "fig, ax = plt.subplots(figsize=(10, 8))\n",
    "sns.set_theme()\n",
    "df = pd.DataFrame(si_mtx)\n",
    "p = sns.heatmap(df, xticklabels=True, yticklabels=True, vmin=0, vmax = 0.62)\n",
    "p.set_xticklabels(li_markers, rotation=90)\n",
    "p.set_yticklabels(li_markers, rotation=0)\n",
    "plt.show()"
   ]
  },
  {
   "cell_type": "code",
   "execution_count": null,
   "metadata": {},
   "outputs": [],
   "source": []
  }
 ],
 "metadata": {
  "kernelspec": {
   "display_name": "networkx",
   "language": "python",
   "name": "python3"
  },
  "language_info": {
   "codemirror_mode": {
    "name": "ipython",
    "version": 3
   },
   "file_extension": ".py",
   "mimetype": "text/x-python",
   "name": "python",
   "nbconvert_exporter": "python",
   "pygments_lexer": "ipython3",
   "version": "3.10.6"
  },
  "orig_nbformat": 4
 },
 "nbformat": 4,
 "nbformat_minor": 2
}
